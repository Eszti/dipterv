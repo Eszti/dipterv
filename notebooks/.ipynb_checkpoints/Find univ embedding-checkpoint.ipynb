{
 "cells": [
  {
   "cell_type": "markdown",
   "metadata": {},
   "source": [
    "# Find universal embedding"
   ]
  },
  {
   "cell_type": "code",
   "execution_count": 1,
   "metadata": {
    "collapsed": true
   },
   "outputs": [],
   "source": [
    "from __future__ import print_function\n",
    "import numpy as np\n",
    "from sklearn.metrics.pairwise import cosine_similarity\n",
    "from sklearn.preprocessing import normalize"
   ]
  },
  {
   "cell_type": "code",
   "execution_count": 10,
   "metadata": {
    "collapsed": true
   },
   "outputs": [],
   "source": [
    "def get_embedding(swadesh_file, embed_file):\n",
    "    # Read swadesh list\n",
    "    ls_swad = []\n",
    "    with open(swadesh_file) as f:\n",
    "        ls_swad = f.read().splitlines()\n",
    "    \n",
    "    # Read embeddings\n",
    "    words = []\n",
    "    embedding_raw = []\n",
    "    with open(embed_file) as f:\n",
    "        i = 0\n",
    "        for line in f:\n",
    "            if i == 0:\n",
    "                i+=1\n",
    "                continue\n",
    "            fields = line.strip().decode('utf-8').split(' ')\n",
    "            w = fields[0]\n",
    "            if w.lower() in ls_swad:\n",
    "                trans = fields[1:]\n",
    "                words.append(w)\n",
    "                embedding_raw.append(trans)\n",
    "                if i == len(ls_swad):\n",
    "                    break\n",
    "                i+=1\n",
    "                \n",
    "    # Reorder embedding\n",
    "    idx_arr = [words.index(w) for w in ls_swad]\n",
    "    words_ordered = np.array(words)[idx_arr]\n",
    "    embedding_ordered = np.array(embedding_raw)[idx_arr]\n",
    "    \n",
    "    # Normalize embedding\n",
    "    embedding = normalize(embedding_ordered.astype(np.float32))\n",
    "    \n",
    "    return ls_swad, embedding"
   ]
  },
  {
   "cell_type": "markdown",
   "metadata": {},
   "source": [
    "Get Eglish embeddings"
   ]
  },
  {
   "cell_type": "code",
   "execution_count": 9,
   "metadata": {
    "collapsed": false
   },
   "outputs": [],
   "source": [
    "en_swad_fn = '/home/eszti/data/panlex_swadesh/swadesh110/test/eng-000.txt'\n",
    "en_embed_fn = '/mnt/permanent/Language/Multi/FB/wiki.en/wiki.en.vec'\n",
    "\n",
    "en_swad, en_emb = get_embedding(en_swad_fn, en_embed_fn)\n",
    "# print(swad)\n",
    "# print(emb)"
   ]
  },
  {
   "cell_type": "markdown",
   "metadata": {},
   "source": [
    "Get German embeddings"
   ]
  },
  {
   "cell_type": "code",
   "execution_count": null,
   "metadata": {
    "collapsed": true
   },
   "outputs": [],
   "source": [
    "de_swad_fn = '/home/eszti/data/panlex_swadesh/swadesh110/test/deu-000.txt'\n",
    "de_embed_fn = '/mnt/permanent/Language/Multi/FB/wiki.de/wiki.de.vec'\n",
    "\n",
    "de_swad, de_emb = get_embedding(de_swad_fn, de_embed_fn)"
   ]
  },
  {
   "cell_type": "code",
   "execution_count": null,
   "metadata": {
    "collapsed": true
   },
   "outputs": [],
   "source": []
  }
 ],
 "metadata": {
  "kernelspec": {
   "display_name": "Python 2",
   "language": "python",
   "name": "python2"
  },
  "language_info": {
   "codemirror_mode": {
    "name": "ipython",
    "version": 2
   },
   "file_extension": ".py",
   "mimetype": "text/x-python",
   "name": "python",
   "nbconvert_exporter": "python",
   "pygments_lexer": "ipython2",
   "version": "2.7.12"
  }
 },
 "nbformat": 4,
 "nbformat_minor": 2
}
