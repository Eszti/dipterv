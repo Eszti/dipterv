{
 "cells": [
  {
   "cell_type": "markdown",
   "metadata": {
    "deletable": true,
    "editable": true
   },
   "source": [
    "# Universal embeddings: small test"
   ]
  },
  {
   "cell_type": "markdown",
   "metadata": {
    "deletable": true,
    "editable": true
   },
   "source": [
    "Finding a universal embedding that resemles the other embeddings the most. "
   ]
  },
  {
   "cell_type": "code",
   "execution_count": 8,
   "metadata": {
    "collapsed": true,
    "deletable": true,
    "editable": true
   },
   "outputs": [],
   "source": [
    "from __future__ import print_function\n",
    "import numpy as np\n",
    "import tensorflow as tf\n",
    "import matplotlib.pyplot as plt"
   ]
  },
  {
   "cell_type": "code",
   "execution_count": 107,
   "metadata": {
    "collapsed": false,
    "deletable": true,
    "editable": true
   },
   "outputs": [
    {
     "name": "stdout",
     "output_type": "stream",
     "text": [
      "[[ 1.  0.]\n",
      " [ 0.  1.]]\n",
      "[[ 0.  1.]\n",
      " [ 1.  0.]]\n"
     ]
    }
   ],
   "source": [
    "W1 = np.array([[1, 0], [0, 1]]).astype(np.float32)\n",
    "W2 = np.array([[0, 1], [1, 0]]).astype(np.float32)\n",
    "print(W1)\n",
    "print(W2)"
   ]
  },
  {
   "cell_type": "markdown",
   "metadata": {},
   "source": [
    "Init tensorflow graph"
   ]
  },
  {
   "cell_type": "code",
   "execution_count": 108,
   "metadata": {
    "collapsed": false,
    "deletable": true,
    "editable": true
   },
   "outputs": [],
   "source": [
    "graph = tf.Graph()\n",
    "with graph.as_default():\n",
    "\n",
    "  # Input data.\n",
    "  tf_w1 = tf.constant(W1)\n",
    "  tf_w2 = tf.constant(W2)\n",
    "  transform1 = tf.constant(np.identity(2).astype(np.float32))\n",
    "  \n",
    "  # Variables.\n",
    "#   transform1 = tf.Variable(tf.truncated_normal([2, 2]))\n",
    "  transform2 = tf.Variable(tf.truncated_normal([2, 2]))\n",
    "#   transform2 = tf.Variable(np.identity(2).astype(np.float32))\n",
    "#   A = tf.Variable(np.identity(2).astype(np.float32))\n",
    "  A = tf.Variable(tf.truncated_normal([2, 2]))\n",
    "  \n",
    "  # Training computation.\n",
    "  loss = tf.norm(tf.matmul(tf_w1, transform1) - A) + tf.norm(tf.matmul(tf_w2, transform2) - A) \n",
    "  \n",
    "  # Optimizer.\n",
    "  # We are going to find the minimum of this loss using gradient descent.\n",
    "  # 0.5 = learning rate\n",
    "  optimizer = tf.train.GradientDescentOptimizer(0.01).minimize(loss)"
   ]
  },
  {
   "cell_type": "markdown",
   "metadata": {},
   "source": [
    "Run session"
   ]
  },
  {
   "cell_type": "code",
   "execution_count": 109,
   "metadata": {
    "collapsed": false
   },
   "outputs": [
    {
     "name": "stdout",
     "output_type": "stream",
     "text": [
      "Initialized\n",
      "Loss at step 0: 1.477295\n",
      "Loss at step 100: 0.165273\n",
      "Loss at step 200: 0.005273\n",
      "Loss at step 300: 0.005273\n",
      "Loss at step 400: 0.005273\n",
      "Loss at step 500: 0.005273\n",
      "Loss at step 600: 0.005273\n",
      "Loss at step 700: 0.005273\n",
      "Loss at step 800: 0.005273\n",
      "Loss at step 900: 0.005273\n",
      "Loss at step 1000: 0.005273\n",
      "Transform 1:\n",
      "[[ 1.  0.]\n",
      " [ 0.  1.]]\n",
      "Transform 2:\n",
      "[[ 0.00310995  1.00321734]\n",
      " [ 0.99538183 -0.00917474]]\n",
      "Univerzális embedding:\n",
      "[[ 1.00690901  0.01372594]\n",
      " [-0.00465266  0.99518675]]\n",
      "\n",
      "\n",
      "W1*T1:\n",
      "[[ 1.  0.]\n",
      " [ 0.  1.]]\n",
      "W2*T2:\n",
      "[[ 0.99538183 -0.00917474]\n",
      " [ 0.00310995  1.00321734]]\n"
     ]
    }
   ],
   "source": [
    "num_steps = 1001\n",
    "\n",
    "with tf.Session(graph=graph) as session:\n",
    "  # This is a one-time operation which ensures the parameters get initialized as\n",
    "  # we described in the graph: random weights for the matrix, zeros for the\n",
    "  # biases. \n",
    "  tf.global_variables_initializer().run()\n",
    "  print('Initialized')\n",
    "  for step in range(num_steps):\n",
    "    # Run the computations. We tell .run() that we want to run the optimizer,\n",
    "    # and get the loss value and the training predictions returned as numpy\n",
    "    # arrays.\n",
    "    _, l, t1, t2, A2 = session.run([optimizer, loss, transform1, transform2, A])\n",
    "    if (step % 100 == 0):\n",
    "      print('Loss at step %d: %f' % (step, l))\n",
    "#       print('Transform 1:')\n",
    "#       print(t1)\n",
    "#       print('Transform 2:')\n",
    "#       print(t2)\n",
    "#       print('Univerzális embedding:')\n",
    "#       print(A2)\n",
    "    \n",
    "  print('Transform 1:')\n",
    "  print(t1)\n",
    "  print('Transform 2:')\n",
    "  print(t2)\n",
    "  print('Univerzális embedding:')\n",
    "  print(A2)\n",
    "    \n",
    "print('\\n')\n",
    "print('W1*T1:')\n",
    "print(np.dot(W1, t1))\n",
    "print('W2*T2:')\n",
    "print(np.dot(W2, t2))\n"
   ]
  },
  {
   "cell_type": "markdown",
   "metadata": {},
   "source": [
    "Now let's display the results.  \n",
    "\n",
    "\n",
    "**Blue:** W1 points  \n",
    "**Gold:** W2 points  \n",
    "**Orange:** W2 points transformed  \n",
    "**Green:** universal embedding  "
   ]
  },
  {
   "cell_type": "code",
   "execution_count": 110,
   "metadata": {
    "collapsed": false
   },
   "outputs": [
    {
     "data": {
      "image/png": "[encoded data removed]",
      "text/plain": [
       "<matplotlib.figure.Figure at 0x7ffa0c048a90>"
      ]
     },
     "metadata": {},
     "output_type": "display_data"
    }
   ],
   "source": [
    "W1_xs = W1[:, 0]\n",
    "W1_ys = W1[:, 1]\n",
    "plt.scatter(W1_xs, W1_ys, color='blue')\n",
    "W2_xs = W2[:, 0]\n",
    "W2_ys = W2[:, 1]\n",
    "plt.scatter(W2_xs, W2_ys, color='gold')\n",
    "\n",
    "W2_t = np.dot(W2, t2)\n",
    "W2t_xs = W2_t[:, 0]\n",
    "W2t_ys = W2_t[:, 1]\n",
    "plt.scatter(W2t_xs, W2t_ys, color='orange')\n",
    "\n",
    "U_xs = A2[:, 0]\n",
    "U_ys = A2[:, 1]\n",
    "plt.scatter(U_xs, U_ys, color='green')\n",
    "\n",
    "\n",
    "plt.grid()\n",
    "plt.show()"
   ]
  }
 ],
 "metadata": {
  "kernelspec": {
   "display_name": "Python 2",
   "language": "python",
   "name": "python2"
  },
  "language_info": {
   "codemirror_mode": {
    "name": "ipython",
    "version": 2
   },
   "file_extension": ".py",
   "mimetype": "text/x-python",
   "name": "python",
   "nbconvert_exporter": "python",
   "pygments_lexer": "ipython2",
   "version": "2.7.12"
  }
 },
 "nbformat": 4,
 "nbformat_minor": 2
}
