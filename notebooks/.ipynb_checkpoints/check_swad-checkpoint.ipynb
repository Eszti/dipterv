{
 "cells": [
  {
   "cell_type": "markdown",
   "metadata": {
    "deletable": true,
    "editable": true
   },
   "source": [
    "# Check Swadesh quality"
   ]
  },
  {
   "cell_type": "code",
   "execution_count": 1,
   "metadata": {
    "collapsed": false,
    "deletable": true,
    "editable": true
   },
   "outputs": [],
   "source": [
    "import numpy as np\n",
    "import os\n",
    "import json\n",
    "from matplotlib import pyplot as plt\n",
    "from matplotlib_venn import venn3, venn3_circles"
   ]
  },
  {
   "cell_type": "code",
   "execution_count": 20,
   "metadata": {
    "collapsed": false,
    "deletable": true,
    "editable": true
   },
   "outputs": [],
   "source": [
    "num = 207\n",
    "swad_ex_idx = []\n",
    "dirname = '/home/eszti/data/panlex_swadesh/swadesh' + str(num)\n",
    "not_found_list = np.zeros(num)\n",
    "no_one_word_list = np.zeros(num)\n",
    "\n",
    "fbcodes_fn = '/home/eszti/projects/dipterv/univ_embedding/res/fb2silcodes.json'\n",
    "with open(fbcodes_fn) as f:\n",
    "    fb2sil = json.load(f)\n",
    "    \n",
    "wikicodes_fn = '/home/eszti/projects/dipterv/univ_embedding/res/wikicodes.json'\n",
    "with open(wikicodes_fn) as f:\n",
    "    wikicodes = json.load(f)\n",
    "\n",
    "lang_codes = set()\n",
    "\n",
    "for fn in os.listdir(dirname):\n",
    "    if fn.endswith(\".txt\"):\n",
    "        code = fn.split('-')[0]\n",
    "#         if code not in fb2sil.values():\n",
    "#             continue\n",
    "#         print(code)\n",
    "        if code in lang_codes:\n",
    "#             print('{0} is already in the set'.format(code))\n",
    "            continue\n",
    "        lang_codes.add(code)       \n",
    "        with open(os.path.join(dirname, fn)) as f:\n",
    "            i = 0\n",
    "            for line in f:\n",
    "                if i in swad_ex_idx:\n",
    "                    not_found_list[i] = -1\n",
    "                    no_one_word_list[i] = -1\n",
    "                    i += 1\n",
    "                    continue\n",
    "                fields = line.strip().decode('utf-8').split('\\t')\n",
    "                if len(fields) == 1 and fields[0] == '':\n",
    "                    if code in fb2sil.values():\n",
    "                        not_found_list[i] += 1\n",
    "                else:\n",
    "                    found = False\n",
    "                    for w in fields:\n",
    "                        if ' ' not in w:\n",
    "                            found = True\n",
    "                            break\n",
    "                    if not found:\n",
    "                        if code in fb2sil.values():\n",
    "#                         print(fields)\n",
    "                            no_one_word_list[i] += 1\n",
    "                i += 1"
   ]
  },
  {
   "cell_type": "markdown",
   "metadata": {},
   "source": [
    "Statistics:   \n",
    "note: 6 wikitionary codes are discarded as there's no sil translation for them (wikicode to sil translation are only accessible, for the time being at least, if there's a corresponding fb embedding to them)"
   ]
  },
  {
   "cell_type": "code",
   "execution_count": 21,
   "metadata": {
    "collapsed": false,
    "deletable": true,
    "editable": true
   },
   "outputs": [
    {
     "name": "stdout",
     "output_type": "stream",
     "text": [
      "#fb sil codes: 89\n",
      "#swadesh sil codes: 704\n",
      "#wiki sil codes: 48\n",
      "\n",
      "6 wikicodes are not found among facebook codes:\n",
      "set([u'cmn', u'io', u'oc', u'sw', u'li', u'ku'])\n",
      "\n",
      "25 facebook codes are not found among swadesh lists:\n",
      "set([u'vol', u'scc', u'ara', u'msa', u'lav', u'scr', u'est', u'new', u'sin', u'pan', u'mar', u'fas', u'kan', u'sqi', u'uzb', u'vls', u'nor', u'urd', u'mlg', u'guj', u'aze', u'war', u'nep', u'zho', u'mon'])\n",
      "\n",
      "common languages number: 37\n",
      "set([u'ron', u'jpn', u'por', u'ita', u'pol', u'rus', u'ind', u'spa', u'glg', u'fra', u'mkd', u'ell', u'eng', u'tur', u'vie', u'swe', u'ukr', u'lit', u'heb', u'kor', u'fin', u'hun', u'eus', u'dan', u'slk', u'ces', u'bul', u'kat', u'lat', u'kaz', u'hin', u'slv', u'deu', u'cat', u'epo', u'isl', u'tha'])\n"
     ]
    },
    {
     "data": {
      "image/png": "[encoded data removed]",
      "text/plain": [
       "<matplotlib.figure.Figure at 0x7f527e8870d0>"
      ]
     },
     "metadata": {},
     "output_type": "display_data"
    }
   ],
   "source": [
    "swad_sil_set = set(lang_codes)\n",
    "wiki_sil_set = set([fb2sil[x] for x in wikicodes if x in fb2sil.keys()])\n",
    "fb_sil_set = set(fb2sil.values())\n",
    "\n",
    "print '#fb sil codes: {}'.format(len(fb_sil_set))\n",
    "print '#swadesh sil codes: {}'.format(len(swad_sil_set))\n",
    "print '#wiki sil codes: {}'.format(len(wiki_sil_set))\n",
    "\n",
    "diff1 = set([x for x in wikicodes if x not in fb2sil.keys()])\n",
    "print '\\n{} wikicodes are not found among facebook codes:'.format(len(diff1))\n",
    "print diff1\n",
    "diff2 = fb_sil_set - swad_sil_set\n",
    "print '\\n{} facebook codes are not found among swadesh lists:'.format(len(diff2))\n",
    "print diff2\n",
    "\n",
    "inters = swad_sil_set & wiki_sil_set & fb_sil_set\n",
    "print '\\ncommon languages number: ' + str(len(inters))\n",
    "print inters\n",
    "\n",
    "s_7 = len(inters)\n",
    "s_1 = len(fb_sil_set - swad_sil_set - wiki_sil_set)\n",
    "s_2 = len(swad_sil_set - fb_sil_set - wiki_sil_set)\n",
    "s_3 = len(fb_sil_set & swad_sil_set) - s_7\n",
    "s_4 = len(wiki_sil_set - fb_sil_set - swad_sil_set)\n",
    "s_5 = len(fb_sil_set & wiki_sil_set) - s_7\n",
    "s_6 = len(swad_sil_set & wiki_sil_set) - s_7\n",
    "\n",
    "plt.figure(figsize=(4,4))\n",
    "v = venn3(subsets=(1, 1, 1, 1, 1, 1, 1), set_labels = ('Facebook', 'Swadesh', 'Wikitionary'))\n",
    "v.get_label_by_id('100').set_text(str(s_1))\n",
    "v.get_label_by_id('010').set_text(str(s_2))\n",
    "v.get_label_by_id('110').set_text(str(s_3))\n",
    "v.get_label_by_id('001').set_text(str(s_4))\n",
    "v.get_label_by_id('101').set_text(s_5)\n",
    "v.get_label_by_id('011').set_text(s_6)\n",
    "v.get_label_by_id('111').set_text(str(s_7))\n",
    "plt.title(\"Languages\")\n",
    "plt.show()"
   ]
  },
  {
   "cell_type": "markdown",
   "metadata": {
    "collapsed": true,
    "deletable": true,
    "editable": true
   },
   "source": [
    "This list shows in case of how many languages there was found no entry at each position"
   ]
  },
  {
   "cell_type": "code",
   "execution_count": 22,
   "metadata": {
    "collapsed": false,
    "deletable": true,
    "editable": true
   },
   "outputs": [
    {
     "data": {
      "text/plain": [
       "array([ 1.,  0.,  4.,  0.,  2.,  1.,  3.,  3.,  5.,  4.,  2.,  2.,  2.,\n",
       "        1.,  2.,  4.,  0.,  1.,  3.,  1.,  1.,  0.,  0.,  0.,  0.,  0.,\n",
       "        0.,  1.,  0.,  0.,  0.,  0.,  1.,  0.,  0.,  0.,  0.,  0.,  1.,\n",
       "        1.,  1.,  0.,  0.,  2.,  0.,  0.,  0.,  0.,  1.,  0.,  2.,  0.,\n",
       "        0.,  0.,  1.,  0.,  0.,  2.,  0.,  0.,  0.,  0.,  0.,  0.,  0.,\n",
       "        0.,  0.,  1.,  0.,  0.,  0.,  0.,  0.,  0.,  1.,  0.,  0.,  0.,\n",
       "        1.,  1.,  1.,  1.,  4.,  0.,  2.,  0.,  0.,  0.,  0.,  1.,  1.,\n",
       "        0.,  0.,  0.,  0.,  0.,  1.,  0.,  1.,  0.,  0.,  0.,  0.,  0.,\n",
       "        0.,  0.,  0.,  0.,  0.,  0.,  1.,  0.,  0.,  0.,  1.,  1.,  3.,\n",
       "        0.,  0.,  0.,  0.,  0.,  1.,  0.,  0.,  1.,  0.,  1.,  0.,  1.,\n",
       "        2.,  1.,  5.,  5.,  2.,  0.,  0.,  0.,  0.,  0.,  1.,  1.,  4.,\n",
       "        0.,  5.,  4.,  1.,  0.,  0.,  0.,  0.,  1.,  0.,  0.,  0.,  0.,\n",
       "        0.,  0.,  1.,  0.,  0.,  0.,  0.,  2.,  2.,  0.,  0.,  0.,  1.,\n",
       "        1.,  1.,  0.,  0.,  0.,  0.,  0.,  0.,  1.,  0.,  0.,  0.,  1.,\n",
       "        0.,  2.,  0.,  0.,  0.,  0.,  1.,  2.,  0.,  2.,  3.,  0.,  0.,\n",
       "        2.,  0.,  0.,  0.,  1.,  4.,  1.,  6.,  1.,  3.,  3.,  0.])"
      ]
     },
     "execution_count": 22,
     "metadata": {},
     "output_type": "execute_result"
    }
   ],
   "source": [
    "not_found_list"
   ]
  },
  {
   "cell_type": "markdown",
   "metadata": {
    "deletable": true,
    "editable": true
   },
   "source": [
    "This list shows in case of how many languages there was no entry without a space in it"
   ]
  },
  {
   "cell_type": "code",
   "execution_count": 23,
   "metadata": {
    "collapsed": false,
    "deletable": true,
    "editable": true
   },
   "outputs": [
    {
     "data": {
      "text/plain": [
       "array([ 0.,  0.,  0.,  0.,  1.,  1.,  3.,  3.,  1.,  0.,  0.,  0.,  0.,\n",
       "        2.,  1.,  0.,  1.,  0.,  2.,  0.,  0.,  0.,  0.,  0.,  0.,  0.,\n",
       "        0.,  0.,  0.,  0.,  0.,  0.,  0.,  0.,  0.,  2.,  1.,  0.,  0.,\n",
       "        0.,  0.,  0.,  0.,  0.,  0.,  0.,  0.,  0.,  0.,  0.,  0.,  0.,\n",
       "        0.,  0.,  0.,  0.,  0.,  3.,  0.,  0.,  0.,  0.,  0.,  0.,  0.,\n",
       "        0.,  0.,  0.,  0.,  0.,  0.,  0.,  0.,  0.,  0.,  0.,  0.,  0.,\n",
       "        0.,  1.,  0.,  1.,  1.,  0.,  0.,  0.,  0.,  0.,  0.,  0.,  1.,\n",
       "        0.,  0.,  1.,  0.,  2.,  3.,  3.,  7.,  7.,  0.,  0.,  0.,  1.,\n",
       "        1.,  5.,  1.,  1.,  0.,  1.,  4.,  5.,  0.,  0.,  1.,  2.,  0.,\n",
       "        1.,  2.,  0.,  1.,  0.,  4.,  0.,  4.,  1.,  0.,  0.,  1.,  0.,\n",
       "        1.,  1.,  2.,  0.,  2.,  0.,  1.,  0.,  0.,  0.,  1.,  2.,  0.,\n",
       "        0.,  2.,  4.,  1.,  0.,  0.,  0.,  0.,  0.,  0.,  0.,  0.,  0.,\n",
       "        0.,  0.,  0.,  0.,  1.,  0.,  0.,  0.,  0.,  0.,  0.,  0.,  0.,\n",
       "        0.,  0.,  0.,  0.,  0.,  0.,  0.,  0.,  1.,  0.,  0.,  0.,  0.,\n",
       "        0.,  0.,  0.,  0.,  0.,  0.,  0.,  0.,  0.,  0.,  0.,  0.,  0.,\n",
       "        0.,  0.,  0.,  1.,  1.,  0.,  1.,  1.,  0.,  0.,  1.,  0.])"
      ]
     },
     "execution_count": 23,
     "metadata": {},
     "output_type": "execute_result"
    }
   ],
   "source": [
    "no_one_word_list"
   ]
  },
  {
   "cell_type": "code",
   "execution_count": null,
   "metadata": {
    "collapsed": true,
    "deletable": true,
    "editable": true
   },
   "outputs": [],
   "source": []
  }
 ],
 "metadata": {
  "kernelspec": {
   "display_name": "Python 2",
   "language": "python",
   "name": "python2"
  },
  "language_info": {
   "codemirror_mode": {
    "name": "ipython",
    "version": 2
   },
   "file_extension": ".py",
   "mimetype": "text/x-python",
   "name": "python",
   "nbconvert_exporter": "python",
   "pygments_lexer": "ipython2",
   "version": "2.7.12"
  }
 },
 "nbformat": 4,
 "nbformat_minor": 2
}
