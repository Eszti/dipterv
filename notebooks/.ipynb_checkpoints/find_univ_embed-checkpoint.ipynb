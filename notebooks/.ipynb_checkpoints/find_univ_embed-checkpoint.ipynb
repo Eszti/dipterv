{
 "cells": [
  {
   "cell_type": "markdown",
   "metadata": {
    "deletable": true,
    "editable": true
   },
   "source": [
    "# Find universal embedding"
   ]
  },
  {
   "cell_type": "code",
   "execution_count": 2,
   "metadata": {
    "collapsed": false,
    "deletable": true,
    "editable": true
   },
   "outputs": [],
   "source": [
    "from __future__ import print_function\n",
    "from nbformat import current\n",
    "import io\n",
    "import numpy as np\n",
    "from sklearn.metrics.pairwise import cosine_similarity\n",
    "from sklearn.preprocessing import normalize\n",
    "def execute_notebook(nbfile):    \n",
    "    with io.open(nbfile) as f:\n",
    "        nb = current.read(f, 'json')\n",
    "    \n",
    "    ip = get_ipython()\n",
    "    \n",
    "    for cell in nb.worksheets[0].cells:\n",
    "        if cell.cell_type != 'code':\n",
    "            continue\n",
    "        ip.run_cell(cell.input)\n",
    "        \n",
    "execute_notebook(\"functions.ipynb\")        \n",
    "swad_idx = []"
   ]
  },
  {
   "cell_type": "markdown",
   "metadata": {
    "deletable": true,
    "editable": true
   },
   "source": [
    "Load Eglish embeddings"
   ]
  },
  {
   "cell_type": "code",
   "execution_count": 15,
   "metadata": {
    "collapsed": false,
    "deletable": true,
    "editable": true
   },
   "outputs": [
    {
     "name": "stdout",
     "output_type": "stream",
     "text": [
      "[u'all', u'as', u'bark', u'abdomen', u'big', u'bird', u'bite', u'black', u'blood', u'bone', u'breast', u'burn', u'claw', u'cloud', u'cold', u'come', u'die', u'dog', u'drink', u'dry', u'ear', u'earth', u'eat', u'egg', u'eye', u'fat', u'feather', u'fire', u'fish', u'fly', u'foot', u'full', u'give', u'good', u'green', u'hair', u'hand', u'head', u'hear', u'heart', u'horn', u'i', u'kill', u'knee', u'know', u'leaf', u'lie', u'liver', u'long', u'louse', u'male', u'many', u'flesh', u'moon', u'mountain', u'mouth', u'name', u'neck', u'new', u'night', u'nose', u'not', u'adulterous', u'human', u'rain', u'red', u'path', u'root', u'round', u'sand', u'say', u'see', u'seed', u'sit', u'skin', u'sleep', u'little', u'smoke', u'stand', u'star', u'stone', u'sun', u'swim', u'tail', u'that', u'this', u'you', u'tongue', u'tooth', u'tree', u'two', u'go', u'hot', u'water', u'we', u'what', u'white', u'who', u'female', u'yellow', u'far', u'heavy', u'near', u'salt', u'short', u'snake', u'thin', u'wind', u'worm', u'year']\n",
      "[[u'-0.42965' u'0.0088802' u'-0.20334' ..., u'-0.17553' u'0.13171'\n",
      "  u'-0.028725']\n",
      " [u'-0.10668' u'-0.036518' u'-0.1063' ..., u'-0.0087815' u'-5.7399e-05'\n",
      "  u'0.13576']\n",
      " [u'-0.40808' u'-0.12064' u'-0.17567' ..., u'0.096191' u'0.20404'\n",
      "  u'0.27886']\n",
      " ..., \n",
      " [u'-0.57922' u'-0.028088' u'-0.12924' ..., u'0.17315' u'0.58663'\n",
      "  u'0.12918']\n",
      " [u'-0.2369' u'-0.26476' u'-0.22697' ..., u'0.45896' u'-0.013882'\n",
      "  u'-0.054478']\n",
      " [u'-0.10828' u'-0.19252' u'0.26745' ..., u'-0.10198' u'0.11196'\n",
      "  u'-0.044223']]\n",
      "[]\n"
     ]
    }
   ],
   "source": [
    "en_swad_fn = '/home/eszti/data/panlex_swadesh/swadesh110/test/eng-000.txt'\n",
    "en_embed_fn = '/mnt/permanent/Language/Multi/FB/wiki.en/wiki.en.vec'\n",
    "\n",
    "en_swad, en_emb, en_nfi = get_embedding(en_swad_fn, swad_idx, en_embed_fn)\n",
    "print(en_swad)\n",
    "print(en_emb)\n",
    "print(en_nfi)"
   ]
  },
  {
   "cell_type": "markdown",
   "metadata": {
    "deletable": true,
    "editable": true
   },
   "source": [
    "Load German embeddings"
   ]
  },
  {
   "cell_type": "code",
   "execution_count": 16,
   "metadata": {
    "collapsed": false,
    "deletable": true,
    "editable": true
   },
   "outputs": [
    {
     "name": "stdout",
     "output_type": "stream",
     "text": [
      "[u'all', u'asche', u'borke', u'bauch', u'gross', u'vogel', u'beissen', u'schwarz', u'blut', u'knochen', u'brust', u'brennen', u'kralle', u'wolke', u'kalt', u'kommen', u'sterben', u'hund', u'trinken', u'trocken', u'ohr', u'erde', u'essen', u'ei', u'auge', u'dick', u'feder', u'feuer', u'fisch', u'fliegen', u'fuss', u'voll', u'geben', u'gut', u'gr\\xfcn', u'haar', u'hand', u'kopf', u'h\\xf6ren', u'herz', u'horn', u'ich', u'umbringen', u'knie', u'kennen', u'blatt', u'liegen', u'leber', u'lang', u'laus', u'mann', u'viel', u'fleisch', u'mond', u'berg', u'mund', u'name', u'nacken', u'neu', u'nacht', u'nase', u'nicht', u'ein', u'mensch', u'regen', u'rot', u'pfad', u'wurzel', u'rund', u'sand', u'sagen', u'sehen', u'samen', u'sitzen', u'haut', u'schlafen', u'klein', u'rauch', u'stehen', u'stern', u'stein', u'sonne', u'schwimmen', u'schwanz', u'das', u'dieses', u'du', u'zunge', u'zahn', u'baum', u'zwei', u'gehen', u'warm', u'wasser', u'wir', u'was', u'weiss', u'wer', u'frau', u'gelb', u'weit', u'schwer', u'nah', u'salz', u'kurz', u'schlange', u'd\\xfcnn', u'wind', u'wurm', u'jahr']\n",
      "[[u'-0.27908' u'0.2304' u'-0.21297' ..., u'-0.11234' u'-0.083372' u'0.2804']\n",
      " [u'-0.16674' u'0.24241' u'-0.19233' ..., u'-0.13627' u'-0.099389'\n",
      "  u'0.32029']\n",
      " [u'-0.48868' u'0.46749' u'-0.27656' ..., u'0.38887' u'0.59106' u'0.92895']\n",
      " ..., \n",
      " [u'-0.53227' u'0.25201' u'0.19618' ..., u'-0.16944' u'0.011216' u'0.34393']\n",
      " [u'-0.049683' u'0.3902' u'0.011011' ..., u'0.12697' u'0.064016' u'0.70254']\n",
      " [u'-0.2993' u'-0.084142' u'-0.31672' ..., u'-0.17558' u'0.12508'\n",
      "  u'0.37315']]\n",
      "[]\n"
     ]
    }
   ],
   "source": [
    "de_swad_fn = '/home/eszti/data/panlex_swadesh/swadesh110/test/deu.txt'\n",
    "de_embed_fn = '/mnt/permanent/Language/Multi/FB/wiki.de/wiki.de.vec'\n",
    "\n",
    "de_swad, de_emb, de_nfi = get_embedding(de_swad_fn, swad_idx, de_embed_fn)\n",
    "\n",
    "print(de_swad)\n",
    "print(de_emb)\n",
    "print(de_nfi)"
   ]
  },
  {
   "cell_type": "markdown",
   "metadata": {
    "deletable": true,
    "editable": true
   },
   "source": [
    "Check what the similar words are in English"
   ]
  },
  {
   "cell_type": "code",
   "execution_count": 17,
   "metadata": {
    "collapsed": false,
    "deletable": true,
    "editable": true
   },
   "outputs": [
    {
     "data": {
      "text/plain": [
       "[u'dog',\n",
       " u'bite',\n",
       " u'louse',\n",
       " u'claw',\n",
       " u'bird',\n",
       " u'snake',\n",
       " u'eat',\n",
       " u'nose',\n",
       " u'hair',\n",
       " u'ear',\n",
       " u'fat',\n",
       " u'tooth',\n",
       " u'bone',\n",
       " u'fish',\n",
       " u'foot',\n",
       " u'tail',\n",
       " u'egg',\n",
       " u'cold',\n",
       " u'skin',\n",
       " u'hot',\n",
       " u'eye',\n",
       " u'feather',\n",
       " u'tongue',\n",
       " u'bark',\n",
       " u'mouth',\n",
       " u'flesh',\n",
       " u'little',\n",
       " u'drink',\n",
       " u'kill',\n",
       " u'mountain',\n",
       " u'stand',\n",
       " u'sleep',\n",
       " u'go',\n",
       " u'night',\n",
       " u'head',\n",
       " u'neck',\n",
       " u'big',\n",
       " u'hand',\n",
       " u'good',\n",
       " u'blood',\n",
       " u'heart',\n",
       " u'horn',\n",
       " u'swim',\n",
       " u'liver',\n",
       " u'human',\n",
       " u'stone',\n",
       " u'worm',\n",
       " u'hear',\n",
       " u'moon',\n",
       " u'say',\n",
       " u'you',\n",
       " u'sit',\n",
       " u'that',\n",
       " u'fire',\n",
       " u'black',\n",
       " u'know',\n",
       " u'tree',\n",
       " u'white',\n",
       " u'what',\n",
       " u'fly',\n",
       " u'come',\n",
       " u'red',\n",
       " u'breast',\n",
       " u'sand',\n",
       " u'we',\n",
       " u'yellow',\n",
       " u'short',\n",
       " u'adulterous',\n",
       " u'smoke',\n",
       " u'dry',\n",
       " u'name',\n",
       " u'male',\n",
       " u'long',\n",
       " u'not',\n",
       " u'heavy',\n",
       " u'knee',\n",
       " u'rain',\n",
       " u'root',\n",
       " u'star',\n",
       " u'thin',\n",
       " u'path',\n",
       " u'far',\n",
       " u'who',\n",
       " u'female',\n",
       " u'abdomen',\n",
       " u'wind',\n",
       " u'leaf',\n",
       " u'many',\n",
       " u'water',\n",
       " u'salt',\n",
       " u'this',\n",
       " u'year',\n",
       " u'die',\n",
       " u'two',\n",
       " u'all',\n",
       " u'lie',\n",
       " u'cloud',\n",
       " u'sun',\n",
       " u'earth',\n",
       " u'as',\n",
       " u'see',\n",
       " u'i',\n",
       " u'burn',\n",
       " u'give',\n",
       " u'near',\n",
       " u'round',\n",
       " u'seed',\n",
       " u'green',\n",
       " u'new',\n",
       " u'full']"
      ]
     },
     "execution_count": 17,
     "metadata": {},
     "output_type": "execute_result"
    }
   ],
   "source": [
    "_, _, sims_en = get_corr(en_emb, en_swad)\n",
    "sims_en['dog']"
   ]
  },
  {
   "cell_type": "markdown",
   "metadata": {
    "deletable": true,
    "editable": true
   },
   "source": [
    "Check what the similar words are in German"
   ]
  },
  {
   "cell_type": "code",
   "execution_count": 18,
   "metadata": {
    "collapsed": false,
    "deletable": true,
    "editable": true
   },
   "outputs": [
    {
     "data": {
      "text/plain": [
       "[u'hund',\n",
       " u'mensch',\n",
       " u'schwanz',\n",
       " u'mann',\n",
       " u'beissen',\n",
       " u'schlange',\n",
       " u'frau',\n",
       " u'nase',\n",
       " u'vogel',\n",
       " u'schlafen',\n",
       " u'ohr',\n",
       " u'bauch',\n",
       " u'kralle',\n",
       " u'fisch',\n",
       " u'fleisch',\n",
       " u'knochen',\n",
       " u'kopf',\n",
       " u'haut',\n",
       " u'trinken',\n",
       " u'mund',\n",
       " u'haar',\n",
       " u'umbringen',\n",
       " u'zunge',\n",
       " u'leber',\n",
       " u'blut',\n",
       " u'nacken',\n",
       " u'brust',\n",
       " u'mond',\n",
       " u'stein',\n",
       " u'baum',\n",
       " u'wer',\n",
       " u'laus',\n",
       " u'sagen',\n",
       " u'sterben',\n",
       " u'wolke',\n",
       " u'knie',\n",
       " u'herz',\n",
       " u'gut',\n",
       " u'hand',\n",
       " u'auge',\n",
       " u'wurm',\n",
       " u'h\\xf6ren',\n",
       " u'was',\n",
       " u'fliegen',\n",
       " u'kennen',\n",
       " u'nicht',\n",
       " u'wir',\n",
       " u'viel',\n",
       " u'fuss',\n",
       " u'stern',\n",
       " u'nacht',\n",
       " u'ei',\n",
       " u'zahn',\n",
       " u'rauch',\n",
       " u'sehen',\n",
       " u'dick',\n",
       " u'ich',\n",
       " u'ein',\n",
       " u'weiss',\n",
       " u'essen',\n",
       " u'feder',\n",
       " u'du',\n",
       " u'schwer',\n",
       " u'wurzel',\n",
       " u'wasser',\n",
       " u'erde',\n",
       " u'schwimmen',\n",
       " u'sonne',\n",
       " u'borke',\n",
       " u'feuer',\n",
       " u'sitzen',\n",
       " u'pfad',\n",
       " u'wind',\n",
       " u'gehen',\n",
       " u'kalt',\n",
       " u'voll',\n",
       " u'schwarz',\n",
       " u'berg',\n",
       " u'regen',\n",
       " u'gross',\n",
       " u'brennen',\n",
       " u'klein',\n",
       " u'geben',\n",
       " u'warm',\n",
       " u'das',\n",
       " u'horn',\n",
       " u'nah',\n",
       " u'salz',\n",
       " u'name',\n",
       " u'lang',\n",
       " u'zwei',\n",
       " u'asche',\n",
       " u'jahr',\n",
       " u'samen',\n",
       " u'rot',\n",
       " u'sand',\n",
       " u'trocken',\n",
       " u'blatt',\n",
       " u'kurz',\n",
       " u'stehen',\n",
       " u'kommen',\n",
       " u'rund',\n",
       " u'dieses',\n",
       " u'all',\n",
       " u'gr\\xfcn',\n",
       " u'd\\xfcnn',\n",
       " u'weit',\n",
       " u'gelb',\n",
       " u'liegen',\n",
       " u'neu']"
      ]
     },
     "execution_count": 18,
     "metadata": {},
     "output_type": "execute_result"
    }
   ],
   "source": [
    "_, _, sims_de = get_corr(de_emb, de_swad)\n",
    "sims_de['hund']"
   ]
  },
  {
   "cell_type": "markdown",
   "metadata": {
    "collapsed": false,
    "deletable": true,
    "editable": true
   },
   "source": [
    "Train universal embedding based on English and German"
   ]
  },
  {
   "cell_type": "code",
   "execution_count": null,
   "metadata": {
    "collapsed": false,
    "deletable": true,
    "editable": true
   },
   "outputs": [
    {
     "name": "stdout",
     "output_type": "stream",
     "text": [
      "Initialized\n",
      "Loss at step 0: 931.101013\n",
      "Loss at step 100: 812.594604\n",
      "Loss at step 200: 758.945801\n",
      "Loss at step 300: 722.402100\n",
      "Loss at step 400: 690.655090\n",
      "Loss at step 500: 661.425232\n",
      "Loss at step 600: 634.239868\n",
      "Loss at step 700: 608.893127\n",
      "Loss at step 800: 585.214111\n",
      "Loss at step 900: 563.040649\n",
      "Loss at step 1000: 542.222168\n",
      "Loss at step 1100: 522.619751\n",
      "Loss at step 1200: 504.109802\n",
      "Loss at step 1300: 486.583984\n",
      "Loss at step 1400: 469.947540\n",
      "Loss at step 1500: 454.119141\n",
      "Loss at step 1600: 439.029175\n",
      "Loss at step 1700: 424.617432\n",
      "Loss at step 1800: 410.832153\n",
      "Loss at step 1900: 397.628571\n",
      "Loss at step 2000: 384.967773\n",
      "Loss at step 2100: 372.814270\n",
      "Loss at step 2200: 361.136932\n",
      "Loss at step 2300: 349.907898\n",
      "Loss at step 2400: 339.101379\n",
      "Loss at step 2500: 328.693695\n",
      "Loss at step 2600: 318.662964\n",
      "Loss at step 2700: 308.988647\n",
      "Loss at step 2800: 299.652771\n",
      "Loss at step 2900: 290.636810\n",
      "Loss at step 3000: 281.925110\n",
      "Loss at step 3100: 273.501709\n",
      "Loss at step 3200: 265.352936\n",
      "Loss at step 3300: 257.465332\n",
      "Loss at step 3400: 249.826447\n",
      "Loss at step 3500: 242.424850\n",
      "Loss at step 3600: 235.249725\n",
      "Loss at step 3700: 228.291290\n",
      "Loss at step 3800: 221.539978\n",
      "Loss at step 3900: 214.987427\n",
      "Loss at step 4000: 208.625519\n",
      "Loss at step 4100: 202.446808\n",
      "Loss at step 4200: 196.444366\n",
      "Loss at step 4300: 190.611725\n",
      "Loss at step 4400: 184.943085\n",
      "Loss at step 4500: 179.432709\n",
      "Loss at step 4600: 174.075272\n",
      "Loss at step 4700: 168.866272\n",
      "Loss at step 4800: 163.800934\n",
      "Loss at step 4900: 158.875122\n",
      "Loss at step 5000: 154.085037\n",
      "Loss at step 5100: 149.427002\n",
      "Loss at step 5200: 144.897842\n",
      "Loss at step 5300: 140.494598\n",
      "Loss at step 5400: 136.214752\n",
      "Loss at step 5500: 132.055923\n",
      "Loss at step 5600: 128.016541\n",
      "Loss at step 5700: 124.095383\n",
      "Loss at step 5800: 120.291847\n",
      "Loss at step 5900: 116.606163\n",
      "Loss at step 6000: 113.040070\n",
      "Loss at step 6100: 109.596947\n",
      "Loss at step 6200: 106.283813\n",
      "Loss at step 6300: 103.764893\n",
      "Loss at step 6400: 103.179153\n",
      "Loss at step 6500: 102.332268\n",
      "Loss at step 6600: 101.467125\n",
      "Loss at step 6700: 100.595825\n",
      "Loss at step 6800: 99.722061\n",
      "Loss at step 6900: 98.847740\n",
      "Loss at step 7000: 97.973221\n",
      "Loss at step 7100: 97.098694\n",
      "Loss at step 7200: 96.224434\n",
      "Loss at step 7300: 95.350319\n",
      "Loss at step 7400: 94.476425\n",
      "Loss at step 7500: 93.602760\n",
      "Loss at step 7600: 92.729362\n",
      "Loss at step 7700: 91.856216\n",
      "Loss at step 7800: 90.983391\n",
      "Loss at step 7900: 90.110764\n",
      "Loss at step 8000: 89.238358\n",
      "Loss at step 8100: 88.366287\n",
      "Loss at step 8200: 87.494484\n",
      "Loss at step 8300: 86.622894\n",
      "Loss at step 8400: 85.751587\n",
      "Loss at step 8500: 84.880600\n",
      "Loss at step 8600: 84.009865\n",
      "Loss at step 8700: 83.139381\n",
      "Loss at step 8800: 82.269287\n"
     ]
    }
   ],
   "source": [
    "    W = np.ndarray(shape=(2, len(en_swad), en_emb.shape[1]), dtype=np.float32)\n",
    "    W[0, :, :] = en_emb\n",
    "    W[1, :, :] = de_emb\n",
    "    T1, T, A = train(W, num_steps=50000)"
   ]
  },
  {
   "cell_type": "code",
   "execution_count": 8,
   "metadata": {
    "collapsed": true,
    "deletable": true,
    "editable": true
   },
   "outputs": [],
   "source": [
    "corr_mx, sim_corr, sims_univ = get_corr(A, en_swad)"
   ]
  },
  {
   "cell_type": "code",
   "execution_count": 9,
   "metadata": {
    "collapsed": false,
    "deletable": true,
    "editable": true
   },
   "outputs": [
    {
     "data": {
      "text/plain": [
       "array([[ 1.        ,  0.27101803,  0.14402401, ...,  0.22069876,\n",
       "         0.17662416,  0.25892913],\n",
       "       [ 0.27101803,  1.        ,  0.13457879, ...,  0.11248535,\n",
       "         0.15863591,  0.25682575],\n",
       "       [ 0.14402401,  0.13457879,  1.        , ...,  0.27492252,\n",
       "         0.28644508,  0.0953014 ],\n",
       "       ..., \n",
       "       [ 0.22069876,  0.11248535,  0.27492252, ...,  0.99999994,\n",
       "         0.23128587,  0.15675722],\n",
       "       [ 0.17662416,  0.15863591,  0.28644508, ...,  0.23128587,\n",
       "         0.99999982,  0.12605274],\n",
       "       [ 0.25892913,  0.25682575,  0.0953014 , ...,  0.15675722,\n",
       "         0.12605274,  1.        ]], dtype=float32)"
      ]
     },
     "execution_count": 9,
     "metadata": {},
     "output_type": "execute_result"
    }
   ],
   "source": [
    "corr_mx"
   ]
  },
  {
   "cell_type": "markdown",
   "metadata": {
    "deletable": true,
    "editable": true
   },
   "source": [
    "Check what the similar words are in the universal embedding"
   ]
  },
  {
   "cell_type": "code",
   "execution_count": 10,
   "metadata": {
    "collapsed": false,
    "deletable": true,
    "editable": true
   },
   "outputs": [
    {
     "data": {
      "text/plain": [
       "[u'dog',\n",
       " u'bite',\n",
       " u'louse',\n",
       " u'claw',\n",
       " u'bird',\n",
       " u'snake',\n",
       " u'eat',\n",
       " u'nose',\n",
       " u'hair',\n",
       " u'ear',\n",
       " u'fat',\n",
       " u'tooth',\n",
       " u'bone',\n",
       " u'fish',\n",
       " u'foot',\n",
       " u'tail',\n",
       " u'egg',\n",
       " u'cold',\n",
       " u'skin',\n",
       " u'hot',\n",
       " u'eye',\n",
       " u'feather',\n",
       " u'tongue',\n",
       " u'bark',\n",
       " u'mouth',\n",
       " u'flesh',\n",
       " u'little',\n",
       " u'drink',\n",
       " u'kill',\n",
       " u'mountain',\n",
       " u'stand',\n",
       " u'sleep',\n",
       " u'go',\n",
       " u'night',\n",
       " u'head',\n",
       " u'neck',\n",
       " u'big',\n",
       " u'hand',\n",
       " u'good',\n",
       " u'blood',\n",
       " u'heart',\n",
       " u'horn',\n",
       " u'swim',\n",
       " u'liver',\n",
       " u'human',\n",
       " u'stone',\n",
       " u'worm',\n",
       " u'hear',\n",
       " u'moon',\n",
       " u'say',\n",
       " u'you',\n",
       " u'sit',\n",
       " u'that',\n",
       " u'fire',\n",
       " u'black',\n",
       " u'know',\n",
       " u'tree',\n",
       " u'white',\n",
       " u'what',\n",
       " u'fly',\n",
       " u'come',\n",
       " u'red',\n",
       " u'breast',\n",
       " u'sand',\n",
       " u'we',\n",
       " u'yellow',\n",
       " u'short',\n",
       " u'adulterous',\n",
       " u'smoke',\n",
       " u'dry',\n",
       " u'name',\n",
       " u'male',\n",
       " u'long',\n",
       " u'not',\n",
       " u'heavy',\n",
       " u'knee',\n",
       " u'rain',\n",
       " u'root',\n",
       " u'star',\n",
       " u'thin',\n",
       " u'path',\n",
       " u'far',\n",
       " u'who',\n",
       " u'female',\n",
       " u'abdomen',\n",
       " u'wind',\n",
       " u'leaf',\n",
       " u'many',\n",
       " u'water',\n",
       " u'salt',\n",
       " u'this',\n",
       " u'year',\n",
       " u'die',\n",
       " u'two',\n",
       " u'all',\n",
       " u'lie',\n",
       " u'cloud',\n",
       " u'sun',\n",
       " u'earth',\n",
       " u'as',\n",
       " u'see',\n",
       " u'i',\n",
       " u'burn',\n",
       " u'give',\n",
       " u'near',\n",
       " u'round',\n",
       " u'seed',\n",
       " u'green',\n",
       " u'new',\n",
       " u'full']"
      ]
     },
     "execution_count": 10,
     "metadata": {},
     "output_type": "execute_result"
    }
   ],
   "source": [
    "sims_univ['dog']"
   ]
  },
  {
   "cell_type": "code",
   "execution_count": 14,
   "metadata": {
    "collapsed": false,
    "deletable": true,
    "editable": true
   },
   "outputs": [
    {
     "name": "stdout",
     "output_type": "stream",
     "text": [
      "2.64196\n",
      "2.63048\n",
      "0.000612556\n"
     ]
    },
    {
     "data": {
      "text/plain": [
       "array([[-0.27908   ,  0.2304    , -0.21297   , ..., -0.11234   ,\n",
       "        -0.083372  ,  0.28040001],\n",
       "       [-0.16674   ,  0.24241   , -0.19233   , ..., -0.13627   ,\n",
       "        -0.099389  ,  0.32029   ],\n",
       "       [-0.48868001,  0.46748999, -0.27656001, ...,  0.38887   ,\n",
       "         0.59105998,  0.92895001],\n",
       "       ..., \n",
       "       [-0.53227001,  0.25200999,  0.19618   , ..., -0.16944   ,\n",
       "         0.011216  ,  0.34393001],\n",
       "       [-0.049683  ,  0.39019999,  0.011011  , ...,  0.12696999,\n",
       "         0.064016  ,  0.70253998],\n",
       "       [-0.29929999, -0.084142  , -0.31672001, ..., -0.17557999,\n",
       "         0.12508   ,  0.37314999]], dtype=float32)"
      ]
     },
     "execution_count": 14,
     "metadata": {},
     "output_type": "execute_result"
    }
   ],
   "source": [
    "de_emb_trans = np.dot(de_emb, T[0])\n",
    "\n",
    "dog = en_emb[0]\n",
    "hund = de_emb_trans[0]\n",
    "\n",
    "print(np.linalg.norm(dog))\n",
    "print(np.linalg.norm(hund))\n",
    "sim = cosine_similarity(dog.reshape(1, -1), hund.reshape(1, -1))\n",
    "# print(sim)\n",
    "# print(dog)\n",
    "# print(A[0])\n",
    "\n",
    "print(np.linalg.norm(dog - A[0]))\n",
    "de_emb.astype(np.float32)"
   ]
  }
 ],
 "metadata": {
  "kernelspec": {
   "display_name": "Python 2",
   "language": "python",
   "name": "python2"
  },
  "language_info": {
   "codemirror_mode": {
    "name": "ipython",
    "version": 2
   },
   "file_extension": ".py",
   "mimetype": "text/x-python",
   "name": "python",
   "nbconvert_exporter": "python",
   "pygments_lexer": "ipython2",
   "version": "2.7.12"
  }
 },
 "nbformat": 4,
 "nbformat_minor": 2
}
