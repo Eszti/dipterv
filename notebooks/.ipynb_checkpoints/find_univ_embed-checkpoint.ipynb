{
 "cells": [
  {
   "cell_type": "markdown",
   "metadata": {
    "deletable": true,
    "editable": true
   },
   "source": [
    "# Find universal embedding"
   ]
  },
  {
   "cell_type": "code",
   "execution_count": 14,
   "metadata": {
    "collapsed": false,
    "deletable": true,
    "editable": true
   },
   "outputs": [],
   "source": [
    "from __future__ import print_function\n",
    "import numpy as np\n",
    "from sklearn.metrics.pairwise import cosine_similarity\n",
    "from sklearn.preprocessing import normalize\n",
    "def execute_notebook(nbfile):    \n",
    "    with io.open(nbfile) as f:\n",
    "        nb = current.read(f, 'json')\n",
    "    \n",
    "    ip = get_ipython()\n",
    "    \n",
    "    for cell in nb.worksheets[0].cells:\n",
    "        if cell.cell_type != 'code':\n",
    "            continue\n",
    "        ip.run_cell(cell.input)"
   ]
  },
  {
   "cell_type": "code",
   "execution_count": 15,
   "metadata": {
    "collapsed": true,
    "deletable": true,
    "editable": true
   },
   "outputs": [],
   "source": [
    "execute_notebook(\"functions.ipynb\")"
   ]
  },
  {
   "cell_type": "markdown",
   "metadata": {
    "deletable": true,
    "editable": true
   },
   "source": [
    "Get Eglish embeddings"
   ]
  },
  {
   "cell_type": "code",
   "execution_count": 16,
   "metadata": {
    "collapsed": false,
    "deletable": true,
    "editable": true
   },
   "outputs": [],
   "source": [
    "en_swad_fn = '/home/eszti/data/panlex_swadesh/swadesh110/test/eng-000.txt'\n",
    "en_embed_fn = '/mnt/permanent/Language/Multi/FB/wiki.en/wiki.en.vec'\n",
    "\n",
    "en_swad, en_emb = get_embedding(en_swad_fn, en_embed_fn)\n",
    "# print(swad)\n",
    "# print(emb)"
   ]
  },
  {
   "cell_type": "markdown",
   "metadata": {
    "deletable": true,
    "editable": true
   },
   "source": [
    "Get German embeddings"
   ]
  },
  {
   "cell_type": "code",
   "execution_count": 17,
   "metadata": {
    "collapsed": false,
    "deletable": true,
    "editable": true
   },
   "outputs": [],
   "source": [
    "de_swad_fn = '/home/eszti/data/panlex_swadesh/swadesh110/test/deu.txt'\n",
    "de_embed_fn = '/mnt/permanent/Language/Multi/FB/wiki.de/wiki.de.vec'\n",
    "\n",
    "de_swad, de_emb = get_embedding(de_swad_fn, de_embed_fn)"
   ]
  },
  {
   "cell_type": "code",
   "execution_count": 19,
   "metadata": {
    "collapsed": false,
    "deletable": true,
    "editable": true
   },
   "outputs": [
    {
     "data": {
      "text/plain": [
       "[u'dog',\n",
       " u'bite',\n",
       " u'louse',\n",
       " u'claw',\n",
       " u'bird',\n",
       " u'snake',\n",
       " u'eat',\n",
       " u'nose',\n",
       " u'hair',\n",
       " u'ear',\n",
       " u'fat',\n",
       " u'tooth',\n",
       " u'bone',\n",
       " u'fish',\n",
       " u'foot',\n",
       " u'tail',\n",
       " u'egg',\n",
       " u'cold',\n",
       " u'skin',\n",
       " u'hot',\n",
       " u'eye',\n",
       " u'feather',\n",
       " u'tongue',\n",
       " u'bark',\n",
       " u'mouth',\n",
       " u'flesh',\n",
       " u'little',\n",
       " u'drink',\n",
       " u'kill',\n",
       " u'mountain',\n",
       " u'stand',\n",
       " u'sleep',\n",
       " u'go',\n",
       " u'night',\n",
       " u'head',\n",
       " u'neck',\n",
       " u'big',\n",
       " u'hand',\n",
       " u'good',\n",
       " u'blood',\n",
       " u'heart',\n",
       " u'horn',\n",
       " u'swim',\n",
       " u'liver',\n",
       " u'human',\n",
       " u'stone',\n",
       " u'worm',\n",
       " u'hear',\n",
       " u'moon',\n",
       " u'say',\n",
       " u'you',\n",
       " u'sit',\n",
       " u'that',\n",
       " u'fire',\n",
       " u'black',\n",
       " u'know',\n",
       " u'tree',\n",
       " u'white',\n",
       " u'what',\n",
       " u'fly',\n",
       " u'come',\n",
       " u'red',\n",
       " u'breast',\n",
       " u'sand',\n",
       " u'we',\n",
       " u'yellow',\n",
       " u'short',\n",
       " u'adulterous',\n",
       " u'smoke',\n",
       " u'dry',\n",
       " u'name',\n",
       " u'male',\n",
       " u'long',\n",
       " u'not',\n",
       " u'heavy',\n",
       " u'knee',\n",
       " u'rain',\n",
       " u'root',\n",
       " u'star',\n",
       " u'thin',\n",
       " u'path',\n",
       " u'far',\n",
       " u'who',\n",
       " u'female',\n",
       " u'abdomen',\n",
       " u'wind',\n",
       " u'leaf',\n",
       " u'many',\n",
       " u'water',\n",
       " u'salt',\n",
       " u'this',\n",
       " u'year',\n",
       " u'die',\n",
       " u'two',\n",
       " u'all',\n",
       " u'lie',\n",
       " u'cloud',\n",
       " u'sun',\n",
       " u'earth',\n",
       " u'as',\n",
       " u'see',\n",
       " u'i',\n",
       " u'burn',\n",
       " u'give',\n",
       " u'near',\n",
       " u'round',\n",
       " u'seed',\n",
       " u'green',\n",
       " u'new',\n",
       " u'full']"
      ]
     },
     "execution_count": 19,
     "metadata": {},
     "output_type": "execute_result"
    }
   ],
   "source": [
    "_, _, sims_en = get_corr(en_emb, en_swad)\n",
    "sims_en['dog']"
   ]
  },
  {
   "cell_type": "code",
   "execution_count": 20,
   "metadata": {
    "collapsed": false,
    "deletable": true,
    "editable": true
   },
   "outputs": [
    {
     "data": {
      "text/plain": [
       "[u'gelb',\n",
       " u'gr\\xfcn',\n",
       " u'rot',\n",
       " u'schwarz',\n",
       " u'weiss',\n",
       " u'borke',\n",
       " u'bauch',\n",
       " u'brust',\n",
       " u'schwanz',\n",
       " u'nacken',\n",
       " u'trocken',\n",
       " u'd\\xfcnn',\n",
       " u'fleisch',\n",
       " u'samen',\n",
       " u'kralle',\n",
       " u'warm',\n",
       " u'haut',\n",
       " u'klein',\n",
       " u'sitzen',\n",
       " u'kopf',\n",
       " u'ei',\n",
       " u'brennen',\n",
       " u'dick',\n",
       " u'haar',\n",
       " u'zunge',\n",
       " u'lang',\n",
       " u'sonne',\n",
       " u'nase',\n",
       " u'kalt',\n",
       " u'blut',\n",
       " u'zwei',\n",
       " u'sand',\n",
       " u'nicht',\n",
       " u'auge',\n",
       " u'beissen',\n",
       " u'wolke',\n",
       " u'schlange',\n",
       " u'sehen',\n",
       " u'vogel',\n",
       " u'stehen',\n",
       " u'mund',\n",
       " u'wasser',\n",
       " u'rauch',\n",
       " u'feuer',\n",
       " u'salz',\n",
       " u'ich',\n",
       " u'blatt',\n",
       " u'fisch',\n",
       " u'stern',\n",
       " u'viel',\n",
       " u'name',\n",
       " u'das',\n",
       " u'was',\n",
       " u'wurzel',\n",
       " u'kurz',\n",
       " u'gut',\n",
       " u'schwimmen',\n",
       " u'berg',\n",
       " u'voll',\n",
       " u'kommen',\n",
       " u'regen',\n",
       " u'essen',\n",
       " u'herz',\n",
       " u'weit',\n",
       " u'wir',\n",
       " u'mond',\n",
       " u'trinken',\n",
       " u'erde',\n",
       " u'gross',\n",
       " u'baum',\n",
       " u'feder',\n",
       " u'ein',\n",
       " u'fliegen',\n",
       " u'pfad',\n",
       " u'leber',\n",
       " u'nah',\n",
       " u'dieses',\n",
       " u'neu',\n",
       " u'asche',\n",
       " u'liegen',\n",
       " u'geben',\n",
       " u'sagen',\n",
       " u'schwer',\n",
       " u'zahn',\n",
       " u'schlafen',\n",
       " u'laus',\n",
       " u'gehen',\n",
       " u'nacht',\n",
       " u'sterben',\n",
       " u'stein',\n",
       " u'horn',\n",
       " u'h\\xf6ren',\n",
       " u'knie',\n",
       " u'ohr',\n",
       " u'knochen',\n",
       " u'wer',\n",
       " u'hand',\n",
       " u'rund',\n",
       " u'wind',\n",
       " u'fuss',\n",
       " u'du',\n",
       " u'mann',\n",
       " u'frau',\n",
       " u'mensch',\n",
       " u'jahr',\n",
       " u'kennen',\n",
       " u'umbringen',\n",
       " u'hund',\n",
       " u'wurm',\n",
       " u'all']"
      ]
     },
     "execution_count": 20,
     "metadata": {},
     "output_type": "execute_result"
    }
   ],
   "source": [
    "_, _, sims_de = get_corr(de_emb, de_swad)\n",
    "sims_de['gelb']"
   ]
  },
  {
   "cell_type": "markdown",
   "metadata": {
    "collapsed": false,
    "deletable": true,
    "editable": true
   },
   "source": [
    "Train"
   ]
  },
  {
   "cell_type": "code",
   "execution_count": 27,
   "metadata": {
    "collapsed": false
   },
   "outputs": [
    {
     "ename": "SyntaxError",
     "evalue": "invalid syntax (<ipython-input-27-b86274331b38>, line 1)",
     "output_type": "error",
     "traceback": [
      "\u001b[0;36m  File \u001b[0;32m\"<ipython-input-27-b86274331b38>\"\u001b[0;36m, line \u001b[0;32m1\u001b[0m\n\u001b[0;31m    W = np.ndarray(shape=(2, len(en_swad), en_emb.shape[1], num_steps=10000), dtype=np.float32)\u001b[0m\n\u001b[0m                                                                     ^\u001b[0m\n\u001b[0;31mSyntaxError\u001b[0m\u001b[0;31m:\u001b[0m invalid syntax\n"
     ]
    }
   ],
   "source": [
    "    W = np.ndarray(shape=(2, len(en_swad), en_emb.shape[1]), dtype=np.float32)\n",
    "    W[0, :, :] = en_emb\n",
    "    W[1, :, :] = de_emb\n",
    "    T1, T, A = train(W, num_steps=10000)"
   ]
  },
  {
   "cell_type": "code",
   "execution_count": 24,
   "metadata": {
    "collapsed": true
   },
   "outputs": [],
   "source": [
    "_, _, sims_univ = get_corr(A, en_swad)"
   ]
  },
  {
   "cell_type": "code",
   "execution_count": 26,
   "metadata": {
    "collapsed": false
   },
   "outputs": [
    {
     "data": {
      "text/plain": [
       "[u'dog',\n",
       " u'good',\n",
       " u'leaf',\n",
       " u'worm',\n",
       " u'salt',\n",
       " u'near',\n",
       " u'wind',\n",
       " u'sand',\n",
       " u'year',\n",
       " u'die',\n",
       " u'swim',\n",
       " u'tail',\n",
       " u'fish',\n",
       " u'little',\n",
       " u'we',\n",
       " u'round',\n",
       " u'all',\n",
       " u'i',\n",
       " u'yellow',\n",
       " u'fat',\n",
       " u'hear',\n",
       " u'blood',\n",
       " u'flesh',\n",
       " u'tongue',\n",
       " u'tree',\n",
       " u'full',\n",
       " u'eat',\n",
       " u'star',\n",
       " u'bird',\n",
       " u'bite',\n",
       " u'lie',\n",
       " u'thin',\n",
       " u'rain',\n",
       " u'cloud',\n",
       " u'hot',\n",
       " u'know',\n",
       " u'black',\n",
       " u'that',\n",
       " u'louse',\n",
       " u'breast',\n",
       " u'who',\n",
       " u'root',\n",
       " u'dry',\n",
       " u'bark',\n",
       " u'earth',\n",
       " u'sit',\n",
       " u'not',\n",
       " u'fly',\n",
       " u'mouth',\n",
       " u'green',\n",
       " u'horn',\n",
       " u'seed',\n",
       " u'abdomen',\n",
       " u'as',\n",
       " u'burn',\n",
       " u'many',\n",
       " u'foot',\n",
       " u'you',\n",
       " u'hair',\n",
       " u'come',\n",
       " u'female',\n",
       " u'eye',\n",
       " u'water',\n",
       " u'bone',\n",
       " u'neck',\n",
       " u'hand',\n",
       " u'head',\n",
       " u'moon',\n",
       " u'feather',\n",
       " u'heavy',\n",
       " u'what',\n",
       " u'two',\n",
       " u'claw',\n",
       " u'kill',\n",
       " u'give',\n",
       " u'stand',\n",
       " u'say',\n",
       " u'egg',\n",
       " u'far',\n",
       " u'long',\n",
       " u'male',\n",
       " u'cold',\n",
       " u'mountain',\n",
       " u'nose',\n",
       " u'adulterous',\n",
       " u'path',\n",
       " u'big',\n",
       " u'knee',\n",
       " u'heart',\n",
       " u'snake',\n",
       " u'red',\n",
       " u'new',\n",
       " u'go',\n",
       " u'ear',\n",
       " u'drink',\n",
       " u'sleep',\n",
       " u'smoke',\n",
       " u'fire',\n",
       " u'white',\n",
       " u'night',\n",
       " u'short',\n",
       " u'see',\n",
       " u'skin',\n",
       " u'tooth',\n",
       " u'human',\n",
       " u'this',\n",
       " u'stone',\n",
       " u'liver',\n",
       " u'name',\n",
       " u'sun']"
      ]
     },
     "execution_count": 26,
     "metadata": {},
     "output_type": "execute_result"
    }
   ],
   "source": [
    "sims_univ['dog']"
   ]
  }
 ],
 "metadata": {
  "kernelspec": {
   "display_name": "Python 2",
   "language": "python",
   "name": "python2"
  },
  "language_info": {
   "codemirror_mode": {
    "name": "ipython",
    "version": 2
   },
   "file_extension": ".py",
   "mimetype": "text/x-python",
   "name": "python",
   "nbconvert_exporter": "python",
   "pygments_lexer": "ipython2",
   "version": "2.7.12"
  }
 },
 "nbformat": 4,
 "nbformat_minor": 2
}
