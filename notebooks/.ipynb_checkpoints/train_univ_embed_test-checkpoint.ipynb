{
 "cells": [
  {
   "cell_type": "markdown",
   "metadata": {
    "deletable": true,
    "editable": true
   },
   "source": [
    "# Universal embeddings: small test"
   ]
  },
  {
   "cell_type": "markdown",
   "metadata": {
    "deletable": true,
    "editable": true
   },
   "source": [
    "Finding a universal embedding that resemles the other embeddings the most. "
   ]
  },
  {
   "cell_type": "code",
   "execution_count": 1,
   "metadata": {
    "collapsed": true,
    "deletable": true,
    "editable": true
   },
   "outputs": [],
   "source": [
    "from __future__ import print_function\n",
    "import numpy as np\n",
    "import tensorflow as tf\n",
    "import matplotlib.pyplot as plt\n",
    "import colorsys"
   ]
  },
  {
   "cell_type": "code",
   "execution_count": 2,
   "metadata": {
    "collapsed": true,
    "deletable": true,
    "editable": true
   },
   "outputs": [],
   "source": [
    "global_colors = ['blue', 'gold', 'red']"
   ]
  },
  {
   "cell_type": "markdown",
   "metadata": {
    "deletable": true,
    "editable": true
   },
   "source": [
    "Function for training (init + run):"
   ]
  },
  {
   "cell_type": "code",
   "execution_count": 3,
   "metadata": {
    "collapsed": false,
    "deletable": true,
    "editable": true
   },
   "outputs": [],
   "source": [
    "def train(W, learning_rate=0.01, num_steps=1001, t1_identity=True):\n",
    "    num_of_langs = W.shape[0]\n",
    "    num_of_words = W[0].shape[0]\n",
    "    dim_of_emb = W[0].shape[1]\n",
    "\n",
    "    # Init graphs\n",
    "    graph = tf.Graph()\n",
    "    with graph.as_default():\n",
    "\n",
    "      # Input data.\n",
    "      tf_W = tf.constant(W)\n",
    "      if t1_identity:\n",
    "          tf_T1 = tf.constant(np.identity(dim_of_emb).astype(np.float32))    # T1 = identity\n",
    "\n",
    "      # Variables.\n",
    "      if not t1_identity:\n",
    "        tf_T1 = tf.Variable(tf.truncated_normal([dim_of_emb, dim_of_emb]))\n",
    "      tf_T = tf.Variable(tf.truncated_normal([num_of_langs-1, dim_of_emb, dim_of_emb])) \n",
    "      tf_A = tf.Variable(tf.truncated_normal([num_of_words, dim_of_emb]))\n",
    "\n",
    "      # Training computation\n",
    "      loss = tf.norm(tf.matmul(tf_W[0], tf_T1) - tf_A)                   # T1 may be constant\n",
    "      for i in range(1, num_of_langs):\n",
    "        loss += tf.norm(tf.matmul(tf_W[i], tf_T[i-1]) - tf_A) \n",
    "\n",
    "      # Optimizer.\n",
    "      # We are going to find the minimum of this loss using gradient descent.\n",
    "      optimizer = tf.train.GradientDescentOptimizer(learning_rate).minimize(loss)\n",
    "   \n",
    "    # Run training\n",
    "    with tf.Session(graph=graph) as session:\n",
    "      # This is a one-time operation which ensures the parameters get initialized as\n",
    "      # we described in the graph\n",
    "      tf.global_variables_initializer().run()\n",
    "      print('Initialized')\n",
    "      for step in range(num_steps):\n",
    "        # Run the computations\n",
    "        _, l, T1, T, A = session.run([optimizer, loss, tf_T1, tf_T, tf_A])\n",
    "        if (step % 100 == 0):\n",
    "          print('Loss at step %d: %f' % (step, l))\n",
    "\n",
    "      # Print transformation matrices + universal embedding\n",
    "      print('\\n')\n",
    "      print('Transform 1:')\n",
    "      print(T1)\n",
    "      for i in range(0, T.shape[0]):\n",
    "          print('Transform {}:'.format(i+2))\n",
    "          print(T[i])\n",
    "      print('Universal embedding:')\n",
    "      print(A)\n",
    "\n",
    "    # Print transformed embeddings\n",
    "    print('\\n')\n",
    "    print('W1*T1:')\n",
    "    print(np.dot(W[0], T1))\n",
    "    for i in range(0, T.shape[0]):\n",
    "      print('W{0}*T{0}:'.format(i+2))\n",
    "      print(np.dot(W[i+1], T[i])) \n",
    "        \n",
    "    return (T1, T, A)"
   ]
  },
  {
   "cell_type": "markdown",
   "metadata": {
    "deletable": true,
    "editable": true
   },
   "source": [
    "Fuction for printing results:"
   ]
  },
  {
   "cell_type": "code",
   "execution_count": 42,
   "metadata": {
    "collapsed": false,
    "deletable": true,
    "editable": true
   },
   "outputs": [],
   "source": [
    "def print_results(W, T1, T, A, use_global_colors=True):\n",
    "    num_of_langs = W.shape[0]\n",
    "    num_of_words = W[0].shape[0]\n",
    "    dim_of_emb = W[0].shape[1]\n",
    "    \n",
    "    if use_global_colors:\n",
    "        colors = global_colors\n",
    "    else:\n",
    "        HSV_tuples = [(x*1.0/num_of_langs, 0.5, 0.5) for x in range(num_of_langs)]\n",
    "        RGB_tuples = map(lambda x: colorsys.hsv_to_rgb(*x), HSV_tuples)\n",
    "        colors = RGB_tuples\n",
    "\n",
    "    Xs = np.ndarray(shape=(num_of_langs, num_of_words))\n",
    "    Ys = np.ndarray(shape=(num_of_langs, num_of_words))\n",
    "    Xs[0, :] = np.dot(W[0], T1)[:, 0]\n",
    "    Ys[0, :] = np.dot(W[0], T1)[:, 1]\n",
    "    for i in range(1, num_of_langs):\n",
    "        Xs[i, :] = np.dot(W[i], T[i-1])[:, 0]\n",
    "        Ys[i, :] = np.dot(W[i], T[i-1])[:, 1]\n",
    "\n",
    "    for i in range(num_of_langs):\n",
    "        plt.scatter(Xs[i], Ys[i], color=colors[i])\n",
    "    \n",
    "    plt.grid()\n",
    "    plt.show()\n",
    "\n",
    "    A_xs = A[:, 0]\n",
    "    A_ys = A[:, 1]\n",
    "    for i in range(num_of_langs):\n",
    "        plt.scatter(Xs[i], Ys[i], color=colors[i])\n",
    "    plt.scatter(A_xs, A_ys, color='black')\n",
    "\n",
    "    print('Black points = universal embedding')\n",
    "    plt.grid()\n",
    "    plt.show()"
   ]
  },
  {
   "cell_type": "markdown",
   "metadata": {
    "deletable": true,
    "editable": true
   },
   "source": [
    "#### 2 language - 2 words example  \n",
    "\n",
    "Diagram:  \n",
    "<span style=\"color:blue\">**W1 points**</span>  \n",
    "<span style=\"color:gold\">**W2 points**</span>  "
   ]
  },
  {
   "cell_type": "code",
   "execution_count": 43,
   "metadata": {
    "collapsed": false,
    "deletable": true,
    "editable": true
   },
   "outputs": [
    {
     "data": {
      "image/png": "[encoded data removed]",
      "text/plain": [
       "<matplotlib.figure.Figure at 0x7fc4246ca850>"
      ]
     },
     "metadata": {},
     "output_type": "display_data"
    }
   ],
   "source": [
    "W1 = np.array([[1, 0], [0, 1]]).astype(np.float32)\n",
    "W2 = np.array([[1, 1], [1, -1]]).astype(np.float32)\n",
    "\n",
    "W = np.ndarray(shape=(2,2,2), dtype=np.float32)\n",
    "W[0, :, :] = W1\n",
    "W[1, :, :] = W2\n",
    "\n",
    "W1_xs = W[0][:, 0]\n",
    "W1_ys = W[0][:, 1]\n",
    "plt.scatter(W1_xs, W1_ys, color='blue')\n",
    "W2_xs = W[1][:, 0]\n",
    "W2_ys = W[1][:, 1]\n",
    "plt.scatter(W2_xs, W2_ys, color='gold')\n",
    "\n",
    "plt.grid()\n",
    "plt.show()"
   ]
  },
  {
   "cell_type": "code",
   "execution_count": 44,
   "metadata": {
    "collapsed": false,
    "deletable": true,
    "editable": true
   },
   "outputs": [
    {
     "name": "stdout",
     "output_type": "stream",
     "text": [
      "Initialized\n",
      "Loss at step 0: 5.640033\n",
      "Loss at step 100: 1.914517\n",
      "Loss at step 200: 1.254654\n",
      "Loss at step 300: 0.577768\n",
      "Loss at step 400: 0.030802\n",
      "Loss at step 500: 0.030802\n",
      "Loss at step 600: 0.030802\n",
      "Loss at step 700: 0.030802\n",
      "Loss at step 800: 0.030802\n",
      "Loss at step 900: 0.030802\n",
      "Loss at step 1000: 0.030802\n",
      "\n",
      "\n",
      "Transform 1:\n",
      "[[ 1.  0.]\n",
      " [ 0.  1.]]\n",
      "Transform 2:\n",
      "[[ 0.50260633  0.49521264]\n",
      " [ 0.4990494  -0.50408024]]\n",
      "Universal embedding:\n",
      "[[ 0.99834168  0.00888157]\n",
      " [-0.00356253  1.00070822]]\n",
      "\n",
      "\n",
      "W1*T1:\n",
      "[[ 1.  0.]\n",
      " [ 0.  1.]]\n",
      "W2*T2:\n",
      "[[ 1.0016557  -0.00886759]\n",
      " [ 0.00355694  0.99929285]]\n"
     ]
    },
    {
     "data": {
      "image/png": "[encoded data removed]",
      "text/plain": [
       "<matplotlib.figure.Figure at 0x7fc42466ed90>"
      ]
     },
     "metadata": {},
     "output_type": "display_data"
    },
    {
     "name": "stdout",
     "output_type": "stream",
     "text": [
      "Black points = universal embedding\n"
     ]
    },
    {
     "data": {
      "image/png": "[encoded data removed]",
      "text/plain": [
       "<matplotlib.figure.Figure at 0x7fc3f87e29d0>"
      ]
     },
     "metadata": {},
     "output_type": "display_data"
    }
   ],
   "source": [
    "T1, T, A = train(W)\n",
    "print_results(W, T1, T, A)"
   ]
  },
  {
   "cell_type": "markdown",
   "metadata": {
    "deletable": true,
    "editable": true
   },
   "source": [
    "#### 2 language - 3 words example\n",
    "\n",
    "Diagram:  \n",
    "<span style=\"color:blue\">**W1 points**</span>  \n",
    "<span style=\"color:gold\">**W2 points**</span>  "
   ]
  },
  {
   "cell_type": "code",
   "execution_count": 45,
   "metadata": {
    "collapsed": false,
    "deletable": true,
    "editable": true
   },
   "outputs": [
    {
     "name": "stdout",
     "output_type": "stream",
     "text": [
      "[[[ 1.  0.]\n",
      "  [ 0.  1.]\n",
      "  [ 1.  1.]]\n",
      "\n",
      " [[ 2.  2.]\n",
      "  [ 1. -1.]\n",
      "  [-1. -1.]]]\n"
     ]
    },
    {
     "data": {
      "image/png": "[encoded data removed]",
      "text/plain": [
       "<matplotlib.figure.Figure at 0x7fc3f87e2550>"
      ]
     },
     "metadata": {},
     "output_type": "display_data"
    }
   ],
   "source": [
    "W1 = np.array([[1, 0], [0, 1], [1, 1]]).astype(np.float32)\n",
    "W2 = np.array([[2, 2], [1, -1], [-1, -1]]).astype(np.float32)\n",
    "\n",
    "\n",
    "W = np.ndarray(shape=(2,3,2), dtype=np.float32)\n",
    "W[0, :, :] = W1\n",
    "W[1, :, :] = W2\n",
    "print(W)\n",
    "\n",
    "W1_xs = W[0][:, 0]\n",
    "W1_ys = W[0][:, 1]\n",
    "plt.scatter(W1_xs, W1_ys, color='blue')\n",
    "W2_xs = W[1][:, 0]\n",
    "W2_ys = W[1][:, 1]\n",
    "plt.scatter(W2_xs, W2_ys, color='gold')\n",
    "\n",
    "plt.grid()\n",
    "plt.show()"
   ]
  },
  {
   "cell_type": "markdown",
   "metadata": {
    "deletable": true,
    "editable": true
   },
   "source": [
    "Train when T1 is identity:"
   ]
  },
  {
   "cell_type": "code",
   "execution_count": 46,
   "metadata": {
    "collapsed": false,
    "deletable": true,
    "editable": true
   },
   "outputs": [
    {
     "name": "stdout",
     "output_type": "stream",
     "text": [
      "Initialized\n",
      "Loss at step 0: 8.266771\n",
      "Loss at step 100: 2.908822\n",
      "Loss at step 200: 1.747483\n",
      "Loss at step 300: 1.667668\n",
      "Loss at step 400: 1.634466\n",
      "Loss at step 500: 1.621226\n",
      "Loss at step 600: 1.615981\n",
      "Loss at step 700: 1.613886\n",
      "Loss at step 800: 1.613041\n",
      "Loss at step 900: 1.612696\n",
      "Loss at step 1000: 1.612553\n",
      "\n",
      "\n",
      "Transform 1:\n",
      "[[ 1.  0.]\n",
      " [ 0.  1.]]\n",
      "Transform 2:\n",
      "[[ 0.10802595  0.39892945]\n",
      " [ 0.09127286 -0.597507  ]]\n",
      "Universal embedding:\n",
      "[[ 0.41888329 -0.38301125]\n",
      " [ 0.01655616  0.99647838]\n",
      " [-0.15815318  0.22569793]]\n",
      "\n",
      "\n",
      "W1*T1:\n",
      "[[ 1.  0.]\n",
      " [ 0.  1.]\n",
      " [ 1.  1.]]\n",
      "W2*T2:\n",
      "[[ 0.3985976  -0.39715511]\n",
      " [ 0.01675308  0.99643648]\n",
      " [-0.1992988   0.19857755]]\n"
     ]
    },
    {
     "data": {
      "image/png": "[encoded data removed]",
      "text/plain": [
       "<matplotlib.figure.Figure at 0x7fc3f871af90>"
      ]
     },
     "metadata": {},
     "output_type": "display_data"
    },
    {
     "name": "stdout",
     "output_type": "stream",
     "text": [
      "Black points = universal embedding\n"
     ]
    },
    {
     "data": {
      "image/png": "[encoded data removed]",
      "text/plain": [
       "<matplotlib.figure.Figure at 0x7fc4562f7790>"
      ]
     },
     "metadata": {},
     "output_type": "display_data"
    }
   ],
   "source": [
    "T1, T, A = train(W)\n",
    "print_results(W, T1, T, A)"
   ]
  },
  {
   "cell_type": "markdown",
   "metadata": {
    "deletable": true,
    "editable": true
   },
   "source": [
    "Train when T1 is not identity either:"
   ]
  },
  {
   "cell_type": "code",
   "execution_count": 47,
   "metadata": {
    "collapsed": false,
    "deletable": true,
    "editable": true
   },
   "outputs": [
    {
     "name": "stdout",
     "output_type": "stream",
     "text": [
      "Initialized\n",
      "Loss at step 0: 10.720591\n",
      "Loss at step 100: 2.206471\n",
      "Loss at step 200: 0.082491\n",
      "Loss at step 300: 0.082318\n",
      "Loss at step 400: 0.082319\n",
      "Loss at step 500: 0.082319\n",
      "Loss at step 600: 0.082319\n",
      "Loss at step 700: 0.082320\n",
      "Loss at step 800: 0.082320\n",
      "Loss at step 900: 0.082321\n",
      "Loss at step 1000: 0.082320\n",
      "\n",
      "\n",
      "Transform 1:\n",
      "[[-0.6118288  -0.11858235]\n",
      " [ 0.92618978  0.18319984]]\n",
      "Transform 2:\n",
      "[[ 0.30169684  0.07033482]\n",
      " [-0.6210714  -0.11166129]]\n",
      "Universal embedding:\n",
      "[[-0.61402225 -0.12648436]\n",
      " [ 0.9203071   0.18112873]\n",
      " [ 0.30270493  0.06051895]]\n",
      "\n",
      "\n",
      "W1*T1:\n",
      "[[-0.6118288  -0.11858235]\n",
      " [ 0.92618978  0.18319984]\n",
      " [ 0.31436098  0.06461748]]\n",
      "W2*T2:\n",
      "[[-0.63874912 -0.08265293]\n",
      " [ 0.92276824  0.18199611]\n",
      " [ 0.31937456  0.04132646]]\n"
     ]
    },
    {
     "data": {
      "image/png": "[encoded data removed]",
      "text/plain": [
       "<matplotlib.figure.Figure at 0x7fc4347699d0>"
      ]
     },
     "metadata": {},
     "output_type": "display_data"
    },
    {
     "name": "stdout",
     "output_type": "stream",
     "text": [
      "Black points = universal embedding\n"
     ]
    },
    {
     "data": {
      "image/png": "[encoded data removed]",
      "text/plain": [
       "<matplotlib.figure.Figure at 0x7fc4246b3b10>"
      ]
     },
     "metadata": {},
     "output_type": "display_data"
    }
   ],
   "source": [
    "T1, T, A = train(W, t1_identity=False)\n",
    "print_results(W, T1, T, A)"
   ]
  },
  {
   "cell_type": "markdown",
   "metadata": {
    "deletable": true,
    "editable": true
   },
   "source": [
    "#### 3 language - 3 words example\n",
    "\n",
    "Diagram:  \n",
    "<span style=\"color:blue\">**W1 points**</span>  \n",
    "<span style=\"color:gold\">**W2 points**</span>  \n",
    "<span style=\"color:red\">**W3 points**</span>  "
   ]
  },
  {
   "cell_type": "code",
   "execution_count": 48,
   "metadata": {
    "collapsed": false,
    "deletable": true,
    "editable": true
   },
   "outputs": [
    {
     "name": "stdout",
     "output_type": "stream",
     "text": [
      "[[[ 1.          0.        ]\n",
      "  [ 0.          1.        ]\n",
      "  [ 1.          1.        ]]\n",
      "\n",
      " [[ 2.          2.        ]\n",
      "  [ 1.         -1.        ]\n",
      "  [-1.         -1.        ]]\n",
      "\n",
      " [[ 1.5         1.5       ]\n",
      "  [ 1.20000005  0.60000002]\n",
      "  [-1.20000005 -1.5       ]]]\n"
     ]
    },
    {
     "data": {
      "image/png": "[encoded data removed]",
      "text/plain": [
       "<matplotlib.figure.Figure at 0x7fc3f8774510>"
      ]
     },
     "metadata": {},
     "output_type": "display_data"
    }
   ],
   "source": [
    "W1 = np.array([[1, 0], [0, 1], [1, 1]]).astype(np.float32)\n",
    "W2 = np.array([[2, 2], [1, -1], [-1, -1]]).astype(np.float32)\n",
    "W3 = np.array([[1.5, 1.5], [1.2, 0.6], [-1.2, -1.5]]).astype(np.float32)\n",
    "\n",
    "\n",
    "W = np.ndarray(shape=(3,3,2), dtype=np.float32)\n",
    "W[0, :, :] = W1\n",
    "W[1, :, :] = W2\n",
    "W[2, :, :] = W3\n",
    "print(W)\n",
    "\n",
    "W1_xs = W[0][:, 0]\n",
    "W1_ys = W[0][:, 1]\n",
    "plt.scatter(W1_xs, W1_ys, color=global_colors[0])\n",
    "W2_xs = W[1][:, 0]\n",
    "W2_ys = W[1][:, 1]\n",
    "plt.scatter(W2_xs, W2_ys, color=global_colors[1])\n",
    "W3_xs = W[2][:, 0]\n",
    "W3_ys = W[2][:, 1]\n",
    "plt.scatter(W3_xs, W3_ys, color=global_colors[2])\n",
    "\n",
    "plt.grid()\n",
    "plt.show()"
   ]
  },
  {
   "cell_type": "markdown",
   "metadata": {
    "deletable": true,
    "editable": true
   },
   "source": [
    "Train when T1 is identity:"
   ]
  },
  {
   "cell_type": "code",
   "execution_count": 49,
   "metadata": {
    "collapsed": false,
    "deletable": true,
    "editable": true
   },
   "outputs": [
    {
     "name": "stdout",
     "output_type": "stream",
     "text": [
      "Initialized\n",
      "Loss at step 0: 15.745003\n",
      "Loss at step 100: 4.234803\n",
      "Loss at step 200: 2.187142\n",
      "Loss at step 300: 2.110426\n",
      "Loss at step 400: 2.057635\n",
      "Loss at step 500: 2.017558\n",
      "Loss at step 600: 1.986471\n",
      "Loss at step 700: 1.962506\n",
      "Loss at step 800: 1.944323\n",
      "Loss at step 900: 1.931806\n",
      "Loss at step 1000: 1.921417\n",
      "Loss at step 1100: 1.916680\n",
      "Loss at step 1200: 1.910986\n",
      "Loss at step 1300: 1.905918\n",
      "Loss at step 1400: 1.901421\n",
      "Loss at step 1500: 1.897421\n",
      "Loss at step 1600: 1.893847\n",
      "Loss at step 1700: 1.890643\n",
      "Loss at step 1800: 1.887761\n",
      "Loss at step 1900: 1.885162\n",
      "Loss at step 2000: 1.882815\n",
      "Loss at step 2100: 1.880694\n",
      "Loss at step 2200: 1.878775\n",
      "Loss at step 2300: 1.877038\n",
      "Loss at step 2400: 1.875467\n",
      "Loss at step 2500: 1.874045\n",
      "Loss at step 2600: 1.872761\n",
      "Loss at step 2700: 1.871598\n",
      "Loss at step 2800: 1.870549\n",
      "Loss at step 2900: 1.869601\n",
      "Loss at step 3000: 1.868746\n",
      "\n",
      "\n",
      "Transform 1:\n",
      "[[ 1.  0.]\n",
      " [ 0.  1.]]\n",
      "Transform 2:\n",
      "[[ 0.14017782  0.2843768 ]\n",
      " [-0.08915568 -0.29008287]]\n",
      "Transform 3:\n",
      "[[ 0.31830496  0.88182068]\n",
      " [-0.24397977 -0.83243912]]\n",
      "Universal embedding:\n",
      "[[ 0.12623848  0.07025556]\n",
      " [ 0.2297662   0.57623118]\n",
      " [-0.00245673  0.1645968 ]]\n",
      "\n",
      "\n",
      "W1*T1:\n",
      "[[ 1.  0.]\n",
      " [ 0.  1.]\n",
      " [ 1.  1.]]\n",
      "W2*T2:\n",
      "[[ 0.10204427 -0.01141214]\n",
      " [ 0.22933349  0.57445967]\n",
      " [-0.05102213  0.00570607]]\n",
      "W3*T3:\n",
      "[[ 0.11148778  0.07407236]\n",
      " [ 0.2355781   0.55872136]\n",
      " [-0.01599631  0.19047379]]\n"
     ]
    },
    {
     "data": {
      "image/png": "[encoded data removed]",
      "text/plain": [
       "<matplotlib.figure.Figure at 0x7fc4504f02d0>"
      ]
     },
     "metadata": {},
     "output_type": "display_data"
    },
    {
     "name": "stdout",
     "output_type": "stream",
     "text": [
      "Black points = universal embedding\n"
     ]
    },
    {
     "data": {
      "image/png": "[encoded data removed]",
      "text/plain": [
       "<matplotlib.figure.Figure at 0x7fc4346fbf90>"
      ]
     },
     "metadata": {},
     "output_type": "display_data"
    }
   ],
   "source": [
    "T1, T, A = train(W, learning_rate=0.007, num_steps=3001)\n",
    "print_results(W, T1, T, A)"
   ]
  },
  {
   "cell_type": "markdown",
   "metadata": {
    "deletable": true,
    "editable": true
   },
   "source": [
    "Train when T1 is not identity either:"
   ]
  },
  {
   "cell_type": "code",
   "execution_count": 50,
   "metadata": {
    "collapsed": false,
    "deletable": true,
    "editable": true
   },
   "outputs": [
    {
     "name": "stdout",
     "output_type": "stream",
     "text": [
      "Initialized\n",
      "Loss at step 0: 13.840055\n",
      "Loss at step 100: 3.793975\n",
      "Loss at step 200: 1.279055\n",
      "Loss at step 300: 0.156339\n",
      "Loss at step 400: 0.119185\n",
      "Loss at step 500: 0.101869\n",
      "Loss at step 600: 0.101894\n",
      "Loss at step 700: 0.101944\n",
      "Loss at step 800: 0.101963\n",
      "Loss at step 900: 0.101973\n",
      "Loss at step 1000: 0.101978\n",
      "Loss at step 1100: 0.101981\n",
      "Loss at step 1200: 0.101982\n",
      "Loss at step 1300: 0.101983\n",
      "Loss at step 1400: 0.101984\n",
      "Loss at step 1500: 0.101984\n",
      "Loss at step 1600: 0.101984\n",
      "Loss at step 1700: 0.101984\n",
      "Loss at step 1800: 0.101984\n",
      "Loss at step 1900: 0.101984\n",
      "Loss at step 2000: 0.101984\n",
      "Loss at step 2100: 0.101984\n",
      "Loss at step 2200: 0.101984\n",
      "Loss at step 2300: 0.101984\n",
      "Loss at step 2400: 0.101984\n",
      "Loss at step 2500: 0.101984\n",
      "Loss at step 2600: 0.101984\n",
      "Loss at step 2700: 0.101984\n",
      "Loss at step 2800: 0.101984\n",
      "Loss at step 2900: 0.101984\n",
      "Loss at step 3000: 0.101984\n",
      "\n",
      "\n",
      "Transform 1:\n",
      "[[-0.00216619  0.00077579]\n",
      " [-0.00383827  0.0016105 ]]\n",
      "Transform 2:\n",
      "[[ 0.00731624 -0.00276578]\n",
      " [ 0.00722595 -0.00286699]]\n",
      "Transform 3:\n",
      "[[ 0.00727118 -0.00255361]\n",
      " [ 0.00709896 -0.00299561]]\n",
      "Universal embedding:\n",
      "[[-0.00591499  0.00222067]\n",
      " [-0.00019119  0.00020833]\n",
      " [ 0.0068902  -0.00257756]]\n",
      "\n",
      "\n",
      "W1*T1:\n",
      "[[-0.00216619  0.00077579]\n",
      " [-0.00383827  0.0016105 ]\n",
      " [-0.00600447  0.00238628]]\n",
      "W2*T2:\n",
      "[[  2.90843844e-02  -1.12655433e-02]\n",
      " [  9.02861357e-05   1.01208221e-04]\n",
      " [ -1.45421922e-02   5.63277164e-03]]\n",
      "W3*T3:\n",
      "[[ 0.02155522 -0.00832384]\n",
      " [ 0.0129848  -0.00486171]\n",
      " [-0.01937386  0.00755776]]\n"
     ]
    },
    {
     "data": {
      "image/png": "[encoded data removed]",
      "text/plain": [
       "<matplotlib.figure.Figure at 0x7fc4346744d0>"
      ]
     },
     "metadata": {},
     "output_type": "display_data"
    },
    {
     "name": "stdout",
     "output_type": "stream",
     "text": [
      "Black points = universal embedding\n"
     ]
    },
    {
     "data": {
      "image/png": "[encoded data removed]",
      "text/plain": [
       "<matplotlib.figure.Figure at 0x7fc4346fbf50>"
      ]
     },
     "metadata": {},
     "output_type": "display_data"
    }
   ],
   "source": [
    "T1, T, A = train(W, learning_rate=0.007, num_steps=3001, t1_identity=False)\n",
    "print_results(W, T1, T, A)"
   ]
  }
 ],
 "metadata": {
  "kernelspec": {
   "display_name": "Python 2",
   "language": "python",
   "name": "python2"
  },
  "language_info": {
   "codemirror_mode": {
    "name": "ipython",
    "version": 2
   },
   "file_extension": ".py",
   "mimetype": "text/x-python",
   "name": "python",
   "nbconvert_exporter": "python",
   "pygments_lexer": "ipython2",
   "version": "2.7.12"
  }
 },
 "nbformat": 4,
 "nbformat_minor": 2
}
