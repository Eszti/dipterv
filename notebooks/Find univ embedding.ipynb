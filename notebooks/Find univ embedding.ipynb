{
 "cells": [
  {
   "cell_type": "markdown",
   "metadata": {},
   "source": [
    "# Find universal embedding"
   ]
  },
  {
   "cell_type": "code",
   "execution_count": 1,
   "metadata": {
    "collapsed": true
   },
   "outputs": [],
   "source": [
    "from __future__ import print_function\n",
    "import numpy as np\n",
    "from sklearn.metrics.pairwise import cosine_similarity\n",
    "from sklearn.preprocessing import normalize"
   ]
  },
  {
   "cell_type": "code",
   "execution_count": 12,
   "metadata": {
    "collapsed": true
   },
   "outputs": [],
   "source": [
    "def get_embedding(swadesh_file, embed_file):\n",
    "    # Read swadesh list\n",
    "    ls_swad = []\n",
    "    with open(swadesh_file) as f:\n",
    "        ls_swad = f.read().decode('utf-8').splitlines()\n",
    "    ls_swad = [w.lower() for w in ls_swad]\n",
    "    \n",
    "    # Read embeddings\n",
    "    words = []\n",
    "    embedding_raw = []\n",
    "    with open(embed_file) as f:\n",
    "        i = 0\n",
    "        for line in f:\n",
    "            if i == 0:\n",
    "                i+=1\n",
    "                continue\n",
    "            fields = line.strip().decode('utf-8').split(' ')\n",
    "            w = fields[0]\n",
    "            if w.lower() in ls_swad:\n",
    "                trans = fields[1:]\n",
    "                words.append(w)\n",
    "                embedding_raw.append(trans)\n",
    "                if i == len(ls_swad):\n",
    "                    break\n",
    "                i+=1\n",
    "                \n",
    "    # Reorder embedding\n",
    "    idx_arr = [words.index(w) for w in ls_swad]\n",
    "    words_ordered = np.array(words)[idx_arr]\n",
    "    embedding_ordered = np.array(embedding_raw)[idx_arr]\n",
    "    \n",
    "    # Normalize embedding\n",
    "    embedding = normalize(embedding_ordered.astype(np.float32))\n",
    "    \n",
    "    return ls_swad, embedding"
   ]
  },
  {
   "cell_type": "markdown",
   "metadata": {},
   "source": [
    "Get Eglish embeddings"
   ]
  },
  {
   "cell_type": "code",
   "execution_count": 14,
   "metadata": {
    "collapsed": false
   },
   "outputs": [],
   "source": [
    "en_swad_fn = '/home/eszti/data/panlex_swadesh/swadesh110/test/eng-000.txt'\n",
    "en_embed_fn = '/mnt/permanent/Language/Multi/FB/wiki.en/wiki.en.vec'\n",
    "\n",
    "en_swad, en_emb = get_embedding(en_swad_fn, en_embed_fn)\n",
    "# print(swad)\n",
    "# print(emb)"
   ]
  },
  {
   "cell_type": "markdown",
   "metadata": {},
   "source": [
    "Get German embeddings"
   ]
  },
  {
   "cell_type": "code",
   "execution_count": 16,
   "metadata": {
    "collapsed": false
   },
   "outputs": [],
   "source": [
    "de_swad_fn = '/home/eszti/data/panlex_swadesh/swadesh110/test/deu.txt'\n",
    "de_embed_fn = '/mnt/permanent/Language/Multi/FB/wiki.de/wiki.de.vec'\n",
    "\n",
    "de_swad, de_emb = get_embedding(de_swad_fn, de_embed_fn)"
   ]
  },
  {
   "cell_type": "code",
   "execution_count": 18,
   "metadata": {
    "collapsed": false
   },
   "outputs": [
    {
     "data": {
      "text/plain": [
       "array([[-0.06213669,  0.05129817, -0.04741741, ..., -0.02501231,\n",
       "        -0.01856263,  0.06243059],\n",
       "       [-0.03386743,  0.04923715, -0.03906514, ..., -0.0276785 ,\n",
       "        -0.02018742,  0.06505576],\n",
       "       [-0.07601882,  0.07272251, -0.04302153, ...,  0.06049242,\n",
       "         0.09194499,  0.14450699],\n",
       "       ..., \n",
       "       [-0.10472649,  0.04958409,  0.03859929, ..., -0.03333807,\n",
       "         0.0022068 ,  0.06766976],\n",
       "       [-0.00937888,  0.07365981,  0.0020786 , ...,  0.0239687 ,\n",
       "         0.01208459,  0.13262165],\n",
       "       [-0.09250893, -0.02600697, -0.09789319, ..., -0.05426902,\n",
       "         0.03866027,  0.11533482]], dtype=float32)"
      ]
     },
     "execution_count": 18,
     "metadata": {},
     "output_type": "execute_result"
    }
   ],
   "source": [
    "de_emb"
   ]
  }
 ],
 "metadata": {
  "kernelspec": {
   "display_name": "Python 2",
   "language": "python",
   "name": "python2"
  },
  "language_info": {
   "codemirror_mode": {
    "name": "ipython",
    "version": 2
   },
   "file_extension": ".py",
   "mimetype": "text/x-python",
   "name": "python",
   "nbconvert_exporter": "python",
   "pygments_lexer": "ipython2",
   "version": "2.7.12"
  }
 },
 "nbformat": 4,
 "nbformat_minor": 2
}
