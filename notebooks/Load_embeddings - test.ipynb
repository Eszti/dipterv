{
 "cells": [
  {
   "cell_type": "markdown",
   "metadata": {
    "deletable": true,
    "editable": true
   },
   "source": [
    "# Load embeddings"
   ]
  },
  {
   "cell_type": "markdown",
   "metadata": {
    "deletable": true,
    "editable": true
   },
   "source": [
    "Load embeddings from https://github.com/facebookresearch/fastText/blob/master/pretrained-vectors.md"
   ]
  },
  {
   "cell_type": "code",
   "execution_count": 25,
   "metadata": {
    "collapsed": true,
    "deletable": true,
    "editable": true
   },
   "outputs": [],
   "source": [
    "from __future__ import print_function\n",
    "import numpy as np\n",
    "from sklearn.metrics.pairwise import cosine_similarity\n",
    "from sklearn.preprocessing import normalize"
   ]
  },
  {
   "cell_type": "code",
   "execution_count": null,
   "metadata": {
    "collapsed": true
   },
   "outputs": [],
   "source": [
    "swadesh_codes = ['eng', 'deu', 'spa']\n",
    "embedding_codes = ['en', 'de', 'es']"
   ]
  },
  {
   "cell_type": "code",
   "execution_count": 13,
   "metadata": {
    "collapsed": false,
    "deletable": true,
    "editable": true
   },
   "outputs": [
    {
     "name": "stdout",
     "output_type": "stream",
     "text": [
      "(793866,)\n",
      "(793866, 300)\n"
     ]
    }
   ],
   "source": [
    "testfile_path = '/mnt/permanent/Language/Multi/FB/wiki.hu/wiki.hu.vec'\n",
    "\n",
    "words = []\n",
    "embedding = []\n",
    "\n",
    "with open(testfile_path) as f:\n",
    "    i = 0\n",
    "    for line in f:\n",
    "        if i == 0:\n",
    "            i+=1\n",
    "            continue\n",
    "        fields = line.strip().decode('utf-8').split(' ')\n",
    "        w = fields[0]\n",
    "        trans = fields[1:]\n",
    "        words.append(w)\n",
    "        embedding.append(trans)\n",
    "        i+=1\n",
    "            \n",
    "words = np.array(words)\n",
    "embedding = np.array(embedding)\n",
    "print(words.shape)\n",
    "print(embedding.shape)"
   ]
  },
  {
   "cell_type": "markdown",
   "metadata": {},
   "source": [
    "Read English swadesh list"
   ]
  },
  {
   "cell_type": "code",
   "execution_count": 170,
   "metadata": {
    "collapsed": false
   },
   "outputs": [
    {
     "data": {
      "text/plain": [
       "[u'all',\n",
       " u'asche',\n",
       " u'borke',\n",
       " u'bauch',\n",
       " u'gross',\n",
       " u'vogel',\n",
       " u'beissen',\n",
       " u'schwarz',\n",
       " u'blut',\n",
       " u'knochen',\n",
       " u'brust',\n",
       " u'brennen',\n",
       " u'kralle',\n",
       " u'wolke',\n",
       " u'kalt',\n",
       " u'kommen',\n",
       " u'sterben',\n",
       " u'hund',\n",
       " u'trinken',\n",
       " u'trocken',\n",
       " u'ohr',\n",
       " u'erde',\n",
       " u'essen',\n",
       " u'ei',\n",
       " u'auge',\n",
       " u'dick',\n",
       " u'feder',\n",
       " u'feuer',\n",
       " u'fisch',\n",
       " u'fliegen',\n",
       " u'fuss',\n",
       " u'voll',\n",
       " u'geben',\n",
       " u'gut',\n",
       " u'gr\\xfcn',\n",
       " u'haar',\n",
       " u'hand',\n",
       " u'kopf',\n",
       " u'h\\xf6ren',\n",
       " u'herz',\n",
       " u'horn',\n",
       " u'ich',\n",
       " u'umbringen',\n",
       " u'knie',\n",
       " u'kennen',\n",
       " u'blatt',\n",
       " u'liegen',\n",
       " u'leber',\n",
       " u'lang',\n",
       " u'laus',\n",
       " u'mann',\n",
       " u'viel',\n",
       " u'fleisch',\n",
       " u'mond',\n",
       " u'berg',\n",
       " u'mund',\n",
       " u'name',\n",
       " u'nacken',\n",
       " u'neu',\n",
       " u'nacht',\n",
       " u'nase',\n",
       " u'nicht',\n",
       " u'ein',\n",
       " u'mensch',\n",
       " u'regen',\n",
       " u'rot',\n",
       " u'pfad',\n",
       " u'wurzel',\n",
       " u'rund',\n",
       " u'sand',\n",
       " u'sagen',\n",
       " u'sehen',\n",
       " u'samen',\n",
       " u'sitzen',\n",
       " u'haut',\n",
       " u'schlafen',\n",
       " u'klein',\n",
       " u'rauch',\n",
       " u'stehen',\n",
       " u'stern',\n",
       " u'stein',\n",
       " u'sonne',\n",
       " u'schwimmen',\n",
       " u'schwanz',\n",
       " u'das',\n",
       " u'dieses',\n",
       " u'du',\n",
       " u'zunge',\n",
       " u'zahn',\n",
       " u'baum',\n",
       " u'zwei',\n",
       " u'gehen',\n",
       " u'warm',\n",
       " u'wasser',\n",
       " u'wir',\n",
       " u'was',\n",
       " u'weiss',\n",
       " u'wer',\n",
       " u'frau',\n",
       " u'gelb',\n",
       " u'weit',\n",
       " u'schwer',\n",
       " u'nah',\n",
       " u'salz',\n",
       " u'kurz',\n",
       " u'schlange',\n",
       " u'd\\xfcnn',\n",
       " u'wind',\n",
       " u'wurm',\n",
       " u'jahr']"
      ]
     },
     "execution_count": 170,
     "metadata": {},
     "output_type": "execute_result"
    }
   ],
   "source": [
    "# en_swad_filename = '/home/eszti/data/panlex_swadesh/swadesh110/test/eng-000.txt'\n",
    "en_swad_filename = '/home/eszti/data/panlex_swadesh/swadesh110/test/deu.txt'\n",
    "\n",
    "\n",
    "en_swad = []\n",
    "\n",
    "with open(en_swad_filename) as f:\n",
    "    en_swad = f.read().decode('utf-8').splitlines()\n",
    "    \n",
    "en_swad = [w.lower() for w in en_swad]\n",
    "en_swad"
   ]
  },
  {
   "cell_type": "code",
   "execution_count": 179,
   "metadata": {
    "collapsed": false
   },
   "outputs": [
    {
     "name": "stdout",
     "output_type": "stream",
     "text": [
      "110\n",
      "(110, 300)\n"
     ]
    }
   ],
   "source": [
    "# en_embed_filename = '/mnt/permanent/Language/Multi/FB/wiki.en/wiki.en.vec'\n",
    "en_embed_filename = '/mnt/permanent/Language/Multi/FB/wiki.de/wiki.de.vec'\n",
    "\n",
    "\n",
    "en_words = []\n",
    "en_embedding = []\n",
    "\n",
    "with open(en_embed_filename) as f:\n",
    "    i = 0\n",
    "    for line in f:\n",
    "        if i == 0:\n",
    "            i+=1\n",
    "            continue\n",
    "        fields = line.strip().decode('utf-8').split(' ')\n",
    "        w = fields[0]\n",
    "        if w in en_swad:\n",
    "            trans = fields[1:]\n",
    "            en_words.append(w)\n",
    "            en_embedding.append(trans)\n",
    "            if i == len(en_swad):\n",
    "                break\n",
    "            i+=1\n",
    "          \n",
    "en_embedding = np.array(en_embedding)\n",
    "print(len(en_words))\n",
    "print(en_embedding.shape)"
   ]
  },
  {
   "cell_type": "code",
   "execution_count": 180,
   "metadata": {
    "collapsed": false
   },
   "outputs": [],
   "source": [
    "idx_arr = [en_words.index(w) for w in en_swad]\n",
    "# idx_arr"
   ]
  },
  {
   "cell_type": "code",
   "execution_count": 184,
   "metadata": {
    "collapsed": false
   },
   "outputs": [],
   "source": [
    "en_words_arr = np.array(en_words)\n",
    "en_words_ordered = en_words_arr[idx_arr]\n",
    "en_embedding_ordered = en_embedding[idx_arr]\n",
    "# print(en_words_ordered)\n",
    "# print(en_embedding_ordered)"
   ]
  },
  {
   "cell_type": "code",
   "execution_count": 146,
   "metadata": {
    "collapsed": false
   },
   "outputs": [
    {
     "data": {
      "text/plain": [
       "array([[ -1.62625358e-01,   3.36121395e-03,  -7.69655257e-02, ...,\n",
       "         -6.64392561e-02,   4.98530976e-02,  -1.08726015e-02],\n",
       "       [ -4.36824225e-02,  -1.49530806e-02,  -4.35268208e-02, ...,\n",
       "         -3.59577429e-03,  -2.35032567e-05,   5.55898510e-02],\n",
       "       [ -8.15486684e-02,  -2.41080951e-02,  -3.51050124e-02, ...,\n",
       "          1.92223284e-02,   4.07743342e-02,   5.57259880e-02],\n",
       "       ..., \n",
       "       [ -1.28676072e-01,  -6.23986265e-03,  -2.87111904e-02, ...,\n",
       "          3.84659730e-02,   1.30322233e-01,   2.86978595e-02],\n",
       "       [ -4.98176925e-02,  -5.56763671e-02,  -4.77295145e-02, ...,\n",
       "          9.65146795e-02,  -2.91924528e-03,  -1.14561766e-02],\n",
       "       [ -3.29067893e-02,  -5.85077107e-02,   8.12792853e-02, ...,\n",
       "         -3.09921913e-02,   3.40251587e-02,  -1.34395724e-02]], dtype=float32)"
      ]
     },
     "execution_count": 146,
     "metadata": {},
     "output_type": "execute_result"
    }
   ],
   "source": [
    "emb_en = normalize(en_embedding_ordered.astype(np.float32))\n",
    "# [np.linalg.norm(e) for e in emb_en]\n",
    "emb_en"
   ]
  },
  {
   "cell_type": "code",
   "execution_count": 181,
   "metadata": {
    "collapsed": false
   },
   "outputs": [
    {
     "data": {
      "text/plain": [
       "set()"
      ]
     },
     "execution_count": 181,
     "metadata": {},
     "output_type": "execute_result"
    }
   ],
   "source": [
    "set(en_swad) - set(en_words)"
   ]
  },
  {
   "cell_type": "code",
   "execution_count": 185,
   "metadata": {
    "collapsed": false
   },
   "outputs": [
    {
     "data": {
      "text/plain": [
       "array([u'all', u'asche', u'borke', u'bauch', u'gross', u'vogel',\n",
       "       u'beissen', u'schwarz', u'blut', u'knochen', u'brust', u'brennen',\n",
       "       u'kralle', u'wolke', u'kalt', u'kommen', u'sterben', u'hund',\n",
       "       u'trinken', u'trocken', u'ohr', u'erde', u'essen', u'ei', u'auge',\n",
       "       u'dick', u'feder', u'feuer', u'fisch', u'fliegen', u'fuss', u'voll',\n",
       "       u'geben', u'gut', u'gr\\xfcn', u'haar', u'hand', u'kopf',\n",
       "       u'h\\xf6ren', u'herz', u'horn', u'ich', u'umbringen', u'knie',\n",
       "       u'kennen', u'blatt', u'liegen', u'leber', u'lang', u'laus', u'mann',\n",
       "       u'viel', u'fleisch', u'mond', u'berg', u'mund', u'name', u'nacken',\n",
       "       u'neu', u'nacht', u'nase', u'nicht', u'ein', u'mensch', u'regen',\n",
       "       u'rot', u'pfad', u'wurzel', u'rund', u'sand', u'sagen', u'sehen',\n",
       "       u'samen', u'sitzen', u'haut', u'schlafen', u'klein', u'rauch',\n",
       "       u'stehen', u'stern', u'stein', u'sonne', u'schwimmen', u'schwanz',\n",
       "       u'das', u'dieses', u'du', u'zunge', u'zahn', u'baum', u'zwei',\n",
       "       u'gehen', u'warm', u'wasser', u'wir', u'was', u'weiss', u'wer',\n",
       "       u'frau', u'gelb', u'weit', u'schwer', u'nah', u'salz', u'kurz',\n",
       "       u'schlange', u'd\\xfcnn', u'wind', u'wurm', u'jahr'], \n",
       "      dtype='<U9')"
      ]
     },
     "execution_count": 185,
     "metadata": {},
     "output_type": "execute_result"
    }
   ],
   "source": [
    "en_words_ordered"
   ]
  },
  {
   "cell_type": "code",
   "execution_count": 176,
   "metadata": {
    "collapsed": false
   },
   "outputs": [
    {
     "data": {
      "text/plain": [
       "110"
      ]
     },
     "execution_count": 176,
     "metadata": {},
     "output_type": "execute_result"
    }
   ],
   "source": [
    "len(en_swad)"
   ]
  },
  {
   "cell_type": "code",
   "execution_count": null,
   "metadata": {
    "collapsed": false
   },
   "outputs": [],
   "source": []
  }
 ],
 "metadata": {
  "kernelspec": {
   "display_name": "Python 2",
   "language": "python",
   "name": "python2"
  },
  "language_info": {
   "codemirror_mode": {
    "name": "ipython",
    "version": 2
   },
   "file_extension": ".py",
   "mimetype": "text/x-python",
   "name": "python",
   "nbconvert_exporter": "python",
   "pygments_lexer": "ipython2",
   "version": "2.7.12"
  }
 },
 "nbformat": 4,
 "nbformat_minor": 2
}
