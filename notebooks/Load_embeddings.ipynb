{
 "cells": [
  {
   "cell_type": "markdown",
   "metadata": {
    "deletable": true,
    "editable": true
   },
   "source": [
    "# Load embeddings"
   ]
  },
  {
   "cell_type": "markdown",
   "metadata": {
    "deletable": true,
    "editable": true
   },
   "source": [
    "Load embeddings from https://github.com/facebookresearch/fastText/blob/master/pretrained-vectors.md"
   ]
  },
  {
   "cell_type": "code",
   "execution_count": 2,
   "metadata": {
    "collapsed": true,
    "deletable": true,
    "editable": true
   },
   "outputs": [],
   "source": [
    "from __future__ import print_function\n",
    "import numpy as np"
   ]
  },
  {
   "cell_type": "code",
   "execution_count": 4,
   "metadata": {
    "collapsed": false,
    "deletable": true,
    "editable": true
   },
   "outputs": [
    {
     "name": "stdout",
     "output_type": "stream",
     "text": [
      "(3,)\n",
      "(3, 300)\n"
     ]
    }
   ],
   "source": [
    "testfile_path = '/mnt/permanent/Language/Multi/FB/wiki.hu/wiki.hu.vec'\n",
    "\n",
    "words = []\n",
    "embedding = []\n",
    "\n",
    "with open(testfile_path) as f:\n",
    "    i = 0\n",
    "    for line in f:\n",
    "        if i == 0:\n",
    "            i+=1\n",
    "            continue\n",
    "        fields = line.strip().decode('utf-8').split(' ')\n",
    "        w = fields[0]\n",
    "        trans = fields[1:]\n",
    "        words.append(w)\n",
    "        embedding.append(trans)\n",
    "        i+=1\n",
    "        if i == 4:\n",
    "            break\n",
    "            \n",
    "words = np.array(words)\n",
    "embedding = np.array(embedding)\n",
    "print(words.shape)\n",
    "print(embedding.shape)"
   ]
  }
 ],
 "metadata": {
  "kernelspec": {
   "display_name": "Python 2",
   "language": "python",
   "name": "python2"
  },
  "language_info": {
   "codemirror_mode": {
    "name": "ipython",
    "version": 2
   },
   "file_extension": ".py",
   "mimetype": "text/x-python",
   "name": "python",
   "nbconvert_exporter": "python",
   "pygments_lexer": "ipython2",
   "version": "2.7.12"
  }
 },
 "nbformat": 4,
 "nbformat_minor": 2
}
