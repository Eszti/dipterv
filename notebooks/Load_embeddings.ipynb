{
 "cells": [
  {
   "cell_type": "markdown",
   "metadata": {
    "deletable": true,
    "editable": true
   },
   "source": [
    "# Load embeddings"
   ]
  },
  {
   "cell_type": "markdown",
   "metadata": {
    "deletable": true,
    "editable": true
   },
   "source": [
    "Load embeddings from https://github.com/facebookresearch/fastText/blob/master/pretrained-vectors.md"
   ]
  },
  {
   "cell_type": "code",
   "execution_count": 25,
   "metadata": {
    "collapsed": true,
    "deletable": true,
    "editable": true
   },
   "outputs": [],
   "source": [
    "from __future__ import print_function\n",
    "import numpy as np\n",
    "from sklearn.metrics.pairwise import cosine_similarity\n",
    "from sklearn.preprocessing import normalize"
   ]
  },
  {
   "cell_type": "code",
   "execution_count": null,
   "metadata": {
    "collapsed": true
   },
   "outputs": [],
   "source": [
    "swadesh_codes = ['eng', 'deu', 'spa']\n",
    "embedding_codes = ['en', 'de', 'es']"
   ]
  },
  {
   "cell_type": "code",
   "execution_count": 13,
   "metadata": {
    "collapsed": false,
    "deletable": true,
    "editable": true
   },
   "outputs": [
    {
     "name": "stdout",
     "output_type": "stream",
     "text": [
      "(793866,)\n",
      "(793866, 300)\n"
     ]
    }
   ],
   "source": [
    "testfile_path = '/mnt/permanent/Language/Multi/FB/wiki.hu/wiki.hu.vec'\n",
    "\n",
    "words = []\n",
    "embedding = []\n",
    "\n",
    "with open(testfile_path) as f:\n",
    "    i = 0\n",
    "    for line in f:\n",
    "        if i == 0:\n",
    "            i+=1\n",
    "            continue\n",
    "        fields = line.strip().decode('utf-8').split(' ')\n",
    "        w = fields[0]\n",
    "        trans = fields[1:]\n",
    "        words.append(w)\n",
    "        embedding.append(trans)\n",
    "        i+=1\n",
    "            \n",
    "words = np.array(words)\n",
    "embedding = np.array(embedding)\n",
    "print(words.shape)\n",
    "print(embedding.shape)"
   ]
  },
  {
   "cell_type": "code",
   "execution_count": 14,
   "metadata": {
    "collapsed": false
   },
   "outputs": [
    {
     "data": {
      "text/plain": [
       "2.4280312495363319"
      ]
     },
     "execution_count": 14,
     "metadata": {},
     "output_type": "execute_result"
    }
   ],
   "source": [
    "np.linalg.norm(embedding[0])"
   ]
  },
  {
   "cell_type": "code",
   "execution_count": 24,
   "metadata": {
    "collapsed": false
   },
   "outputs": [
    {
     "data": {
      "text/plain": [
       "7.3484693"
      ]
     },
     "execution_count": 24,
     "metadata": {},
     "output_type": "execute_result"
    }
   ],
   "source": [
    "A = np.array([[2,2,2], [3,6,3]]).astype(np.float32)\n",
    "B = normalize(A)\n",
    "np.linalg.norm(A[1])"
   ]
  },
  {
   "cell_type": "markdown",
   "metadata": {},
   "source": [
    "Read English swadesh list"
   ]
  },
  {
   "cell_type": "code",
   "execution_count": 75,
   "metadata": {
    "collapsed": false
   },
   "outputs": [],
   "source": [
    "en_swad_filename = '/home/eszti/data/panlex_swadesh/swadesh110/test/eng-000.txt'\n",
    "\n",
    "en_swad = []\n",
    "\n",
    "with open(en_swad_filename) as f:\n",
    "    en_swad = f.read().splitlines()\n",
    "    \n",
    "# en_swad"
   ]
  },
  {
   "cell_type": "code",
   "execution_count": 121,
   "metadata": {
    "collapsed": false
   },
   "outputs": [
    {
     "name": "stdout",
     "output_type": "stream",
     "text": [
      "110\n",
      "(110, 300)\n"
     ]
    }
   ],
   "source": [
    "en_embed_filename = '/mnt/permanent/Language/Multi/FB/wiki.en/wiki.en.vec'\n",
    "\n",
    "en_words = []\n",
    "en_embedding = []\n",
    "\n",
    "with open(en_embed_filename) as f:\n",
    "    i = 0\n",
    "    for line in f:\n",
    "        if i == 0:\n",
    "            i+=1\n",
    "            continue\n",
    "        fields = line.strip().decode('utf-8').split(' ')\n",
    "        w = fields[0]\n",
    "        if w.lower() in en_swad:\n",
    "            trans = fields[1:]\n",
    "            en_words.append(w)\n",
    "            en_embedding.append(trans)\n",
    "            if i == len(en_swad):\n",
    "                break\n",
    "            i+=1\n",
    "          \n",
    "en_embedding = np.array(en_embedding)\n",
    "print(len(en_words))\n",
    "print(en_embedding.shape)"
   ]
  },
  {
   "cell_type": "code",
   "execution_count": 122,
   "metadata": {
    "collapsed": false
   },
   "outputs": [],
   "source": [
    "idx_arr = [en_words.index(w) for w in en_swad]\n",
    "# idx_arr"
   ]
  },
  {
   "cell_type": "code",
   "execution_count": 134,
   "metadata": {
    "collapsed": false
   },
   "outputs": [],
   "source": [
    "en_words_arr = np.array(en_words)\n",
    "en_words_ordered = en_words_arr[idx_arr]\n",
    "# en_words_ordered"
   ]
  },
  {
   "cell_type": "code",
   "execution_count": null,
   "metadata": {
    "collapsed": false
   },
   "outputs": [],
   "source": []
  },
  {
   "cell_type": "code",
   "execution_count": null,
   "metadata": {
    "collapsed": false
   },
   "outputs": [],
   "source": []
  },
  {
   "cell_type": "code",
   "execution_count": null,
   "metadata": {
    "collapsed": false
   },
   "outputs": [],
   "source": []
  },
  {
   "cell_type": "code",
   "execution_count": null,
   "metadata": {
    "collapsed": false
   },
   "outputs": [],
   "source": []
  },
  {
   "cell_type": "code",
   "execution_count": null,
   "metadata": {
    "collapsed": false
   },
   "outputs": [],
   "source": []
  }
 ],
 "metadata": {
  "kernelspec": {
   "display_name": "Python 2",
   "language": "python",
   "name": "python2"
  },
  "language_info": {
   "codemirror_mode": {
    "name": "ipython",
    "version": 2
   },
   "file_extension": ".py",
   "mimetype": "text/x-python",
   "name": "python",
   "nbconvert_exporter": "python",
   "pygments_lexer": "ipython2",
   "version": "2.7.12"
  }
 },
 "nbformat": 4,
 "nbformat_minor": 2
}
