{
 "cells": [
  {
   "cell_type": "markdown",
   "metadata": {
    "deletable": true,
    "editable": true
   },
   "source": [
    "# Check Swadesh quality"
   ]
  },
  {
   "cell_type": "code",
   "execution_count": 1,
   "metadata": {
    "collapsed": false,
    "deletable": true,
    "editable": true
   },
   "outputs": [],
   "source": [
    "import numpy as np\n",
    "import os\n",
    "import json\n",
    "from matplotlib import pyplot as plt\n",
    "from matplotlib_venn import venn3, venn3_circles"
   ]
  },
  {
   "cell_type": "code",
   "execution_count": 8,
   "metadata": {
    "collapsed": false,
    "deletable": true,
    "editable": true
   },
   "outputs": [],
   "source": [
    "num = 110\n",
    "# num = 207\n",
    "swad_ex_idx = []\n",
    "dirname = '/home/eszti/data/panlex_swadesh/swadesh' + str(num)\n",
    "not_found_list = np.zeros(num)\n",
    "no_one_word_list = np.zeros(num)\n",
    "\n",
    "# fbcodes_fn = '/home/eszti/projects/dipterv/univ_embedding/res/fb2silcodes.json'\n",
    "fbcodes_fn = '/home/eszti/projects/dipterv/univ_embedding/res/fb2silcodes_new.json'\n",
    "with open(fbcodes_fn) as f:\n",
    "    fb2sil = json.load(f)\n",
    "    \n",
    "wikicodes_fn = '/home/eszti/projects/dipterv/univ_embedding/res/wikicodes.json'\n",
    "with open(wikicodes_fn) as f:\n",
    "    wikicodes = json.load(f)\n",
    "\n",
    "lang_codes = set()\n",
    "\n",
    "for fn in os.listdir(dirname):\n",
    "    if fn.endswith(\".txt\"):\n",
    "        code = fn.split('-')[0]\n",
    "#         if code not in fb2sil.values():\n",
    "#             continue\n",
    "#         print(code)\n",
    "        if code in lang_codes:\n",
    "#             print('{0} is already in the set'.format(code))\n",
    "            continue\n",
    "        lang_codes.add(code)       \n",
    "        with open(os.path.join(dirname, fn)) as f:\n",
    "            i = 0\n",
    "            for line in f:\n",
    "                if i in swad_ex_idx:\n",
    "                    not_found_list[i] = -1\n",
    "                    no_one_word_list[i] = -1\n",
    "                    i += 1\n",
    "                    continue\n",
    "                fields = line.strip().decode('utf-8').split('\\t')\n",
    "                if len(fields) == 1 and fields[0] == '':\n",
    "                    if code in fb2sil.values():\n",
    "                        not_found_list[i] += 1\n",
    "                else:\n",
    "                    found = False\n",
    "                    for w in fields:\n",
    "                        if ' ' not in w:\n",
    "                            found = True\n",
    "                            break\n",
    "                    if not found:\n",
    "                        if code in fb2sil.values():\n",
    "#                         print(fields)\n",
    "                            no_one_word_list[i] += 1\n",
    "                i += 1"
   ]
  },
  {
   "cell_type": "markdown",
   "metadata": {
    "deletable": true,
    "editable": true
   },
   "source": [
    "Statistics:   \n",
    "note: 6 wikitionary codes are discarded as there's no sil translation for them (wikicode to sil translation are only accessible, for the time being at least, if there's a corresponding fb embedding to them)"
   ]
  },
  {
   "cell_type": "code",
   "execution_count": 9,
   "metadata": {
    "collapsed": false,
    "deletable": true,
    "editable": true
   },
   "outputs": [
    {
     "name": "stdout",
     "output_type": "stream",
     "text": [
      "#fb sil codes: 88\n",
      "#swadesh sil codes: 1772\n",
      "#wiki sil codes: 48\n",
      "\n",
      "6 wikicodes are not found among facebook codes:\n",
      "set([u'cmn', u'io', u'oc', u'sw', u'li', u'ku'])\n",
      "\n",
      "7 facebook codes are not found among swadesh lists:\n",
      "set([u'mar', u'vol', u'guj', u'pan', u'new', u'sin', u'nep'])\n",
      "\n",
      "common languages number: 48\n",
      "set([u'ron', u'jpn', u'por', u'ita', u'arb', u'nld', u'rus', u'ind', u'spa', u'glg', u'fra', u'mkd', u'ell', u'eng', u'tur', u'hrv', u'swe', u'ukr', u'deu', u'pes', u'lit', u'heb', u'kor', u'fin', u'hun', u'eus', u'plt', u'dan', u'slk', u'nob', u'ces', u'bul', u'kat', u'lat', u'kaz', u'hin', u'vie', u'cmn', u'azj', u'ekk', u'zlm', u'slv', u'pol', u'cat', u'epo', u'srp', u'isl', u'tha'])\n"
     ]
    },
    {
     "data": {
      "image/png": "[encoded data removed]",
      "text/plain": [
       "<matplotlib.figure.Figure at 0x7f4bd34f5490>"
      ]
     },
     "metadata": {},
     "output_type": "display_data"
    }
   ],
   "source": [
    "swad_sil_set = set(lang_codes)\n",
    "wiki_sil_set = set([fb2sil[x] for x in wikicodes if x in fb2sil.keys()])\n",
    "fb_sil_set = set(fb2sil.values())\n",
    "\n",
    "print '#fb sil codes: {}'.format(len(fb_sil_set))\n",
    "print '#swadesh sil codes: {}'.format(len(swad_sil_set))\n",
    "print '#wiki sil codes: {}'.format(len(wiki_sil_set))\n",
    "\n",
    "diff1 = set([x for x in wikicodes if x not in fb2sil.keys()])\n",
    "print '\\n{} wikicodes are not found among facebook codes:'.format(len(diff1))\n",
    "print diff1\n",
    "diff2 = fb_sil_set - swad_sil_set\n",
    "print '\\n{} facebook codes are not found among swadesh lists:'.format(len(diff2))\n",
    "print diff2\n",
    "\n",
    "inters = swad_sil_set & wiki_sil_set & fb_sil_set\n",
    "print '\\ncommon languages number: ' + str(len(inters))\n",
    "print inters\n",
    "\n",
    "s_7 = len(inters)\n",
    "s_1 = len(fb_sil_set - swad_sil_set - wiki_sil_set)\n",
    "s_2 = len(swad_sil_set - fb_sil_set - wiki_sil_set)\n",
    "s_3 = len(fb_sil_set & swad_sil_set) - s_7\n",
    "s_4 = len(wiki_sil_set - fb_sil_set - swad_sil_set)\n",
    "s_5 = len(fb_sil_set & wiki_sil_set) - s_7\n",
    "s_6 = len(swad_sil_set & wiki_sil_set) - s_7\n",
    "\n",
    "plt.figure(figsize=(4,4))\n",
    "v = venn3(subsets=(1, 1, 1, 1, 1, 1, 1), set_labels = ('Facebook', 'Swadesh', 'Wikitionary'))\n",
    "v.get_label_by_id('100').set_text(str(s_1))\n",
    "v.get_label_by_id('010').set_text(str(s_2))\n",
    "v.get_label_by_id('110').set_text(str(s_3))\n",
    "v.get_label_by_id('001').set_text(str(s_4))\n",
    "v.get_label_by_id('101').set_text(s_5)\n",
    "v.get_label_by_id('011').set_text(s_6)\n",
    "v.get_label_by_id('111').set_text(str(s_7))\n",
    "plt.title(\"Languages\")\n",
    "plt.show()"
   ]
  },
  {
   "cell_type": "code",
   "execution_count": 6,
   "metadata": {
    "collapsed": false,
    "deletable": true,
    "editable": true
   },
   "outputs": [],
   "source": [
    "fn = '/home/eszti/data/misc/fb_swad_diff.txt'\n",
    "with open(fn, 'w') as f:\n",
    "    json.dump(list(diff2), f)"
   ]
  },
  {
   "cell_type": "markdown",
   "metadata": {
    "collapsed": true,
    "deletable": true,
    "editable": true
   },
   "source": [
    "This list shows in case of how many languages there was found no entry at each position"
   ]
  },
  {
   "cell_type": "code",
   "execution_count": 5,
   "metadata": {
    "collapsed": false,
    "deletable": true,
    "editable": true
   },
   "outputs": [
    {
     "data": {
      "text/plain": [
       "array([  0.,   0.,   2.,   2.,   0.,   0.,   0.,   0.,   0.,   0.,   0.,\n",
       "        52.,  31.,   0.,   0.,   0.,   0.,   0.,   0.,   0.,   0.,   1.,\n",
       "         0.,   0.,   0.,  49.,   0.,   0.,   0.,   0.,   1.,   1.,   1.,\n",
       "         0.,   0.,   0.,  17.,   0.,   0.,   1.,   2.,   1.,   0.,   2.,\n",
       "         0.,   0.,  28.,   1.,   1.,   0.,   0.,   1.,  30.,   0.,   1.,\n",
       "         0.,   0.,   0.,   0.,   0.,   2.,   4.,   0.,   0.,   0.,   0.,\n",
       "         1.,   0.,   2.,   1.,   0.,   0.,   1.,   0.,   0.,   0.,   0.,\n",
       "         0.,  49.,   0.,   0.,   1.,   0.,   0.,   3.,   3.,   0.,   0.,\n",
       "         0.,   2.,   0.,   0.,   1.,   0.,   0.,   2.,   0.,   2.,   0.,\n",
       "         0.,   1.,   1.,   1.,   1.,   2.,   2.,   1.,   1.,   1.,   1.])"
      ]
     },
     "execution_count": 5,
     "metadata": {},
     "output_type": "execute_result"
    }
   ],
   "source": [
    "not_found_list"
   ]
  },
  {
   "cell_type": "markdown",
   "metadata": {
    "deletable": true,
    "editable": true
   },
   "source": [
    "This list shows in case of how many languages there was no entry without a space in it"
   ]
  },
  {
   "cell_type": "code",
   "execution_count": 6,
   "metadata": {
    "collapsed": false,
    "deletable": true,
    "editable": true
   },
   "outputs": [
    {
     "data": {
      "text/plain": [
       "array([ 1.,  0.,  3.,  0.,  0.,  0.,  1.,  0.,  0.,  0.,  0.,  1.,  0.,\n",
       "        0.,  0.,  0.,  0.,  0.,  0.,  0.,  0.,  0.,  0.,  0.,  0.,  0.,\n",
       "        0.,  0.,  0.,  0.,  1.,  0.,  0.,  0.,  0.,  0.,  0.,  0.,  0.,\n",
       "        0.,  0.,  0.,  1.,  1.,  0.,  0.,  2.,  1.,  0.,  0.,  1.,  0.,\n",
       "        0.,  0.,  0.,  0.,  0.,  0.,  0.,  0.,  0.,  0.,  0.,  0.,  0.,\n",
       "        0.,  0.,  0.,  0.,  0.,  0.,  0.,  0.,  0.,  0.,  1.,  0.,  0.,\n",
       "        3.,  0.,  0.,  1.,  2.,  0.,  3.,  3.,  0.,  0.,  0.,  0.,  0.,\n",
       "        1.,  0.,  0.,  0.,  0.,  0.,  0.,  2.,  0.,  0.,  0.,  0.,  0.,\n",
       "        0.,  0.,  0.,  0.,  0.,  0.])"
      ]
     },
     "execution_count": 6,
     "metadata": {},
     "output_type": "execute_result"
    }
   ],
   "source": [
    "no_one_word_list"
   ]
  },
  {
   "cell_type": "code",
   "execution_count": 10,
   "metadata": {
    "collapsed": false,
    "deletable": true,
    "editable": true
   },
   "outputs": [
    {
     "name": "stdout",
     "output_type": "stream",
     "text": [
      "81\n",
      "48\n",
      "set([u'tat', u'sco', u'tel', u'san', u'ron', u'vie', u'kat', u'por', u'uzn', u'ita', u'ind', u'arb', u'khk', u'nld', u'spa', u'mya', u'tgk', u'bre', u'cat', u'als', u'tgl', u'wrz', u'fra', u'mkd', u'che', u'ell', u'min', u'hrv', u'swe', u'ukr', u'pes', u'lit', u'cym', u'chv', u'fry', u'kor', u'fin', u'tur', u'eus', u'tam', u'jpn', u'plt', u'ceb', u'ast', u'kir', u'dan', u'slk', u'eng', u'ben', u'nob', u'kan', u'heb', u'ces', u'bul', u'deu', u'lat', u'rus', u'rup', u'mal', u'hin', u'cmn', u'azj', u'hun', u'ekk', u'bel', u'lvs', u'zlm', u'ltz', u'slv', u'bos', u'pol', u'glg', u'epo', u'srp', u'afr', u'isl', u'tha', u'kaz', u'bak', u'hbs', u'khm'])\n",
      "set([u'dan', u'ron', u'jpn', u'por', u'ita', u'arb', u'nld', u'kaz', u'ind', u'spa', u'cat', u'fra', u'mkd', u'ell', u'eng', u'hrv', u'swe', u'ukr', u'pes', u'lit', u'heb', u'kor', u'fin', u'hun', u'eus', u'plt', u'tur', u'isl', u'nob', u'ces', u'bul', u'kat', u'lat', u'rus', u'hin', u'vie', u'cmn', u'azj', u'ekk', u'zlm', u'slv', u'pol', u'glg', u'epo', u'srp', u'tha', u'slk', u'deu'])\n"
     ]
    }
   ],
   "source": [
    "swad_fb_fn = '/home/eszti/projects/dipterv/univ_embedding/res/swad_fb{}.json'.format(num)\n",
    "swad_fb_wiki_fn = '/home/eszti/projects/dipterv/univ_embedding/res/swad_fb_wiki{}.json'.format(num)\n",
    "\n",
    "swad_fb_set = swad_sil_set & fb_sil_set\n",
    "swad_fb_wiki_set = swad_fb_set & wiki_sil_set\n",
    "\n",
    "print(len(swad_fb_set))\n",
    "print(len(swad_fb_wiki_set))\n",
    "print(swad_fb_set)\n",
    "print(swad_fb_wiki_set)\n",
    "\n",
    "with open(swad_fb_fn, 'w') as f:\n",
    "    json.dump(list(swad_fb_set), f)\n",
    "    \n",
    "with open(swad_fb_wiki_fn, 'w') as f:\n",
    "    json.dump(list(swad_fb_wiki_set), f)"
   ]
  },
  {
   "cell_type": "code",
   "execution_count": 35,
   "metadata": {
    "collapsed": false,
    "deletable": true,
    "editable": true
   },
   "outputs": [
    {
     "data": {
      "text/plain": [
       "u'/home/eszti/projects/dipterv/notebooks'"
      ]
     },
     "execution_count": 35,
     "metadata": {},
     "output_type": "execute_result"
    }
   ],
   "source": [
    "pwd"
   ]
  },
  {
   "cell_type": "code",
   "execution_count": 39,
   "metadata": {
    "collapsed": false,
    "deletable": true,
    "editable": true
   },
   "outputs": [
    {
     "name": "stdout",
     "output_type": "stream",
     "text": [
      "vol\n",
      "None\n",
      "scc\n",
      "None\n",
      "ara\n",
      "None\n",
      "msa\n",
      "None\n",
      "lav\n",
      "None\n",
      "scr\n",
      "None\n",
      "est\n",
      "None\n",
      "new\n",
      "None\n",
      "sin\n",
      "None\n",
      "pan\n",
      "None\n",
      "mar\n",
      "None\n",
      "fas\n",
      "None\n",
      "sqi\n",
      "None\n",
      "uzb\n",
      "None\n",
      "vls\n",
      "None\n",
      "nor\n",
      "None\n",
      "urd\n",
      "None\n",
      "mlg\n",
      "None\n",
      "guj\n",
      "None\n",
      "aze\n",
      "None\n",
      "war\n",
      "None\n",
      "nep\n",
      "None\n",
      "zho\n",
      "None\n",
      "mon\n",
      "None\n"
     ]
    }
   ],
   "source": [
    "import os, sys\n",
    "import subprocess\n",
    "\n",
    "for lang in diff2:\n",
    "    print lang\n",
    "    proc = subprocess.Popen(['grep', lang, '/mnt/permanent/Language/*/sil'], stdout=subprocess.PIPE, shell=True)\n",
    "    (out, err) = proc.communicate()\n",
    "    print err\n"
   ]
  }
 ],
 "metadata": {
  "kernelspec": {
   "display_name": "Python 2",
   "language": "python",
   "name": "python2"
  },
  "language_info": {
   "codemirror_mode": {
    "name": "ipython",
    "version": 2
   },
   "file_extension": ".py",
   "mimetype": "text/x-python",
   "name": "python",
   "nbconvert_exporter": "python",
   "pygments_lexer": "ipython2",
   "version": "2.7.12"
  }
 },
 "nbformat": 4,
 "nbformat_minor": 2
}
