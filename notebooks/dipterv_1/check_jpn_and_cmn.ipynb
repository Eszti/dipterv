{
 "cells": [
  {
   "cell_type": "markdown",
   "metadata": {},
   "source": [
    "# Checking jpn and cmn languages"
   ]
  },
  {
   "cell_type": "code",
   "execution_count": 58,
   "metadata": {
    "collapsed": true
   },
   "outputs": [],
   "source": [
    "import pickle\n",
    "import numpy as np\n",
    "from sklearn.preprocessing import normalize\n",
    "from scipy import spatial\n",
    "import json"
   ]
  },
  {
   "cell_type": "markdown",
   "metadata": {},
   "source": [
    "Data format:  \n",
    "{lang : swad_list, raw_emb_list, emb_fn, not_found_list}"
   ]
  },
  {
   "cell_type": "code",
   "execution_count": 2,
   "metadata": {
    "collapsed": true
   },
   "outputs": [],
   "source": [
    "load_fn = '/mnt/store/eszti/projects/dipterv/univ_embedding/output_permanent/20170422_2020_27/get_embed_proc/get_embed_proc.pickle'\n",
    "with open(load_fn) as f:\n",
    "    data = pickle.load(f)\n",
    "\n",
    "eng = data['eng']\n",
    "jpn = data['jpn']\n",
    "cmn = data['cmn']"
   ]
  },
  {
   "cell_type": "markdown",
   "metadata": {},
   "source": [
    "Checking missing swadesh entries:"
   ]
  },
  {
   "cell_type": "code",
   "execution_count": 18,
   "metadata": {
    "collapsed": false
   },
   "outputs": [
    {
     "name": "stdout",
     "output_type": "stream",
     "text": [
      "Eng: []\n",
      "Jpn: [11, 25, 62, 78, 94]\n",
      "Cmn: [7, 12, 31, 82]\n"
     ]
    }
   ],
   "source": [
    "print('Eng: {}'.format(eng[3]))\n",
    "print('Jpn: {}'.format(jpn[3]))\n",
    "print('Cmn: {}'.format(cmn[3]))"
   ]
  },
  {
   "cell_type": "code",
   "execution_count": 28,
   "metadata": {
    "collapsed": false
   },
   "outputs": [],
   "source": [
    "def filter(emb, idxs):\n",
    "    fil, idx_map = [], []\n",
    "    for i, e in enumerate(emb):\n",
    "        if i in idxs:\n",
    "            continue\n",
    "        else:\n",
    "            fil.append(e)\n",
    "            idx_map.append(i)\n",
    "    return fil, idx_map\n",
    "        \n",
    "\n",
    "eng_emb_fil, eng_map = filter(eng[1], eng[3])\n",
    "jpn_emb_fil, jpn_map = filter(jpn[1], jpn[3])\n",
    "cmn_emb_fil, cmn_map = filter(cmn[1], cmn[3])\n",
    "\n",
    "eng_emb = normalize(np.array(eng_emb_fil).astype(np.float32))\n",
    "jpn_emb = normalize(np.array(jpn_emb_fil).astype(np.float32))\n",
    "cmn_emb = normalize(np.array(cmn_emb_fil).astype(np.float32))"
   ]
  },
  {
   "cell_type": "code",
   "execution_count": 50,
   "metadata": {
    "collapsed": true
   },
   "outputs": [],
   "source": [
    "def get_cos_sim_mx(emb):\n",
    "    mx = 1 - spatial.distance.cdist(emb, emb, 'cosine')\n",
    "    return mx\n",
    "\n",
    "eng_cos_mx = get_cos_sim_mx(eng_emb)\n",
    "jpn_cos_mx = get_cos_sim_mx(jpn_emb)\n",
    "cmn_cos_mx = get_cos_sim_mx(cmn_emb)"
   ]
  },
  {
   "cell_type": "code",
   "execution_count": 51,
   "metadata": {
    "collapsed": false
   },
   "outputs": [],
   "source": [
    "def argsort_mx(emb):\n",
    "    return [row.argsort()[::-1] for row in emb]\n",
    "\n",
    "eng_swad = eng[0]\n",
    "\n",
    "def get_similars_dict(argsort_mx, idx_map):\n",
    "    ret = dict()\n",
    "    i = 0\n",
    "    for row in argsort_mx:\n",
    "        ret[eng_swad[idx_map[i]]] = [eng_swad[idx_map[idx]] for idx in row]\n",
    "        i += 1\n",
    "    return ret    "
   ]
  },
  {
   "cell_type": "code",
   "execution_count": 54,
   "metadata": {
    "collapsed": false
   },
   "outputs": [],
   "source": [
    "eng_sort = argsort_mx(eng_cos_mx)\n",
    "jpn_sort = argsort_mx(jpn_cos_mx)\n",
    "cmn_sort = argsort_mx(cmn_cos_mx)"
   ]
  },
  {
   "cell_type": "code",
   "execution_count": 55,
   "metadata": {
    "collapsed": false
   },
   "outputs": [],
   "source": [
    "eng_sim_dict = get_similars_dict(eng_sort, eng_map)\n",
    "jpn_sim_dict = get_similars_dict(jpn_sort, eng_map)\n",
    "cmn_sim_dict = get_similars_dict(cmn_sort, eng_map)"
   ]
  },
  {
   "cell_type": "code",
   "execution_count": 60,
   "metadata": {
    "collapsed": false
   },
   "outputs": [],
   "source": [
    "eng_fn = '/home/eszti/data/misc/check_jpn_cmn/eng.json'\n",
    "jpn_fn = '/home/eszti/data/misc/check_jpn_cmn/jpn.json'\n",
    "cmn_fn = '/home/eszti/data/misc/check_jpn_cmn/cmn.json'\n",
    "\n",
    "def save_as_json(d, fn):\n",
    "    with open(fn, 'w') as f:\n",
    "        json.dump(d, f)\n",
    "        \n",
    "save_as_json(eng_sim_dict, eng_fn)\n",
    "save_as_json(jpn_sim_dict, jpn_fn)\n",
    "save_as_json(cmn_sim_dict, cmn_fn)"
   ]
  },
  {
   "cell_type": "markdown",
   "metadata": {},
   "source": [
    "Manual testing:"
   ]
  },
  {
   "cell_type": "code",
   "execution_count": 63,
   "metadata": {
    "collapsed": false
   },
   "outputs": [
    {
     "name": "stdout",
     "output_type": "stream",
     "text": [
      "Eng: [u'dog', u'bite', u'louse', u'claw', u'bird', u'snake', u'eat', u'nose', u'hair', u'ear', u'fat', u'tooth', u'bone', u'fish', u'foot', u'tail', u'egg', u'cold', u'earthworm', u'hot', u'eye', u'feather', u'tongue', u'bark', u'hide', u'mouth', u'flesh', u'little', u'drink', u'kill', u'stand', u'sleep', u'go', u'night', u'head', u'neck', u'big', u'hand', u'good', u'dead', u'blood', u'heart', u'horn', u'swim', u'liver', u'human', u'hear', u'moon', u'say', u'grind', u'sit', u'that', u'fire', u'rock', u'black', u'know', u'tree', u'white', u'what', u'fly', u'come', u'red', u'breast', u'sand', u'we', u'thou', u'yellow', u'short', u'adulterous', u'smoke', u'dry', u'name', u'male', u'long', u'not', u'hill', u'knee', u'rain', u'root', u'close', u'star', u'thin', u'path', u'who', u'female', u'abdomen', u'wind', u'leaf', u'many', u'water', u'salt', u'this', u'dull', u'year', u'all', u'lie', u'cloud', u'sun', u'earth', u'see', u'i', u'burn', u'give', u'round', u'distant', u'ash', u'seed', u'green', u'new', u'full']\n",
      "\n",
      "Jpn: [u'dog', u'male', u'blood', u'fly', u'root', u'grind', u'hide', u'know', u'seed', u'female', u'hot', u'see', u'eat', u'cold', u'abdomen', u'leaf', u'heart', u'new', u'hair', u'hand', u'long', u'feather', u'green', u'head', u'tail', u'drink', u'come', u'tree', u'nose', u'bone', u'ash', u'dry', u'horn', u'moon', u'dead', u'path', u'louse', u'neck', u'water', u'not', u'mouth', u'distant', u'good', u'burn', u'close', u'night', u'bite', u'little', u'i', u'knee', u'rain', u'salt', u'give', u'sun', u'that', u'fish', u'tongue', u'hear', u'eye', u'liver', u'flesh', u'who', u'earth', u'kill', u'say', u'bird', u'fat', u'sand', u'claw', u'red', u'egg', u'go', u'full', u'sleep', u'ear', u'short', u'white', u'stand', u'this', u'lie', u'many', u'rock', u'human', u'star', u'black', u'we', u'fire', u'adulterous', u'dull', u'yellow', u'what', u'smoke', u'bark', u'cloud', u'all', u'sit', u'foot', u'tooth', u'name', u'big', u'swim', u'thou', u'round', u'hill', u'breast']\n",
      "\n",
      "Cmn: [u'dog', u'burn', u'tree', u'tongue', u'foot', u'claw', u'louse', u'new', u'cold', u'say', u'breast', u'hot', u'ear', u'hand', u'that', u'round', u'root', u'who', u'sit', u'long', u'what', u'big', u'earth', u'hide', u'cloud', u'mouth', u'white', u'flesh', u'see', u'fly', u'close', u'salt', u'dead', u'dry', u'name', u'night', u'fire', u'fat', u'path', u'seed', u'many', u'thou', u'leaf', u'black', u'star', u'hear', u'swim', u'come', u'adulterous', u'not', u'bite', u'rain', u'heart', u'yellow', u'nose', u'rock', u'full', u'snake', u'human', u'sun', u'good', u'this', u'distant', u'green', u'fish', u'water', u'head', u'know', u'horn', u'kill', u'red', u'little', u'knee', u'dull', u'bird', u'ash', u'lie', u'sleep', u'i', u'female', u'all', u'feather', u'moon', u'neck', u'male', u'short', u'abdomen', u'drink', u'eat', u'liver', u'hill', u'we', u'go', u'blood', u'sand', u'grind', u'give', u'tooth', u'tail', u'bone', u'hair', u'egg', u'smoke', u'bark', u'eye', u'stand']\n",
      "\n"
     ]
    }
   ],
   "source": [
    "print('Eng: {}\\n'.format(eng_sim_dict['dog']))\n",
    "print('Jpn: {}\\n'.format(jpn_sim_dict['dog']))\n",
    "print('Cmn: {}\\n'.format(cmn_sim_dict['dog']))"
   ]
  }
 ],
 "metadata": {
  "kernelspec": {
   "display_name": "Python 2",
   "language": "python",
   "name": "python2"
  },
  "language_info": {
   "codemirror_mode": {
    "name": "ipython",
    "version": 2
   },
   "file_extension": ".py",
   "mimetype": "text/x-python",
   "name": "python",
   "nbconvert_exporter": "python",
   "pygments_lexer": "ipython2",
   "version": "2.7.12"
  }
 },
 "nbformat": 4,
 "nbformat_minor": 2
}
