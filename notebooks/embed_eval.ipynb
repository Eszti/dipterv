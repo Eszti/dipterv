{
 "cells": [
  {
   "cell_type": "markdown",
   "metadata": {
    "deletable": true,
    "editable": true
   },
   "source": [
    "# Evaluating embeddings"
   ]
  },
  {
   "cell_type": "code",
   "execution_count": 4,
   "metadata": {
    "collapsed": false,
    "deletable": true,
    "editable": true
   },
   "outputs": [],
   "source": [
    "import numpy as np\n",
    "import os\n",
    "from os import listdir\n",
    "from os.path import isfile, join\n",
    "import scipy.stats\n",
    "from sklearn.metrics.pairwise import cosine_similarity"
   ]
  },
  {
   "cell_type": "code",
   "execution_count": 2,
   "metadata": {
    "collapsed": false,
    "deletable": true,
    "editable": true
   },
   "outputs": [
    {
     "name": "stdout",
     "output_type": "stream",
     "text": [
      "(110, 300)\n",
      "(79, 300, 300)\n",
      "(300, 300)\n"
     ]
    }
   ],
   "source": [
    "fn = '/mnt/store/eszti/data/20170406_0948/T1_10000000.npy'\n",
    "with open(fn) as f:\n",
    "    T1 = np.load(f)\n",
    "    \n",
    "fn = '/mnt/store/eszti/data/20170406_0948/T_10000000.npy'\n",
    "with open(fn) as f:\n",
    "    T = np.load(f)\n",
    "    \n",
    "fn = '/mnt/store/eszti/data/20170406_0948/A_10000000.npy'\n",
    "with open(fn) as f:\n",
    "    A = np.load(f)\n",
    "    \n",
    "print(A.shape)\n",
    "print(T.shape)\n",
    "print(T1.shape)"
   ]
  },
  {
   "cell_type": "code",
   "execution_count": 26,
   "metadata": {
    "collapsed": false,
    "deletable": true,
    "editable": true
   },
   "outputs": [
    {
     "data": {
      "text/plain": [
       "['/home/eszti/data/embeddings/fb_trans/embedding/swad_fb_110_20170405_2058/eng_heb.npy',\n",
       " '/home/eszti/data/embeddings/fb_trans/embedding/swad_fb_110_20170405_2058/eng_zlm.npy',\n",
       " '/home/eszti/data/embeddings/fb_trans/embedding/swad_fb_110_20170405_2058/eng_kir.npy',\n",
       " '/home/eszti/data/embeddings/fb_trans/embedding/swad_fb_110_20170405_2058/eng_tel.npy',\n",
       " '/home/eszti/data/embeddings/fb_trans/embedding/swad_fb_110_20170405_2058/eng_slv.npy',\n",
       " '/home/eszti/data/embeddings/fb_trans/embedding/swad_fb_110_20170405_2058/eng_tat.npy',\n",
       " '/home/eszti/data/embeddings/fb_trans/embedding/swad_fb_110_20170405_2058/eng_wrz.npy',\n",
       " '/home/eszti/data/embeddings/fb_trans/embedding/swad_fb_110_20170405_2058/eng_spa.npy',\n",
       " '/home/eszti/data/embeddings/fb_trans/embedding/swad_fb_110_20170405_2058/eng_bos.npy',\n",
       " '/home/eszti/data/embeddings/fb_trans/embedding/swad_fb_110_20170405_2058/eng_cym.npy',\n",
       " '/home/eszti/data/embeddings/fb_trans/embedding/swad_fb_110_20170405_2058/eng_fin.npy',\n",
       " '/home/eszti/data/embeddings/fb_trans/embedding/swad_fb_110_20170405_2058/eng_bul.npy',\n",
       " '/home/eszti/data/embeddings/fb_trans/embedding/swad_fb_110_20170405_2058/eng_cat.npy',\n",
       " '/home/eszti/data/embeddings/fb_trans/embedding/swad_fb_110_20170405_2058/eng_als.npy',\n",
       " '/home/eszti/data/embeddings/fb_trans/embedding/swad_fb_110_20170405_2058/eng_kaz.npy',\n",
       " '/home/eszti/data/embeddings/fb_trans/embedding/swad_fb_110_20170405_2058/eng_mal.npy',\n",
       " '/home/eszti/data/embeddings/fb_trans/embedding/swad_fb_110_20170405_2058/eng_fry.npy',\n",
       " '/home/eszti/data/embeddings/fb_trans/embedding/swad_fb_110_20170405_2058/eng_tgl.npy',\n",
       " '/home/eszti/data/embeddings/fb_trans/embedding/swad_fb_110_20170405_2058/eng_arb.npy',\n",
       " '/home/eszti/data/embeddings/fb_trans/embedding/swad_fb_110_20170405_2058/eng_ell.npy',\n",
       " '/home/eszti/data/embeddings/fb_trans/embedding/swad_fb_110_20170405_2058/eng_ceb.npy',\n",
       " '/home/eszti/data/embeddings/fb_trans/embedding/swad_fb_110_20170405_2058/eng_lat.npy',\n",
       " '/home/eszti/data/embeddings/fb_trans/embedding/swad_fb_110_20170405_2058/eng_slk.npy',\n",
       " '/home/eszti/data/embeddings/fb_trans/embedding/swad_fb_110_20170405_2058/eng_ces.npy',\n",
       " '/home/eszti/data/embeddings/fb_trans/embedding/swad_fb_110_20170405_2058/eng_tam.npy',\n",
       " '/home/eszti/data/embeddings/fb_trans/embedding/swad_fb_110_20170405_2058/eng_plt.npy',\n",
       " '/home/eszti/data/embeddings/fb_trans/embedding/swad_fb_110_20170405_2058/eng_bak.npy',\n",
       " '/home/eszti/data/embeddings/fb_trans/embedding/swad_fb_110_20170405_2058/eng_che.npy',\n",
       " '/home/eszti/data/embeddings/fb_trans/embedding/swad_fb_110_20170405_2058/eng_ast.npy',\n",
       " '/home/eszti/data/embeddings/fb_trans/embedding/swad_fb_110_20170405_2058/eng_hun.npy',\n",
       " '/home/eszti/data/embeddings/fb_trans/embedding/swad_fb_110_20170405_2058/eng_ind.npy',\n",
       " '/home/eszti/data/embeddings/fb_trans/embedding/swad_fb_110_20170405_2058/eng_ita.npy',\n",
       " '/home/eszti/data/embeddings/fb_trans/embedding/swad_fb_110_20170405_2058/eng_glg.npy',\n",
       " '/home/eszti/data/embeddings/fb_trans/embedding/swad_fb_110_20170405_2058/eng_pol.npy',\n",
       " '/home/eszti/data/embeddings/fb_trans/embedding/swad_fb_110_20170405_2058/eng_rup.npy',\n",
       " '/home/eszti/data/embeddings/fb_trans/embedding/swad_fb_110_20170405_2058/eng_mkd.npy',\n",
       " '/home/eszti/data/embeddings/fb_trans/embedding/swad_fb_110_20170405_2058/eng_dan.npy',\n",
       " '/home/eszti/data/embeddings/fb_trans/embedding/swad_fb_110_20170405_2058/eng_khm.npy',\n",
       " '/home/eszti/data/embeddings/fb_trans/embedding/swad_fb_110_20170405_2058/eng_bel.npy',\n",
       " '/home/eszti/data/embeddings/fb_trans/embedding/swad_fb_110_20170405_2058/eng_ekk.npy',\n",
       " '/home/eszti/data/embeddings/fb_trans/embedding/swad_fb_110_20170405_2058/eng_tur.npy',\n",
       " '/home/eszti/data/embeddings/fb_trans/embedding/swad_fb_110_20170405_2058/eng_deu.npy',\n",
       " '/home/eszti/data/embeddings/fb_trans/embedding/swad_fb_110_20170405_2058/eng_hrv.npy',\n",
       " '/home/eszti/data/embeddings/fb_trans/embedding/swad_fb_110_20170405_2058/eng_tgk.npy',\n",
       " '/home/eszti/data/embeddings/fb_trans/embedding/swad_fb_110_20170405_2058/eng_vie.npy',\n",
       " '/home/eszti/data/embeddings/fb_trans/embedding/swad_fb_110_20170405_2058/eng_jpn.npy',\n",
       " '/home/eszti/data/embeddings/fb_trans/embedding/swad_fb_110_20170405_2058/eng_epo.npy',\n",
       " '/home/eszti/data/embeddings/fb_trans/embedding/swad_fb_110_20170405_2058/eng_nob.npy',\n",
       " '/home/eszti/data/embeddings/fb_trans/embedding/swad_fb_110_20170405_2058/eng_lit.npy',\n",
       " '/home/eszti/data/embeddings/fb_trans/embedding/swad_fb_110_20170405_2058/eng_lvs.npy',\n",
       " '/home/eszti/data/embeddings/fb_trans/embedding/swad_fb_110_20170405_2058/eng_azj.npy',\n",
       " '/home/eszti/data/embeddings/fb_trans/embedding/swad_fb_110_20170405_2058/eng_kor.npy',\n",
       " '/home/eszti/data/embeddings/fb_trans/embedding/swad_fb_110_20170405_2058/eng_tha.npy',\n",
       " '/home/eszti/data/embeddings/fb_trans/embedding/swad_fb_110_20170405_2058/eng_bre.npy',\n",
       " '/home/eszti/data/embeddings/fb_trans/embedding/swad_fb_110_20170405_2058/eng_kat.npy',\n",
       " '/home/eszti/data/embeddings/fb_trans/embedding/swad_fb_110_20170405_2058/eng_kan.npy',\n",
       " '/home/eszti/data/embeddings/fb_trans/embedding/swad_fb_110_20170405_2058/eng_uzn.npy',\n",
       " '/home/eszti/data/embeddings/fb_trans/embedding/swad_fb_110_20170405_2058/eng_eus.npy',\n",
       " '/home/eszti/data/embeddings/fb_trans/embedding/swad_fb_110_20170405_2058/eng_hbs.npy',\n",
       " '/home/eszti/data/embeddings/fb_trans/embedding/swad_fb_110_20170405_2058/eng_pes.npy',\n",
       " '/home/eszti/data/embeddings/fb_trans/embedding/swad_fb_110_20170405_2058/eng_afr.npy',\n",
       " '/home/eszti/data/embeddings/fb_trans/embedding/swad_fb_110_20170405_2058/eng_ron.npy',\n",
       " '/home/eszti/data/embeddings/fb_trans/embedding/swad_fb_110_20170405_2058/eng_fra.npy',\n",
       " '/home/eszti/data/embeddings/fb_trans/embedding/swad_fb_110_20170405_2058/eng_chv.npy',\n",
       " '/home/eszti/data/embeddings/fb_trans/embedding/swad_fb_110_20170405_2058/eng_por.npy',\n",
       " '/home/eszti/data/embeddings/fb_trans/embedding/swad_fb_110_20170405_2058/eng_sco.npy',\n",
       " '/home/eszti/data/embeddings/fb_trans/embedding/swad_fb_110_20170405_2058/eng_ben.npy',\n",
       " '/home/eszti/data/embeddings/fb_trans/embedding/swad_fb_110_20170405_2058/eng_srp.npy',\n",
       " '/home/eszti/data/embeddings/fb_trans/embedding/swad_fb_110_20170405_2058/eng_ltz.npy',\n",
       " '/home/eszti/data/embeddings/fb_trans/embedding/swad_fb_110_20170405_2058/eng_mya.npy',\n",
       " '/home/eszti/data/embeddings/fb_trans/embedding/swad_fb_110_20170405_2058/eng_nld.npy',\n",
       " '/home/eszti/data/embeddings/fb_trans/embedding/swad_fb_110_20170405_2058/eng_cmn.npy',\n",
       " '/home/eszti/data/embeddings/fb_trans/embedding/swad_fb_110_20170405_2058/eng_ukr.npy',\n",
       " '/home/eszti/data/embeddings/fb_trans/embedding/swad_fb_110_20170405_2058/eng_swe.npy',\n",
       " '/home/eszti/data/embeddings/fb_trans/embedding/swad_fb_110_20170405_2058/eng_min.npy',\n",
       " '/home/eszti/data/embeddings/fb_trans/embedding/swad_fb_110_20170405_2058/eng_isl.npy',\n",
       " '/home/eszti/data/embeddings/fb_trans/embedding/swad_fb_110_20170405_2058/eng_khk.npy',\n",
       " '/home/eszti/data/embeddings/fb_trans/embedding/swad_fb_110_20170405_2058/eng_rus.npy',\n",
       " '/home/eszti/data/embeddings/fb_trans/embedding/swad_fb_110_20170405_2058/eng_san.npy',\n",
       " '/home/eszti/data/embeddings/fb_trans/embedding/swad_fb_110_20170405_2058/eng_eng.npy']"
      ]
     },
     "execution_count": 26,
     "metadata": {},
     "output_type": "execute_result"
    }
   ],
   "source": [
    "emb_dir = '/home/eszti/data/embeddings/fb_trans/embedding/swad_fb_110_20170405_2058'\n",
    "embed_files = [os.path.join(emb_dir, f) for f in listdir(emb_dir) \n",
    "               if isfile(join(emb_dir, f)) and f.endswith('.npy')]\n",
    "embed_files"
   ]
  },
  {
   "cell_type": "code",
   "execution_count": 7,
   "metadata": {
    "collapsed": false,
    "deletable": true,
    "editable": true
   },
   "outputs": [
    {
     "name": "stdout",
     "output_type": "stream",
     "text": [
      "80\n"
     ]
    },
    {
     "data": {
      "text/plain": [
       "'eng'"
      ]
     },
     "execution_count": 7,
     "metadata": {},
     "output_type": "execute_result"
    }
   ],
   "source": [
    "lang_codes = [fn.split('.')[0][-3:] for fn in embed_files]\n",
    "print(len(lang_codes))\n",
    "lang_codes.insert(0, lang_codes[-1])\n",
    "lang_codes.pop()"
   ]
  },
  {
   "cell_type": "code",
   "execution_count": 39,
   "metadata": {
    "collapsed": false,
    "deletable": true,
    "editable": true
   },
   "outputs": [],
   "source": [
    "output_dir = '/home/eszti/data/embeddings/univ_trans/first_trial/'\n",
    "lang_cnt = len(embed_files)\n",
    "\n",
    "# Load English embedding\n",
    "with open(embed_files[-1]) as f:\n",
    "    en_emb = np.load(f)\n",
    "\n",
    "W = np.ndarray(shape=(lang_cnt, en_emb.shape[0], en_emb.shape[1]), dtype=np.float32)\n",
    "trans = np.ndarray(shape=(lang_cnt, en_emb.shape[0], en_emb.shape[1]), dtype=np.float32)\n",
    "\n",
    "i = 0\n",
    "W[i, :, :] = en_emb\n",
    "for embed_fn in embed_files:\n",
    "    if 'eng_eng' in embed_fn:\n",
    "        continue\n",
    "    i += 1\n",
    "    with open(embed_fn) as f:\n",
    "        emb = np.load(f)\n",
    "    W[i, :, :] = emb\n",
    "    \n",
    "for i in range(len(lang_codes)):\n",
    "    if i == 0:\n",
    "        trans[i, :, :] = np.dot(W[i, :, :], T1)\n",
    "    else: \n",
    "        trans[i, :, :] = np.dot(W[i, :, :], T[i - 1])\n",
    "    with open(join(output_dir, '{}.npy'.format(lang_codes[i])), 'w') as f:\n",
    "        np.save(f, trans[i, :, :])"
   ]
  },
  {
   "cell_type": "code",
   "execution_count": 9,
   "metadata": {
    "collapsed": true,
    "deletable": true,
    "editable": true
   },
   "outputs": [],
   "source": [
    "def get_cos_sim_mx(emb):\n",
    "    cnt = emb.shape[0]\n",
    "    mx = np.ndarray(shape=(cnt, cnt), dtype=np.float32)\n",
    "    for i in range(0, cnt):\n",
    "        for j in range(0, i + 1):\n",
    "            sim = cosine_similarity(emb[i].reshape(1, -1), emb[j].reshape(1, -1))\n",
    "            mx[i][j] = sim\n",
    "            mx[j][i] = sim\n",
    "    return mx\n",
    "\n",
    "def calc_values(orig, trans, univ, univ_cos):\n",
    "    orig_flat = np.ndarray.flatten(orig)\n",
    "    trans_flat = np.ndarray.flatten(trans)\n",
    "    univ_flat = np.ndarray.flatten(univ)\n",
    "    \n",
    "    ret = []\n",
    "    \n",
    "    # Diff(orig, trans): frob norm\n",
    "    ret.append(np.linalg.norm(orig - trans))\n",
    "    # Diff(orig, univ): frob norm\n",
    "    ret.append(np.linalg.norm(orig - univ))\n",
    "    # Diff(trans, univ): frob norm\n",
    "    ret.append(np.linalg.norm(trans - univ))\n",
    "    \n",
    "    orig_cos_flat = np.ndarray.flatten(get_cos_sim_mx(orig))\n",
    "    trans_cos_flat = np.ndarray.flatten(get_cos_sim_mx(trans))\n",
    "    univ_cos_flat = np.ndarray.flatten(univ_cos)\n",
    "    \n",
    "    # Correlation between orig and translated cos sim mx-s\n",
    "    ret.append(scipy.stats.pearsonr(orig_cos_flat, trans_cos_flat))\n",
    "    # Correlation between orig and univ cos sim mx-s\n",
    "    ret.append(scipy.stats.pearsonr(orig_cos_flat, univ_cos_flat))\n",
    "    # Correlation between trans and univ cos sim mx-s\n",
    "    ret.append(scipy.stats.pearsonr(univ_cos_flat, trans_cos_flat))\n",
    "    \n",
    "    return ret"
   ]
  },
  {
   "cell_type": "code",
   "execution_count": 35,
   "metadata": {
    "collapsed": false,
    "deletable": true,
    "editable": true
   },
   "outputs": [
    {
     "name": "stdout",
     "output_type": "stream",
     "text": [
      "Calc language: eng\n",
      "['eng', 0.0, 0.40092891, 0.40092891, (1.0, 0.0), (0.99980241, 0.0), (0.99980241, 0.0)]\n",
      "Calc language: heb\n",
      "['heb', 14.875912, 14.875926, 0.46582678, (0.53900075, 0.0), (0.53988481, 0.0), (0.99975592, 0.0)]\n",
      "Calc language: zlm\n",
      "['zlm', 14.738148, 14.740572, 0.46735415, (0.55985451, 0.0), (0.55939579, 0.0), (0.99975598, 0.0)]\n",
      "Calc language: kir\n",
      "['kir', 14.854175, 14.853262, 0.48045668, (0.49459833, 0.0), (0.49531868, 0.0), (0.9997406, 0.0)]\n",
      "Calc language: tel\n",
      "['tel', 14.8531, 14.872325, 0.46531272, (0.49177274, 0.0), (0.49484402, 0.0), (0.99975646, 0.0)]\n",
      "Calc language: slv\n",
      "['slv', 14.891821, 14.896851, 0.44599283, (0.51929784, 0.0), (0.52284801, 0.0), (0.99977553, 0.0)]\n",
      "Calc language: tat\n",
      "['tat', 14.927641, 14.920938, 0.4958545, (0.39927328, 0.0), (0.39941591, 0.0), (0.99972647, 0.0)]\n",
      "Calc language: wrz\n",
      "['wrz', 14.918386, 14.918633, 0.48865092, (0.67383468, 0.0), (0.6738286, 0.0), (0.99973494, 0.0)]\n",
      "Calc language: spa\n",
      "['spa', 14.876044, 14.890875, 0.52533048, (0.65509766, 0.0), (0.65564686, 0.0), (0.99969202, 0.0)]\n",
      "Calc language: bos\n",
      "['bos', 14.886259, 14.894165, 0.47181523, (0.52646846, 0.0), (0.52823126, 0.0), (0.99975115, 0.0)]\n",
      "Calc language: cym\n",
      "['cym', 14.834022, 14.833624, 0.46507767, (0.46015605, 0.0), (0.45993289, 0.0), (0.99975842, 0.0)]\n",
      "Calc language: fin\n",
      "['fin', 14.889322, 14.902172, 0.5095498, (0.60295862, 0.0), (0.60524422, 0.0), (0.9997108, 0.0)]\n",
      "Calc language: bul\n",
      "['bul', 14.919493, 14.922839, 0.51506561, (0.54423195, 0.0), (0.54590166, 0.0), (0.99970537, 0.0)]\n",
      "Calc language: cat\n",
      "['cat', 14.785542, 14.78745, 0.46373662, (0.52113593, 0.0), (0.52405548, 0.0), (0.99975926, 0.0)]\n",
      "Calc language: als\n",
      "['als', 14.805938, 14.808739, 0.45197371, (0.44879866, 0.0), (0.44853377, 0.0), (0.99976897, 0.0)]\n",
      "Calc language: kaz\n",
      "['kaz', 14.848985, 14.852971, 0.47020489, (0.5018183, 0.0), (0.50417918, 0.0), (0.99975175, 0.0)]\n",
      "Calc language: mal\n",
      "['mal', 14.895801, 14.897629, 0.49814999, (0.49201965, 0.0), (0.49316278, 0.0), (0.99972326, 0.0)]\n",
      "Calc language: fry\n",
      "['fry', 14.763668, 14.759717, 0.46568561, (0.48830408, 0.0), (0.49126688, 0.0), (0.99975562, 0.0)]\n",
      "Calc language: tgl\n",
      "['tgl', 14.825862, 14.837167, 0.49371484, (0.45921832, 0.0), (0.46148786, 0.0), (0.99972612, 0.0)]\n",
      "Calc language: arb\n",
      "['arb', 14.828644, 14.833264, 0.47477314, (0.51792479, 0.0), (0.51840293, 0.0), (0.99974781, 0.0)]\n",
      "Calc language: ell\n",
      "['ell', 14.867715, 14.88727, 0.50740707, (0.61071467, 0.0), (0.61076689, 0.0), (0.9997139, 0.0)]\n",
      "Calc language: ceb\n",
      "['ceb', 14.806715, 14.81188, 0.49561447, (0.31383494, 9.4079777879972928e-275), (0.31053448, 9.4677234448796302e-269), (0.99971914, 0.0)]\n",
      "Calc language: lat\n",
      "['lat', 14.786924, 14.791926, 0.49766278, (0.4639641, 0.0), (0.46710882, 0.0), (0.99972636, 0.0)]\n",
      "Calc language: slk\n",
      "['slk', 14.679272, 14.678532, 0.50638264, (0.56962305, 0.0), (0.57129622, 0.0), (0.99971485, 0.0)]\n",
      "Calc language: ces\n",
      "['ces', 14.749545, 14.764519, 0.49668583, (0.56167769, 0.0), (0.56501502, 0.0), (0.99972755, 0.0)]\n",
      "Calc language: tam\n",
      "['tam', 14.790567, 14.812037, 0.47183168, (0.57357675, 0.0), (0.57584846, 0.0), (0.99975061, 0.0)]\n",
      "Calc language: plt\n",
      "['plt', 14.763535, 14.784022, 0.52299941, (0.23864767, 2.7239099064154031e-156), (0.23726688, 1.8520509028529579e-154), (0.99969083, 0.0)]\n",
      "Calc language: bak\n",
      "['bak', 14.834882, 14.841638, 0.49131134, (0.47673899, 0.0), (0.48012865, 0.0), (0.99973255, 0.0)]\n",
      "Calc language: che\n",
      "['che', 14.885158, 14.877494, 0.5276944, (0.34624478, 0.0), (0.34608704, 0.0), (0.99968982, 0.0)]\n",
      "Calc language: ast\n",
      "['ast', 14.81715, 14.825547, 0.50430977, (0.51433164, 0.0), (0.51506484, 0.0), (0.99971658, 0.0)]\n",
      "Calc language: hun\n",
      "['hun', 14.640172, 14.62102, 0.52222353, (0.62815613, 0.0), (0.63041693, 0.0), (0.99969751, 0.0)]\n",
      "Calc language: ind\n",
      "['ind', 14.814481, 14.821852, 0.49010378, (0.45939288, 0.0), (0.45776701, 0.0), (0.99972957, 0.0)]\n",
      "Calc language: ita\n",
      "['ita', 14.739458, 14.748604, 0.51839978, (0.61387783, 0.0), (0.61770535, 0.0), (0.99970186, 0.0)]\n",
      "Calc language: glg\n",
      "['glg', 14.825564, 14.826641, 0.46803814, (0.53073645, 0.0), (0.53109282, 0.0), (0.9997533, 0.0)]\n",
      "Calc language: pol\n",
      "['pol', 14.874176, 14.882835, 0.48541644, (0.5254398, 0.0), (0.52944922, 0.0), (0.99973774, 0.0)]\n",
      "Calc language: rup\n",
      "['rup', 14.98896, 14.987792, 0.4844943, (0.4910427, 0.0), (0.49190673, 0.0), (0.99973893, 0.0)]\n",
      "Calc language: mkd\n",
      "['mkd', 14.849891, 14.847883, 0.53027338, (0.5679872, 0.0), (0.57004666, 0.0), (0.99968719, 0.0)]\n",
      "Calc language: dan\n",
      "['dan', 14.853471, 14.858535, 0.45559639, (0.5069778, 0.0), (0.50768757, 0.0), (0.99976528, 0.0)]\n",
      "Calc language: khm\n",
      "['khm', 14.748002, 14.750931, 0.4789584, (0.5850088, 0.0), (0.58322924, 0.0), (0.99974066, 0.0)]\n",
      "Calc language: bel\n",
      "['bel', 14.807024, 14.81671, 0.49927726, (0.53387988, 0.0), (0.53520346, 0.0), (0.99972022, 0.0)]\n",
      "Calc language: ekk\n",
      "['ekk', 14.868489, 14.876488, 0.47998616, (0.51569003, 0.0), (0.51697385, 0.0), (0.99974102, 0.0)]\n",
      "Calc language: tur\n",
      "['tur', 14.914612, 14.911813, 0.51894027, (0.56505048, 0.0), (0.56519473, 0.0), (0.9997009, 0.0)]\n",
      "Calc language: deu\n",
      "['deu', 14.631284, 14.634129, 0.53058487, (0.6413399, 0.0), (0.64304352, 0.0), (0.99968916, 0.0)]\n",
      "Calc language: hrv\n",
      "['hrv', 14.872335, 14.858971, 0.50324827, (0.49903858, 0.0), (0.49986273, 0.0), (0.99971706, 0.0)]\n",
      "Calc language: tgk\n",
      "['tgk', 14.986317, 14.99044, 0.53994483, (0.38757634, 0.0), (0.39004159, 0.0), (0.99967617, 0.0)]\n",
      "Calc language: vie\n",
      "['vie', 14.864448, 14.856417, 0.49214432, (0.3887662, 0.0), (0.38908172, 0.0), (0.99972486, 0.0)]\n",
      "Calc language: jpn\n",
      "['jpn', 14.929632, 14.947483, 0.91348213, (0.013414859, 0.14006516282624099), (0.015919086, 0.079940836943680718), (0.99900752, 0.0)]\n",
      "Calc language: epo\n",
      "['epo', 14.954379, 14.96173, 0.55559969, (0.68216312, 0.0), (0.68120044, 0.0), (0.99965864, 0.0)]\n",
      "Calc language: nob\n",
      "['nob', 14.854017, 14.846711, 0.51483232, (0.53459626, 0.0), (0.53314155, 0.0), (0.99970424, 0.0)]\n",
      "Calc language: lit\n",
      "['lit', 14.566253, 14.565324, 0.48229814, (0.47346011, 0.0), (0.47419962, 0.0), (0.99974084, 0.0)]\n",
      "Calc language: lvs\n",
      "['lvs', 14.796712, 14.791628, 0.47436339, (0.45809761, 0.0), (0.45782247, 0.0), (0.99974638, 0.0)]\n",
      "Calc language: azj\n",
      "['azj', 14.881802, 14.878957, 0.47971568, (0.52690476, 0.0), (0.52752107, 0.0), (0.99974132, 0.0)]\n",
      "Calc language: kor\n",
      "['kor', 14.771843, 14.759468, 0.5518645, (0.32702607, 1.6027814695080382e-299), (0.3289066, 3.7270455247970045e-303), (0.99966133, 0.0)]\n",
      "Calc language: tha\n",
      "['tha', 14.865856, 14.87436, 0.4902088, (0.43899009, 0.0), (0.44040307, 0.0), (0.99972928, 0.0)]\n",
      "Calc language: bre\n",
      "['bre', 14.816508, 14.826962, 0.44917294, (0.47359616, 0.0), (0.47417763, 0.0), (0.99977344, 0.0)]\n",
      "Calc language: kat\n",
      "['kat', 14.714009, 14.724236, 0.53773475, (0.53804225, 0.0), (0.54041088, 0.0), (0.99967909, 0.0)]\n",
      "Calc language: kan\n",
      "['kan', 14.821572, 14.842278, 0.52646303, (0.66329199, 0.0), (0.66332138, 0.0), (0.99969381, 0.0)]\n",
      "Calc language: uzn\n",
      "['uzn', 14.764009, 14.766578, 0.4935635, (0.47095504, 0.0), (0.47085288, 0.0), (0.99972624, 0.0)]\n",
      "Calc language: eus\n",
      "['eus', 14.690073, 14.683871, 0.51009107, (0.49362829, 0.0), (0.4911789, 0.0), (0.99970543, 0.0)]\n",
      "Calc language: hbs\n",
      "['hbs', 14.738833, 14.744255, 0.51893729, (0.52358717, 0.0), (0.52779686, 0.0), (0.99970168, 0.0)]\n",
      "Calc language: pes\n",
      "['pes', 14.796942, 14.809064, 0.48281461, (0.51215041, 0.0), (0.51306987, 0.0), (0.99974066, 0.0)]\n",
      "Calc language: afr\n",
      "['afr', 14.782837, 14.796278, 0.47226396, (0.50732291, 0.0), (0.50925273, 0.0), (0.99974859, 0.0)]\n",
      "Calc language: ron\n",
      "['ron', 14.567229, 14.575516, 0.51402628, (0.5201382, 0.0), (0.52284312, 0.0), (0.99970806, 0.0)]\n",
      "Calc language: fra\n",
      "['fra', 14.642753, 14.633256, 0.50442457, (0.58103704, 0.0), (0.58256036, 0.0), (0.99971855, 0.0)]\n",
      "Calc language: chv\n",
      "['chv', 14.940649, 14.94368, 0.46012181, (0.46857464, 0.0), (0.46932605, 0.0), (0.99976343, 0.0)]\n",
      "Calc language: por\n",
      "['por', 14.773529, 14.767602, 0.48265561, (0.53826779, 0.0), (0.54013026, 0.0), (0.99973935, 0.0)]\n",
      "Calc language: sco\n",
      "['sco', 14.792809, 14.793835, 0.47485715, (0.42327026, 0.0), (0.42391899, 0.0), (0.99974549, 0.0)]\n",
      "Calc language: ben\n",
      "['ben', 14.809156, 14.81865, 0.46422863, (0.45110631, 0.0), (0.4515067, 0.0), (0.99975437, 0.0)]\n",
      "Calc language: srp\n",
      "['srp', 14.874677, 14.877178, 0.5151034, (0.53402871, 0.0), (0.5349943, 0.0), (0.99970263, 0.0)]\n",
      "Calc language: ltz\n",
      "['ltz', 14.780766, 14.785012, 0.50653881, (0.44755617, 0.0), (0.44995311, 0.0), (0.99971324, 0.0)]\n",
      "Calc language: mya\n",
      "['mya', 14.771305, 14.772033, 0.48461869, (0.40204391, 0.0), (0.40377766, 0.0), (0.99973762, 0.0)]\n",
      "Calc language: nld\n",
      "['nld', 14.71207, 14.712496, 0.49328569, (0.54643202, 0.0), (0.54856741, 0.0), (0.99972779, 0.0)]\n",
      "Calc language: cmn\n",
      "['cmn', 14.912496, 14.935347, 0.88737828, (0.091267273, 8.353794446516088e-24), (0.078599386, 4.782803722920394e-18), (0.99909014, 0.0)]\n",
      "Calc language: ukr\n",
      "['ukr', 14.836884, 14.847654, 0.47719628, (0.51822859, 0.0), (0.51967818, 0.0), (0.9997434, 0.0)]\n",
      "Calc language: swe\n",
      "['swe', 14.896087, 14.898636, 0.55472577, (0.43983111, 0.0), (0.44075388, 0.0), (0.9996596, 0.0)]\n",
      "Calc language: min\n",
      "['min', 14.723386, 14.721547, 0.50700611, (0.38717228, 0.0), (0.38727474, 0.0), (0.99971455, 0.0)]\n",
      "Calc language: isl\n",
      "['isl', 14.834225, 14.851861, 0.50709069, (0.49910188, 0.0), (0.50083196, 0.0), (0.99971348, 0.0)]\n",
      "Calc language: khk\n",
      "['khk', 14.694654, 14.702139, 0.5274179, (0.51600748, 0.0), (0.51995647, 0.0), (0.99969357, 0.0)]\n",
      "Calc language: rus\n",
      "['rus', 14.74221, 14.74051, 0.51070046, (0.67942393, 0.0), (0.68060076, 0.0), (0.99971128, 0.0)]\n",
      "Calc language: san\n",
      "['san', 14.906709, 14.918921, 0.50777072, (0.88406062, 0.0), (0.88397038, 0.0), (0.99971443, 0.0)]\n"
     ]
    }
   ],
   "source": [
    "univ_cos = get_cos_sim_mx(A)\n",
    "stats = []\n",
    "\n",
    "for i in range(len(lang_codes)):\n",
    "    print('Calc language: {}'.format(lang_codes[i]))\n",
    "    row = [lang_codes[i]]\n",
    "    row += calc_values(W[i, :, :], trans[i, :, :], A, univ_cos)\n",
    "    stats.append(row)\n",
    "    print(row)\n"
   ]
  },
  {
   "cell_type": "code",
   "execution_count": 36,
   "metadata": {
    "collapsed": false,
    "deletable": true,
    "editable": true
   },
   "outputs": [],
   "source": [
    "import csv\n",
    "outfn = '/home/eszti/data/embeddings/univ_trans/first_trial/stat.csv'\n",
    "with open(outfn,'wb') as resultFile:\n",
    "    wr = csv.writer(resultFile, dialect='excel')\n",
    "    wr.writerows(stats)"
   ]
  },
  {
   "cell_type": "code",
   "execution_count": 53,
   "metadata": {
    "collapsed": false,
    "deletable": true,
    "editable": true
   },
   "outputs": [
    {
     "data": {
      "text/plain": [
       "(80, 6)"
      ]
     },
     "execution_count": 53,
     "metadata": {},
     "output_type": "execute_result"
    }
   ],
   "source": [
    "for i in range(len(lang_codes)):\n",
    "    "
   ]
  },
  {
   "cell_type": "code",
   "execution_count": 44,
   "metadata": {
    "collapsed": false,
    "deletable": true,
    "editable": true
   },
   "outputs": [
    {
     "data": {
      "text/plain": [
       "(0.99541807440750374, 0.0045819255924962618)"
      ]
     },
     "execution_count": 44,
     "metadata": {},
     "output_type": "execute_result"
    }
   ],
   "source": [
    "a = np.array([1, 2, 5, -1])\n",
    "b = np.array([3, 4, 6, 2])\n",
    "\n",
    "scipy.stats.pearsonr(a, b)"
   ]
  }
 ],
 "metadata": {
  "kernelspec": {
   "display_name": "Python 2",
   "language": "python",
   "name": "python2"
  },
  "language_info": {
   "codemirror_mode": {
    "name": "ipython",
    "version": 2
   },
   "file_extension": ".py",
   "mimetype": "text/x-python",
   "name": "python",
   "nbconvert_exporter": "python",
   "pygments_lexer": "ipython2",
   "version": "2.7.12"
  }
 },
 "nbformat": 4,
 "nbformat_minor": 2
}
