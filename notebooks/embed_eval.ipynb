{
 "cells": [
  {
   "cell_type": "markdown",
   "metadata": {},
   "source": [
    "# Evaluating embeddings"
   ]
  },
  {
   "cell_type": "code",
   "execution_count": 65,
   "metadata": {
    "collapsed": false
   },
   "outputs": [],
   "source": [
    "import numpy as np\n",
    "from os import listdir\n",
    "from os.path import isfile, join\n",
    "import scipy.stats\n",
    "from sklearn.metrics.pairwise import cosine_similarity"
   ]
  },
  {
   "cell_type": "code",
   "execution_count": 8,
   "metadata": {
    "collapsed": false
   },
   "outputs": [
    {
     "name": "stdout",
     "output_type": "stream",
     "text": [
      "(110, 300)\n",
      "(79, 300, 300)\n",
      "(300, 300)\n"
     ]
    }
   ],
   "source": [
    "fn = '/mnt/store/eszti/data/20170406_0948/T1_10000000.npy'\n",
    "with open(fn) as f:\n",
    "    T1 = np.load(f)\n",
    "    \n",
    "fn = '/mnt/store/eszti/data/20170406_0948/T_10000000.npy'\n",
    "with open(fn) as f:\n",
    "    T = np.load(f)\n",
    "    \n",
    "fn = '/mnt/store/eszti/data/20170406_0948/A_10000000.npy'\n",
    "with open(fn) as f:\n",
    "    A = np.load(f)\n",
    "    \n",
    "print(A.shape)\n",
    "print(T.shape)\n",
    "print(T1.shape)"
   ]
  },
  {
   "cell_type": "code",
   "execution_count": 22,
   "metadata": {
    "collapsed": false
   },
   "outputs": [
    {
     "data": {
      "text/plain": [
       "['/home/eszti/data/embeddings/fb_trans/embedding/swad_fb_110_20170405_2058/eng_heb.npy',\n",
       " '/home/eszti/data/embeddings/fb_trans/embedding/swad_fb_110_20170405_2058/eng_zlm.npy',\n",
       " '/home/eszti/data/embeddings/fb_trans/embedding/swad_fb_110_20170405_2058/eng_kir.npy',\n",
       " '/home/eszti/data/embeddings/fb_trans/embedding/swad_fb_110_20170405_2058/eng_tel.npy',\n",
       " '/home/eszti/data/embeddings/fb_trans/embedding/swad_fb_110_20170405_2058/eng_slv.npy',\n",
       " '/home/eszti/data/embeddings/fb_trans/embedding/swad_fb_110_20170405_2058/eng_tat.npy',\n",
       " '/home/eszti/data/embeddings/fb_trans/embedding/swad_fb_110_20170405_2058/eng_wrz.npy',\n",
       " '/home/eszti/data/embeddings/fb_trans/embedding/swad_fb_110_20170405_2058/eng_spa.npy',\n",
       " '/home/eszti/data/embeddings/fb_trans/embedding/swad_fb_110_20170405_2058/eng_bos.npy',\n",
       " '/home/eszti/data/embeddings/fb_trans/embedding/swad_fb_110_20170405_2058/eng_cym.npy',\n",
       " '/home/eszti/data/embeddings/fb_trans/embedding/swad_fb_110_20170405_2058/eng_fin.npy',\n",
       " '/home/eszti/data/embeddings/fb_trans/embedding/swad_fb_110_20170405_2058/eng_bul.npy',\n",
       " '/home/eszti/data/embeddings/fb_trans/embedding/swad_fb_110_20170405_2058/eng_cat.npy',\n",
       " '/home/eszti/data/embeddings/fb_trans/embedding/swad_fb_110_20170405_2058/eng_als.npy',\n",
       " '/home/eszti/data/embeddings/fb_trans/embedding/swad_fb_110_20170405_2058/eng_kaz.npy',\n",
       " '/home/eszti/data/embeddings/fb_trans/embedding/swad_fb_110_20170405_2058/eng_mal.npy',\n",
       " '/home/eszti/data/embeddings/fb_trans/embedding/swad_fb_110_20170405_2058/eng_fry.npy',\n",
       " '/home/eszti/data/embeddings/fb_trans/embedding/swad_fb_110_20170405_2058/eng_tgl.npy',\n",
       " '/home/eszti/data/embeddings/fb_trans/embedding/swad_fb_110_20170405_2058/eng_arb.npy',\n",
       " '/home/eszti/data/embeddings/fb_trans/embedding/swad_fb_110_20170405_2058/eng_ell.npy',\n",
       " '/home/eszti/data/embeddings/fb_trans/embedding/swad_fb_110_20170405_2058/eng_ceb.npy',\n",
       " '/home/eszti/data/embeddings/fb_trans/embedding/swad_fb_110_20170405_2058/eng_lat.npy',\n",
       " '/home/eszti/data/embeddings/fb_trans/embedding/swad_fb_110_20170405_2058/eng_slk.npy',\n",
       " '/home/eszti/data/embeddings/fb_trans/embedding/swad_fb_110_20170405_2058/eng_ces.npy',\n",
       " '/home/eszti/data/embeddings/fb_trans/embedding/swad_fb_110_20170405_2058/eng_tam.npy',\n",
       " '/home/eszti/data/embeddings/fb_trans/embedding/swad_fb_110_20170405_2058/eng_plt.npy',\n",
       " '/home/eszti/data/embeddings/fb_trans/embedding/swad_fb_110_20170405_2058/eng_bak.npy',\n",
       " '/home/eszti/data/embeddings/fb_trans/embedding/swad_fb_110_20170405_2058/eng_che.npy',\n",
       " '/home/eszti/data/embeddings/fb_trans/embedding/swad_fb_110_20170405_2058/eng_ast.npy',\n",
       " '/home/eszti/data/embeddings/fb_trans/embedding/swad_fb_110_20170405_2058/eng_hun.npy',\n",
       " '/home/eszti/data/embeddings/fb_trans/embedding/swad_fb_110_20170405_2058/eng_ind.npy',\n",
       " '/home/eszti/data/embeddings/fb_trans/embedding/swad_fb_110_20170405_2058/eng_ita.npy',\n",
       " '/home/eszti/data/embeddings/fb_trans/embedding/swad_fb_110_20170405_2058/eng_glg.npy',\n",
       " '/home/eszti/data/embeddings/fb_trans/embedding/swad_fb_110_20170405_2058/eng_pol.npy',\n",
       " '/home/eszti/data/embeddings/fb_trans/embedding/swad_fb_110_20170405_2058/eng_rup.npy',\n",
       " '/home/eszti/data/embeddings/fb_trans/embedding/swad_fb_110_20170405_2058/eng_mkd.npy',\n",
       " '/home/eszti/data/embeddings/fb_trans/embedding/swad_fb_110_20170405_2058/eng_dan.npy',\n",
       " '/home/eszti/data/embeddings/fb_trans/embedding/swad_fb_110_20170405_2058/eng_khm.npy',\n",
       " '/home/eszti/data/embeddings/fb_trans/embedding/swad_fb_110_20170405_2058/eng_bel.npy',\n",
       " '/home/eszti/data/embeddings/fb_trans/embedding/swad_fb_110_20170405_2058/eng_ekk.npy',\n",
       " '/home/eszti/data/embeddings/fb_trans/embedding/swad_fb_110_20170405_2058/eng_tur.npy',\n",
       " '/home/eszti/data/embeddings/fb_trans/embedding/swad_fb_110_20170405_2058/eng_deu.npy',\n",
       " '/home/eszti/data/embeddings/fb_trans/embedding/swad_fb_110_20170405_2058/eng_hrv.npy',\n",
       " '/home/eszti/data/embeddings/fb_trans/embedding/swad_fb_110_20170405_2058/eng_tgk.npy',\n",
       " '/home/eszti/data/embeddings/fb_trans/embedding/swad_fb_110_20170405_2058/eng_vie.npy',\n",
       " '/home/eszti/data/embeddings/fb_trans/embedding/swad_fb_110_20170405_2058/eng_jpn.npy',\n",
       " '/home/eszti/data/embeddings/fb_trans/embedding/swad_fb_110_20170405_2058/eng_epo.npy',\n",
       " '/home/eszti/data/embeddings/fb_trans/embedding/swad_fb_110_20170405_2058/eng_nob.npy',\n",
       " '/home/eszti/data/embeddings/fb_trans/embedding/swad_fb_110_20170405_2058/eng_lit.npy',\n",
       " '/home/eszti/data/embeddings/fb_trans/embedding/swad_fb_110_20170405_2058/eng_lvs.npy',\n",
       " '/home/eszti/data/embeddings/fb_trans/embedding/swad_fb_110_20170405_2058/eng_azj.npy',\n",
       " '/home/eszti/data/embeddings/fb_trans/embedding/swad_fb_110_20170405_2058/eng_kor.npy',\n",
       " '/home/eszti/data/embeddings/fb_trans/embedding/swad_fb_110_20170405_2058/eng_tha.npy',\n",
       " '/home/eszti/data/embeddings/fb_trans/embedding/swad_fb_110_20170405_2058/eng_bre.npy',\n",
       " '/home/eszti/data/embeddings/fb_trans/embedding/swad_fb_110_20170405_2058/eng_kat.npy',\n",
       " '/home/eszti/data/embeddings/fb_trans/embedding/swad_fb_110_20170405_2058/eng_kan.npy',\n",
       " '/home/eszti/data/embeddings/fb_trans/embedding/swad_fb_110_20170405_2058/eng_uzn.npy',\n",
       " '/home/eszti/data/embeddings/fb_trans/embedding/swad_fb_110_20170405_2058/eng_eus.npy',\n",
       " '/home/eszti/data/embeddings/fb_trans/embedding/swad_fb_110_20170405_2058/eng_hbs.npy',\n",
       " '/home/eszti/data/embeddings/fb_trans/embedding/swad_fb_110_20170405_2058/eng_pes.npy',\n",
       " '/home/eszti/data/embeddings/fb_trans/embedding/swad_fb_110_20170405_2058/eng_afr.npy',\n",
       " '/home/eszti/data/embeddings/fb_trans/embedding/swad_fb_110_20170405_2058/eng_ron.npy',\n",
       " '/home/eszti/data/embeddings/fb_trans/embedding/swad_fb_110_20170405_2058/eng_fra.npy',\n",
       " '/home/eszti/data/embeddings/fb_trans/embedding/swad_fb_110_20170405_2058/eng_chv.npy',\n",
       " '/home/eszti/data/embeddings/fb_trans/embedding/swad_fb_110_20170405_2058/eng_por.npy',\n",
       " '/home/eszti/data/embeddings/fb_trans/embedding/swad_fb_110_20170405_2058/eng_sco.npy',\n",
       " '/home/eszti/data/embeddings/fb_trans/embedding/swad_fb_110_20170405_2058/eng_ben.npy',\n",
       " '/home/eszti/data/embeddings/fb_trans/embedding/swad_fb_110_20170405_2058/eng_srp.npy',\n",
       " '/home/eszti/data/embeddings/fb_trans/embedding/swad_fb_110_20170405_2058/eng_ltz.npy',\n",
       " '/home/eszti/data/embeddings/fb_trans/embedding/swad_fb_110_20170405_2058/eng_mya.npy',\n",
       " '/home/eszti/data/embeddings/fb_trans/embedding/swad_fb_110_20170405_2058/eng_nld.npy',\n",
       " '/home/eszti/data/embeddings/fb_trans/embedding/swad_fb_110_20170405_2058/eng_cmn.npy',\n",
       " '/home/eszti/data/embeddings/fb_trans/embedding/swad_fb_110_20170405_2058/eng_ukr.npy',\n",
       " '/home/eszti/data/embeddings/fb_trans/embedding/swad_fb_110_20170405_2058/eng_swe.npy',\n",
       " '/home/eszti/data/embeddings/fb_trans/embedding/swad_fb_110_20170405_2058/eng_min.npy',\n",
       " '/home/eszti/data/embeddings/fb_trans/embedding/swad_fb_110_20170405_2058/eng_isl.npy',\n",
       " '/home/eszti/data/embeddings/fb_trans/embedding/swad_fb_110_20170405_2058/eng_khk.npy',\n",
       " '/home/eszti/data/embeddings/fb_trans/embedding/swad_fb_110_20170405_2058/eng_rus.npy',\n",
       " '/home/eszti/data/embeddings/fb_trans/embedding/swad_fb_110_20170405_2058/eng_san.npy',\n",
       " '/home/eszti/data/embeddings/fb_trans/embedding/swad_fb_110_20170405_2058/eng_eng.npy']"
      ]
     },
     "execution_count": 22,
     "metadata": {},
     "output_type": "execute_result"
    }
   ],
   "source": [
    "emb_dir = '/home/eszti/data/embeddings/fb_trans/embedding/swad_fb_110_20170405_2058'\n",
    "embed_files = [os.path.join(emb_dir, f) for f in listdir(emb_dir) \n",
    "               if isfile(join(emb_dir, f)) and f.endswith('.npy')]\n",
    "embed_files"
   ]
  },
  {
   "cell_type": "code",
   "execution_count": 30,
   "metadata": {
    "collapsed": false
   },
   "outputs": [
    {
     "name": "stdout",
     "output_type": "stream",
     "text": [
      "80\n"
     ]
    },
    {
     "data": {
      "text/plain": [
       "'eng'"
      ]
     },
     "execution_count": 30,
     "metadata": {},
     "output_type": "execute_result"
    }
   ],
   "source": [
    "lang_codes = [fn.split('.')[0][-3:] for fn in embed_files]\n",
    "print(len(lang_codes))\n",
    "lang_codes.insert(0, lang_codes[-1])\n",
    "lang_codes.pop()"
   ]
  },
  {
   "cell_type": "code",
   "execution_count": 49,
   "metadata": {
    "collapsed": false
   },
   "outputs": [],
   "source": [
    "output_dir = '/home/eszti/data/embeddings/univ_trans/first_trial/'\n",
    "lang_cnt = len(embed_files)\n",
    "\n",
    "# Load English embedding\n",
    "with open(embed_files[-1]) as f:\n",
    "    en_emb = np.load(f)\n",
    "\n",
    "W = np.ndarray(shape=(lang_cnt, en_emb.shape[0], en_emb.shape[1]), dtype=np.float32)\n",
    "trans = np.ndarray(shape=(lang_cnt, en_emb.shape[0], en_emb.shape[1]), dtype=np.float32)\n",
    "\n",
    "i = 0\n",
    "W[i, :, :] = en_emb\n",
    "for embed_fn in embed_files:\n",
    "    if 'eng_eng' in fn:\n",
    "        continue\n",
    "    i += 1\n",
    "    with open(embed_fn) as f:\n",
    "        emb = np.load(f)\n",
    "    W[i, :, :] = emb\n",
    "    \n",
    "for i in range(len(lang_codes)):\n",
    "    if i == 0:\n",
    "        trans[i, :, :] = np.dot(W[i, :, :], T1)\n",
    "    else: \n",
    "        trans[i, :, :] = np.dot(W[i, :, :], T[i - 1])"
   ]
  },
  {
   "cell_type": "code",
   "execution_count": 90,
   "metadata": {
    "collapsed": true
   },
   "outputs": [],
   "source": [
    "def get_cos_sim_mx(emb):\n",
    "    cnt = emb.shape[0]\n",
    "    mx = np.ndarray(shape=(cnt, cnt), dtype=np.float32)\n",
    "    for i in range(0, cnt):\n",
    "        for j in range(0, i + 1):\n",
    "            sim = cosine_similarity(emb[i].reshape(1, -1), emb[j].reshape(1, -1))\n",
    "            mx[i][j] = sim\n",
    "            mx[j][i] = sim\n",
    "    return mx\n",
    "\n",
    "def calc_values(orig, trans, univ, univ_cos):\n",
    "    orig_flat = np.ndarray.flatten(orig)\n",
    "    trans_flat = np.ndarray.flatten(trans)\n",
    "    univ_flat = np.ndarray.flatten(univ)\n",
    "    \n",
    "    ret = []\n",
    "    \n",
    "    # Diff(orig, trans): frob norm\n",
    "    ret.append(np.linalg.norm(orig - trans))\n",
    "    # Diff(orig, univ): frob norm\n",
    "    ret.append(np.linalg.norm(orig - univ))\n",
    "    # Diff(trans, univ): frob norm\n",
    "    ret.append(np.linalg.norm(trans - univ))\n",
    "    \n",
    "    orig_cos_flat = np.ndarray.flatten(get_cos_sim_mx(orig))\n",
    "    trans_cos_flat = np.ndarray.flatten(get_cos_sim_mx(trans))\n",
    "    univ_cos_flat = np.ndarray.flatten(univ_cos)\n",
    "    \n",
    "    # Correlation between orig and translated cos sim mx-s\n",
    "    ret.append(scipy.stats.pearsonr(orig_cos_flat, trans_cos_flat))\n",
    "    # Correlation between orig and univ cos sim mx-s\n",
    "    ret.append(scipy.stats.pearsonr(orig_cos_flat, univ_cos_flat))\n",
    "    # Correlation between trans and univ cos sim mx-s\n",
    "    ret.append(scipy.stats.pearsonr(univ_cos_flat, trans_cos_flat))\n",
    "    \n",
    "    return ret"
   ]
  },
  {
   "cell_type": "code",
   "execution_count": null,
   "metadata": {
    "collapsed": false
   },
   "outputs": [],
   "source": [
    "univ_cos = get_cos_sim_mx(A)\n",
    "stats = []\n",
    "\n",
    "for i in range(len(lang_codes)):\n",
    "    print('Calc language: {}'.format(lang_codes[i]))\n",
    "    row = [lang_codes[i]]\n",
    "    row += calc_values(W[i, :, :], trans[i, :, :], A, univ_cos)\n",
    "    stats.append(row)\n",
    "    print(row)\n",
    "    break\n"
   ]
  },
  {
   "cell_type": "code",
   "execution_count": null,
   "metadata": {
    "collapsed": false
   },
   "outputs": [],
   "source": [
    "ret = np.ndarray(shape=(1, 6), dtype=np.float32)\n",
    "ret"
   ]
  },
  {
   "cell_type": "code",
   "execution_count": 53,
   "metadata": {
    "collapsed": false
   },
   "outputs": [
    {
     "data": {
      "text/plain": [
       "(80, 6)"
      ]
     },
     "execution_count": 53,
     "metadata": {},
     "output_type": "execute_result"
    }
   ],
   "source": [
    "for i in range(len(lang_codes)):\n",
    "    "
   ]
  },
  {
   "cell_type": "code",
   "execution_count": 44,
   "metadata": {
    "collapsed": false
   },
   "outputs": [
    {
     "data": {
      "text/plain": [
       "(0.99541807440750374, 0.0045819255924962618)"
      ]
     },
     "execution_count": 44,
     "metadata": {},
     "output_type": "execute_result"
    }
   ],
   "source": [
    "a = np.array([1, 2, 5, -1])\n",
    "b = np.array([3, 4, 6, 2])\n",
    "\n",
    "scipy.stats.pearsonr(a, b)"
   ]
  }
 ],
 "metadata": {
  "kernelspec": {
   "display_name": "Python 2",
   "language": "python",
   "name": "python2"
  },
  "language_info": {
   "codemirror_mode": {
    "name": "ipython",
    "version": 2
   },
   "file_extension": ".py",
   "mimetype": "text/x-python",
   "name": "python",
   "nbconvert_exporter": "python",
   "pygments_lexer": "ipython2",
   "version": "2.7.12"
  }
 },
 "nbformat": 4,
 "nbformat_minor": 2
}
