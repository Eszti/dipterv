{
 "cells": [
  {
   "cell_type": "code",
   "execution_count": 1,
   "metadata": {},
   "outputs": [],
   "source": [
    "import tensorflow as tf\n",
    "import numpy as np\n",
    "from sklearn.metrics.pairwise import cosine_similarity\n",
    "import os\n",
    "import copy\n",
    "from gensim.models import KeyedVectors"
   ]
  },
  {
   "cell_type": "code",
   "execution_count": 2,
   "metadata": {},
   "outputs": [],
   "source": [
    "# Conf\n",
    "langs = ['eng', 'deu', 'hun']"
   ]
  },
  {
   "cell_type": "markdown",
   "metadata": {},
   "source": [
    "Read embeddings and indices"
   ]
  },
  {
   "cell_type": "code",
   "execution_count": 3,
   "metadata": {},
   "outputs": [],
   "source": [
    "fold = '/home/eszti/projects/dipterv/notebooks/panlex/train_try/t0'\n",
    "\n",
    "d_models = dict()\n",
    "for l in langs:\n",
    "    fn = os.path.join(fold, '{}.vec'.format(l))\n",
    "    model = KeyedVectors.load_word2vec_format(fn, binary=False)\n",
    "    d_models[l] = model"
   ]
  },
  {
   "cell_type": "code",
   "execution_count": 4,
   "metadata": {},
   "outputs": [
    {
     "name": "stdout",
     "output_type": "stream",
     "text": [
      "(4, 300)\n",
      "['kutya', 'macska', 'nap', 'hold']\n"
     ]
    }
   ],
   "source": [
    "# test\n",
    "print(d_models['hun'].syn0.shape)\n",
    "print(d_models['hun'].index2word)"
   ]
  },
  {
   "cell_type": "markdown",
   "metadata": {},
   "source": [
    "Read words pairs from tsv"
   ]
  },
  {
   "cell_type": "code",
   "execution_count": 5,
   "metadata": {},
   "outputs": [],
   "source": [
    "def read_word_pairs_tsv(fn, id1, id2):\n",
    "    with open(fn) as f:\n",
    "        lines = f.readlines()\n",
    "        data = [(line.split()[id1], line.split()[id2]) for i, line in enumerate(lines) if i > 0]\n",
    "    return data\n",
    "\n",
    "def wp_list_2_dict(lang_pair, wp_l):\n",
    "    l1 = lang_pair[0]\n",
    "    l2 = lang_pair[1]\n",
    "    l12 = dict()\n",
    "    l21 = dict()\n",
    "    for (w1, w2) in wp_l:\n",
    "        if w1 not in l12:\n",
    "            l12[w1] = [w2]\n",
    "        else:\n",
    "            l12[w1] += w2\n",
    "        if w2 not in l21:\n",
    "            l21[w2] = [w1]\n",
    "        else:\n",
    "            l21[w2] += w1\n",
    "    return l12, l21"
   ]
  },
  {
   "cell_type": "code",
   "execution_count": 6,
   "metadata": {},
   "outputs": [],
   "source": [
    "fold = '/home/eszti/projects/dipterv/notebooks/panlex/train_try/t0'\n",
    "id1 = 2\n",
    "id2 = 3\n",
    "# Dict for word pairs\n",
    "d_wps = dict()\n",
    "done = set()\n",
    "for lang1 in langs:\n",
    "    for lang2 in langs:\n",
    "        lang_pair = tuple(sorted([lang1, lang2]))\n",
    "        if lang1 == lang2 or lang_pair in done:\n",
    "            continue\n",
    "        done.add(lang_pair)\n",
    "        l1 = lang_pair[0]\n",
    "        l2 = lang_pair[1]\n",
    "        fn = os.path.join(fold, '{0}_{1}.tsv'.format(l1, l2))\n",
    "        data = read_word_pairs_tsv(fn, id1, id2)\n",
    "        d_wps[lang_pair] = data\n",
    "\n",
    "d_dict = dict()\n",
    "for ((l1, l2), wp_l) in d_wps.items():\n",
    "    l12, l21 = wp_list_2_dict((l1, l2), wp_l)\n",
    "    d_dict[(l1, l2)] = l12\n",
    "    d_dict[(l2, l1)] = l21"
   ]
  },
  {
   "cell_type": "code",
   "execution_count": 7,
   "metadata": {},
   "outputs": [
    {
     "data": {
      "text/plain": [
       "{('deu', 'eng'): {'hund': ['dog'],\n",
       "  'katze': ['cat'],\n",
       "  'mond': ['moon'],\n",
       "  'sonne': ['sun']},\n",
       " ('deu', 'hun'): {'hund': ['kutya'],\n",
       "  'katze': ['macska'],\n",
       "  'mond': ['hold'],\n",
       "  'sonne': ['nap']},\n",
       " ('eng', 'deu'): {'cat': ['katze'],\n",
       "  'dog': ['hund'],\n",
       "  'moon': ['mond'],\n",
       "  'sun': ['sonne']},\n",
       " ('eng', 'hun'): {'cat': ['macska'],\n",
       "  'dog': ['kutya'],\n",
       "  'moon': ['hold'],\n",
       "  'sun': ['nap']},\n",
       " ('hun', 'deu'): {'hold': ['mond'],\n",
       "  'kutya': ['hund'],\n",
       "  'macska': ['katze'],\n",
       "  'nap': ['sonne']},\n",
       " ('hun', 'eng'): {'hold': ['moon'],\n",
       "  'kutya': ['dog'],\n",
       "  'macska': ['cat'],\n",
       "  'nap': ['sun']}}"
      ]
     },
     "execution_count": 7,
     "metadata": {},
     "output_type": "execute_result"
    }
   ],
   "source": [
    "d_dict"
   ]
  },
  {
   "cell_type": "markdown",
   "metadata": {},
   "source": [
    "Calculate precision"
   ]
  },
  {
   "cell_type": "code",
   "execution_count": 8,
   "metadata": {},
   "outputs": [],
   "source": [
    "def calc_precision(precs, model_src_tr, model_tar, dict_scr_2_tar):\n",
    "    W_src_tr = model_src_tr.syn0\n",
    "    W_tar = model_tar.syn0\n",
    "    idx_src_tr = model_src_tr.index2word\n",
    "    idx_tar = model_tar.index2word\n",
    "    \n",
    "    cos_mx = cosine_similarity(W_src_tr, W_tar)\n",
    "    sim_mx = np.argsort(-cos_mx)\n",
    "    max_prec = max(precs)\n",
    "    prec_cnt = np.zeros(shape=(1, max_prec))\n",
    "    print('word: \\ttranslations in dict: \\tclosest words after translation: \\t')\n",
    "    for i, r in enumerate(sim_mx):\n",
    "        key_word = idx_src_tr[i]\n",
    "        value_words = dict_scr_2_tar[key_word]\n",
    "        closest_words = []\n",
    "        for j in range(max_prec):       \n",
    "            ans = np.where(r==j)\n",
    "            idx_orig = ans[0][0]\n",
    "            word = idx_tar[idx_orig]\n",
    "            closest_words.append(word)\n",
    "            if word in value_words:\n",
    "                prec_cnt[0][j] = prec_cnt[0][j] + 1\n",
    "        print('{}\"\\t{}\\t{}'.format(key_word, value_words, closest_words))\n",
    "    print(prec_cnt)\n",
    "    for i, val in enumerate(precs):\n",
    "        sum_hit = np.sum(prec_cnt[0][0:val])\n",
    "        print('prec {} : {}'.format(val, float(sum_hit)/sim_mx.shape[0]))"
   ]
  },
  {
   "cell_type": "markdown",
   "metadata": {},
   "source": [
    "Testing precision calculation"
   ]
  },
  {
   "cell_type": "code",
   "execution_count": 9,
   "metadata": {},
   "outputs": [
    {
     "name": "stdout",
     "output_type": "stream",
     "text": [
      "word: \ttranslations in dict: \tclosest words after translation: \t\n",
      "dog\"\t['hund']\t['mond']\n",
      "cat\"\t['katze']\t['mond']\n",
      "sun\"\t['sonne']\t['hund']\n",
      "moon\"\t['mond']\t['katze']\n",
      "[[ 0.]]\n",
      "prec 1 : 0.0\n",
      "word: \ttranslations in dict: \tclosest words after translation: \t\n",
      "dog\"\t['hund']\t['mond', 'hund']\n",
      "cat\"\t['katze']\t['mond', 'katze']\n",
      "sun\"\t['sonne']\t['hund', 'katze']\n",
      "moon\"\t['mond']\t['katze', 'hund']\n",
      "[[ 0.  2.]]\n",
      "prec 2 : 0.5\n",
      "word: \ttranslations in dict: \tclosest words after translation: \t\n",
      "dog\"\t['hund']\t['mond', 'hund', 'sonne']\n",
      "cat\"\t['katze']\t['mond', 'katze', 'sonne']\n",
      "sun\"\t['sonne']\t['hund', 'katze', 'sonne']\n",
      "moon\"\t['mond']\t['katze', 'hund', 'sonne']\n",
      "[[ 0.  2.  1.]]\n",
      "prec 3 : 0.75\n",
      "word: \ttranslations in dict: \tclosest words after translation: \t\n",
      "dog\"\t['hund']\t['mond', 'hund', 'sonne', 'katze']\n",
      "cat\"\t['katze']\t['mond', 'katze', 'sonne', 'hund']\n",
      "sun\"\t['sonne']\t['hund', 'katze', 'sonne', 'mond']\n",
      "moon\"\t['mond']\t['katze', 'hund', 'sonne', 'mond']\n",
      "[[ 0.  2.  1.  1.]]\n",
      "prec 4 : 1.0\n"
     ]
    }
   ],
   "source": [
    "# Precision without translation\n",
    "calc_precision([1], d_models['eng'], d_models['deu'], d_dict[('eng', 'deu')])\n",
    "calc_precision([2], d_models['eng'], d_models['deu'], d_dict[('eng', 'deu')])\n",
    "calc_precision([3], d_models['eng'], d_models['deu'], d_dict[('eng', 'deu')])\n",
    "calc_precision([4], d_models['eng'], d_models['deu'], d_dict[('eng', 'deu')])"
   ]
  },
  {
   "cell_type": "markdown",
   "metadata": {},
   "source": [
    "Doing training"
   ]
  },
  {
   "cell_type": "code",
   "execution_count": 10,
   "metadata": {},
   "outputs": [],
   "source": [
    "def train(langs, d_models, d_wps, dim, iters, lr=0.3):\n",
    "    nb_langs = len(langs)\n",
    "\n",
    "    # Init graphs\n",
    "    graph = tf.Graph()\n",
    "    with graph.as_default():\n",
    "        # TF variables \n",
    "        # Placeholder for 2 words\n",
    "        tf_w1 = tf.placeholder(tf.float32, shape=[None, dim])\n",
    "        tf_w2 = tf.placeholder(tf.float32, shape=[None, dim])\n",
    "        # Placeholder for indexing the T matrix\n",
    "        tf_idx_l1 = tf.placeholder(tf.int32)\n",
    "        tf_idx_l2 = tf.placeholder(tf.int32)\n",
    "        # Translation matrices\n",
    "        tf_T = tf.Variable(tf.truncated_normal([nb_langs, dim, dim]))\n",
    "\n",
    "        # Loss\n",
    "        loss = tf.matmul(tf.matmul(tf_w1, tf_T[tf_idx_l1]), tf.transpose(tf.matmul(tf_w2, tf_T[tf_idx_l2])))\n",
    "        # Applying SGD\n",
    "        optimizer = tf.train.GradientDescentOptimizer(lr).minimize(loss)\n",
    "\n",
    "    with tf.Session(graph=graph) as session:\n",
    "        tf.global_variables_initializer().run()\n",
    "\n",
    "        for i in range(iters):\n",
    "            for ((l1, l2), wp_l) in d_wps.items():\n",
    "                print('Iterating: {0} - {1}'.format(l1, l2))\n",
    "                idx_l1 = langs.index(l1)\n",
    "                idx_l2 = langs.index(l2)\n",
    "                for (w1, w2) in wp_l:\n",
    "                    emb1 = d_models[l1][w1].reshape((1, 300))\n",
    "                    emb2 = d_models[l2][w2].reshape((1, 300))\n",
    "                     # Run the computations\n",
    "                    _, l, T = session.run([optimizer, loss, tf_T], \n",
    "                                          feed_dict={tf_w1 : emb1, \n",
    "                                                     tf_w2 : emb2, \n",
    "                                                     tf_idx_l1 : idx_l1, \n",
    "                                                     tf_idx_l2 : idx_l2})\n",
    "                    print(l)\n",
    "    return T"
   ]
  },
  {
   "cell_type": "markdown",
   "metadata": {},
   "source": [
    "Testing train function"
   ]
  },
  {
   "cell_type": "code",
   "execution_count": 11,
   "metadata": {},
   "outputs": [
    {
     "name": "stdout",
     "output_type": "stream",
     "text": [
      "Iterating: deu - eng\n",
      "[[ 40.94573212]]\n",
      "[[-19876.484375]]\n",
      "[[-146514.484375]]\n",
      "[[-4673988.5]]\n",
      "Iterating: deu - hun\n",
      "[[-28717.79296875]]\n",
      "[[ -2.42939728e+08]]\n",
      "[[ -2.32002970e+09]]\n",
      "[[ -8.90352353e+10]]\n",
      "Iterating: eng - hun\n",
      "[[  1.67616307e+09]]\n",
      "[[ -1.52865761e+12]]\n",
      "[[ -6.07842258e+12]]\n",
      "[[ -2.39473955e+14]]\n",
      "Iterating: deu - eng\n",
      "[[  1.85105352e+13]]\n",
      "[[ -1.66006083e+15]]\n",
      "[[ -1.50816477e+16]]\n",
      "[[ -4.98228060e+17]]\n",
      "Iterating: deu - hun\n",
      "[[  9.37692636e+16]]\n",
      "[[ -1.00782775e+19]]\n",
      "[[ -1.03338286e+20]]\n",
      "[[ -4.24081740e+21]]\n",
      "Iterating: eng - hun\n",
      "[[  1.23800981e+20]]\n",
      "[[ -6.84461035e+22]]\n",
      "[[ -2.66906336e+23]]\n",
      "[[ -1.07605438e+25]]\n",
      "Iterating: deu - eng\n",
      "[[  8.91777218e+23]]\n",
      "[[ -7.35616862e+25]]\n",
      "[[ -6.70628651e+26]]\n",
      "[[ -2.22096296e+28]]\n",
      "Iterating: deu - hun\n",
      "[[  4.19260492e+27]]\n",
      "[[ -4.47655937e+29]]\n",
      "[[ -4.59196540e+30]]\n",
      "[[ -1.88518558e+32]]\n",
      "Iterating: eng - hun\n",
      "[[  5.51923054e+30]]\n",
      "[[ -3.04153264e+33]]\n",
      "[[ -1.18589159e+34]]\n",
      "[[ -4.78179792e+35]]\n",
      "Iterating: deu - eng\n",
      "[[  3.96452254e+34]]\n",
      "[[ -3.26865355e+36]]\n",
      "[[ -2.97994968e+37]]\n",
      "[[-inf]]\n",
      "Iterating: deu - hun\n",
      "[[  1.86307278e+38]]\n",
      "[[-inf]]\n",
      "[[-inf]]\n",
      "[[-inf]]\n",
      "Iterating: eng - hun\n",
      "[[ inf]]\n",
      "[[-inf]]\n",
      "[[-inf]]\n",
      "[[-inf]]\n",
      "Iterating: deu - eng\n",
      "[[ inf]]\n",
      "[[-inf]]\n",
      "[[-inf]]\n",
      "[[-inf]]\n",
      "Iterating: deu - hun\n",
      "[[ inf]]\n",
      "[[-inf]]\n",
      "[[-inf]]\n",
      "[[-inf]]\n",
      "Iterating: eng - hun\n",
      "[[ inf]]\n",
      "[[-inf]]\n",
      "[[-inf]]\n",
      "[[-inf]]\n",
      "Iterating: deu - eng\n",
      "[[ inf]]\n",
      "[[-inf]]\n",
      "[[-inf]]\n",
      "[[-inf]]\n",
      "Iterating: deu - hun\n",
      "[[ inf]]\n",
      "[[-inf]]\n",
      "[[-inf]]\n",
      "[[-inf]]\n",
      "Iterating: eng - hun\n",
      "[[ inf]]\n",
      "[[-inf]]\n",
      "[[-inf]]\n",
      "[[-inf]]\n",
      "Iterating: deu - eng\n",
      "[[ inf]]\n",
      "[[-inf]]\n",
      "[[-inf]]\n",
      "[[-inf]]\n",
      "Iterating: deu - hun\n",
      "[[ inf]]\n",
      "[[-inf]]\n",
      "[[-inf]]\n",
      "[[-inf]]\n",
      "Iterating: eng - hun\n",
      "[[ inf]]\n",
      "[[-inf]]\n",
      "[[-inf]]\n",
      "[[-inf]]\n"
     ]
    }
   ],
   "source": [
    "T = train(langs, d_models, d_wps, 300, 7)"
   ]
  },
  {
   "cell_type": "code",
   "execution_count": 12,
   "metadata": {},
   "outputs": [
    {
     "name": "stdout",
     "output_type": "stream",
     "text": [
      "[('cat', 0.6380517482757568), ('moon', 0.2543850839138031), ('sun', 0.1620684415102005)]\n",
      "[('cat', 0.5572469234466553), ('moon', 0.5255287885665894), ('sun', -0.3962933123111725)]\n"
     ]
    }
   ],
   "source": [
    "m1 = copy.deepcopy(d_models['eng'])\n",
    "m2 = copy.deepcopy(m1)\n",
    "\n",
    "W = copy.deepcopy(m2.syn0)\n",
    "T = np.random.rand(300,300)\n",
    "# print(W)\n",
    "# print(T)\n",
    "m2.syn0 = np.dot(W, T)\n",
    "# print(m2.syn0)\n",
    "print(m1.most_similar('dog'))\n",
    "print(m2.most_similar('dog'))"
   ]
  },
  {
   "cell_type": "code",
   "execution_count": null,
   "metadata": {},
   "outputs": [],
   "source": []
  },
  {
   "cell_type": "code",
   "execution_count": null,
   "metadata": {},
   "outputs": [],
   "source": []
  }
 ],
 "metadata": {
  "kernelspec": {
   "display_name": "Python 3",
   "language": "python",
   "name": "python3"
  },
  "language_info": {
   "codemirror_mode": {
    "name": "ipython",
    "version": 3
   },
   "file_extension": ".py",
   "mimetype": "text/x-python",
   "name": "python",
   "nbconvert_exporter": "python",
   "pygments_lexer": "ipython3",
   "version": "3.5.2"
  }
 },
 "nbformat": 4,
 "nbformat_minor": 2
}
