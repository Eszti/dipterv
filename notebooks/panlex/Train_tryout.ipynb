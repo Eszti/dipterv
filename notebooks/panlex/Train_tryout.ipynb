{
 "cells": [
  {
   "cell_type": "code",
   "execution_count": 10,
   "metadata": {},
   "outputs": [],
   "source": [
    "import tensorflow as tf\n",
    "import numpy as np\n",
    "from sklearn.metrics.pairwise import cosine_similarity"
   ]
  },
  {
   "cell_type": "markdown",
   "metadata": {},
   "source": [
    "Initialize"
   ]
  },
  {
   "cell_type": "code",
   "execution_count": 37,
   "metadata": {},
   "outputs": [],
   "source": [
    "def read_word2vec_text(vectors_fn, vocab_fn=\"\", fmt=\"float64\"):\n",
    "    with open(vectors_fn) as f:\n",
    "        file_pos = f.tell()\n",
    "        V = np.loadtxt(f, dtype=str, comments=None, usecols=(0,), skiprows=1)\n",
    "        word2index = {w: i for i, w in enumerate(V)}\n",
    "        print(word2index)\n",
    "        f.seek(file_pos)\n",
    "        W = np.loadtxt(f, dtype=fmt, comments=None, skiprows=1, converters={0: lambda x: 0.0})\n",
    "        if len(word2index) != len(W):\n",
    "            print >>sys.stderr, \"WARNING:\", len(word2index),\n",
    "            print >>sys.stderr, \"disjoint words in embedding of length\", len(W)\n",
    "    return W[:, 1:], word2index"
   ]
  },
  {
   "cell_type": "code",
   "execution_count": 40,
   "metadata": {},
   "outputs": [
    {
     "name": "stdout",
     "output_type": "stream",
     "text": [
      "{'dog': 0, 'kutya': 4, 'macska': 5, 'gatto': 9, 'gato': 7, 'hund': 2, 'perro': 6, 'cat': 1, 'katze': 3, 'cane': 8, 'chat': 11, 'chien': 10}\n"
     ]
    },
    {
     "data": {
      "text/plain": [
       "12"
      ]
     },
     "execution_count": 40,
     "metadata": {},
     "output_type": "execute_result"
    }
   ],
   "source": [
    "fn = '/home/eszti/projects/dipterv/notebooks/panlex/train_try/6_dog_cat.vec'\n",
    "model = read_word2vec_text(fn)\n",
    "model[0].shape[0]"
   ]
  },
  {
   "cell_type": "code",
   "execution_count": null,
   "metadata": {},
   "outputs": [],
   "source": [
    "def calc_precision(precs, trans, orig, trans_list, orig_list, trans_orig_dict):\n",
    "    cos_mx = cosine_similarity(trans, orig)\n",
    "    sim_mx = np.argsort(-cos_mx)\n",
    "    max_prec = max(precs)\n",
    "    prec_cnt = np.zeros(shape=(1, max_prec))\n",
    "    print('word: \\ttranslations in dict: \\tclosest words after translation: \\t')\n",
    "    for i, r in enumerate(sim_mx):\n",
    "        key_word = trans_list[i]\n",
    "        value_words = trans_orig_dict[key_word]\n",
    "        closest_words = []\n",
    "        for j in range(max_prec):       \n",
    "            ans = np.where(r==j)\n",
    "            idx_orig = ans[0][0]\n",
    "            word = orig_list[idx_orig]\n",
    "            closest_words.append(word)\n",
    "            if word in value_words:\n",
    "                prec_cnt[0][j] = prec_cnt[0][j] + 1\n",
    "        print('{}\"\\t{}\\t{}'.format(word.encode('utf-8'), value_words, closest_words))\n",
    "    print prec_cnt\n",
    "    for i, val in enumerate(precs):\n",
    "        sum_hit = np.sum(prec_cnt[0][0:val])\n",
    "        print('prec {} : {}'.format(val, float(sum_hit)/sim_mx.shape[0]))"
   ]
  },
  {
   "cell_type": "code",
   "execution_count": 8,
   "metadata": {},
   "outputs": [],
   "source": [
    "def train(langs, embs, d_idxs, d_wordpairs, dim, iters, lr=0.3):\n",
    "    nb_langs = len(langs)\n",
    "\n",
    "    # Init graphs\n",
    "    graph = tf.Graph()\n",
    "    with graph.as_default():\n",
    "        # TF variables \n",
    "        # Placeholder for 2 words\n",
    "        tf_w1 = tf.placeholder(tf.float64, shape=[None, dim])\n",
    "        tf_w2 = tf.placeholder(tf.float64, shape=[None, dim])\n",
    "        # Translation matrices\n",
    "        tf_T = tf.Variable(tf.truncated_normal([nb_langs, dim, dim]))\n",
    "\n",
    "        # Loss\n",
    "        loss = tf.Variable([0], tf.float64)\n",
    "        for (l1, l2), wps in d_wordpairs.items():\n",
    "            for (w1, w2) in wps:\n",
    "                idx_l1 = langs.index(l1)\n",
    "                idx_l2 = langs.index(l2)\n",
    "                idx_w1 = d_idx[l1][w1]\n",
    "                idx_w2 = d_idx[l2][w2]\n",
    "                # (Wi*Ti)*(Wj*Tj)'\n",
    "                loss += tf.matmul(tf.matmul(tf_W_emb[idx_w1], tf_T[idx_l1]), \n",
    "                                  tf.transpose(tf.matmul(tf_W_emb[idx_w2], tf_T[idx_l2])))\n",
    "\n",
    "        optimizer = tf.train.GradientDescentOptimizer(lr).minimize(loss)\n",
    "\n",
    "    with tf.Session(graph=graph) as session:\n",
    "        tf.global_variables_initializer().run()\n",
    "\n",
    "        for i in range(iters):\n",
    "             # Run the computations\n",
    "            _, l, T = session.run([optimizer, loss, tf_T])"
   ]
  },
  {
   "cell_type": "code",
   "execution_count": null,
   "metadata": {},
   "outputs": [],
   "source": []
  }
 ],
 "metadata": {
  "kernelspec": {
   "display_name": "Python 3",
   "language": "python",
   "name": "python3"
  },
  "language_info": {
   "codemirror_mode": {
    "name": "ipython",
    "version": 3
   },
   "file_extension": ".py",
   "mimetype": "text/x-python",
   "name": "python",
   "nbconvert_exporter": "python",
   "pygments_lexer": "ipython3",
   "version": "3.5.2"
  }
 },
 "nbformat": 4,
 "nbformat_minor": 2
}
