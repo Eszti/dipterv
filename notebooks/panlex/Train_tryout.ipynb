{
 "cells": [
  {
   "cell_type": "code",
   "execution_count": 107,
   "metadata": {},
   "outputs": [],
   "source": [
    "import tensorflow as tf\n",
    "import numpy as np\n",
    "from sklearn.metrics.pairwise import cosine_similarity\n",
    "import os\n",
    "import copy\n",
    "from gensim.models import KeyedVectors"
   ]
  },
  {
   "cell_type": "code",
   "execution_count": 108,
   "metadata": {},
   "outputs": [],
   "source": [
    "# Conf\n",
    "langs = ['eng', 'deu', 'hun']"
   ]
  },
  {
   "cell_type": "markdown",
   "metadata": {},
   "source": [
    "Read embeddings and indices"
   ]
  },
  {
   "cell_type": "code",
   "execution_count": 109,
   "metadata": {},
   "outputs": [],
   "source": [
    "fold = '/home/eszti/projects/dipterv/notebooks/panlex/train_try/t0'\n",
    "\n",
    "d_models = dict()\n",
    "for l in langs:\n",
    "    fn = os.path.join(fold, '{}.vec'.format(l))\n",
    "    model = KeyedVectors.load_word2vec_format(fn, binary=False)\n",
    "    d_models[l] = model"
   ]
  },
  {
   "cell_type": "code",
   "execution_count": 110,
   "metadata": {},
   "outputs": [
    {
     "name": "stdout",
     "output_type": "stream",
     "text": [
      "(4, 300)\n",
      "['kutya', 'macska', 'nap', 'hold']\n"
     ]
    }
   ],
   "source": [
    "# test\n",
    "print(d_models['hun'].syn0.shape)\n",
    "print(d_models['hun'].index2word)"
   ]
  },
  {
   "cell_type": "markdown",
   "metadata": {},
   "source": [
    "Read words pairs from tsv"
   ]
  },
  {
   "cell_type": "code",
   "execution_count": 111,
   "metadata": {},
   "outputs": [],
   "source": [
    "def read_word_pairs_tsv(fn, id1, id2):\n",
    "    with open(fn) as f:\n",
    "        lines = f.readlines()\n",
    "        data = [(line.split()[id1], line.split()[id2]) for i, line in enumerate(lines) if i > 0]\n",
    "    return data"
   ]
  },
  {
   "cell_type": "code",
   "execution_count": 112,
   "metadata": {},
   "outputs": [],
   "source": [
    "fold = '/home/eszti/projects/dipterv/notebooks/panlex/train_try/t0'\n",
    "id1 = 2\n",
    "id2 = 3\n",
    "# Dict for word pairs\n",
    "d_wps = dict()\n",
    "done = set()\n",
    "for lang1 in langs:\n",
    "    for lang2 in langs:\n",
    "        lang_pair = tuple(sorted([lang1, lang2]))\n",
    "        if lang1 == lang2 or lang_pair in done:\n",
    "            continue\n",
    "        done.add(lang_pair)\n",
    "        l1 = lang_pair[0]\n",
    "        l2 = lang_pair[1]\n",
    "        fn = os.path.join(fold, '{0}_{1}.tsv'.format(l1, l2))\n",
    "        data = read_word_pairs_tsv(fn, id1, id2)\n",
    "        d_wps[lang_pair] = data"
   ]
  },
  {
   "cell_type": "code",
   "execution_count": 113,
   "metadata": {},
   "outputs": [
    {
     "data": {
      "text/plain": [
       "{('deu', 'eng'): [('katze', 'cat'),\n",
       "  ('hund', 'dog'),\n",
       "  ('mond', 'moon'),\n",
       "  ('sonne', 'sun')],\n",
       " ('deu', 'hun'): [('hund', 'kutya'),\n",
       "  ('katze', 'macska'),\n",
       "  ('mond', 'hold'),\n",
       "  ('sonne', 'nap')],\n",
       " ('eng', 'hun'): [('cat', 'macska'),\n",
       "  ('dog', 'kutya'),\n",
       "  ('sun', 'nap'),\n",
       "  ('moon', 'hold')]}"
      ]
     },
     "execution_count": 113,
     "metadata": {},
     "output_type": "execute_result"
    }
   ],
   "source": [
    "d_wps"
   ]
  },
  {
   "cell_type": "markdown",
   "metadata": {},
   "source": [
    "Calculate precision"
   ]
  },
  {
   "cell_type": "code",
   "execution_count": 114,
   "metadata": {},
   "outputs": [],
   "source": [
    "def precision():\n",
    "    # Todo\n",
    "    pass"
   ]
  },
  {
   "cell_type": "markdown",
   "metadata": {},
   "source": [
    "Doing training"
   ]
  },
  {
   "cell_type": "code",
   "execution_count": 115,
   "metadata": {},
   "outputs": [],
   "source": [
    "def train(langs, d_embs, d_idxs, d_wordpairs, dim, iters, lr=0.3):\n",
    "    nb_langs = len(langs)\n",
    "\n",
    "    # Init graphs\n",
    "    graph = tf.Graph()\n",
    "    with graph.as_default():\n",
    "        # TF variables \n",
    "        # Placeholder for 2 words\n",
    "        tf_w1 = tf.placeholder(tf.float64, shape=[None, dim])\n",
    "        tf_w2 = tf.placeholder(tf.float64, shape=[None, dim])\n",
    "        # Placeholder for indexing the T matrix\n",
    "        tf_idx_l1 = tf.placeholder(tf.int32)\n",
    "        tf_idx_l2 = tf.placeholder(tf.int32)\n",
    "        # Translation matrices\n",
    "        tf_T = tf.Variable(tf.truncated_normal([nb_langs, dim, dim]))\n",
    "\n",
    "        # Loss\n",
    "        loss = tf.matmul(tf.matmul(tf_w1, tf_T[tf_idx_l1]), tf.transpose(tf.matmul(tf_w2, tf_T[tf_idx_l2])))\n",
    "\n",
    "        optimizer = tf.train.GradientDescentOptimizer(lr).minimize(loss)\n",
    "\n",
    "    with tf.Session(graph=graph) as session:\n",
    "        tf.global_variables_initializer().run()\n",
    "\n",
    "        for i in range(iters):\n",
    "             # Run the computations\n",
    "            _, l, T = session.run([optimizer, loss, tf_T])\n",
    "            # Todo : como funciona?\n",
    "            session.run(train_step, feed_dict={x: batch_x, y: batch_y})"
   ]
  },
  {
   "cell_type": "code",
   "execution_count": null,
   "metadata": {},
   "outputs": [],
   "source": []
  },
  {
   "cell_type": "code",
   "execution_count": 145,
   "metadata": {},
   "outputs": [
    {
     "name": "stdout",
     "output_type": "stream",
     "text": [
      "[('cat', 0.6380517482757568), ('moon', 0.2543850839138031), ('sun', 0.1620684415102005)]\n",
      "[('cat', 0.5462808609008789), ('moon', 0.5094023942947388), ('sun', -0.38269948959350586)]\n"
     ]
    }
   ],
   "source": [
    "m1 = copy.deepcopy(d_models['eng'])\n",
    "m2 = copy.deepcopy(m1)\n",
    "\n",
    "W = copy.deepcopy(m2.syn0)\n",
    "T = np.random.rand(300,300)\n",
    "# print(W)\n",
    "# print(T)\n",
    "m2.syn0 = np.dot(W, T)\n",
    "# print(m2.syn0)\n",
    "print(m1.most_similar('dog'))\n",
    "print(m2.most_similar('dog'))"
   ]
  },
  {
   "cell_type": "code",
   "execution_count": null,
   "metadata": {},
   "outputs": [],
   "source": []
  },
  {
   "cell_type": "code",
   "execution_count": null,
   "metadata": {},
   "outputs": [],
   "source": []
  }
 ],
 "metadata": {
  "kernelspec": {
   "display_name": "Python 3",
   "language": "python",
   "name": "python3"
  },
  "language_info": {
   "codemirror_mode": {
    "name": "ipython",
    "version": 3
   },
   "file_extension": ".py",
   "mimetype": "text/x-python",
   "name": "python",
   "nbconvert_exporter": "python",
   "pygments_lexer": "ipython3",
   "version": "3.5.2"
  }
 },
 "nbformat": 4,
 "nbformat_minor": 2
}
