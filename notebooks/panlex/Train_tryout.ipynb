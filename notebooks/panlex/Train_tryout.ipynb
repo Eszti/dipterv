{
 "cells": [
  {
   "cell_type": "code",
   "execution_count": 135,
   "metadata": {},
   "outputs": [],
   "source": [
    "import tensorflow as tf\n",
    "import numpy as np\n",
    "from sklearn.metrics.pairwise import cosine_similarity\n",
    "import os\n",
    "import copy\n",
    "from gensim.models import KeyedVectors\n",
    "import matplotlib.pyplot as plt"
   ]
  },
  {
   "cell_type": "code",
   "execution_count": 136,
   "metadata": {},
   "outputs": [],
   "source": [
    "# Conf\n",
    "langs = ['eng', 'deu', 'hun']"
   ]
  },
  {
   "cell_type": "markdown",
   "metadata": {},
   "source": [
    "Read embeddings and indices"
   ]
  },
  {
   "cell_type": "code",
   "execution_count": 137,
   "metadata": {},
   "outputs": [],
   "source": [
    "fold = '/home/eszti/projects/dipterv/notebooks/panlex/train_try/t0'\n",
    "\n",
    "d_models = dict()\n",
    "for l in langs:\n",
    "    fn = os.path.join(fold, '{}.vec'.format(l))\n",
    "    model = KeyedVectors.load_word2vec_format(fn, binary=False)\n",
    "    model.syn0 /= np.sqrt((model.syn0**2).sum(1))[:, None]\n",
    "    d_models[l] = model"
   ]
  },
  {
   "cell_type": "code",
   "execution_count": 138,
   "metadata": {},
   "outputs": [
    {
     "name": "stdout",
     "output_type": "stream",
     "text": [
      "(4, 300)\n",
      "['kutya', 'macska', 'nap', 'hold']\n"
     ]
    },
    {
     "data": {
      "text/plain": [
       "1.0"
      ]
     },
     "execution_count": 138,
     "metadata": {},
     "output_type": "execute_result"
    }
   ],
   "source": [
    "# test\n",
    "print(d_models['hun'].syn0.shape)\n",
    "print(d_models['hun'].index2word)\n",
    "\n",
    "np.linalg.norm(d_models['hun']['kutya'])"
   ]
  },
  {
   "cell_type": "markdown",
   "metadata": {},
   "source": [
    "Read words pairs from tsv"
   ]
  },
  {
   "cell_type": "code",
   "execution_count": 139,
   "metadata": {},
   "outputs": [],
   "source": [
    "def read_word_pairs_tsv(fn, id1, id2):\n",
    "    with open(fn) as f:\n",
    "        lines = f.readlines()\n",
    "        data = [(line.split()[id1], line.split()[id2]) for i, line in enumerate(lines) if i > 0]\n",
    "    return data\n",
    "\n",
    "def wp_list_2_dict(lang_pair, wp_l):\n",
    "    l1 = lang_pair[0]\n",
    "    l2 = lang_pair[1]\n",
    "    l12 = dict()\n",
    "    l21 = dict()\n",
    "    for (w1, w2) in wp_l:\n",
    "        if w1 not in l12:\n",
    "            l12[w1] = [w2]\n",
    "        else:\n",
    "            l12[w1] += w2\n",
    "        if w2 not in l21:\n",
    "            l21[w2] = [w1]\n",
    "        else:\n",
    "            l21[w2] += w1\n",
    "    return l12, l21"
   ]
  },
  {
   "cell_type": "code",
   "execution_count": 140,
   "metadata": {},
   "outputs": [],
   "source": [
    "fold = '/home/eszti/projects/dipterv/notebooks/panlex/train_try/t0'\n",
    "id1 = 2\n",
    "id2 = 3\n",
    "# Dict for word pairs\n",
    "d_wps = dict()\n",
    "done = set()\n",
    "for lang1 in langs:\n",
    "    for lang2 in langs:\n",
    "        lang_pair = tuple(sorted([lang1, lang2]))\n",
    "        if lang1 == lang2 or lang_pair in done:\n",
    "            continue\n",
    "        done.add(lang_pair)\n",
    "        l1 = lang_pair[0]\n",
    "        l2 = lang_pair[1]\n",
    "        fn = os.path.join(fold, '{0}_{1}.tsv'.format(l1, l2))\n",
    "        data = read_word_pairs_tsv(fn, id1, id2)\n",
    "        d_wps[lang_pair] = data\n",
    "\n",
    "d_dict = dict()\n",
    "for ((l1, l2), wp_l) in d_wps.items():\n",
    "    l12, l21 = wp_list_2_dict((l1, l2), wp_l)\n",
    "    d_dict[(l1, l2)] = l12\n",
    "    d_dict[(l2, l1)] = l21"
   ]
  },
  {
   "cell_type": "code",
   "execution_count": 141,
   "metadata": {},
   "outputs": [
    {
     "data": {
      "text/plain": [
       "{('deu', 'eng'): {'hund': ['dog'],\n",
       "  'katze': ['cat'],\n",
       "  'mond': ['moon'],\n",
       "  'sonne': ['sun']},\n",
       " ('deu', 'hun'): {'hund': ['kutya'],\n",
       "  'katze': ['macska'],\n",
       "  'mond': ['hold'],\n",
       "  'sonne': ['nap']},\n",
       " ('eng', 'deu'): {'cat': ['katze'],\n",
       "  'dog': ['hund'],\n",
       "  'moon': ['mond'],\n",
       "  'sun': ['sonne']},\n",
       " ('eng', 'hun'): {'cat': ['macska'],\n",
       "  'dog': ['kutya'],\n",
       "  'moon': ['hold'],\n",
       "  'sun': ['nap']},\n",
       " ('hun', 'deu'): {'hold': ['mond'],\n",
       "  'kutya': ['hund'],\n",
       "  'macska': ['katze'],\n",
       "  'nap': ['sonne']},\n",
       " ('hun', 'eng'): {'hold': ['moon'],\n",
       "  'kutya': ['dog'],\n",
       "  'macska': ['cat'],\n",
       "  'nap': ['sun']}}"
      ]
     },
     "execution_count": 141,
     "metadata": {},
     "output_type": "execute_result"
    }
   ],
   "source": [
    "d_dict"
   ]
  },
  {
   "cell_type": "markdown",
   "metadata": {},
   "source": [
    "Calculate precision"
   ]
  },
  {
   "cell_type": "code",
   "execution_count": 142,
   "metadata": {},
   "outputs": [],
   "source": [
    "# model_src_tr : source language translated embeddings\n",
    "# model_tar : target language embeddings\n",
    "# dict_scr_2_tar : dictionary from source to target\n",
    "def calc_precision(precs, model_src_tr, model_tar, dict_scr_2_tar, verbose=False):\n",
    "    W_src_tr = model_src_tr.syn0\n",
    "    W_tar = model_tar.syn0\n",
    "    idx_src_tr = model_src_tr.index2word\n",
    "    idx_tar = model_tar.index2word\n",
    "    \n",
    "    cos_mx = cosine_similarity(W_src_tr, W_tar)\n",
    "    sim_mx = np.argsort(-cos_mx)\n",
    "    max_prec = max(precs)\n",
    "    prec_cnt = np.zeros(shape=(1, max_prec))\n",
    "    if verbose:\n",
    "        print('word: \\ttranslations in dict: \\tclosest words after translation: \\t')\n",
    "    for i, r in enumerate(sim_mx):\n",
    "        key_word = idx_src_tr[i]\n",
    "        value_words = dict_scr_2_tar[key_word]\n",
    "        closest_words = []\n",
    "        for j in range(max_prec):       \n",
    "            ans = np.where(r==j)\n",
    "            idx_orig = ans[0][0]\n",
    "            word = idx_tar[idx_orig]\n",
    "            closest_words.append(word)\n",
    "            if word in value_words:\n",
    "                prec_cnt[0][j] = prec_cnt[0][j] + 1\n",
    "        if verbose:\n",
    "            print('{}\"\\t{}\\t{}'.format(key_word, value_words, closest_words))\n",
    "    if verbose:\n",
    "        print(prec_cnt)\n",
    "    prec_pcnts = []\n",
    "    for i, val in enumerate(precs):\n",
    "        sum_hit = np.sum(prec_cnt[0][0:val])\n",
    "        pcnt = float(sum_hit)/sim_mx.shape[0]\n",
    "        if verbose:\n",
    "            print('prec {} : {}'.format(val, pcnt))\n",
    "        prec_pcnts.append(pcnt)\n",
    "    return prec_pcnts"
   ]
  },
  {
   "cell_type": "markdown",
   "metadata": {},
   "source": [
    "Testing precision calculation"
   ]
  },
  {
   "cell_type": "code",
   "execution_count": 143,
   "metadata": {},
   "outputs": [
    {
     "name": "stdout",
     "output_type": "stream",
     "text": [
      "word: \ttranslations in dict: \tclosest words after translation: \t\n",
      "dog\"\t['hund']\t['mond']\n",
      "cat\"\t['katze']\t['mond']\n",
      "sun\"\t['sonne']\t['hund']\n",
      "moon\"\t['mond']\t['katze']\n",
      "[[ 0.]]\n",
      "prec 1 : 0.0\n",
      "word: \ttranslations in dict: \tclosest words after translation: \t\n",
      "dog\"\t['hund']\t['mond', 'hund']\n",
      "cat\"\t['katze']\t['mond', 'katze']\n",
      "sun\"\t['sonne']\t['hund', 'katze']\n",
      "moon\"\t['mond']\t['katze', 'hund']\n",
      "[[ 0.  2.]]\n",
      "prec 2 : 0.5\n",
      "word: \ttranslations in dict: \tclosest words after translation: \t\n",
      "dog\"\t['hund']\t['mond', 'hund', 'sonne']\n",
      "cat\"\t['katze']\t['mond', 'katze', 'sonne']\n",
      "sun\"\t['sonne']\t['hund', 'katze', 'sonne']\n",
      "moon\"\t['mond']\t['katze', 'hund', 'sonne']\n",
      "[[ 0.  2.  1.]]\n",
      "prec 3 : 0.75\n",
      "word: \ttranslations in dict: \tclosest words after translation: \t\n",
      "dog\"\t['hund']\t['mond', 'hund', 'sonne', 'katze']\n",
      "cat\"\t['katze']\t['mond', 'katze', 'sonne', 'hund']\n",
      "sun\"\t['sonne']\t['hund', 'katze', 'sonne', 'mond']\n",
      "moon\"\t['mond']\t['katze', 'hund', 'sonne', 'mond']\n",
      "[[ 0.  2.  1.  1.]]\n",
      "prec 4 : 1.0\n"
     ]
    },
    {
     "data": {
      "text/plain": [
       "[1.0]"
      ]
     },
     "execution_count": 143,
     "metadata": {},
     "output_type": "execute_result"
    }
   ],
   "source": [
    "# Precision without translation\n",
    "calc_precision([1], d_models['eng'], d_models['deu'], d_dict[('eng', 'deu')], verbose=True)\n",
    "calc_precision([2], d_models['eng'], d_models['deu'], d_dict[('eng', 'deu')], verbose=True)\n",
    "calc_precision([3], d_models['eng'], d_models['deu'], d_dict[('eng', 'deu')], verbose=True)\n",
    "calc_precision([4], d_models['eng'], d_models['deu'], d_dict[('eng', 'deu')], verbose=True)"
   ]
  },
  {
   "cell_type": "markdown",
   "metadata": {},
   "source": [
    "Doing training"
   ]
  },
  {
   "cell_type": "code",
   "execution_count": 144,
   "metadata": {},
   "outputs": [],
   "source": [
    "# langs : list containing sil codes of languages, tf_T follows the same order\n",
    "# d_models : dictionary, lang - embedding (KeyedVectors)\n",
    "# d_wps : dictiorary, lang_pair - wordpair list\n",
    "# dim : dimensiion of embedding\n",
    "# epochs : epochs to run\n",
    "# precs_to_calc : list of precisions to calculate, e.g. [1,3,5] if we want Precision @1, @3, @5\n",
    "# iters : optional, break after n update\n",
    "# lr : learning rate\n",
    "# svd : whether to do svd regularization\n",
    "# svd_f : how often regularize\n",
    "# verbose : print out details\n",
    "def train(langs, d_models, d_wps, dim, epochs, precs_to_calc, iters=None, lr=0.3, svd=False, svd_f=1, verbose=False):\n",
    "    nb_langs = len(langs)\n",
    "\n",
    "    # Init graphs\n",
    "    graph = tf.Graph()\n",
    "    with graph.as_default():\n",
    "        # TF variables \n",
    "        # Placeholder for 2 words\n",
    "        tf_w1 = tf.placeholder(tf.float32, shape=[None, dim])\n",
    "        tf_w2 = tf.placeholder(tf.float32, shape=[None, dim])\n",
    "        # Placeholder for indexing the T matrix\n",
    "        tf_idx_l1 = tf.placeholder(tf.int32)\n",
    "        tf_idx_l2 = tf.placeholder(tf.int32)\n",
    "        # Translation matrices\n",
    "        tf_T = tf.Variable(tf.truncated_normal([nb_langs, dim, dim]))\n",
    "        \n",
    "        # SVD reguralization\n",
    "        tf_s1, tf_U1, tf_V1 = tf.svd(tf_T[tf_idx_l1], full_matrices=True, compute_uv=True)\n",
    "        updated_1 = tf.assign(tf_T[tf_idx_l1], tf.matmul(tf_U1, tf_V1))\n",
    "        tf_s2, tf_U2, tf_V2 = tf.svd(tf_T[tf_idx_l2], full_matrices=True, compute_uv=True)\n",
    "        updated_2 = tf.assign(tf_T[tf_idx_l2], tf.matmul(tf_U2, tf_V2))\n",
    "\n",
    "        # Loss\n",
    "        tf_T1 = tf.matmul(tf_w1, tf_T[tf_idx_l1])\n",
    "        tf_T2 = tf.matmul(tf_w2, tf_T[tf_idx_l2])\n",
    "        tf_T1_n = tf.nn.l2_normalize(tf_T1, dim=1)\n",
    "        tf_T2_n = tf.nn.l2_normalize(tf_T2, dim=1)\n",
    "        loss = tf.matmul(tf_T1_n, tf.transpose(tf_T2_n))\n",
    "        loss = -loss\n",
    "        \n",
    "        # Applying optimizer, Todo: try different optimizers!!\n",
    "        # https://www.tensorflow.org/api_guides/python/train#Optimizers \n",
    "        optimizer = tf.train.AdagradOptimizer(lr).minimize(loss)\n",
    "\n",
    "    with tf.Session(graph=graph) as session:\n",
    "        tf.global_variables_initializer().run()\n",
    "\n",
    "        j = 0\n",
    "        lc_arr = []\n",
    "        precs_arr = []\n",
    "        for i in range(epochs):\n",
    "            loss_arr = []\n",
    "            for ((l1, l2), wp_l) in d_wps.items():\n",
    "                loss_arr_l = []\n",
    "                idx_l1 = langs.index(l1)\n",
    "                idx_l2 = langs.index(l2)\n",
    "                k = 0\n",
    "                for (w1, w2) in wp_l:\n",
    "                    emb1 = d_models[l1][w1].reshape((1, 300))\n",
    "                    emb2 = d_models[l2][w2].reshape((1, 300))\n",
    "                    # Todo: if we add \"or j == 0\" for some reason it's better in this mock example\n",
    "                    if (svd and i % svd_f == 0) or j == 0:\n",
    "                        _, l, _, _, T = session.run([optimizer, loss, updated_1, updated_2, tf_T], \n",
    "                                                      feed_dict={tf_w1 : emb1, \n",
    "                                                                 tf_w2 : emb2, \n",
    "                                                                 tf_idx_l1 : idx_l1, \n",
    "                                                                 tf_idx_l2 : idx_l2})\n",
    "                    else:\n",
    "                        _, l, T = session.run([optimizer, loss, tf_T],\n",
    "                                             feed_dict={tf_w1 : emb1, \n",
    "                                                        tf_w2 : emb2, \n",
    "                                                        tf_idx_l1 : idx_l1, \n",
    "                                                        tf_idx_l2 : idx_l2})\n",
    "                    j += 1\n",
    "                    k += 1\n",
    "                    loss_arr.append(-l[0][0])\n",
    "                    loss_arr_l.append(-l[0][0])\n",
    "                    if iters is not None and j == iters:\n",
    "                        break\n",
    "                loss_np_arr_l = np.asarray(loss_arr_l)\n",
    "                if verbose:\n",
    "                    print('{0} - {1}\\tavg loss: {2}'.format(l1, l2, np.average(loss_np_arr_l)))\n",
    "                if iters is not None and j == iters:\n",
    "                    break\n",
    "                    \n",
    "            # Monitoring for learning curve\n",
    "            loss_np_arr = np.asarray(loss_arr)\n",
    "            loss_epoch_avg = np.average(loss_np_arr)\n",
    "            if verbose:\n",
    "                print('{0}\\tavg loss: {1}'.format(i, loss_epoch_avg))\n",
    "            lc_arr.append(loss_epoch_avg)\n",
    "            \n",
    "            # Calculate precision\n",
    "            e_prec_l = []\n",
    "            for ((l1, l2), _) in d_wps.items():\n",
    "                m1 = copy.deepcopy(d_models[l1])\n",
    "                m2 = copy.deepcopy(d_models[l2])\n",
    "                idx_l1 = langs.index(l1)\n",
    "                idx_l2 = langs.index(l2)\n",
    "                T1 = T[idx_l1]\n",
    "                T2 = T[idx_l2]\n",
    "                m1.syn0 = np.dot(m1.syn0, T1)\n",
    "                m2.syn0 = np.dot(m2.syn0, T2)\n",
    "                precs_1 = calc_precision(precs_to_calc, m1, m2, d_dict[(l1, l2)], verbose=False)\n",
    "                precs_2 = calc_precision(precs_to_calc, m2, m1, d_dict[(l2, l1)], verbose=False)\n",
    "                e_prec_l.append(((l1, l2), precs_1))\n",
    "                e_prec_l.append(((l2, l1), precs_2))\n",
    "            precs_arr.append(e_prec_l)\n",
    "    return T, lc_arr, precs_arr"
   ]
  },
  {
   "cell_type": "markdown",
   "metadata": {},
   "source": [
    "Testing train function"
   ]
  },
  {
   "cell_type": "code",
   "execution_count": 145,
   "metadata": {},
   "outputs": [
    {
     "name": "stdout",
     "output_type": "stream",
     "text": [
      "[(('deu', 'eng'), [0.75, 1.0]), (('eng', 'deu'), [0.75, 1.0]), (('eng', 'hun'), [0.75, 1.0]), (('hun', 'eng'), [0.75, 1.0]), (('deu', 'hun'), [0.75, 1.0]), (('hun', 'deu'), [0.75, 1.0])]\n"
     ]
    }
   ],
   "source": [
    "T, lc, precs = train(langs, d_models, d_wps, 300, 20, [1, 2])\n",
    "print(precs[-1])\n",
    "# Check rank loss\n",
    "T1 = T[0]\n",
    "# print(np.linalg.svd(T1, compute_uv=False, full_matrices=False))"
   ]
  },
  {
   "cell_type": "code",
   "execution_count": 146,
   "metadata": {},
   "outputs": [
    {
     "data": {
      "image/png": "[encoded data removed]",
      "text/plain": [
       "<matplotlib.figure.Figure at 0x7f6a17076198>"
      ]
     },
     "metadata": {},
     "output_type": "display_data"
    }
   ],
   "source": [
    "# Display learning curve\n",
    "plt.plot(lc)\n",
    "plt.ylabel('avg cos sim over all train samples')\n",
    "plt.xlabel('epochs')\n",
    "plt.show()"
   ]
  },
  {
   "cell_type": "code",
   "execution_count": null,
   "metadata": {},
   "outputs": [],
   "source": []
  },
  {
   "cell_type": "code",
   "execution_count": 147,
   "metadata": {},
   "outputs": [
    {
     "name": "stdout",
     "output_type": "stream",
     "text": [
      "[('cat', 0.6380517482757568), ('moon', 0.2543850839138031), ('sun', 0.1620684415102005)]\n",
      "[('cat', 0.5031781196594238), ('moon', 0.41951072216033936), ('sun', -0.45986729860305786)]\n"
     ]
    }
   ],
   "source": [
    "m1 = copy.deepcopy(d_models['eng'])\n",
    "m2 = copy.deepcopy(m1)\n",
    "\n",
    "W = copy.deepcopy(m2.syn0)\n",
    "T = np.random.rand(300,300)\n",
    "# print(W)\n",
    "# print(T)\n",
    "m2.syn0 = np.dot(W, T)\n",
    "# print(m2.syn0)\n",
    "print(m1.most_similar('dog'))\n",
    "print(m2.most_similar('dog'))"
   ]
  }
 ],
 "metadata": {
  "kernelspec": {
   "display_name": "Python 3",
   "language": "python",
   "name": "python3"
  },
  "language_info": {
   "codemirror_mode": {
    "name": "ipython",
    "version": 3
   },
   "file_extension": ".py",
   "mimetype": "text/x-python",
   "name": "python",
   "nbconvert_exporter": "python",
   "pygments_lexer": "ipython3",
   "version": "3.5.2"
  }
 },
 "nbformat": 4,
 "nbformat_minor": 2
}
