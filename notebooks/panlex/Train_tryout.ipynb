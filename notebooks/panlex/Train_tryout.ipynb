{
 "cells": [
  {
   "cell_type": "code",
   "execution_count": 32,
   "metadata": {},
   "outputs": [],
   "source": [
    "import tensorflow as tf\n",
    "import numpy as np\n",
    "from sklearn.metrics.pairwise import cosine_similarity\n",
    "import os"
   ]
  },
  {
   "cell_type": "code",
   "execution_count": 11,
   "metadata": {},
   "outputs": [],
   "source": [
    "# Conf\n",
    "langs = ['eng', 'deu', 'hun']"
   ]
  },
  {
   "cell_type": "code",
   "execution_count": 4,
   "metadata": {},
   "outputs": [],
   "source": [
    "def read_word2vec_text(vectors_fn, vocab_fn=\"\", fmt=\"float64\"):\n",
    "    with open(vectors_fn) as f:\n",
    "        file_pos = f.tell()\n",
    "        V = np.loadtxt(f, dtype=str, comments=None, usecols=(0,), skiprows=1)\n",
    "        word2index = {w: i for i, w in enumerate(V)}\n",
    "        f.seek(file_pos)\n",
    "        W = np.loadtxt(f, dtype=fmt, comments=None, skiprows=1, converters={0: lambda x: 0.0})\n",
    "        if len(word2index) != len(W):\n",
    "            print >>sys.stderr, \"WARNING:\", len(word2index),\n",
    "            print >>sys.stderr, \"disjoint words in embedding of length\", len(W)\n",
    "    return W[:, 1:], word2index"
   ]
  },
  {
   "cell_type": "markdown",
   "metadata": {},
   "source": [
    "Read embeddings and indices"
   ]
  },
  {
   "cell_type": "code",
   "execution_count": 5,
   "metadata": {},
   "outputs": [],
   "source": [
    "fold = '/home/eszti/projects/dipterv/notebooks/panlex/train_try/t0'\n",
    "\n",
    "d_embs = dict()\n",
    "d_idxs = dict()\n",
    "for l in langs:\n",
    "    fn = os.path.join(fold, '{}.vec'.format(l))\n",
    "    model = read_word2vec_text(fn)\n",
    "    d_embs[l] = model[0]\n",
    "    d_idxs[l] = model[1]"
   ]
  },
  {
   "cell_type": "code",
   "execution_count": 9,
   "metadata": {},
   "outputs": [
    {
     "name": "stdout",
     "output_type": "stream",
     "text": [
      "(2, 300)\n",
      "{'kutya': 0, 'macska': 1}\n"
     ]
    }
   ],
   "source": [
    "# test\n",
    "print(d_embs['hun'].shape)\n",
    "print(d_idxs['hun'])"
   ]
  },
  {
   "cell_type": "markdown",
   "metadata": {},
   "source": [
    "Read words pairs from tsv"
   ]
  },
  {
   "cell_type": "code",
   "execution_count": 54,
   "metadata": {},
   "outputs": [],
   "source": [
    "def read_word_pairs_tsv(fn, id1, id2):\n",
    "    with open(fn) as f:\n",
    "        lines = f.readlines()\n",
    "        data = [(line.split()[id1], line.split()[id2]) for i, line in enumerate(lines) if i > 0]\n",
    "    return data"
   ]
  },
  {
   "cell_type": "code",
   "execution_count": 55,
   "metadata": {},
   "outputs": [],
   "source": [
    "fold = '/home/eszti/projects/dipterv/notebooks/panlex/train_try/t0'\n",
    "id1 = 2\n",
    "id2 = 3\n",
    "# Dict for word pairs\n",
    "d_wps = dict()\n",
    "done = set()\n",
    "for lang1 in langs:\n",
    "    for lang2 in langs:\n",
    "        lang_pair = tuple(sorted([lang1, lang2]))\n",
    "        if lang1 == lang2 or lang_pair in done:\n",
    "            continue\n",
    "        done.add(lang_pair)\n",
    "        l1 = lang_pair[0]\n",
    "        l2 = lang_pair[1]\n",
    "        fn = os.path.join(fold, '{0}_{1}.tsv'.format(l1, l2))\n",
    "        data = read_word_pairs_tsv(fn, id1, id2)\n",
    "        d_wps[lang_pair] = data"
   ]
  },
  {
   "cell_type": "code",
   "execution_count": 56,
   "metadata": {},
   "outputs": [
    {
     "data": {
      "text/plain": [
       "{('deu', 'eng'): [('katze', 'cat'), ('hund', 'dog')],\n",
       " ('deu', 'hun'): [('hund', 'kutya'), ('katze', 'macska')],\n",
       " ('eng', 'hun'): [('cat', 'macska'), ('dog', 'kutya')]}"
      ]
     },
     "execution_count": 56,
     "metadata": {},
     "output_type": "execute_result"
    }
   ],
   "source": [
    "d_wps"
   ]
  },
  {
   "cell_type": "markdown",
   "metadata": {},
   "source": [
    "Calculate precision"
   ]
  },
  {
   "cell_type": "code",
   "execution_count": null,
   "metadata": {},
   "outputs": [],
   "source": [
    "def calc_precision(precs, trans, orig, trans_list, orig_list, trans_orig_dict):\n",
    "    cos_mx = cosine_similarity(trans, orig)\n",
    "    sim_mx = np.argsort(-cos_mx)\n",
    "    max_prec = max(precs)\n",
    "    prec_cnt = np.zeros(shape=(1, max_prec))\n",
    "    print('word: \\ttranslations in dict: \\tclosest words after translation: \\t')\n",
    "    for i, r in enumerate(sim_mx):\n",
    "        key_word = trans_list[i]\n",
    "        value_words = trans_orig_dict[key_word]\n",
    "        closest_words = []\n",
    "        for j in range(max_prec):       \n",
    "            ans = np.where(r==j)\n",
    "            idx_orig = ans[0][0]\n",
    "            word = orig_list[idx_orig]\n",
    "            closest_words.append(word)\n",
    "            if word in value_words:\n",
    "                prec_cnt[0][j] = prec_cnt[0][j] + 1\n",
    "        print('{}\"\\t{}\\t{}'.format(word.encode('utf-8'), value_words, closest_words))\n",
    "    print prec_cnt\n",
    "    for i, val in enumerate(precs):\n",
    "        sum_hit = np.sum(prec_cnt[0][0:val])\n",
    "        print('prec {} : {}'.format(val, float(sum_hit)/sim_mx.shape[0]))"
   ]
  },
  {
   "cell_type": "markdown",
   "metadata": {},
   "source": [
    "Doing training"
   ]
  },
  {
   "cell_type": "code",
   "execution_count": 8,
   "metadata": {},
   "outputs": [],
   "source": [
    "def train(langs, d_embs, d_idxs, d_wordpairs, dim, iters, lr=0.3):\n",
    "    nb_langs = len(langs)\n",
    "\n",
    "    # Init graphs\n",
    "    graph = tf.Graph()\n",
    "    with graph.as_default():\n",
    "        # TF variables \n",
    "        # Placeholder for 2 words\n",
    "        tf_w1 = tf.placeholder(tf.float64, shape=[None, dim])\n",
    "        tf_w2 = tf.placeholder(tf.float64, shape=[None, dim])\n",
    "        # Placeholder for indexing the T matrix\n",
    "        tf_idx_l1 = tf.placeholder(tf.int32)\n",
    "        tf_idx_l2 = tf.placeholder(tf.int32)\n",
    "        # Translation matrices\n",
    "        tf_T = tf.Variable(tf.truncated_normal([nb_langs, dim, dim]))\n",
    "\n",
    "        # Loss\n",
    "        loss = tf.matmul(tf.matmul(tf_w1, tf_T[tf_idx_l1]), tf.transpose(tf.matmul(tf_w2, tf_T[tf_idx_l2])))\n",
    "\n",
    "        optimizer = tf.train.GradientDescentOptimizer(lr).minimize(loss)\n",
    "\n",
    "    with tf.Session(graph=graph) as session:\n",
    "        tf.global_variables_initializer().run()\n",
    "\n",
    "        for i in range(iters):\n",
    "             # Run the computations\n",
    "            _, l, T = session.run([optimizer, loss, tf_T])\n",
    "            \n",
    "            session.run(train_step, feed_dict={x: batch_x, y: batch_y})"
   ]
  },
  {
   "cell_type": "code",
   "execution_count": null,
   "metadata": {},
   "outputs": [],
   "source": []
  }
 ],
 "metadata": {
  "kernelspec": {
   "display_name": "Python 3",
   "language": "python",
   "name": "python3"
  },
  "language_info": {
   "codemirror_mode": {
    "name": "ipython",
    "version": 3
   },
   "file_extension": ".py",
   "mimetype": "text/x-python",
   "name": "python",
   "nbconvert_exporter": "python",
   "pygments_lexer": "ipython3",
   "version": "3.5.2"
  }
 },
 "nbformat": 4,
 "nbformat_minor": 2
}
