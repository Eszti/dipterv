{
 "cells": [
  {
   "cell_type": "code",
   "execution_count": 198,
   "metadata": {},
   "outputs": [],
   "source": [
    "import json\n",
    "import pandas as pd\n",
    "import os"
   ]
  },
  {
   "cell_type": "code",
   "execution_count": 199,
   "metadata": {},
   "outputs": [],
   "source": [
    "sil2fb_fn = '/home/eszti/projects/dipterv/notebooks/panlex/data/sil2fb.json'\n",
    "\n",
    "with open(sil2fb_fn) as f:\n",
    "     sil2fb = json.load(f)"
   ]
  },
  {
   "cell_type": "code",
   "execution_count": 200,
   "metadata": {},
   "outputs": [],
   "source": [
    "langs = ['eng', 'hun', 'deu']\n",
    "\n",
    "pan_fold = '/home/eszti/projects/dipterv/notebooks/panlex/data'\n",
    "emb_fold = '/mnt/permanent/Language/Multi/FB'"
   ]
  },
  {
   "cell_type": "markdown",
   "metadata": {},
   "source": [
    "Read all panlex dictionaries"
   ]
  },
  {
   "cell_type": "code",
   "execution_count": 201,
   "metadata": {},
   "outputs": [
    {
     "name": "stdout",
     "output_type": "stream",
     "text": [
      "will process these langs: ['eng', 'hun', 'deu']\n",
      "Reading dictionary from: /home/eszti/projects/dipterv/notebooks/panlex/data/eng_hun.tsv\n",
      "Reading dictionary from: /home/eszti/projects/dipterv/notebooks/panlex/data/deu_eng.tsv\n",
      "Reading dictionary from: /home/eszti/projects/dipterv/notebooks/panlex/data/deu_hun.tsv\n"
     ]
    }
   ],
   "source": [
    "df_dicts = dict()\n",
    "print('will process these langs: {0}'.format(langs))\n",
    "done = set()\n",
    "for lang1 in langs:\n",
    "    for lang2 in langs:\n",
    "        lang_pair = tuple(sorted([lang1, lang2]))\n",
    "        if lang1 == lang2 or lang_pair in done:\n",
    "            continue\n",
    "        done.add(lang_pair)\n",
    "        pan_fn = os.path.join(pan_fold, '{0}_{1}.tsv'.format(lang_pair[0], lang_pair[1]))\n",
    "        print('Reading dictionary from:', pan_fn)\n",
    "        df = pd.read_csv(pan_fn, sep='\\t', header=None, names = ['lang 1', \"lang 2\", lang_pair[0],  lang_pair[1], 'score'])\n",
    "        df_dicts[lang_pair] = df"
   ]
  },
  {
   "cell_type": "markdown",
   "metadata": {},
   "source": [
    "Creat tables for each language"
   ]
  },
  {
   "cell_type": "code",
   "execution_count": 202,
   "metadata": {},
   "outputs": [],
   "source": [
    "df_langs = dict()\n",
    "for lang_pair, df in df_dicts.items():\n",
    "    lang1 = lang_pair[0]\n",
    "    lang2 = lang_pair[1]\n",
    "    if lang1 not in df_langs:\n",
    "        df_langs[lang1] = df[[lang1]]\n",
    "    else:\n",
    "        df_langs[lang1] = pd.concat([df_langs[lang1], df[[lang1]]]).drop_duplicates()\n",
    "    if lang2 not in df_langs:\n",
    "        df_langs[lang2] = df[[lang2]]\n",
    "    else:\n",
    "        df_langs[lang2] = pd.concat([df_langs[lang2], df[[lang2]]]).drop_duplicates()    "
   ]
  },
  {
   "cell_type": "markdown",
   "metadata": {},
   "source": [
    "Add found coulumn"
   ]
  },
  {
   "cell_type": "code",
   "execution_count": 203,
   "metadata": {},
   "outputs": [],
   "source": [
    "for lang in df_langs.keys():\n",
    "    df_langs[lang] = df_langs[lang].assign(found = False)"
   ]
  },
  {
   "cell_type": "markdown",
   "metadata": {},
   "source": [
    "Search for embeddings"
   ]
  },
  {
   "cell_type": "code",
   "execution_count": 204,
   "metadata": {},
   "outputs": [],
   "source": [
    "lookfor = 10\n",
    "for sil in langs:\n",
    "    fb = sil2fb[sil]\n",
    "    emb_fn = os.path.join(emb_fold, 'wiki.{0}/wiki.{0}.vec'.format(fb))\n",
    "    with open(emb_fn) as f:\n",
    "        i = 0\n",
    "        for line in f:\n",
    "            if i == 0:\n",
    "                i += 1\n",
    "                continue\n",
    "            if i > lookfor:\n",
    "                break\n",
    "            fields = line.strip().split(' ')\n",
    "            w = fields[0]\n",
    "            w = w.lower()\n",
    "            df_langs[sil].loc[df_langs[sil][sil] == w, 'found'] = True\n",
    "            i+=1"
   ]
  },
  {
   "cell_type": "markdown",
   "metadata": {},
   "source": [
    "Merge tables"
   ]
  },
  {
   "cell_type": "code",
   "execution_count": 205,
   "metadata": {},
   "outputs": [
    {
     "data": {
      "text/html": [
       "<div>\n",
       "<style scoped>\n",
       "    .dataframe tbody tr th:only-of-type {\n",
       "        vertical-align: middle;\n",
       "    }\n",
       "\n",
       "    .dataframe tbody tr th {\n",
       "        vertical-align: top;\n",
       "    }\n",
       "\n",
       "    .dataframe thead th {\n",
       "        text-align: right;\n",
       "    }\n",
       "</style>\n",
       "<table border=\"1\" class=\"dataframe\">\n",
       "  <thead>\n",
       "    <tr style=\"text-align: right;\">\n",
       "      <th></th>\n",
       "      <th>lang 1</th>\n",
       "      <th>lang 2</th>\n",
       "      <th>eng</th>\n",
       "      <th>hun</th>\n",
       "      <th>score</th>\n",
       "      <th>found_x</th>\n",
       "      <th>found_y</th>\n",
       "    </tr>\n",
       "  </thead>\n",
       "  <tbody>\n",
       "    <tr>\n",
       "      <th>0</th>\n",
       "      <td>eng</td>\n",
       "      <td>hun</td>\n",
       "      <td>Romance</td>\n",
       "      <td>román stílusú</td>\n",
       "      <td>9.0</td>\n",
       "      <td>False</td>\n",
       "      <td>False</td>\n",
       "    </tr>\n",
       "    <tr>\n",
       "      <th>1</th>\n",
       "      <td>eng</td>\n",
       "      <td>hun</td>\n",
       "      <td>Romance</td>\n",
       "      <td>román</td>\n",
       "      <td>7.0</td>\n",
       "      <td>False</td>\n",
       "      <td>False</td>\n",
       "    </tr>\n",
       "    <tr>\n",
       "      <th>2</th>\n",
       "      <td>eng</td>\n",
       "      <td>hun</td>\n",
       "      <td>Latin</td>\n",
       "      <td>román</td>\n",
       "      <td>5.0</td>\n",
       "      <td>False</td>\n",
       "      <td>False</td>\n",
       "    </tr>\n",
       "    <tr>\n",
       "      <th>3</th>\n",
       "      <td>eng</td>\n",
       "      <td>hun</td>\n",
       "      <td>Romanian</td>\n",
       "      <td>román</td>\n",
       "      <td>7.0</td>\n",
       "      <td>False</td>\n",
       "      <td>False</td>\n",
       "    </tr>\n",
       "    <tr>\n",
       "      <th>4</th>\n",
       "      <td>eng</td>\n",
       "      <td>hun</td>\n",
       "      <td>Romanic</td>\n",
       "      <td>román</td>\n",
       "      <td>7.0</td>\n",
       "      <td>False</td>\n",
       "      <td>False</td>\n",
       "    </tr>\n",
       "  </tbody>\n",
       "</table>\n",
       "</div>"
      ],
      "text/plain": [
       "  lang 1 lang 2       eng            hun  score  found_x  found_y\n",
       "0    eng    hun   Romance  román stílusú    9.0    False    False\n",
       "1    eng    hun   Romance          román    7.0    False    False\n",
       "2    eng    hun     Latin          román    5.0    False    False\n",
       "3    eng    hun  Romanian          román    7.0    False    False\n",
       "4    eng    hun   Romanic          román    7.0    False    False"
      ]
     },
     "execution_count": 205,
     "metadata": {},
     "output_type": "execute_result"
    }
   ],
   "source": [
    "df_merged_dicts = dict()\n",
    "for lang_pair, df in df_dicts.items():\n",
    "    lang1 = lang_pair[0]\n",
    "    lang2 = lang_pair[1]\n",
    "    tmp1 = pd.merge(df, df_langs[lang1], on=lang1)\n",
    "    tmp2 = pd.merge(tmp1, df_langs[lang2], on=lang2)\n",
    "    df_merged_dicts[lang_pair] = tmp2\n",
    "    \n",
    "df_merged_dicts[('eng', 'hun')].head()"
   ]
  },
  {
   "cell_type": "markdown",
   "metadata": {},
   "source": [
    "Language statistics"
   ]
  },
  {
   "cell_type": "code",
   "execution_count": 206,
   "metadata": {},
   "outputs": [
    {
     "data": {
      "text/html": [
       "<div>\n",
       "<style scoped>\n",
       "    .dataframe tbody tr th:only-of-type {\n",
       "        vertical-align: middle;\n",
       "    }\n",
       "\n",
       "    .dataframe tbody tr th {\n",
       "        vertical-align: top;\n",
       "    }\n",
       "\n",
       "    .dataframe thead th {\n",
       "        text-align: right;\n",
       "    }\n",
       "</style>\n",
       "<table border=\"1\" class=\"dataframe\">\n",
       "  <thead>\n",
       "    <tr style=\"text-align: right;\">\n",
       "      <th></th>\n",
       "      <th>lang</th>\n",
       "      <th>words</th>\n",
       "      <th>found</th>\n",
       "    </tr>\n",
       "  </thead>\n",
       "  <tbody>\n",
       "    <tr>\n",
       "      <th>0</th>\n",
       "      <td>deu</td>\n",
       "      <td>227517</td>\n",
       "      <td>7</td>\n",
       "    </tr>\n",
       "    <tr>\n",
       "      <th>0</th>\n",
       "      <td>eng</td>\n",
       "      <td>278482</td>\n",
       "      <td>7</td>\n",
       "    </tr>\n",
       "    <tr>\n",
       "      <th>0</th>\n",
       "      <td>hun</td>\n",
       "      <td>181405</td>\n",
       "      <td>5</td>\n",
       "    </tr>\n",
       "  </tbody>\n",
       "</table>\n",
       "</div>"
      ],
      "text/plain": [
       "  lang   words found\n",
       "0  deu  227517     7\n",
       "0  eng  278482     7\n",
       "0  hun  181405     5"
      ]
     },
     "execution_count": 206,
     "metadata": {},
     "output_type": "execute_result"
    }
   ],
   "source": [
    "header = ['lang', 'words', 'found']\n",
    "df_lang_stat = pd.DataFrame(columns = header)\n",
    "for lang, df in df_langs.items():\n",
    "    l = len(df.index)\n",
    "    f = len(df[df['found'] == True])\n",
    "    row = pd.DataFrame([[lang, l, f]], columns = header)\n",
    "    df_lang_stat = df_lang_stat.append(row)\n",
    "\n",
    "df_lang_stat"
   ]
  },
  {
   "cell_type": "markdown",
   "metadata": {},
   "source": [
    "Panlex statistics"
   ]
  },
  {
   "cell_type": "code",
   "execution_count": 207,
   "metadata": {},
   "outputs": [
    {
     "data": {
      "text/html": [
       "<div>\n",
       "<style scoped>\n",
       "    .dataframe tbody tr th:only-of-type {\n",
       "        vertical-align: middle;\n",
       "    }\n",
       "\n",
       "    .dataframe tbody tr th {\n",
       "        vertical-align: top;\n",
       "    }\n",
       "\n",
       "    .dataframe thead th {\n",
       "        text-align: right;\n",
       "    }\n",
       "</style>\n",
       "<table border=\"1\" class=\"dataframe\">\n",
       "  <thead>\n",
       "    <tr style=\"text-align: right;\">\n",
       "      <th></th>\n",
       "      <th>lang1</th>\n",
       "      <th>lang2</th>\n",
       "      <th>word_pairs</th>\n",
       "      <th>found</th>\n",
       "    </tr>\n",
       "  </thead>\n",
       "  <tbody>\n",
       "    <tr>\n",
       "      <th>0</th>\n",
       "      <td>eng</td>\n",
       "      <td>hun</td>\n",
       "      <td>324949</td>\n",
       "      <td>6</td>\n",
       "    </tr>\n",
       "    <tr>\n",
       "      <th>0</th>\n",
       "      <td>deu</td>\n",
       "      <td>hun</td>\n",
       "      <td>86978</td>\n",
       "      <td>7</td>\n",
       "    </tr>\n",
       "    <tr>\n",
       "      <th>0</th>\n",
       "      <td>deu</td>\n",
       "      <td>eng</td>\n",
       "      <td>461283</td>\n",
       "      <td>10</td>\n",
       "    </tr>\n",
       "  </tbody>\n",
       "</table>\n",
       "</div>"
      ],
      "text/plain": [
       "  lang1 lang2 word_pairs found\n",
       "0   eng   hun     324949     6\n",
       "0   deu   hun      86978     7\n",
       "0   deu   eng     461283    10"
      ]
     },
     "execution_count": 207,
     "metadata": {},
     "output_type": "execute_result"
    }
   ],
   "source": [
    "header = ['lang1', 'lang2', 'word_pairs', 'found']\n",
    "df_plx_stat = pd.DataFrame(columns = header)\n",
    "for lang_pair, df in df_merged_dicts.items():\n",
    "    lang1 = lang_pair[0]\n",
    "    lang2 = lang_pair[1]\n",
    "    l = len(df.index)\n",
    "    f = len(df[(df['found_x'] == True) & (df['found_y'] == True)])\n",
    "    row = pd.DataFrame([[lang1, lang2, l, f]], columns = header)\n",
    "    df_plx_stat = df_plx_stat.append(row)\n",
    "\n",
    "df_plx_stat"
   ]
  },
  {
   "cell_type": "code",
   "execution_count": null,
   "metadata": {},
   "outputs": [],
   "source": []
  },
  {
   "cell_type": "code",
   "execution_count": null,
   "metadata": {},
   "outputs": [],
   "source": []
  },
  {
   "cell_type": "code",
   "execution_count": 213,
   "metadata": {},
   "outputs": [
    {
     "data": {
      "text/html": [
       "<div>\n",
       "<style scoped>\n",
       "    .dataframe tbody tr th:only-of-type {\n",
       "        vertical-align: middle;\n",
       "    }\n",
       "\n",
       "    .dataframe tbody tr th {\n",
       "        vertical-align: top;\n",
       "    }\n",
       "\n",
       "    .dataframe thead th {\n",
       "        text-align: right;\n",
       "    }\n",
       "</style>\n",
       "<table border=\"1\" class=\"dataframe\">\n",
       "  <thead>\n",
       "    <tr style=\"text-align: right;\">\n",
       "      <th></th>\n",
       "      <th>lang 1</th>\n",
       "      <th>lang 2</th>\n",
       "      <th>deu</th>\n",
       "      <th>eng</th>\n",
       "      <th>score</th>\n",
       "      <th>found_x</th>\n",
       "      <th>found_y</th>\n",
       "    </tr>\n",
       "  </thead>\n",
       "  <tbody>\n",
       "    <tr>\n",
       "      <th>3626</th>\n",
       "      <td>deu</td>\n",
       "      <td>eng</td>\n",
       "      <td>in</td>\n",
       "      <td>in</td>\n",
       "      <td>7.0</td>\n",
       "      <td>True</td>\n",
       "      <td>True</td>\n",
       "    </tr>\n",
       "    <tr>\n",
       "      <th>4364</th>\n",
       "      <td>deu</td>\n",
       "      <td>eng</td>\n",
       "      <td>der</td>\n",
       "      <td>of</td>\n",
       "      <td>7.0</td>\n",
       "      <td>True</td>\n",
       "      <td>True</td>\n",
       "    </tr>\n",
       "    <tr>\n",
       "      <th>39470</th>\n",
       "      <td>deu</td>\n",
       "      <td>eng</td>\n",
       "      <td>,</td>\n",
       "      <td>,</td>\n",
       "      <td>8.0</td>\n",
       "      <td>True</td>\n",
       "      <td>True</td>\n",
       "    </tr>\n",
       "    <tr>\n",
       "      <th>39471</th>\n",
       "      <td>deu</td>\n",
       "      <td>eng</td>\n",
       "      <td>.</td>\n",
       "      <td>,</td>\n",
       "      <td>8.0</td>\n",
       "      <td>True</td>\n",
       "      <td>True</td>\n",
       "    </tr>\n",
       "    <tr>\n",
       "      <th>39475</th>\n",
       "      <td>deu</td>\n",
       "      <td>eng</td>\n",
       "      <td>,</td>\n",
       "      <td>.</td>\n",
       "      <td>8.0</td>\n",
       "      <td>True</td>\n",
       "      <td>True</td>\n",
       "    </tr>\n",
       "    <tr>\n",
       "      <th>39477</th>\n",
       "      <td>deu</td>\n",
       "      <td>eng</td>\n",
       "      <td>.</td>\n",
       "      <td>.</td>\n",
       "      <td>8.0</td>\n",
       "      <td>True</td>\n",
       "      <td>True</td>\n",
       "    </tr>\n",
       "    <tr>\n",
       "      <th>66468</th>\n",
       "      <td>deu</td>\n",
       "      <td>eng</td>\n",
       "      <td>-</td>\n",
       "      <td>-</td>\n",
       "      <td>8.0</td>\n",
       "      <td>True</td>\n",
       "      <td>True</td>\n",
       "    </tr>\n",
       "    <tr>\n",
       "      <th>199837</th>\n",
       "      <td>deu</td>\n",
       "      <td>eng</td>\n",
       "      <td>der</td>\n",
       "      <td>the</td>\n",
       "      <td>4.0</td>\n",
       "      <td>True</td>\n",
       "      <td>True</td>\n",
       "    </tr>\n",
       "    <tr>\n",
       "      <th>199838</th>\n",
       "      <td>deu</td>\n",
       "      <td>eng</td>\n",
       "      <td>die</td>\n",
       "      <td>the</td>\n",
       "      <td>5.0</td>\n",
       "      <td>True</td>\n",
       "      <td>True</td>\n",
       "    </tr>\n",
       "    <tr>\n",
       "      <th>248145</th>\n",
       "      <td>deu</td>\n",
       "      <td>eng</td>\n",
       "      <td>und</td>\n",
       "      <td>and</td>\n",
       "      <td>5.0</td>\n",
       "      <td>True</td>\n",
       "      <td>True</td>\n",
       "    </tr>\n",
       "  </tbody>\n",
       "</table>\n",
       "</div>"
      ],
      "text/plain": [
       "       lang 1 lang 2  deu  eng  score  found_x  found_y\n",
       "3626      deu    eng   in   in    7.0     True     True\n",
       "4364      deu    eng  der   of    7.0     True     True\n",
       "39470     deu    eng    ,    ,    8.0     True     True\n",
       "39471     deu    eng    .    ,    8.0     True     True\n",
       "39475     deu    eng    ,    .    8.0     True     True\n",
       "39477     deu    eng    .    .    8.0     True     True\n",
       "66468     deu    eng    -    -    8.0     True     True\n",
       "199837    deu    eng  der  the    4.0     True     True\n",
       "199838    deu    eng  die  the    5.0     True     True\n",
       "248145    deu    eng  und  and    5.0     True     True"
      ]
     },
     "execution_count": 213,
     "metadata": {},
     "output_type": "execute_result"
    }
   ],
   "source": [
    "df_merged_dicts[('deu', 'eng')].loc[(df_merged_dicts[('deu', 'eng')]['found_x'] == True) \n",
    "                                    & (df_merged_dicts[('deu', 'eng')]['found_y'] == True)]"
   ]
  }
 ],
 "metadata": {
  "kernelspec": {
   "display_name": "Python 3",
   "language": "python",
   "name": "python3"
  },
  "language_info": {
   "codemirror_mode": {
    "name": "ipython",
    "version": 3
   },
   "file_extension": ".py",
   "mimetype": "text/x-python",
   "name": "python",
   "nbconvert_exporter": "python",
   "pygments_lexer": "ipython3",
   "version": "3.5.2"
  }
 },
 "nbformat": 4,
 "nbformat_minor": 2
}
