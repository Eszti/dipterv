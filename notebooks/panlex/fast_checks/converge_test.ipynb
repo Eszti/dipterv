{
 "cells": [
  {
   "cell_type": "code",
   "execution_count": 1,
   "metadata": {},
   "outputs": [],
   "source": [
    "# Import\n",
    "from IPython.core.interactiveshell import InteractiveShell\n",
    "InteractiveShell.ast_node_interactivity = \"all\"\n",
    "import numpy as np\n",
    "from gensim.models import KeyedVectors\n",
    "import matplotlib.pyplot as plt"
   ]
  },
  {
   "cell_type": "code",
   "execution_count": 2,
   "metadata": {},
   "outputs": [],
   "source": [
    "eng_emb = '/mnt/permanent/Language/Multi/FB/wiki.en/wiki.en.vec'\n",
    "ita_emb = '/mnt/permanent/Language/Multi/FB/wiki.it/wiki.it.vec'\n",
    "limit = None\n",
    "limits_tr = [i*50000 for i in range(1, 16)]\n",
    "limits_te = [i*50000 for i in range(1, 41)]\n",
    "\n",
    "train_fn = '/home/eszti/projects/dipterv/panlex/data/smith/train/eng_ita.tsv'\n",
    "test_fn = '/home/eszti/projects/dipterv/panlex/data/smith/test/eng_ita.tsv'\n",
    "\n",
    "figsize_x = 8\n",
    "figsize_y = 4"
   ]
  },
  {
   "cell_type": "code",
   "execution_count": 3,
   "metadata": {},
   "outputs": [],
   "source": [
    "def read_emb(emb_fn, limit):\n",
    "    model = KeyedVectors.load_word2vec_format(emb_fn, binary=False, limit=limit)\n",
    "    return model"
   ]
  },
  {
   "cell_type": "code",
   "execution_count": 4,
   "metadata": {},
   "outputs": [],
   "source": [
    "def read_word_pairs_tsv(fn, id1, id2, header=True):\n",
    "    wl1 = set()\n",
    "    wl2 = set()\n",
    "    with open(fn) as f:\n",
    "        lines = f.readlines()\n",
    "        data = [(line.split()[id1], line.split()[id2]) for i, line in enumerate(lines) if i > 0 or header == False]\n",
    "    for (w1, w2) in data:\n",
    "        wl1.add(w1)\n",
    "        wl2.add(w2)\n",
    "    return data, wl1, wl2"
   ]
  },
  {
   "cell_type": "code",
   "execution_count": 5,
   "metadata": {},
   "outputs": [],
   "source": [
    "def check_emb_coverage(emb, wl, limits):\n",
    "    found = [[] for i in limits]    \n",
    "    for w in wl:\n",
    "        n_from = 0\n",
    "        n_to = len(limits)\n",
    "        if w in emb:\n",
    "            idx = emb.index2word.index(w)\n",
    "            for i, l in enumerate(limits):\n",
    "                if idx > l:\n",
    "                    n_from = i + 1\n",
    "        else:\n",
    "            # do not add any of the found lists\n",
    "            n_from = len(limits)\n",
    "        for i in range(n_from, n_to):\n",
    "            found[i].append(w)\n",
    "    return found"
   ]
  },
  {
   "cell_type": "code",
   "execution_count": 6,
   "metadata": {},
   "outputs": [],
   "source": [
    "def check_wp_coverage(wp_l, found1, found2, limits):\n",
    "    found = [[] for i in limits]    \n",
    "    for (w1, w2) in wp_l:\n",
    "        for i, l in enumerate(limits):\n",
    "            if w1 in found1[i] and w2 in found2[i]:\n",
    "                found[i].append((w1, w2))\n",
    "    return found"
   ]
  },
  {
   "cell_type": "code",
   "execution_count": 8,
   "metadata": {},
   "outputs": [],
   "source": [
    "def plot(x, y, title, xlab, ylab):\n",
    "    plt.figure(figsize=(figsize_x,figsize_y))    \n",
    "    plt.title(title)\n",
    "    plt.xlabel(xlab)\n",
    "    plt.ylabel(ylab)\n",
    "    plt.grid()\n",
    "    plt.plot(x, y, 'o')\n",
    "    plt.legend()\n",
    "    plt.show()"
   ]
  },
  {
   "cell_type": "code",
   "execution_count": 9,
   "metadata": {},
   "outputs": [
    {
     "data": {
      "text/plain": [
       "2519370"
      ]
     },
     "execution_count": 9,
     "metadata": {},
     "output_type": "execute_result"
    },
    {
     "data": {
      "text/plain": [
       "871053"
      ]
     },
     "execution_count": 9,
     "metadata": {},
     "output_type": "execute_result"
    }
   ],
   "source": [
    "m_en = read_emb(eng_emb, limit)\n",
    "m_it = read_emb(ita_emb, limit)\n",
    "len(m_en.index2word)\n",
    "len(m_it.index2word)"
   ]
  },
  {
   "cell_type": "code",
   "execution_count": 10,
   "metadata": {},
   "outputs": [
    {
     "data": {
      "text/plain": [
       "4999"
      ]
     },
     "execution_count": 10,
     "metadata": {},
     "output_type": "execute_result"
    },
    {
     "data": {
      "text/plain": [
       "3441"
      ]
     },
     "execution_count": 10,
     "metadata": {},
     "output_type": "execute_result"
    },
    {
     "data": {
      "text/plain": [
       "4548"
      ]
     },
     "execution_count": 10,
     "metadata": {},
     "output_type": "execute_result"
    },
    {
     "data": {
      "text/plain": [
       "1868"
      ]
     },
     "execution_count": 10,
     "metadata": {},
     "output_type": "execute_result"
    },
    {
     "data": {
      "text/plain": [
       "1499"
      ]
     },
     "execution_count": 10,
     "metadata": {},
     "output_type": "execute_result"
    },
    {
     "data": {
      "text/plain": [
       "1848"
      ]
     },
     "execution_count": 10,
     "metadata": {},
     "output_type": "execute_result"
    }
   ],
   "source": [
    "train_wp, tr_en, tr_it = read_word_pairs_tsv(train_fn, 0, 1)\n",
    "test_wp, te_en, te_it = read_word_pairs_tsv(test_fn, 0, 1)\n",
    "len(train_wp)\n",
    "len(tr_en)\n",
    "len(tr_it)\n",
    "len(test_wp)\n",
    "len(te_en)\n",
    "len(te_it)"
   ]
  },
  {
   "cell_type": "code",
   "execution_count": 11,
   "metadata": {},
   "outputs": [
    {
     "name": "stdout",
     "output_type": "stream",
     "text": [
      "train en : 3441\n",
      "limit - 50000 : 3441\n",
      "limit - 100000 : 3441\n",
      "limit - 150000 : 3441\n",
      "limit - 200000 : 3441\n",
      "limit - 250000 : 3441\n",
      "limit - 300000 : 3441\n",
      "limit - 350000 : 3441\n",
      "limit - 400000 : 3441\n",
      "limit - 450000 : 3441\n",
      "limit - 500000 : 3441\n",
      "limit - 550000 : 3441\n",
      "limit - 600000 : 3441\n",
      "limit - 650000 : 3441\n",
      "limit - 700000 : 3441\n",
      "limit - 750000 : 3441\n",
      "not found: set()\n"
     ]
    },
    {
     "data": {
      "image/png": "[encoded data removed]",
      "text/plain": [
       "<matplotlib.figure.Figure at 0x7f87da6c07f0>"
      ]
     },
     "metadata": {},
     "output_type": "display_data"
    },
    {
     "name": "stdout",
     "output_type": "stream",
     "text": [
      "train it : 4548\n",
      "limit - 50000 : 4449\n",
      "limit - 100000 : 4515\n",
      "limit - 150000 : 4532\n",
      "limit - 200000 : 4540\n",
      "limit - 250000 : 4543\n",
      "limit - 300000 : 4544\n",
      "limit - 350000 : 4547\n",
      "limit - 400000 : 4547\n",
      "limit - 450000 : 4547\n",
      "limit - 500000 : 4547\n",
      "limit - 550000 : 4547\n",
      "limit - 600000 : 4547\n",
      "limit - 650000 : 4547\n",
      "limit - 700000 : 4547\n",
      "limit - 750000 : 4547\n",
      "not found: {'prelaurea'}\n"
     ]
    },
    {
     "data": {
      "image/png": "[encoded data removed]",
      "text/plain": [
       "<matplotlib.figure.Figure at 0x7f86a9cc0da0>"
      ]
     },
     "metadata": {},
     "output_type": "display_data"
    }
   ],
   "source": [
    "found_tr_en = check_emb_coverage(emb=m_en, wl=tr_en, limits=limits_tr)\n",
    "found_tr_it = check_emb_coverage(emb=m_it, wl=tr_it, limits=limits_tr)\n",
    "\n",
    "stat_tr_en = []\n",
    "stat_tr_it = []\n",
    "\n",
    "print('train en : {}'.format(len(tr_en)))\n",
    "for i, l in enumerate(limits_tr):\n",
    "    y = len(found_tr_en[i])\n",
    "    stat_tr_en.append(y)\n",
    "    print('limit - {0} : {1}'.format(l, y))\n",
    "print('not found: {}'.format(set(tr_en) - set(found_tr_en[-1])))\n",
    "plot(limits_tr, stat_tr_en, 'train en', 'limits', 'found')\n",
    "\n",
    "print('train it : {}'.format(len(tr_it)))\n",
    "for i, l in enumerate(limits_tr):\n",
    "    y = len(found_tr_it[i])\n",
    "    stat_tr_it.append(y)\n",
    "    print('limit - {0} : {1}'.format(l, y))\n",
    "print('not found: {}'.format(set(tr_it) - set(found_tr_it[-1])))\n",
    "plot(limits_tr, stat_tr_it, 'train it', 'limits', 'found')"
   ]
  },
  {
   "cell_type": "code",
   "execution_count": 12,
   "metadata": {},
   "outputs": [
    {
     "data": {
      "text/plain": [
       "False"
      ]
     },
     "execution_count": 12,
     "metadata": {},
     "output_type": "execute_result"
    }
   ],
   "source": [
    "# proving that not found words are not in the embedding\n",
    "'prelaurea' in m_it"
   ]
  },
  {
   "cell_type": "code",
   "execution_count": 13,
   "metadata": {},
   "outputs": [
    {
     "name": "stdout",
     "output_type": "stream",
     "text": [
      "test en : 1499\n",
      "limit - 50000 : 927\n",
      "limit - 100000 : 1210\n",
      "limit - 150000 : 1347\n",
      "limit - 200000 : 1402\n",
      "limit - 250000 : 1442\n",
      "limit - 300000 : 1457\n",
      "limit - 350000 : 1472\n",
      "limit - 400000 : 1476\n",
      "limit - 450000 : 1483\n",
      "limit - 500000 : 1486\n",
      "limit - 550000 : 1488\n",
      "limit - 600000 : 1488\n",
      "limit - 650000 : 1489\n",
      "limit - 700000 : 1489\n",
      "limit - 750000 : 1490\n",
      "limit - 800000 : 1492\n",
      "limit - 850000 : 1493\n",
      "limit - 900000 : 1495\n",
      "limit - 950000 : 1495\n",
      "limit - 1000000 : 1496\n",
      "limit - 1050000 : 1496\n",
      "limit - 1100000 : 1497\n",
      "limit - 1150000 : 1497\n",
      "limit - 1200000 : 1497\n",
      "limit - 1250000 : 1497\n",
      "limit - 1300000 : 1497\n",
      "limit - 1350000 : 1498\n",
      "limit - 1400000 : 1498\n",
      "limit - 1450000 : 1498\n",
      "limit - 1500000 : 1498\n",
      "limit - 1550000 : 1498\n",
      "limit - 1600000 : 1498\n",
      "limit - 1650000 : 1498\n",
      "limit - 1700000 : 1499\n",
      "limit - 1750000 : 1499\n",
      "limit - 1800000 : 1499\n",
      "limit - 1850000 : 1499\n",
      "limit - 1900000 : 1499\n",
      "limit - 1950000 : 1499\n",
      "limit - 2000000 : 1499\n",
      "not found: set()\n"
     ]
    },
    {
     "data": {
      "image/png": "[encoded data removed]",
      "text/plain": [
       "<matplotlib.figure.Figure at 0x7f86abe79278>"
      ]
     },
     "metadata": {},
     "output_type": "display_data"
    },
    {
     "name": "stdout",
     "output_type": "stream",
     "text": [
      "test it : 1848\n",
      "limit - 50000 : 1103\n",
      "limit - 100000 : 1446\n",
      "limit - 150000 : 1604\n",
      "limit - 200000 : 1692\n",
      "limit - 250000 : 1749\n",
      "limit - 300000 : 1781\n",
      "limit - 350000 : 1805\n",
      "limit - 400000 : 1814\n",
      "limit - 450000 : 1825\n",
      "limit - 500000 : 1829\n",
      "limit - 550000 : 1834\n",
      "limit - 600000 : 1838\n",
      "limit - 650000 : 1841\n",
      "limit - 700000 : 1842\n",
      "limit - 750000 : 1844\n",
      "limit - 800000 : 1844\n",
      "limit - 850000 : 1845\n",
      "limit - 900000 : 1845\n",
      "limit - 950000 : 1845\n",
      "limit - 1000000 : 1845\n",
      "limit - 1050000 : 1845\n",
      "limit - 1100000 : 1845\n",
      "limit - 1150000 : 1845\n",
      "limit - 1200000 : 1845\n",
      "limit - 1250000 : 1845\n",
      "limit - 1300000 : 1845\n",
      "limit - 1350000 : 1845\n",
      "limit - 1400000 : 1845\n",
      "limit - 1450000 : 1845\n",
      "limit - 1500000 : 1845\n",
      "limit - 1550000 : 1845\n",
      "limit - 1600000 : 1845\n",
      "limit - 1650000 : 1845\n",
      "limit - 1700000 : 1845\n",
      "limit - 1750000 : 1845\n",
      "limit - 1800000 : 1845\n",
      "limit - 1850000 : 1845\n",
      "limit - 1900000 : 1845\n",
      "limit - 1950000 : 1845\n",
      "limit - 2000000 : 1845\n",
      "not found: {'oligopolistica', 'ridimensioni', 'kostunica'}\n"
     ]
    },
    {
     "data": {
      "image/png": "[encoded data removed]",
      "text/plain": [
       "<matplotlib.figure.Figure at 0x7f86a9cdb198>"
      ]
     },
     "metadata": {},
     "output_type": "display_data"
    }
   ],
   "source": [
    "found_te_en = check_emb_coverage(emb=m_en, wl=te_en, limits=limits_te)\n",
    "found_te_it = check_emb_coverage(emb=m_it, wl=te_it, limits=limits_te)\n",
    "\n",
    "stat_te_en = []\n",
    "stat_te_it = []\n",
    "\n",
    "print('test en : {}'.format(len(te_en)))\n",
    "for i, l in enumerate(limits_te):\n",
    "    y = len(found_te_en[i])\n",
    "    stat_te_en.append(y)\n",
    "    print('limit - {0} : {1}'.format(l, y))\n",
    "print('not found: {}'.format(set(te_en) - set(found_te_en[-1])))\n",
    "plot(limits_te, stat_te_en, 'test en', 'limits', 'found')\n",
    "\n",
    "print('test it : {}'.format(len(te_it)))\n",
    "for i, l in enumerate(limits_te):\n",
    "    y = len(found_te_it[i])\n",
    "    stat_te_it.append(y)\n",
    "    print('limit - {0} : {1}'.format(l, y))\n",
    "print('not found: {}'.format(set(te_it) - set(found_te_it[-1])))\n",
    "plot(limits_te, stat_te_it, 'test it', 'limits', 'found')"
   ]
  },
  {
   "cell_type": "code",
   "execution_count": 14,
   "metadata": {},
   "outputs": [
    {
     "data": {
      "text/plain": [
       "False"
      ]
     },
     "execution_count": 14,
     "metadata": {},
     "output_type": "execute_result"
    },
    {
     "data": {
      "text/plain": [
       "False"
      ]
     },
     "execution_count": 14,
     "metadata": {},
     "output_type": "execute_result"
    },
    {
     "data": {
      "text/plain": [
       "False"
      ]
     },
     "execution_count": 14,
     "metadata": {},
     "output_type": "execute_result"
    }
   ],
   "source": [
    "# proving that not found words are not in the embedding\n",
    "'ridimensioni' in m_it\n",
    "'kostunica' in m_it\n",
    "'oligopolistica' in m_it"
   ]
  },
  {
   "cell_type": "code",
   "execution_count": 15,
   "metadata": {},
   "outputs": [
    {
     "name": "stdout",
     "output_type": "stream",
     "text": [
      "train : 4999\n",
      "limit - 50000 : 4899\n",
      "limit - 100000 : 4966\n",
      "limit - 150000 : 4983\n",
      "limit - 200000 : 4991\n",
      "limit - 250000 : 4994\n",
      "limit - 300000 : 4995\n",
      "limit - 350000 : 4998\n",
      "limit - 400000 : 4998\n",
      "limit - 450000 : 4998\n",
      "limit - 500000 : 4998\n",
      "limit - 550000 : 4998\n",
      "limit - 600000 : 4998\n",
      "limit - 650000 : 4998\n",
      "limit - 700000 : 4998\n",
      "limit - 750000 : 4998\n",
      "not found: {('undergraduate', 'prelaurea')}\n"
     ]
    },
    {
     "data": {
      "image/png": "[encoded data removed]",
      "text/plain": [
       "<matplotlib.figure.Figure at 0x7f86abd4cfd0>"
      ]
     },
     "metadata": {},
     "output_type": "display_data"
    },
    {
     "name": "stdout",
     "output_type": "stream",
     "text": [
      "test : 1868\n",
      "limit - 50000 : 993\n",
      "limit - 100000 : 1341\n",
      "limit - 150000 : 1535\n",
      "limit - 200000 : 1639\n",
      "limit - 250000 : 1727\n",
      "limit - 300000 : 1768\n",
      "limit - 350000 : 1803\n",
      "limit - 400000 : 1815\n",
      "limit - 450000 : 1832\n",
      "limit - 500000 : 1838\n",
      "limit - 550000 : 1844\n",
      "limit - 600000 : 1848\n",
      "limit - 650000 : 1851\n",
      "limit - 700000 : 1852\n",
      "limit - 750000 : 1855\n",
      "limit - 800000 : 1858\n",
      "limit - 850000 : 1860\n",
      "limit - 900000 : 1862\n",
      "limit - 950000 : 1862\n",
      "limit - 1000000 : 1862\n",
      "limit - 1050000 : 1862\n",
      "limit - 1100000 : 1863\n",
      "limit - 1150000 : 1863\n",
      "limit - 1200000 : 1863\n",
      "limit - 1250000 : 1863\n",
      "limit - 1300000 : 1863\n",
      "limit - 1350000 : 1864\n",
      "limit - 1400000 : 1864\n",
      "limit - 1450000 : 1864\n",
      "limit - 1500000 : 1864\n",
      "limit - 1550000 : 1864\n",
      "limit - 1600000 : 1864\n",
      "limit - 1650000 : 1864\n",
      "limit - 1700000 : 1865\n",
      "limit - 1750000 : 1865\n",
      "limit - 1800000 : 1865\n",
      "limit - 1850000 : 1865\n",
      "limit - 1900000 : 1865\n",
      "limit - 1950000 : 1865\n",
      "limit - 2000000 : 1865\n",
      "not found: {('oligopolistic', 'oligopolistica'), ('kostunica', 'kostunica'), ('downsize', 'ridimensioni')}\n"
     ]
    },
    {
     "data": {
      "image/png": "[encoded data removed]",
      "text/plain": [
       "<matplotlib.figure.Figure at 0x7f86a9ca7668>"
      ]
     },
     "metadata": {},
     "output_type": "display_data"
    }
   ],
   "source": [
    "found_tr_wp = check_wp_coverage(train_wp, found_tr_en, found_tr_it, limits_tr)\n",
    "found_te_wp = check_wp_coverage(test_wp, found_te_en, found_te_it, limits_te)\n",
    "\n",
    "stat_tr_wp = []\n",
    "stat_te_wp = []\n",
    "\n",
    "print('train : {}'.format(len(train_wp)))\n",
    "for i, l in enumerate(limits_tr):\n",
    "    y = len(found_tr_wp[i])\n",
    "    stat_tr_wp.append(y)\n",
    "    print('limit - {0} : {1}'.format(l, y))\n",
    "print('not found: {}'.format(set(train_wp) - set(found_tr_wp[-1])))\n",
    "plot(limits_tr, stat_tr_wp, 'train word pairs', 'limits', 'found')\n",
    "\n",
    "print('test : {}'.format(len(test_wp)))\n",
    "for i, l in enumerate(limits_te):\n",
    "    y = len(found_te_wp[i])\n",
    "    stat_te_wp.append(y)\n",
    "    print('limit - {0} : {1}'.format(l, y))\n",
    "print('not found: {}'.format(set(test_wp) - set(found_te_wp[-1])))\n",
    "plot(limits_te, stat_te_wp, 'test word pairs', 'limits', 'found')"
   ]
  },
  {
   "cell_type": "code",
   "execution_count": 16,
   "metadata": {},
   "outputs": [],
   "source": [
    "def print_all():\n",
    "    plt.figure(figsize=(figsize_x, figsize_y))\n",
    "    plt.title('train')\n",
    "    plt.xlabel('limit')\n",
    "    plt.ylabel('found')\n",
    "    plt.grid()\n",
    "    plt.plot(limits_tr, stat_tr_en, 'ro', label='en: {}'.format(len(tr_en)))\n",
    "    plt.plot(limits_tr, stat_tr_it, 'bo', label='it: {}'.format(len(tr_it)))\n",
    "    plt.legend()\n",
    "    plt.show()\n",
    "    \n",
    "    plt.figure(figsize=(figsize_x, figsize_y))\n",
    "    plt.title('test')\n",
    "    plt.xlabel('limit')\n",
    "    plt.ylabel('found')\n",
    "    plt.grid()\n",
    "    plt.plot(limits_te, stat_te_en, 'ro', label='en: {}'.format(len(te_en)))\n",
    "    plt.plot(limits_te, stat_te_it, 'bo', label='it: {}'.format(len(te_it)))\n",
    "    plt.legend()\n",
    "    plt.show()\n",
    "    \n",
    "    plt.figure(figsize=(figsize_x,figsize_y))\n",
    "    plt.title('word pairs')\n",
    "    plt.xlabel('limit')\n",
    "    plt.ylabel('found')\n",
    "    plt.grid()\n",
    "    plt.plot(limits_tr, stat_tr_wp, 'ro', label='train: {}'.format(len(train_wp)))\n",
    "    plt.plot(limits_te, stat_te_wp, 'bo', label='test: {}'.format(len(test_wp)))\n",
    "    plt.legend()\n",
    "    plt.show()"
   ]
  },
  {
   "cell_type": "code",
   "execution_count": 17,
   "metadata": {},
   "outputs": [
    {
     "data": {
      "image/png": "[encoded data removed]",
      "text/plain": [
       "<matplotlib.figure.Figure at 0x7f86abe71e80>"
      ]
     },
     "metadata": {},
     "output_type": "display_data"
    },
    {
     "data": {
      "image/png": "[encoded data removed]",
      "text/plain": [
       "<matplotlib.figure.Figure at 0x7f86a920d6d8>"
      ]
     },
     "metadata": {},
     "output_type": "display_data"
    },
    {
     "data": {
      "image/png": "[encoded data removed]",
      "text/plain": [
       "<matplotlib.figure.Figure at 0x7f86a9202470>"
      ]
     },
     "metadata": {},
     "output_type": "display_data"
    }
   ],
   "source": [
    "print_all()"
   ]
  }
 ],
 "metadata": {
  "kernelspec": {
   "display_name": "Python 3",
   "language": "python",
   "name": "python3"
  },
  "language_info": {
   "codemirror_mode": {
    "name": "ipython",
    "version": 3
   },
   "file_extension": ".py",
   "mimetype": "text/x-python",
   "name": "python",
   "nbconvert_exporter": "python",
   "pygments_lexer": "ipython3",
   "version": "3.5.2"
  }
 },
 "nbformat": 4,
 "nbformat_minor": 2
}
