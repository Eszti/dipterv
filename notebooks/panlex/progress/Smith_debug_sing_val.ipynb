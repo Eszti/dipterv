{
 "cells": [
  {
   "cell_type": "markdown",
   "metadata": {},
   "source": [
    "Checking singular values of the transformation matrices"
   ]
  },
  {
   "cell_type": "code",
   "execution_count": 9,
   "metadata": {},
   "outputs": [],
   "source": [
    "import pickle\n",
    "import os\n",
    "from IPython.core.interactiveshell import InteractiveShell\n",
    "InteractiveShell.ast_node_interactivity = \"all\"\n",
    "import numpy as np"
   ]
  },
  {
   "cell_type": "code",
   "execution_count": 53,
   "metadata": {},
   "outputs": [],
   "source": [
    "def get_sing_vals(output_folder, nbs, limit, print_s=False):\n",
    "    def get_smalls(T):\n",
    "        U, s, V = np.linalg.svd(T, full_matrices=True, compute_uv=True)\n",
    "        small = np.where(s < limit)\n",
    "        print('T_{0}\\t<0.1 : {1}'.format(nb, len(small[0])))\n",
    "        if print_s:\n",
    "            print(s)\n",
    "    for i, nb in enumerate(nbs):\n",
    "        T_fn = os.path.join(output_folder, 'train_mod', 'T_{}.pickle'.format(nb))\n",
    "        with open(T_fn, 'rb') as f:\n",
    "            T = pickle.load(f)\n",
    "        T_en = T[0]\n",
    "        print('eng')\n",
    "        get_smalls(T_en)\n",
    "        T_it = T[1]\n",
    "        print('ita')\n",
    "        get_smalls(T_it)\n"
   ]
  },
  {
   "cell_type": "code",
   "execution_count": 54,
   "metadata": {},
   "outputs": [
    {
     "name": "stdout",
     "output_type": "stream",
     "text": [
      "eng\n",
      "T_0\t<0.1 : 14\n",
      "ita\n",
      "T_0\t<0.1 : 12\n",
      "eng\n",
      "T_50\t<0.1 : 15\n",
      "ita\n",
      "T_50\t<0.1 : 14\n",
      "eng\n",
      "T_99\t<0.1 : 16\n",
      "ita\n",
      "T_99\t<0.1 : 14\n"
     ]
    }
   ],
   "source": [
    "output_folder = '/home/eszti/projects/dipterv/panlex/output_permanent/20180112_1119_21'\n",
    "nbs = [0, 50, 99]\n",
    "limit = 1\n",
    "get_sing_vals(output_folder, nbs, limit)"
   ]
  },
  {
   "cell_type": "code",
   "execution_count": 56,
   "metadata": {},
   "outputs": [
    {
     "name": "stdout",
     "output_type": "stream",
     "text": [
      "eng\n",
      "T_50\t<0.1 : 0\n",
      "ita\n",
      "T_50\t<0.1 : 0\n",
      "eng\n",
      "T_51\t<0.1 : 10\n",
      "ita\n",
      "T_51\t<0.1 : 9\n",
      "eng\n",
      "T_52\t<0.1 : 23\n",
      "ita\n",
      "T_52\t<0.1 : 21\n",
      "eng\n",
      "T_53\t<0.1 : 37\n",
      "ita\n",
      "T_53\t<0.1 : 34\n",
      "eng\n",
      "T_54\t<0.1 : 51\n",
      "ita\n",
      "T_54\t<0.1 : 48\n",
      "eng\n",
      "T_55\t<0.1 : 63\n",
      "ita\n",
      "T_55\t<0.1 : 60\n",
      "eng\n",
      "T_56\t<0.1 : 74\n",
      "ita\n",
      "T_56\t<0.1 : 71\n",
      "eng\n",
      "T_57\t<0.1 : 85\n",
      "ita\n",
      "T_57\t<0.1 : 81\n",
      "eng\n",
      "T_58\t<0.1 : 94\n",
      "ita\n",
      "T_58\t<0.1 : 90\n",
      "eng\n",
      "T_59\t<0.1 : 102\n",
      "ita\n",
      "T_59\t<0.1 : 99\n",
      "eng\n",
      "T_60\t<0.1 : 0\n",
      "ita\n",
      "T_60\t<0.1 : 0\n"
     ]
    }
   ],
   "source": [
    "output_folder = '/home/eszti/projects/dipterv/panlex/output_permanent/20180115_1757_29'\n",
    "nbs = [50, 51, 52, 53, 54, 55, 56, 57, 58, 59, 60]\n",
    "limit = 0.5\n",
    "get_sing_vals(output_folder, nbs, limit)"
   ]
  }
 ],
 "metadata": {
  "kernelspec": {
   "display_name": "Python 3",
   "language": "python",
   "name": "python3"
  },
  "language_info": {
   "codemirror_mode": {
    "name": "ipython",
    "version": 3
   },
   "file_extension": ".py",
   "mimetype": "text/x-python",
   "name": "python",
   "nbconvert_exporter": "python",
   "pygments_lexer": "ipython3",
   "version": "3.5.2"
  }
 },
 "nbformat": 4,
 "nbformat_minor": 2
}
