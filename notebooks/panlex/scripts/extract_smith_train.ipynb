{
 "cells": [
  {
   "cell_type": "code",
   "execution_count": 6,
   "metadata": {},
   "outputs": [],
   "source": [
    "# Import\n",
    "from IPython.core.interactiveshell import InteractiveShell\n",
    "InteractiveShell.ast_node_interactivity = \"all\"\n",
    "import numpy as np\n",
    "from gensim.models import KeyedVectors\n",
    "import pickle"
   ]
  },
  {
   "cell_type": "code",
   "execution_count": 7,
   "metadata": {},
   "outputs": [],
   "source": [
    "train_fn = '/mnt/permanent/home/eszti/dipterv/panlex/data/smith/original/train/eng_ita.tsv'\n",
    "\n",
    "eng_emb = '/mnt/permanent/Language/Multi/FB/wiki.en/wiki.en.vec'\n",
    "ita_emb = '/mnt/permanent/Language/Multi/FB/wiki.it/wiki.it.vec'\n",
    "\n",
    "limit = None\n",
    "\n",
    "tr_en_fn = 'train_eng.pickle'\n",
    "\n",
    "tr_it_fn = 'train_ita.pickle'"
   ]
  },
  {
   "cell_type": "code",
   "execution_count": 8,
   "metadata": {},
   "outputs": [],
   "source": [
    "def read_emb(emb_fn, limit):\n",
    "    model = KeyedVectors.load_word2vec_format(emb_fn, binary=False, limit=limit)\n",
    "    model.syn0 /= np.sqrt((model.syn0 ** 2).sum(1))[:, None]\n",
    "    return model"
   ]
  },
  {
   "cell_type": "code",
   "execution_count": 9,
   "metadata": {},
   "outputs": [],
   "source": [
    "def read_word_pairs_tsv(fn, id1, id2):\n",
    "    wl1 = set()\n",
    "    wl2 = set()\n",
    "    with open(fn) as f:\n",
    "        lines = f.readlines()\n",
    "        data = [(line.split()[id1], line.split()[id2]) for i, line in enumerate(lines)]\n",
    "    for (w1, w2) in data:\n",
    "        wl1.add(w1)\n",
    "        wl2.add(w2)\n",
    "    return data, wl1, wl2"
   ]
  },
  {
   "cell_type": "code",
   "execution_count": 10,
   "metadata": {},
   "outputs": [],
   "source": [
    "# saving format: (vocab: ordered list according to frequency, emb_dict: word - nparray dictionary)\n",
    "def get_filtered_embedding(emb, wl, fn):\n",
    "    to_save = []\n",
    "    for w in wl:\n",
    "        if w in emb:\n",
    "            to_save.append([w, emb[w], emb.index2word.index(w)])\n",
    "        else:\n",
    "            print('not found: {}'.format(w))\n",
    "    to_save.sort(key=lambda x: x[2])\n",
    "    dim = 300\n",
    "    vocab = [l[0] for l in to_save]\n",
    "    filtered_mod = dict()\n",
    "    for i, w in enumerate(vocab):\n",
    "        filtered_mod[w] = emb[w]\n",
    "    with open(fn, 'wb') as f:\n",
    "        pickle.dump(file=f, obj=filtered_mod)\n",
    "    return filtered_mod"
   ]
  },
  {
   "cell_type": "code",
   "execution_count": 11,
   "metadata": {},
   "outputs": [],
   "source": [
    "m_en = read_emb(eng_emb, limit)\n",
    "m_it = read_emb(ita_emb, limit)"
   ]
  },
  {
   "cell_type": "code",
   "execution_count": 12,
   "metadata": {},
   "outputs": [],
   "source": [
    "train_wp, tr_en, tr_it = read_word_pairs_tsv(train_fn, 0, 1)"
   ]
  },
  {
   "cell_type": "code",
   "execution_count": 13,
   "metadata": {},
   "outputs": [
    {
     "name": "stdout",
     "output_type": "stream",
     "text": [
      "en train\n",
      "it train\n",
      "not found: prelaurea\n"
     ]
    }
   ],
   "source": [
    "# En\n",
    "print('en train')\n",
    "m_en_tr_fil = get_filtered_embedding(m_en, tr_en, tr_en_fn)\n",
    "\n",
    "# It\n",
    "print('it train')\n",
    "m_it_tr_fil = get_filtered_embedding(m_it, tr_it, tr_it_fn)"
   ]
  },
  {
   "cell_type": "code",
   "execution_count": 14,
   "metadata": {},
   "outputs": [],
   "source": [
    "def load(fn):\n",
    "    with open(fn, 'rb') as f:\n",
    "        data = pickle.load(f)\n",
    "    return data"
   ]
  },
  {
   "cell_type": "code",
   "execution_count": 15,
   "metadata": {},
   "outputs": [],
   "source": [
    "def test_load(fn, message):\n",
    "    print(message)\n",
    "    emb = load(fn)\n",
    "    print('vocab length: {}'.format(len(emb.keys())))"
   ]
  },
  {
   "cell_type": "code",
   "execution_count": 16,
   "metadata": {},
   "outputs": [
    {
     "name": "stdout",
     "output_type": "stream",
     "text": [
      "train en\n",
      "vocab length: 3442\n",
      "train it\n",
      "vocab length: 4548\n"
     ]
    }
   ],
   "source": [
    "test_load(tr_en_fn, 'train en')\n",
    "test_load(tr_it_fn, 'train it')"
   ]
  },
  {
   "cell_type": "code",
   "execution_count": null,
   "metadata": {},
   "outputs": [],
   "source": []
  }
 ],
 "metadata": {
  "kernelspec": {
   "display_name": "Python 3",
   "language": "python",
   "name": "python3"
  },
  "language_info": {
   "codemirror_mode": {
    "name": "ipython",
    "version": 3
   },
   "file_extension": ".py",
   "mimetype": "text/x-python",
   "name": "python",
   "nbconvert_exporter": "python",
   "pygments_lexer": "ipython3",
   "version": "3.5.2"
  }
 },
 "nbformat": 4,
 "nbformat_minor": 2
}
