{
 "cells": [
  {
   "cell_type": "code",
   "execution_count": 81,
   "metadata": {},
   "outputs": [],
   "source": [
    "# Import\n",
    "from IPython.core.interactiveshell import InteractiveShell\n",
    "InteractiveShell.ast_node_interactivity = \"all\"\n",
    "import numpy as np\n",
    "import pickle\n",
    "from gensim.models import KeyedVectors"
   ]
  },
  {
   "cell_type": "code",
   "execution_count": 82,
   "metadata": {},
   "outputs": [],
   "source": [
    "train_fn = '/mnt/permanent/home/eszti/dipterv/panlex/data/smith/original/train/eng_ita.tsv'\n",
    "\n",
    "eng_emb = '/mnt/permanent/Language/Multi/FB/wiki.en/wiki.en.vec'\n",
    "ita_emb = '/mnt/permanent/Language/Multi/FB/wiki.it/wiki.it.vec'\n",
    "\n",
    "limit = None\n",
    "\n",
    "tr_en_fn = 'eng.pickle'\n",
    "\n",
    "tr_it_fn = 'ita.pickle'"
   ]
  },
  {
   "cell_type": "code",
   "execution_count": 83,
   "metadata": {},
   "outputs": [],
   "source": [
    "class EmbeddingModel():\n",
    "    def __init__(self):\n",
    "        self.syn0 = None\n",
    "        self.index2word = None\n",
    "\n",
    "    def normalize(self):\n",
    "        self.syn0 /= np.sqrt((self.syn0 ** 2).sum(1))[:, None]\n",
    "\n",
    "    def _read(self, fn, limit=None, lexicon=None):\n",
    "        raise NotImplementedError\n",
    "\n",
    "    def read(self, fn, limit=None, lexicon=None):\n",
    "        print('Reading embedding from {}'.format(fn))\n",
    "        self._read(fn, limit, lexicon)\n",
    "        self.normalize()\n",
    "        print('Syn0 size: {0}'.format(self.syn0.shape))\n",
    "        \n",
    "    def get(self, word):\n",
    "        if word not in self.index2word:\n",
    "            raise ValueError('Out of dictionary word: {}'.format(word))\n",
    "        else:\n",
    "            idx = self.index2word.index(word)\n",
    "            return self.syn0[idx]\n",
    "\n",
    "class TextEmbedding(EmbeddingModel):\n",
    "    def __init__(self):\n",
    "        EmbeddingModel.__init__(self)\n",
    "\n",
    "    def _read(self, fn, limit=None, lexicon=None):\n",
    "        model = KeyedVectors.load_word2vec_format(fn, binary=False, limit=limit)\n",
    "        self.syn0 = model.syn0\n",
    "        self.index2word = model.index2word\n",
    "        \n",
    "class PickleEmbedding(EmbeddingModel):\n",
    "    def __init__(self):\n",
    "        EmbeddingModel.__init__(self)\n",
    "\n",
    "    def _read(self, fn, limit=None, lexicon=None, encoding='utf-8'):\n",
    "        data = load_pickle(fn)\n",
    "        self.syn0 = data[0]\n",
    "        self.index2word = data[1]"
   ]
  },
  {
   "cell_type": "code",
   "execution_count": 84,
   "metadata": {},
   "outputs": [],
   "source": [
    "def read_word_pairs_tsv(fn, id1, id2):\n",
    "    wl1 = set()\n",
    "    wl2 = set()\n",
    "    with open(fn) as f:\n",
    "        lines = f.readlines()\n",
    "        data = [(line.split()[id1], line.split()[id2]) for i, line in enumerate(lines)]\n",
    "    for (w1, w2) in data:\n",
    "        wl1.add(w1)\n",
    "        wl2.add(w2)\n",
    "    return data, wl1, wl2"
   ]
  },
  {
   "cell_type": "code",
   "execution_count": 107,
   "metadata": {},
   "outputs": [],
   "source": [
    "def get_filtered_embedding(emb, wl, fn):\n",
    "    to_save = []\n",
    "    for w in wl:\n",
    "        if w in emb.index2word:\n",
    "            to_save.append([w, emb.get(w), emb.index2word.index(w)])\n",
    "        else:\n",
    "            print('not found: {}'.format(w))\n",
    "    to_save.sort(key=lambda x: x[2])\n",
    "    dim = 300\n",
    "    vocab = [l[0] for l in to_save]\n",
    "    filtered_mod = np.ndarray(shape=(len(vocab), dim))\n",
    "    for i, w in enumerate(vocab):\n",
    "        filtered_mod[i, :] = emb.get(w)\n",
    "    return filtered_mod, vocab"
   ]
  },
  {
   "cell_type": "code",
   "execution_count": 86,
   "metadata": {},
   "outputs": [],
   "source": [
    "m_en = TextEmbedding()\n",
    "m_it = TextEmbedding()"
   ]
  },
  {
   "cell_type": "code",
   "execution_count": 87,
   "metadata": {},
   "outputs": [],
   "source": [
    "data, wl1, wl2 = read_word_pairs_tsv(train_fn, 0, 1)"
   ]
  },
  {
   "cell_type": "code",
   "execution_count": 88,
   "metadata": {},
   "outputs": [
    {
     "name": "stdout",
     "output_type": "stream",
     "text": [
      "Reading embedding from /mnt/permanent/Language/Multi/FB/wiki.en/wiki.en.vec\n",
      "Syn0 size: (2519370, 300)\n",
      "Reading embedding from /mnt/permanent/Language/Multi/FB/wiki.it/wiki.it.vec\n",
      "Syn0 size: (871053, 300)\n"
     ]
    }
   ],
   "source": [
    "m_en.read(fn=eng_emb)\n",
    "m_it.read(fn=ita_emb)"
   ]
  },
  {
   "cell_type": "code",
   "execution_count": 89,
   "metadata": {},
   "outputs": [
    {
     "data": {
      "text/plain": [
       "0"
      ]
     },
     "execution_count": 89,
     "metadata": {},
     "output_type": "execute_result"
    }
   ],
   "source": [
    "len(np.where(abs(np.linalg.norm(m_en.syn0, axis=1)-1) > 0.0001)[0] )"
   ]
  },
  {
   "cell_type": "code",
   "execution_count": 110,
   "metadata": {},
   "outputs": [
    {
     "name": "stdout",
     "output_type": "stream",
     "text": [
      "en train\n",
      "it train\n",
      "not found: prelaurea\n"
     ]
    }
   ],
   "source": [
    "print('en train')\n",
    "en_syn0, en_i2w = get_filtered_embedding(m_en, wl1, tr_en_fn)\n",
    "print('it train')\n",
    "it_syn0, it_i2r = get_filtered_embedding(m_it, wl2, tr_it_fn)"
   ]
  },
  {
   "cell_type": "code",
   "execution_count": 111,
   "metadata": {},
   "outputs": [],
   "source": [
    "def save(fn, syn0, i2r):\n",
    "    with open(fn, 'wb') as f:\n",
    "        pickle.dump(file=f, obj=(syn0, i2r))"
   ]
  },
  {
   "cell_type": "code",
   "execution_count": 113,
   "metadata": {},
   "outputs": [],
   "source": [
    "save(tr_en_fn, en_syn0, en_i2w)\n",
    "save(tr_it_fn, it_syn0, it_i2r)"
   ]
  },
  {
   "cell_type": "code",
   "execution_count": 99,
   "metadata": {},
   "outputs": [],
   "source": [
    "with open(tr_en_fn, 'rb') as f:\n",
    "    data = pickle.load(f)"
   ]
  },
  {
   "cell_type": "code",
   "execution_count": 100,
   "metadata": {},
   "outputs": [
    {
     "data": {
      "text/plain": [
       "3442"
      ]
     },
     "execution_count": 100,
     "metadata": {},
     "output_type": "execute_result"
    },
    {
     "data": {
      "text/plain": [
       "3442"
      ]
     },
     "execution_count": 100,
     "metadata": {},
     "output_type": "execute_result"
    },
    {
     "data": {
      "text/plain": [
       "(3442, 300)"
      ]
     },
     "execution_count": 100,
     "metadata": {},
     "output_type": "execute_result"
    }
   ],
   "source": [
    "len(data[1])\n",
    "len(data[0])\n",
    "data[0].shape"
   ]
  },
  {
   "cell_type": "code",
   "execution_count": 109,
   "metadata": {},
   "outputs": [
    {
     "data": {
      "text/plain": [
       "True"
      ]
     },
     "execution_count": 109,
     "metadata": {},
     "output_type": "execute_result"
    }
   ],
   "source": [
    "'parties' in en_i2w"
   ]
  },
  {
   "cell_type": "code",
   "execution_count": 104,
   "metadata": {},
   "outputs": [
    {
     "data": {
      "text/plain": [
       "True"
      ]
     },
     "execution_count": 104,
     "metadata": {},
     "output_type": "execute_result"
    }
   ],
   "source": [
    "'parties' in wl1"
   ]
  }
 ],
 "metadata": {
  "kernelspec": {
   "display_name": "Python 3",
   "language": "python",
   "name": "python3"
  },
  "language_info": {
   "codemirror_mode": {
    "name": "ipython",
    "version": 3
   },
   "file_extension": ".py",
   "mimetype": "text/x-python",
   "name": "python",
   "nbconvert_exporter": "python",
   "pygments_lexer": "ipython3",
   "version": "3.5.2"
  }
 },
 "nbformat": 4,
 "nbformat_minor": 2
}
