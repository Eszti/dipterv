{
 "cells": [
  {
   "cell_type": "code",
   "execution_count": 12,
   "metadata": {},
   "outputs": [],
   "source": [
    "# Import\n",
    "from IPython.core.interactiveshell import InteractiveShell\n",
    "InteractiveShell.ast_node_interactivity = \"all\"\n",
    "import numpy as np\n",
    "from gensim.models import KeyedVectors\n",
    "import pickle"
   ]
  },
  {
   "cell_type": "code",
   "execution_count": 13,
   "metadata": {},
   "outputs": [],
   "source": [
    "train_fn = '/home/eszti/projects/dipterv/panlex/data/smith/train/eng_ita.tsv'\n",
    "valid_fn = '/home/eszti/projects/dipterv/panlex/data/smith/valid/eng_ita.tsv'\n",
    "test_fn = '/home/eszti/projects/dipterv/panlex/data/smith/test/eng_ita.tsv'\n",
    "\n",
    "eng_emb = '/mnt/permanent/Language/Multi/FB/wiki.en/wiki.en.vec'\n",
    "ita_emb = '/mnt/permanent/Language/Multi/FB/wiki.it/wiki.it.vec'\n",
    "\n",
    "limit = None\n",
    "\n",
    "tr_en_fn = 'train_eng.pickle'\n",
    "va_en_fn = 'valid_eng.pickle'\n",
    "te_en_fn = 'test_eng.pickle'\n",
    "\n",
    "tr_it_fn = 'train_ita.pickle'\n",
    "va_it_fn = 'val_ita.pickle'\n",
    "te_it_fn = 'test_ita.pickle'"
   ]
  },
  {
   "cell_type": "code",
   "execution_count": 14,
   "metadata": {},
   "outputs": [],
   "source": [
    "def read_emb(emb_fn, limit):\n",
    "    model = KeyedVectors.load_word2vec_format(emb_fn, binary=False, limit=limit)\n",
    "    return model"
   ]
  },
  {
   "cell_type": "code",
   "execution_count": 15,
   "metadata": {},
   "outputs": [],
   "source": [
    "def read_word_pairs_tsv(fn, id1, id2, header=True):\n",
    "    wl1 = set()\n",
    "    wl2 = set()\n",
    "    with open(fn) as f:\n",
    "        lines = f.readlines()\n",
    "        data = [(line.split()[id1], line.split()[id2]) for i, line in enumerate(lines) if i > 0 or header == False]\n",
    "    for (w1, w2) in data:\n",
    "        wl1.add(w1)\n",
    "        wl2.add(w2)\n",
    "    return data, wl1, wl2"
   ]
  },
  {
   "cell_type": "code",
   "execution_count": 30,
   "metadata": {},
   "outputs": [],
   "source": [
    "# saving format: (vocab: ordered list according to frequency, emb_dict: word - nparray dictionary)\n",
    "def get_filtered_embedding(emb, wl, fn):\n",
    "    to_save = []\n",
    "    for w in wl:\n",
    "        if w in emb:\n",
    "            to_save.append([w, emb[w], emb.index2word.index(w)])\n",
    "        else:\n",
    "            print('not found: {}'.format(w))\n",
    "    to_save.sort(key=lambda x: x[2])\n",
    "    dim = 300\n",
    "    vocab = [l[0] for l in to_save]\n",
    "    filtered_mod = dict()\n",
    "    for i, w in enumerate(vocab):\n",
    "        filtered_mod[w] = emb[w]\n",
    "    with open(fn, 'wb') as f:\n",
    "        pickle.dump(file=f, obj=filtered_mod)\n",
    "    return filtered_mod"
   ]
  },
  {
   "cell_type": "code",
   "execution_count": 11,
   "metadata": {},
   "outputs": [],
   "source": [
    "m_en = read_emb(eng_emb, limit)\n",
    "m_it = read_emb(ita_emb, limit)"
   ]
  },
  {
   "cell_type": "code",
   "execution_count": 17,
   "metadata": {},
   "outputs": [],
   "source": [
    "train_wp, tr_en, tr_it = read_word_pairs_tsv(train_fn, 0, 1)\n",
    "valid_wp, va_en, va_it = read_word_pairs_tsv(valid_fn, 0, 1)\n",
    "test_wp, te_en, te_it = read_word_pairs_tsv(test_fn, 0, 1)"
   ]
  },
  {
   "cell_type": "code",
   "execution_count": 31,
   "metadata": {},
   "outputs": [
    {
     "name": "stdout",
     "output_type": "stream",
     "text": [
      "en train\n",
      "en valid\n",
      "en test\n",
      "it train\n",
      "not found: prelaurea\n",
      "it valid\n",
      "it test\n",
      "not found: kostunica\n",
      "not found: ridimensioni\n",
      "not found: oligopolistica\n"
     ]
    }
   ],
   "source": [
    "# En\n",
    "print('en train')\n",
    "m_en_tr_fil = get_filtered_embedding(m_en, tr_en, tr_en_fn)\n",
    "print('en valid')\n",
    "m_en_va_fil = get_filtered_embedding(m_en, va_en, va_en_fn)\n",
    "print('en test')\n",
    "m_en_te_fil = get_filtered_embedding(m_en, te_en, te_en_fn)\n",
    "\n",
    "print('it train')\n",
    "m_it_tr_fil = get_filtered_embedding(m_it, tr_it, tr_it_fn)\n",
    "print('it valid')\n",
    "m_it_va_fil = get_filtered_embedding(m_it, va_it, va_it_fn)\n",
    "print('it test')\n",
    "m_it_te_fil = get_filtered_embedding(m_it, te_it, te_it_fn)"
   ]
  },
  {
   "cell_type": "code",
   "execution_count": 21,
   "metadata": {},
   "outputs": [],
   "source": [
    "def load(fn):\n",
    "    with open(fn, 'rb') as f:\n",
    "        data = pickle.load(f)\n",
    "    return data"
   ]
  },
  {
   "cell_type": "code",
   "execution_count": 32,
   "metadata": {},
   "outputs": [],
   "source": [
    "def test_load(fn, message):\n",
    "    print(message)\n",
    "    emb = load(fn)\n",
    "    print('vocab length: {}'.format(len(emb.keys())))"
   ]
  },
  {
   "cell_type": "code",
   "execution_count": 33,
   "metadata": {},
   "outputs": [
    {
     "name": "stdout",
     "output_type": "stream",
     "text": [
      "train en\n",
      "vocab length: 3215\n",
      "train it\n",
      "vocab length: 4132\n",
      "valid en\n",
      "vocab length: 499\n",
      "valid it\n",
      "vocab length: 498\n",
      "test en\n",
      "vocab length: 1499\n",
      "test it\n",
      "vocab length: 1845\n"
     ]
    }
   ],
   "source": [
    "test_load(tr_en_fn, 'train en')\n",
    "test_load(tr_it_fn, 'train it')\n",
    "test_load(va_en_fn, 'valid en')\n",
    "test_load(va_it_fn, 'valid it')\n",
    "test_load(te_en_fn, 'test en')\n",
    "test_load(te_it_fn, 'test it')"
   ]
  },
  {
   "cell_type": "code",
   "execution_count": 36,
   "metadata": {},
   "outputs": [
    {
     "data": {
      "text/plain": [
       "dict_keys(['direction', 'chapters', 'adoption', 'vessels', 'nation', 'ruling', 'stored', 'meaning', 'features', 'monday', 'separated', 'learn', 'holes', 'continental', 'theoretical', 'funds', 'senior', 'been', 'composition', 'nobody', 'dutch', 'possession', 'next', 'construction', 'bus', 'equity', 'visit', 'review', 'complaint', 'rock', 'gardens', 'simple', 'match', 'conventional', 'voting', 'degrees', 'cup', 'optional', 'stars', 'spanish', 'waiting', 'uses', 'newspaper', 'olympic', 'institutions', 'wednesday', 'cream', 'nuclear', 'initiatives', 'colleges', 'cases', 'population', 'introduce', 'delivery', 'applicants', 'martin', 'southampton', 'concert', 'families', 'seed', 'arab', 'volumes', 'names', 'also', 'doctor', 'worst', 'requested', 'managers', 'coach', 'engines', 'removal', 'scene', 'worldwide', 'department', 'conducted', 'ice', 'glasgow', 'screening', 'writes', 'lakes', 'steel', 'countryside', 'ordinary', 'matters', 'asylum', 'thank', 'coaches', 'crowd', 'chris', 'version', 'blues', 'row', 'morning', 'sign', 'accounting', 'districts', 'helps', 'eye', 'immediate', 'veterinary', 'income', 'excellence', 'illinois', 'resulting', 'individual', 'items', 'change', 'blind', 'leaders', 'instruments', 'sea', 'average', 'minor', 'needed', 'creating', 'biology', 'protest', 'ministers', 'afghanistan', 'label', 'plate', 'signal', 'administration', 'breaking', 'characters', 'deal', 'pacific', 'fact', 'operator', 'exactly', 'household', 'light', 'plants', 'third', 'euro', 'letters', 'appearances', 'shared', 'honours', 'used', 'clock', 'councils', 'sale', 'passion', 'professionals', 'month', 'underground', 'dance', 'individuals', 'periods', 'agents', 'experience', 'bills', 'colours', 'sold', 'beginning', 'main', 'rival', 'status', 'zero', 'designs', 'languages', 'speakers', 'facilities', 'holland', 'configuration', 'implementation', 'university', 'leicester', 'google', 'name', 'restoration', 'recognised', 'alex', 'systems', 'effective', 'reduction', 'dogs', 'protein', 'hall', 'tried', 'find', 'clause', 'ireland', 'studied', 'unusual', 'see', 'currency', 'destroyed', 'disaster', 'contains', 'criticism', 'formally', 'seven', 'convinced', 'alive', 'choices', 'scotland', 'results', 'cost', 'artist', 'greece', 'window', 'island', 'buy', 'first', 'sister', 'line', 'invasion', 'completed', 'jimmy', 'statistics', 'station', 'speech', 'jerusalem', 'cabinet', 'raise', 'normal', 'lay', 'cornwall', 'facts', 'armed', 'divisions', 'could', 'media', 'united', 'earth', 'indicate', 'tunnel', 'write', 'remained', 'california', 'identify', 'before', 'her', 'israel', 'actively', 'damaged', 'actor', 'emotional', 'anna', 'bill', 'boats', 'turner', 'energy', 'prices', 'sufficient', 'jordan', 'flow', 'constitutional', 'treatments', 'charts', 'extended', 'controls', 'founding', 'sustainable', 'hearing', 'remain', 'temperature', 'observations', 'continue', 'michael', 'behind', 'ian', 'thread', 'intermediate', 'fine', 'albert', 'england', 'colour', 'oliver', 'although', 'titled', 'subsequently', 'desire', 'legal', 'attitude', 'hockey', 'hear', 'association', 'orchestra', 'corporation', 'creation', 'ball', 'pennsylvania', 'accept', 'craft', 'expectations', 'studying', 'restricted', 'event', 'minute', 'partnerships', 'explained', 'reader', 'encouraged', 'samples', 'organised', 'guaranteed', 'victory', 'doors', 'together', 'piano', 'pro', 'infrastructure', 'prevent', 'naval', 'duke', 'model', 'church', 'belief', 'existed', 'matter', 'assurance', 'history', 'dangerous', 'improved', 'voluntary', 'support', 'drinking', 'rates', 'every', 'crew', 'wing', 'explains', 'netherlands', 'frequent', 'until', 'tip', 'prison', 'stone', 'papers', 'billion', 'soul', 'south', 'corresponding', 'fifty', 'can', 'mix', 'horse', 'theory', 'area', 'nearly', 'parameters', 'summer', 'associations', 'muslims', 'includes', 'celebrate', 'old', 'variation', 'success', 'issues', 'kinds', 'duty', 'lawyer', 'contrast', 'ideas', 'strong', 'eating', 'israeli', 'reading', 'increases', 'defense', 'growth', 'perception', 'lives', 'norway', 'ken', 'wisdom', 'electricity', 'board', 'sample', 'hms', 'episodes', 'local', 'atmosphere', 'more', 'asia', 'solution', 'harris', 'trophy', 'last', 'achieve', 'specification', 'those', 'use', 'employees', 'their', 'judge', 'accompanied', 'west', 'carolina', 'workshop', 'publishers', 'communications', 'substantial', 'reserves', 'barriers', 'india', 'courts', 'steam', 'determined', 'private', 'escape', 'dedicated', 'bands', 'decision', 'productions', 'investment', 'academic', 'goals', 'remains', 'what', 'parking', 'recommendations', 'poem', 'victorian', 'invited', 'dawn', 'insurance', 'dear', 'shoes', 'mills', 'fifth', 'defined', 'jonathan', 'flying', 'because', 'holds', 'associated', 'eyes', 'speak', 'satisfaction', 'defend', 'him', 'rugby', 'opportunities', 'blog', 'recorded', 'conflict', 'exploration', 'need', 'helped', 'specifically', 'scale', 'gordon', 'manufacturers', 'roger', 'gate', 'queen', 'digital', 'measured', 'muslim', 'documentation', 'duties', 'communication', 'such', 'twelve', 'beach', 'arising', 'blair', 'care', 'offensive', 'visits', 'daniel', 'shower', 'diploma', 'applied', 'clubs', 'peninsula', 'fly', 'favour', 'starts', 'bbc', 'drama', 'iraqi', 'prestigious', 'own', 'railway', 'risk', 'approaches', 'powerful', 'quickly', 'journey', 'distribution', 'wave', 'graphic', 'injured', 'transition', 'brown', 'outcome', 'generate', 'eastern', 'groups', 'attacks', 'concrete', 'acquired', 'ward', 'nice', 'broad', 'daughter', 'easy', 'graphics', 'locally', 'network', 'jean', 'company', 'square', 'hampshire', 'evans', 'institution', 'norwegian', 'keyboard', 'nothing', 'random', 'fantasy', 'intellectual', 'oak', 'original', 'aware', 'form', 'preferred', 'senate', 'roman', 'appearance', 'slowly', 'clothes', 'ford', 'that', 'dress', 'mouth', 'savings', 'stones', 'briefly', 'appeals', 'regular', 'art', 'museums', 'things', 'others', 'wright', 'scientific', 'friend', 'calculated', 'message', 'annually', 'simply', 'followed', 'injury', 'examined', 'sought', 'variations', 'climb', 'agency', 'reached', 'economic', 'assets', 'proposal', 'capacity', 'centre', 'diet', 'hand', 'instructions', 'painted', 'learning', 'mortgage', 'pieces', 'knows', 'newsletter', 'norwich', 'significant', 'turkey', 'festival', 'categories', 'outcomes', 'commercial', 'documentary', 'gradually', 'street', 'chicago', 'contribution', 'contact', 'errors', 'whereas', 'visual', 'respect', 'album', 'cards', 'containing', 'gallery', 'jurisdiction', 'always', 'african', 'regularly', 'search', 'writers', 'prisoners', 'perfectly', 'progressive', 'give', 'correctly', 'section', 'border', 'traditions', 'ten', 'inspired', 'them', 'today', 'ancient', 'text', 'condition', 'resolution', 'session', 'engine', 'metal', 'friends', 'stations', 'considerable', 'enjoy', 'celebrated', 'paint', 'seeks', 'lesson', 'vary', 'admitted', 'demographics', 'temperatures', 'reaction', 'olympics', 'launched', 'fort', 'danger', 'founded', 'rural', 'ideal', 'discrimination', 'murray', 'historic', 'produced', 'set', 'episode', 'killing', 'mainly', 'hull', 'internal', 'newspapers', 'practical', 'distinction', 'protect', 'this', 'shell', 'treated', 'philadelphia', 'phone', 'taste', 'membership', 'brothers', 'count', 'generated', 'half', 'door', 'guarantee', 'info', 'everyday', 'after', 'attempted', 'competitions', 'explore', 'jesus', 'programme', 'evil', 'growing', 'cape', 'owners', 'people', 'joint', 'weapons', 'transferred', 'ticket', 'founder', 'forum', 'informal', 'tournament', 'office', 'comfort', 'saint', 'september', 'willing', 'common', 'drink', 'pension', 'winner', 'occasional', 'wet', 'investigate', 'explanation', 'millions', 'techniques', 'girls', 'integral', 'pure', 'jackson', 'derived', 'offer', 'organisation', 'dublin', 'deputy', 'acres', 'rivers', 'extent', 'literary', 'representation', 'central', 'pairs', 'accordance', 'mini', 'create', 'killed', 'inhabitants', 'itself', 'passengers', 'circle', 'opera', 'tower', 'anyone', 'apple', 'dental', 'gay', 'slow', 'lower', 'alleged', 'toys', 'net', 'greek', 'questions', 'telephone', 'organisations', 'companies', 'gift', 'campbell', 'band', 'responsible', 'park', 'minority', 'russia', 'printer', 'drop', 'aims', 'supervision', 'medical', 'lessons', 'research', 'editors', 'johnson', 'cars', 'residents', 'formats', 'weight', 'tonight', 'legislation', 'stewart', 'borders', 'statements', 'intelligent', 'heat', 'roof', 'arm', 'luxury', 'size', 'being', 'judgment', 'adjacent', 'establishment', 'dated', 'massachusetts', 'rob', 'spain', 'closely', 'advanced', 'content', 'methods', 'socialist', 'benefits', 'updated', 'barry', 'thomas', 'announced', 'basin', 'hair', 'type', 'boston', 'cancer', 'egypt', 'general', 'nicholas', 'late', 'paris', 'tel', 'mean', 'rent', 'parts', 'difference', 'effects', 'follow', 'shakespeare', 'feeling', 'witness', 'horror', 'style', 'work', 'testament', 'therapy', 'balance', 'styles', 'building', 'decisions', 'unit', 'waste', 'victim', 'seconds', 'ship', 'combat', 'joseph', 'singapore', 'hoping', 'death', 'grey', 'sydney', 'fail', 'fat', 'discussions', 'seem', 'parties', 'life', 'friendly', 'arrival', 'genes', 'mistake', 'participation', 'rejected', 'margaret', 'task', 'state', 'hardware', 'war', 'governments', 'connect', 'sum', 'davies', 'maria', 'forthcoming', 'easter', 'wearing', 'interested', 'heart', 'codes', 'land', 'san', 'total', 'nelson', 'default', 'differences', 'destruction', 'directions', 'formula', 'clients', 'miller', 'guardian', 'key', 'subscription', 'products', 'confirmed', 'principles', 'tables', 'available', 'violence', 'paintings', 'videos', 'committee', 'released', 'los', 'rocks', 'iii', 'wonder', 'notes', 'menu', 'stick', 'reach', 'coast', 'current', 'classical', 'concern', 'des', 'loans', 'cycle', 'health', 'marine', 'big', 'florida', 'birth', 'measures', 'expenditure', 'tourist', 'figure', 'limited', 'lecturer', 'social', 'presence', 'copy', 'listen', 'four', 'eleven', 'actual', 'scottish', 'sweden', 'syndrome', 'problems', 'why', 'communities', 'dean', 'events', 'previous', 'students', 'will', 'printed', 'practice', 'satisfied', 'birds', 'almost', 'months', 'value', 'peak', 'quarter', 'del', 'attention', 'robert', 'policies', 'positive', 'panel', 'argument', 'melbourne', 'cook', 'exciting', 'shadow', 'parks', 'wars', 'try', 'republican', 'grant', 'breach', 'classes', 'diseases', 'contracts', 'summary', 'succeeded', 'bars', 'fox', 'collect', 'spring', 'center', 'spirit', 'dan', 'extraordinary', 'effectively', 'round', 'hopes', 'universe', 'hell', 'example', 'description', 'suppliers', 'repeat', 'sick', 'father', 'lewis', 'speaker', 'maintain', 'popular', 'determination', 'structure', 'summit', 'francisco', 'however', 'phrase', 'hill', 'cinema', 'meal', 'consumer', 'streets', 'engage', 'colin', 'able', 'unions', 'restrictions', 'sacred', 'only', 'appointment', 'sheets', 'spend', 'meat', 'customer', 'tales', 'relief', 'sometimes', 'chamber', 'concept', 'howard', 'mental', 'sussex', 'reform', 'protection', 'suddenly', 'relationship', 'generally', 'alternative', 'aircraft', 'address', 'markets', 'stages', 'reverse', 'championships', 'you', 'currently', 'personal', 'acted', 'authors', 'drive', 'selling', 'air', 'diversity', 'answers', 'affected', 'doctors', 'charles', 'elections', 'members', 'usa', 'planet', 'apply', 'ownership', 'automatic', 'service', 'reality', 'assistance', 'around', 'maximum', 'wise', 'seal', 'studies', 'constant', 'helen', 'holidays', 'consultants', 'basic', 'fixed', 'both', 'douglas', 'rare', 'canadian', 'beer', 'dna', 'enterprise', 'environmental', 'grass', 'reduce', 'finally', 'northern', 'safe', 'law', 'employer', 'profit', 'restaurant', 'harry', 'question', 'useful', 'here', 'hope', 'requirement', 'bear', 'foundation', 'online', 'built', 'craig', 'costs', 'incident', 'belfast', 'harbour', 'rights', 'living', 'gates', 'afford', 'councillors', 'attract', 'courses', 'wheel', 'countries', 'sam', 'workers', 'combination', 'waves', 'situations', 'salary', 'method', 'times', 'successful', 'debut', 'eligible', 'technologies', 'chemical', 'done', 'apparent', 'hotels', 'procedure', 'officials', 'die', 'rail', 'conference', 'architect', 'tomorrow', 'roberts', 'mountains', 'server', 'com', 'birmingham', 'various', 'extend', 'opportunity', 'piece', 'plot', 'saved', 'infantry', 'blue', 'medicine', 'innovative', 'publish', 'aspects', 'limits', 'freedom', 'anniversary', 'classification', 'establish', 'amount', 'royal', 'beaches', 'absence', 'audit', 'identical', 'identifying', 'shares', 'wherever', 'tropical', 'eight', 'likely', 'platform', 'walks', 'allied', 'whole', 'employee', 'proportion', 'cattle', 'expression', 'subjects', 'otherwise', 'colonel', 'revolutionary', 'signals', 'british', 'competition', 'medieval', 'hills', 'exact', 'son', 'planning', 'resource', 'software', 'plans', 'context', 'solutions', 'fuel', 'impact', 'oral', 'mission', 'lists', 'animal', 'literacy', 'just', 'twin', 'wild', 'plc', 'robinson', 'customs', 'down', 'trains', 'suggests', 'marks', 'sad', 'thanks', 'fourth', 'device', 'moore', 'post', 'noticed', 'organization', 'dominant', 'aviation', 'decade', 'stress', 'youth', 'several', 'forces', 'captured', 'incidents', 'robin', 'pace', 'regulation', 'awareness', 'intelligence', 'religion', 'cap', 'acid', 'assessment', 'perceived', 'essential', 'breakfast', 'answer', 'readers', 'rank', 'foods', 'depends', 'happening', 'especially', 'sand', 'originally', 'weekly', 'comic', 'electric', 'ethnic', 'towards', 'operations', 'mechanism', 'brief', 'risks', 'concerns', 'adam', 'member', 'distinct', 'interior', 'page', 'goods', 'deck', 'camp', 'presidential', 'despite', 'initial', 'pleasure', 'include', 'offers', 'man', 'book', 'tool', 'commonwealth', 'van', 'leadership', 'catch', 'grow', 'deaf', 'raf', 'accessibility', 'heritage', 'hospital', 'celebration', 'jewish', 'less', 'affordable', 'agreement', 'journal', 'strategies', 'examine', 'cambridge', 'lack', 'urban', 'correspondence', 'liquid', 'involved', 'units', 'kind', 'pursue', 'healthcare', 'confusion', 'since', 'sarah', 'credits', 'foster', 'implement', 'faith', 'weeks', 'bowl', 'disorder', 'influential', 'begun', 'scott', 'inclusion', 'sector', 'meets', 'warning', 'words', 'reign', 'respectively', 'bass', 'win', 'dictionary', 'psychological', 'breast', 'vulnerable', 'select', 'africa', 'prize', 'les', 'happened', 'logic', 'george', 'taking', 'japanese', 'experiences', 'describe', 'twenty', 'administrative', 'australia', 'newcastle', 'golf', 'goal', 'hunt', 'rome', 'instead', 'increased', 'bob', 'islands', 'enormous', 'paul', 'elderly', 'sports', 'childhood', 'facilitate', 'schools', 'enthusiasm', 'targeted', 'widespread', 'seriously', 'tribute', 'timber', 'crimes', 'assume', 'talent', 'pub', 'guest', 'age', 'arena', 'agent', 'visitor', 'commitment', 'chip', 'indicated', 'christopher', 'lincoln', 'depend', 'funded', 'visible', 'process', 'fish', 'applies', 'diagnosis', 'storage', 'damage', 'figures', 'flexible', 'brazil', 'renamed', 'stunning', 'promote', 'all', 'vital', 'representatives', 'legs', 'report', 'function', 'opinions', 'battle', 'term', 'operational', 'limit', 'organized', 'philosophy', 'walked', 'andrew', 'legend', 'georgia', 'consumers', 'gene', 'russian', 'gary', 'stadium', 'servers', 'single', 'call', 'fully', 'combine', 'programming', 'replied', 'max', 'well', 'than', 'heavy', 'approval', 'athens', 'inclusive', 'white', 'polish', 'translated', 'rarely', 'moon', 'origin', 'latin', 'ordered', 'nine', 'soon', 'islamic', 'tissue', 'assistant', 'nights', 'introduced', 'dvd', 'recognition', 'valid', 'treatment', 'word', 'blocks', 'believed', 'commons', 'division', 'carbon', 'diameter', 'international', 'constantly', 'von', 'signs', 'described', 'denmark', 'species', 'interest', 'adequate', 'italy', 'counties', 'film', 'boat', 'brian', 'increasing', 'forest', 'mathematics', 'causing', 'april', 'mixture', 'erm', 'kong', 'volume', 'qualification', 'solo', 'science', 'begin', 'luck', 'expensive', 'mutual', 'radio', 'equality', 'direct', 'expressed', 'adult', 'investigation', 'advance', 'europe', 'speed', 'clear', 'vote', 'conferences', 'when', 'villages', 'appeal', 'secondary', 'now', 'resistance', 'under', 'abandoned', 'map', 'week', 'estimated', 'retain', 'train', 'seats', 'making', 'meet', 'chair', 'major', 'rating', 'lands', 'motor', 'lost', 'circumstances', 'ocean', 'changes', 'clean', 'devon', 'championship', 'principle', 'glory', 'oxford', 'lights', 'extremely', 'functions', 'confused', 'novel', 'standard', 'provision', 'debate', 'expanded', 'cycling', 'swimming', 'complex', 'police', 'christians', 'family', 'teaching', 'bound', 'branch', 'climate', 'monitoring', 'hamilton', 'participants', 'medium', 'channels', 'isle', 'worked', 'fashion', 'states', 'trend', 'largely', 'advertising', 'similarly', 'materials', 'changed', 'unity', 'july', 'religious', 'choice', 'closed', 'describes', 'structures', 'bodies', 'wear', 'analysis', 'german', 'remove', 'good', 'customers', 'rate', 'supreme', 'links', 'thousands', 'liverpool', 'ability', 'doubt', 'yards', 'falls', 'dimensions', 'plastic', 'governor', 'group', 'had', 'wire', 'romantic', 'sell', 'which', 'card', 'defeated', 'pride', 'der', 'psychology', 'allen', 'candidate', 'automatically', 'level', 'independent', 'wish', 'conditions', 'mrs', 'manufacturer', 'open', 'mad', 'houses', 'efforts', 'given', 'injuries', 'chain', 'anything', 'master', 'rose', 'artists', 'generations', 'pack', 'poverty', 'bronze', 'interview', 'manual', 'purposes', 'rapidly', 'considerably', 'federation', 'channel', 'becoming', 'moments', 'frequency', 'fun', 'large', 'path', 'professional', 'recruitment', 'reputation', 'jim', 'beautiful', 'happy', 'frank', 'travel', 'gas', 'guy', 'imperial', 'pilot', 'bath', 'residential', 'warm', 'boys', 'high', 'phones', 'battalion', 'patrick', 'plant', 'practices', 'strip', 'advantage', 'stop', 'responded', 'nations', 'serve', 'politicians', 'flag', 'hot', 'happens', 'machine', 'corner', 'threatened', 'essentially', 'surgery', 'consumption', 'serious', 'compete', 'expansion', 'spectacular', 'alexander', 'best', 'award', 'weapon', 'encourage', 'final', 'losing', 'dynasty', 'arrested', 'recently', 'ever', 'yellow', 'previously', 'culture', 'loan', 'laboratory', 'ethical', 'power', 'gap', 'temporary', 'challenging', 'lawrence', 'vision', 'race', 'acquisition', 'teacher', 'through', 'moral', 'mike', 'dark', 'sun', 'most', 'hero', 'headed', 'demonstrate', 'difficulties', 'economics', 'kitchen', 'bristol', 'language', 'multiple', 'brother', 'buried', 'collected', 'divine', 'architectural', 'considers', 'singer', 'towns', 'becomes', 'buying', 'cover', 'test', 'allow', 'skills', 'march', 'america', 'bible', 'child', 'sources', 'enter', 'entry', 'addresses', 'fall', 'libraries', 'alcohol', 'spent', 'cities', 'article', 'continues', 'taxes', 'needs', 'milk', 'return', 'decided', 'careers', 'provides', 'worker', 'saints', 'editor', 'housing', 'departure', 'values', 'payment', 'interaction', 'debt', 'irish', 'visited', 'multimedia', 'intention', 'real', 'basically', 'offshore', 'regeneration', 'opening', 'communicate', 'leading', 'brigade', 'legacy', 'proud', 'constitution', 'chairman', 'views', 'wildlife', 'democratic', 'disposal', 'supports', 'daily', 'convention', 'rear', 'stability', 'matthew', 'extension', 'windows', 'arts', 'installed', 'iraq', 'update', 'having', 'mind', 'parent', 'census', 'partners', 'party', 'unfortunately', 'cross', 'combined', 'seeking', 'exposure', 'mayor', 'recognise', 'uniform', 'awards', 'opinion', 'difficulty', 'enhanced', 'breeding', 'pay', 'black', 'occupied', 'presented', 'democracy', 'graduates', 'lieutenant', 'sectors', 'development', 'geographical', 'while', 'washington', 'commission', 'birthday', 'owner', 'surprised', 'cooperation', 'virgin', 'cells', 'information', 'teams', 'live', 'kevin', 'remote', 'supporters', 'departments', 'uncle', 'executive', 'contain', 'compare', 'deaths', 'emissions', 'installation', 'person', 'storm', 'coastal', 'define', 'wife', 'future', 'sentence', 'christ', 'americans', 'accused', 'york', 'other', 'element', 'each', 'boxes', 'button', 'opposition', 'volunteers', 'teachers', 'system', 'books', 'accessible', 'layer', 'iron', 'effectiveness', 'noise', 'racing', 'residence', 'script', 'modern', 'result', 'domain', 'pleased', 'numerous', 'christian', 'boy', 'convenient', 'site', 'promise', 'marketing', 'sharing', 'artistic', 'desert', 'conduct', 'wait', 'theatre', 'outside', 'tube', 'manage', 'traditional', 'tax', 'forward', 'recordings', 'protocol', 'tour', 'types', 'mail', 'credit', 'remaining', 'author', 'presentations', 'night', 'files', 'among', 'meeting', 'players', 'premises', 'part', 'interpretation', 'fiction', 'stuart', 'david', 'median', 'iran', 'salt', 'cause', 'strength', 'conversation', 'lords', 'observation', 'nottingham', 'slightly', 'lunch', 'simon', 'richard', 'contrary', 'everything', 'promotion', 'emerging', 'tradition', 'archive', 'raised', 'achieved', 'promoting', 'namely', 'measurement', 'send', 'stuck', 'trade', 'permanent', 'cultural', 'transactions', 'soldier', 'belgium', 'cardiff', 'adviser', 'yorkshire', 'asian', 'mixed', 'lady', 'promised', 'produces', 'discipline', 'thursday', 'disease', 'taylor', 'prepare', 'moscow', 'release', 'decline', 'metres', 'reflects', 'philip', 'workshops', 'undergraduate', 'walk', 'responsibility', 'documents', 'hiv', 'title', 'written', 'court', 'five', 'networks', 'silver', 'global', 'equal', 'scientists', 'parents', 'westminster', 'greater', 'amendment', 'areas', 'administrator', 'subject', 'want', 'roy', 'placing', 'exit', 'impression', 'premium', 'diary', 'government', 'gateway', 'sending', 'patients', 'circuit', 'safety', 'virtual', 'imagine', 'jane', 'indicates', 'kingdom', 'day', 'poland', 'survive', 'price', 'thought', 'morris', 'soft', 'investors', 'spread', 'surprise', 'dispute', 'honour', 'ceremony', 'time', 'met', 'maintenance', 'suggest', 'empty', 'famous', 'actress', 'designers', 'submit', 'crown', 'very', 'wedding', 'material', 'swedish', 'resolved', 'devoted', 'little', 'nick', 'characteristics', 'sex', 'levels', 'notion', 'audio', 'demonstration', 'forgotten', 'fifteen', 'villa', 'point', 'training', 'giant', 'career', 'alan', 'far', 'animals', 'focus', 'scope', 'mirror', 'special', 'beds', 'confidence', 'provide', 'feed', 'reference', 'recommendation', 'force', 'demonstrated', 'processes', 'poetry', 'abbey', 'economy', 'created', 'somerset', 'maintained', 'understand', 'difficult', 'sitting', 'songs', 'coffee', 'requests', 'victoria', 'beliefs', 'satellite', 'mobile', 'emperor', 'interests', 'collections', 'achievement', 'length', 'jack', 'aspect', 'where', 'liberty', 'classic', 'contained', 'bomb', 'completion', 'many', 'strategic', 'elsewhere', 'national', 'negative', 'programmes', 'female', 'integrated', 'connections', 'width', 'component', 'mark', 'java', 'without', 'free', 'portuguese', 'canal', 'transport', 'earn', 'supported', 'brings', 'days', 'fantastic', 'berlin', 'exception', 'started', 'guide', 'professor', 'disabilities', 'baker', 'collection', 'super', 'works', 'corps', 'show', 'table', 'edit', 'appendix', 'small', 'feelings', 'controversy', 'holding', 'spiritual', 'detailed', 'obtain', 'distributed', 'presentation', 'elected', 'linux', 'possibility', 'french', 'homes', 'plan', 'known', 'genetic', 'elements', 'survival', 'website', 'occasion', 'god', 'ensuring', 'knew', 'not', 'spaces', 'sugar', 'user', 'vast', 'belt', 'absolutely', 'exclusively', 'executed', 'crop', 'temple', 'speaking', 'hoped', 'existing', 'vietnam', 'eggs', 'etc', 'primary', 'medal', 'then', 'drivers', 'vat', 'false', 'kill', 'strange', 'class', 'means', 'export', 'violent', 'perspective', 'apartment', 'water', 'fruit', 'wind', 'rich', 'compact', 'miles', 'list', 'improve', 'account', 'sounds', 'evening', 'illegal', 'lawyers', 'korea', 'snow', 'with', 'partnership', 'record', 'suggestions', 'fired', 'personally', 'badly', 'jews', 'attractions', 'sure', 'allocated', 'must', 'exeter', 'video', 'public', 'inform', 'equipment', 'worship', 'ban', 'sri', 'read', 'refused', 'application', 'husband', 'dates', 'rescue', 'industry', 'offered', 'radiation', 'improvement', 'cemetery', 'situation', 'delay', 'variable', 'category', 'authority', 'magic', 'absolute', 'potentially', 'city', 'assembly', 'retirement', 'cuts', 'drug', 'municipal', 'linked', 'republic', 'three', 'begins', 'paper', 'port', 'sensitive', 'soviet', 'join', 'navy', 'vehicles', 'amateur', 'organic', 'explain', 'denied', 'house', 'thoughts', 'certainly', 'business', 'records', 'compensation', 'annual', 'initiative', 'extreme', 'shows', 'understood', 'coventry', 'taught', 'place', 'said', 'desired', 'column', 'car', 'seminars', 'manager', 'murder', 'better', 'prayer', 'purpose', 'source', 'james', 'dog', 'collaboration', 'take', 'hundreds', 'japan', 'contribute', 'inn', 'derby', 'during', 'cat', 'drinks', 'town', 'execution', 'lift', 'act', 'centuries', 'texas', 'improving', 'field', 'reduced', 'august', 'raw', 'county', 'stable', 'properly', 'hospitals', 'reserve', 'additional', 'require', 'jun', 'save', 'monitor', 'winter', 'smart', 'highlighted', 'discussion', 'routes', 'vehicle', 'according', 'therefore', 'fleet', 'may', 'anthony', 'developments', 'sue', 'qualified', 'approved', 'composer', 'fund', 'attractive', 'rule', 'seasons', 'similar', 'scenes', 'conclusions', 'sweet', 'computers', 'participating', 'impossible', 'expand', 'industrial', 'expense', 'colonial', 'christianity', 'rolling', 'sir', 'assessed', 'fair', 'trials', 'blood', 'delivering', 'hat', 'pupils', 'february', 'tony', 'films', 'initially', 'encouraging', 'attitudes', 'infection', 'potential', 'farmers', 'pounds', 'soil', 'his', 'starting', 'imposed', 'bond', 'inspection', 'january', 'engineers', 'producer', 'fraud', 'biography', 'targets', 'camera', 'universal', 'demands', 'file', 'approximately', 'nature', 'crystal', 'wrong', 'causes', 'years', 'relations', 'advice', 'trained', 'coverage', 'ben', 'reasonable', 'capital', 'representative', 'photo', 'wings', 'motion', 'smoking', 'minds', 'necessarily', 'cope', 'specific', 'human', 'creative', 'ensure', 'musicians', 'don', 'demand', 'leader', 'body', 'memorial', 'complaints', 'girl', 'rice', 'beat', 'transformation', 'increase', 'draw', 'losses', 'acute', 'short', 'architecture', 'spending', 'joined', 'winners', 'jump', 'congress', 'fundamental', 'flight', 'updates', 'doing', 'receive', 'dust', 'welfare', 'licence', 'sleep', 'covers', 'vertical', 'who', 'production', 'cut', 'ground', 'references', 'coal', 'world', 'enemy', 'repair', 'learned', 'honest', 'external', 'drugs', 'significantly', 'education', 'zone', 'are', 'driver', 'sent', 'trinity', 'publicly', 'airport', 'dynamic', 'hunting', 'relatively', 'exercise', 'wine', 'june', 'bruce', 'atlantic', 'awarded', 'pakistan', 'print', 'mechanical', 'tracks', 'commissioner', 'council', 'normally', 'cleaning', 'replaced', 'help', 'adds', 'italian', 'modelling', 'wide', 'peter', 'thirty', 'roles', 'cultures', 'november', 'loved', 'suffering', 'navigation', 'flights', 'producers', 'farm', 'scholars', 'against', 'comparison', 'chancellor', 'acceptable', 'friday', 'fire', 'quantity', 'garden', 'box', 'married', 'pat', 'tests', 'guess', 'contemporary', 'via', 'champions', 'vessel', 'identified', 'provincial', 'food', 'directive', 'positions', 'league', 'reveal', 'zealand', 'supplier', 'fans', 'tree', 'leads', 'these', 'market', 'places', 'detail', 'higher', 'fed', 'rain', 'eat', 'near', 'borough', 'austria', 'recovery', 'influence', 'technical', 'kelly', 'priest', 'root', 'williams', 'prime', 'movements', 'discovery', 'proposals', 'aids', 'wilson', 'laws', 'step', 'jones', 'trust', 'deep', 'commissioned', 'front', 'series', 'christmas', 'attempt', 'highlights', 'listening', 'operation', 'fax', 'arms', 'banks', 'functional', 'musician', 'significance', 'talks', 'campaign', 'competitive', 'king', 'mystery', 'translation', 'dead', 'signing', 'agriculture', 'actions', 'reducing', 'complicated', 'really', 'caught', 'fields', 'desk', 'equivalent', 'consultant', 'challenges', 'korean', 'campaigns', 'portfolio', 'full', 'room', 'active', 'winning', 'six', 'resources', 'comment', 'represents', 'exhibition', 'businesses', 'brain', 'monthly', 'musical', 'ski', 'decide', 'participate', 'poet', 'walter', 'english', 'weak', 'sheffield', 'stories', 'literature', 'behalf', 'action', 'branches', 'photos', 'empire', 'existence', 'decades', 'illness', 'deeply', 'odd', 'jersey', 'obviously', 'factors', 'bay', 'adventure', 'male', 'symbol', 'charter', 'factor', 'engineer', 'reviews', 'sheep', 'shock', 'battery', 'cricket', 'virtually', 'jan', 'ease', 'expert', 'guests', 'recent', 'sexual', 'river', 'guides', 'toronto', 'wall', 'engaged', 'artificial', 'dominated', 'error', 'messages', 'road', 'grammar', 'hotel', 'case', 'requirements', 'seminar', 'pleasant', 'block', 'narrative', 'universities', 'norman', 'smith', 'identification', 'bridge', 'concepts', 'tasks', 'millennium', 'contributions', 'ray', 'young', 'immigration', 'evolution', 'portugal', 'primarily', 'october', 'neck', 'acts', 'bearing', 'mill', 'joe', 'electronic', 'reports', 'governance', 'cameras', 'note', 'photographs', 'issue', 'grace', 'liberal', 'sessions', 'keys', 'kate', 'range', 'magazines', 'forests', 'children', 'applications', 'refer', 'project', 'parliamentary', 'fascinating', 'opens', 'pink', 'objective', 'rapid', 'none', 'ridge', 'bureau', 'healthy', 'maintaining', 'region', 'innovation', 'split', 'indian', 'worse', 'biological', 'skin', 'seek', 'emphasis', 'relating', 'evidence', 'entire', 'solve', 'mature', 'memory', 'low', 'made', 'crops', 'strike', 'capture', 'amounts', 'champion', 'packages', 'any', 'rather', 'position', 'leaving', 'entertainment', 'north', 'protected', 'disciplines', 'hidden', 'measure', 'weather', 'wireless', 'listed', 'thames', 'literally', 'double', 'midlands', 'informed', 'its', 'chapter', 'rest', 'attack', 'calendar', 'definition', 'linear', 'afternoon', 'click', 'inspiration', 'procedures', 'admission', 'cruise', 'structured', 'addition', 'industries', 'character', 'threat', 'yet', 'capable', 'casino', 'comments', 'bonus', 'variety', 'australian', 'huge', 'flat', 'lose', 'makes', 'defeat', 'independence', 'broadcasting', 'candidates', 'davis', 'details', 'bought', 'percentage', 'essay', 'reflect', 'kennedy', 'truly', 'henry', 'statistical', 'availability', 'flowers', 'great', 'sales', 'abuse', 'missing', 'theology', 'adopt', 'mother', 'partner', 'geography', 'course', 'elizabeth', 'perhaps', 'tribunal', 'jason', 'specialists', 'variables', 'merchant', 'interactive', 'minutes', 'saving', 'basis', 'preparing', 'regiment', 'mexico', 'pain', 'mouse', 'play', 'dollars', 'era', 'launch', 'masters', 'sisters', 'suicide', 'activities', 'granted', 'surrey', 'publication', 'projects', 'clinical', 'depth', 'museum', 'mountain', 'adams', 'proposed', 'internet', 'whenever', 'idea', 'concerts', 'models', 'pass', 'peace', 'filter', 'exercises', 'purchase', 'options', 'army', 'adults', 'archaeological', 'transmission', 'surrounded', 'traditionally', 'reception', 'regard', 'interesting', 'tenants', 'acting', 'compliance', 'hate', 'metropolitan', 'landing', 'smoke', 'everywhere', 'link', 'estate', 'physical', 'ethics', 'military', 'meetings', 'addressed', 'civil', 'heard', 'campus', 'web', 'boost', 'tim', 'institute', 'ref', 'ali', 'share', 'controversial', 'director', 'dreams', 'obtained', 'accepted', 'races', 'meals', 'european', 'finance', 'occupational', 'treaty', 'peoples', 'number', 'love', 'investigations', 'sciences', 'molecular', 'components', 'flexibility', 'seat', 'ladies', 'yesterday', 'tools', 'hollywood', 'certificate', 'hit', 'install', 'sixth', 'farms', 'led', 'conversion', 'refugees', 'attacked', 'voice', 'again', 'offices', 'premier', 'turkish', 'seeds', 'considering', 'holiday', 'committees', 'assisted', 'become', 'prove', 'tone', 'fluid', 'say', 'mon', 'signed', 'trusts', 'exist', 'second', 'resident', 'angel', 'wells', 'rules', 'feature', 'gray', 'duration', 'yard', 'secretary', 'captain', 'prince', 'concentration', 'criteria', 'essex', 'theories', 'caribbean', 'apparently', 'maps', 'regulatory', 'province', 'stated', 'view', 'novels', 'northwest', 'approach', 'star', 'toy', 'between', 'opposite', 'france', 'assault', 'challenge', 'avoid', 'aberdeen', 'present', 'accuracy', 'leg', 'electrical', 'operators', 'applicant', 'design', 'controlled', 'ages', 'edward', 'revenue', 'oil', 'terminal', 'heating', 'flows', 'recycling', 'caused', 'regime', 'necessary', 'particularly', 'accident', 'canada', 'glass', 'prevention', 'movement', 'nominated', 'framework', 'kent', 'postgraduate', 'complete', 'crossing', 'communist', 'start', 'some', 'season', 'sound', 'foot', 'exclusive', 'judges', 'assess', 'shipping', 'typically', 'arguments', 'gifts', 'exceptional', 'points', 'package', 'player', 'occasions', 'surface', 'role', 'collective', 'buildings', 'oxygen', 'leeds', 'priority', 'exposed', 'mathematical', 'officially', 'formal', 'highly', 'conclusion', 'terry', 'cave', 'vice', 'images', 'factory', 'born', 'orders', 'election', 'treasury', 'undertaking', 'conservation', 'effort', 'song', 'placement', 'dual', 'specified', 'discovered', 'important', 'wonderful', 'recovered', 'american', 'exchange', 'express', 'affairs', 'trends', 'wood', 'commonly', 'loss', 'code', 'minister', 'few', 'solid', 'electoral', 'interviews', 'registered', 'stream', 'leave', 'landscape', 'southern', 'index', 'evaluation', 'reasonably', 'bank', 'hong', 'consistent', 'dying', 'orange', 'strongly', 'progress', 'federal', 'district', 'crisis', 'control', 'teeth', 'solar', 'computer', 'village', 'except', 'dramatic', 'holy', 'achievements', 'pressure', 'confirm', 'modified', 'clark', 'technology', 'contacted', 'conservative', 'patent', 'crime', 'guilty', 'loop', 'edited', 'tennis', 'fought', 'votes', 'reason', 'format', 'paragraph', 'experts', 'east', 'lottery', 'declaration', 'isolated', 'neighbourhood', 'left', 'personality', 'employment', 'lucky', 'target', 'crucial', 'guard', 'news', 'symptoms', 'easily', 'intense', 'experiment', 'concerned', 'club', 'diabetes', 'allowed', 'skill', 'new', 'directors', 'property', 'something', 'alliance', 'ltd', 'dialogue', 'home', 'delegates', 'seen', 'nursing', 'often', 'ferry', 'journalist', 'subsequent', 'knowing', 'represented', 'situated', 'involvement', 'integration', 'stock', 'clarke', 'bishop', 'module', 'nurses', 'dancing', 'advisory', 'density', 'immediately', 'bags', 'publications', 'engineering', 'chat', 'advantages', 'edition', 'afraid', 'ring', 'bread', 'classified', 'agricultural', 'letter', 'allows', 'divided', 'strategy', 'churches', 'copies', 'beauty', 'horses', 'certain', 'fill', 'rooms', 'brighton', 'spare', 'announcement', 'radical', 'emergency', 'china', 'develop', 'side', 'bone', 'castle', 'overcome', 'walker', 'leaves', 'wrote', 'forget', 'naturally', 'policy', 'long', 'coat', 'poems', 'flood', 'historical', 'visitors', 'sporting', 'baby'])"
      ]
     },
     "execution_count": 36,
     "metadata": {},
     "output_type": "execute_result"
    },
    {
     "data": {
      "text/plain": [
       "array([ True,  True,  True,  True,  True,  True,  True,  True,  True,\n",
       "        True,  True,  True,  True,  True,  True,  True,  True,  True,\n",
       "        True,  True,  True,  True,  True,  True,  True,  True,  True,\n",
       "        True,  True,  True,  True,  True,  True,  True,  True,  True,\n",
       "        True,  True,  True,  True,  True,  True,  True,  True,  True,\n",
       "        True,  True,  True,  True,  True,  True,  True,  True,  True,\n",
       "        True,  True,  True,  True,  True,  True,  True,  True,  True,\n",
       "        True,  True,  True,  True,  True,  True,  True,  True,  True,\n",
       "        True,  True,  True,  True,  True,  True,  True,  True,  True,\n",
       "        True,  True,  True,  True,  True,  True,  True,  True,  True,\n",
       "        True,  True,  True,  True,  True,  True,  True,  True,  True,\n",
       "        True,  True,  True,  True,  True,  True,  True,  True,  True,\n",
       "        True,  True,  True,  True,  True,  True,  True,  True,  True,\n",
       "        True,  True,  True,  True,  True,  True,  True,  True,  True,\n",
       "        True,  True,  True,  True,  True,  True,  True,  True,  True,\n",
       "        True,  True,  True,  True,  True,  True,  True,  True,  True,\n",
       "        True,  True,  True,  True,  True,  True,  True,  True,  True,\n",
       "        True,  True,  True,  True,  True,  True,  True,  True,  True,\n",
       "        True,  True,  True,  True,  True,  True,  True,  True,  True,\n",
       "        True,  True,  True,  True,  True,  True,  True,  True,  True,\n",
       "        True,  True,  True,  True,  True,  True,  True,  True,  True,\n",
       "        True,  True,  True,  True,  True,  True,  True,  True,  True,\n",
       "        True,  True,  True,  True,  True,  True,  True,  True,  True,\n",
       "        True,  True,  True,  True,  True,  True,  True,  True,  True,\n",
       "        True,  True,  True,  True,  True,  True,  True,  True,  True,\n",
       "        True,  True,  True,  True,  True,  True,  True,  True,  True,\n",
       "        True,  True,  True,  True,  True,  True,  True,  True,  True,\n",
       "        True,  True,  True,  True,  True,  True,  True,  True,  True,\n",
       "        True,  True,  True,  True,  True,  True,  True,  True,  True,\n",
       "        True,  True,  True,  True,  True,  True,  True,  True,  True,\n",
       "        True,  True,  True,  True,  True,  True,  True,  True,  True,\n",
       "        True,  True,  True,  True,  True,  True,  True,  True,  True,\n",
       "        True,  True,  True,  True,  True,  True,  True,  True,  True,\n",
       "        True,  True,  True], dtype=bool)"
      ]
     },
     "execution_count": 36,
     "metadata": {},
     "output_type": "execute_result"
    }
   ],
   "source": [
    "word = 'direction'\n",
    "m_en_tr_load = load(tr_en_fn)\n",
    "m_en_tr_load.keys()\n",
    "m_en_tr_load[word] == m_en[word]"
   ]
  }
 ],
 "metadata": {
  "kernelspec": {
   "display_name": "Python 3",
   "language": "python",
   "name": "python3"
  },
  "language_info": {
   "codemirror_mode": {
    "name": "ipython",
    "version": 3
   },
   "file_extension": ".py",
   "mimetype": "text/x-python",
   "name": "python",
   "nbconvert_exporter": "python",
   "pygments_lexer": "ipython3",
   "version": "3.5.2"
  }
 },
 "nbformat": 4,
 "nbformat_minor": 2
}
