{
 "cells": [
  {
   "cell_type": "code",
   "execution_count": 87,
   "metadata": {},
   "outputs": [],
   "source": [
    "# Import\n",
    "from IPython.core.interactiveshell import InteractiveShell\n",
    "InteractiveShell.ast_node_interactivity = \"all\"\n",
    "import numpy as np\n",
    "from gensim.models import KeyedVectors\n",
    "import pickle"
   ]
  },
  {
   "cell_type": "code",
   "execution_count": 88,
   "metadata": {},
   "outputs": [],
   "source": [
    "train_fn = '/home/eszti/projects/dipterv/panlex/data/smith/train/eng_ita.tsv'\n",
    "test_fn = '/home/eszti/projects/dipterv/panlex/data/smith/test/eng_ita.tsv'\n",
    "\n",
    "eng_emb = '/mnt/permanent/Language/Multi/FB/wiki.en/wiki.en.vec'\n",
    "ita_emb = '/mnt/permanent/Language/Multi/FB/wiki.it/wiki.it.vec'\n",
    "\n",
    "limit = None\n",
    "\n",
    "tr_en_fn = 'train_en_emb.txt'\n",
    "tr_it_fn = 'train_it_emb.txt'\n",
    "\n",
    "te_en_fn = 'test_en_emb.txt'\n",
    "te_it_fn = 'test_it_emb.txt'"
   ]
  },
  {
   "cell_type": "code",
   "execution_count": 89,
   "metadata": {},
   "outputs": [],
   "source": [
    "def read_emb(emb_fn, limit):\n",
    "    model = KeyedVectors.load_word2vec_format(emb_fn, binary=False, limit=limit)\n",
    "    return model"
   ]
  },
  {
   "cell_type": "code",
   "execution_count": 90,
   "metadata": {},
   "outputs": [],
   "source": [
    "def read_word_pairs_tsv(fn, id1, id2, header=True):\n",
    "    wl1 = set()\n",
    "    wl2 = set()\n",
    "    with open(fn) as f:\n",
    "        lines = f.readlines()\n",
    "        data = [(line.split()[id1], line.split()[id2]) for i, line in enumerate(lines) if i > 0 or header == False]\n",
    "    for (w1, w2) in data:\n",
    "        wl1.add(w1)\n",
    "        wl2.add(w2)\n",
    "    return data, wl1, wl2"
   ]
  },
  {
   "cell_type": "code",
   "execution_count": 91,
   "metadata": {},
   "outputs": [],
   "source": [
    "# saving format: (vocab: ordered list according to frequency, emb_dict: word - nparray dictionary)\n",
    "def save_filtered_embedding(emb, wl, fn):\n",
    "    to_save = []\n",
    "    for w in wl:\n",
    "        if w in emb:\n",
    "            to_save.append([w, emb[w], emb.index2word.index(w)])\n",
    "        else:\n",
    "            print('not found: {}'.format(w))\n",
    "    to_save.sort(key=lambda x: x[2])\n",
    "    dim_x = len(to_save)\n",
    "    dim_y = 300\n",
    "    emb_dict = dict()\n",
    "    vocab = [l[0] for l in to_save]\n",
    "    for i, l in enumerate(to_save):\n",
    "        emb_dict[l[0]] = l[1]\n",
    "    with open(fn, 'wb') as f:\n",
    "        pickle.dump(file=f, obj=(vocab, emb_dict))"
   ]
  },
  {
   "cell_type": "code",
   "execution_count": 92,
   "metadata": {},
   "outputs": [],
   "source": [
    "train_wp, tr_en, tr_it = read_word_pairs_tsv(train_fn, 0, 1)\n",
    "test_wp, te_en, te_it = read_word_pairs_tsv(test_fn, 0, 1)\n",
    "\n",
    "m_en = read_emb(eng_emb, limit)\n",
    "m_it = read_emb(ita_emb, limit)"
   ]
  },
  {
   "cell_type": "code",
   "execution_count": 93,
   "metadata": {},
   "outputs": [
    {
     "name": "stdout",
     "output_type": "stream",
     "text": [
      "Saving training en\n",
      "Saving training it\n",
      "not found: prelaurea\n",
      "Saving test en\n",
      "Saving test it\n",
      "not found: oligopolistica\n",
      "not found: ridimensioni\n",
      "not found: kostunica\n"
     ]
    }
   ],
   "source": [
    "# Train en\n",
    "print('Saving training en')\n",
    "save_filtered_embedding(m_en, tr_en, tr_en_fn)\n",
    "# Train it\n",
    "print('Saving training it')\n",
    "save_filtered_embedding(m_it, tr_it, tr_it_fn)\n",
    "# Test en\n",
    "print('Saving test en')\n",
    "save_filtered_embedding(m_en, te_en, te_en_fn)\n",
    "# Test it\n",
    "print('Saving test it')\n",
    "save_filtered_embedding(m_it, te_it, te_it_fn)"
   ]
  },
  {
   "cell_type": "code",
   "execution_count": 94,
   "metadata": {},
   "outputs": [],
   "source": [
    "def load(fn):\n",
    "    with open(fn, 'rb') as f:\n",
    "        data = pickle.load(f)\n",
    "        vocab = data[0]\n",
    "        emb_dict = data[1]\n",
    "    return vocab, emb_dict"
   ]
  },
  {
   "cell_type": "code",
   "execution_count": 98,
   "metadata": {},
   "outputs": [],
   "source": [
    "def test_load(fn, message):\n",
    "    print(message)\n",
    "    vocab, emb_dict = load(fn)\n",
    "    print('vocab length: {}'.format(len(vocab)))"
   ]
  },
  {
   "cell_type": "code",
   "execution_count": 99,
   "metadata": {},
   "outputs": [
    {
     "name": "stdout",
     "output_type": "stream",
     "text": [
      "train en\n",
      "vocab length: 3441\n",
      "train it\n",
      "vocab length: 4547\n",
      "test en\n",
      "vocab length: 1499\n",
      "test it\n",
      "vocab length: 1845\n"
     ]
    }
   ],
   "source": [
    "test_load(tr_en_fn, 'train en')\n",
    "test_load(tr_it_fn, 'train it')\n",
    "test_load(te_en_fn, 'test en')\n",
    "test_load(te_it_fn, 'test it')"
   ]
  }
 ],
 "metadata": {
  "kernelspec": {
   "display_name": "Python 3",
   "language": "python",
   "name": "python3"
  },
  "language_info": {
   "codemirror_mode": {
    "name": "ipython",
    "version": 3
   },
   "file_extension": ".py",
   "mimetype": "text/x-python",
   "name": "python",
   "nbconvert_exporter": "python",
   "pygments_lexer": "ipython3",
   "version": "3.5.2"
  }
 },
 "nbformat": 4,
 "nbformat_minor": 2
}
