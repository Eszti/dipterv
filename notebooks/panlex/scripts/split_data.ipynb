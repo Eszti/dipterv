{
 "cells": [
  {
   "cell_type": "code",
   "execution_count": 1,
   "metadata": {},
   "outputs": [],
   "source": [
    "# Import\n",
    "from IPython.core.interactiveshell import InteractiveShell\n",
    "InteractiveShell.ast_node_interactivity = \"all\"\n",
    "import numpy as np\n",
    "from gensim.models import KeyedVectors"
   ]
  },
  {
   "cell_type": "code",
   "execution_count": 3,
   "metadata": {},
   "outputs": [],
   "source": [
    "tsv_fn = '/home/eszti/projects/dipterv/panlex/data/smith/original/train_eng_ita.tsv'\n",
    "\n",
    "train_fn = 'train_eng_ita.tsv'\n",
    "valid_fn = 'valid_eng_ita.tsv'\n",
    "\n",
    "tr_rat = 9 # tr_rat*10 % will be train data"
   ]
  },
  {
   "cell_type": "code",
   "execution_count": 8,
   "metadata": {},
   "outputs": [],
   "source": [
    "def save(fn, wp_l):\n",
    "    with open(fn, 'wt') as f:\n",
    "        for l in wp_l:\n",
    "            f.writelines(l)\n",
    "\n",
    "def split_data(orig_fn, tr_fn, val_fn, tr_rat):\n",
    "    tr = []\n",
    "    val = []\n",
    "    with open(orig_fn) as f:\n",
    "        lines = f.readlines()\n",
    "        for i, l in enumerate(lines):\n",
    "            if i % 10 < tr_rat:\n",
    "                tr.append(l)\n",
    "            else:\n",
    "                val.append(l)\n",
    "    save(tr_fn, tr)\n",
    "    save(val_fn, val)\n",
    "    return tr, val"
   ]
  },
  {
   "cell_type": "code",
   "execution_count": 13,
   "metadata": {},
   "outputs": [],
   "source": [
    "tr, val = split_data(tsv_fn, train_fn, valid_fn, tr_rat)"
   ]
  },
  {
   "cell_type": "code",
   "execution_count": 14,
   "metadata": {},
   "outputs": [
    {
     "data": {
      "text/plain": [
       "4500"
      ]
     },
     "execution_count": 14,
     "metadata": {},
     "output_type": "execute_result"
    },
    {
     "data": {
      "text/plain": [
       "500"
      ]
     },
     "execution_count": 14,
     "metadata": {},
     "output_type": "execute_result"
    }
   ],
   "source": [
    "len(tr)\n",
    "len(val)"
   ]
  }
 ],
 "metadata": {
  "kernelspec": {
   "display_name": "Python 3",
   "language": "python",
   "name": "python3"
  },
  "language_info": {
   "codemirror_mode": {
    "name": "ipython",
    "version": 3
   },
   "file_extension": ".py",
   "mimetype": "text/x-python",
   "name": "python",
   "nbconvert_exporter": "python",
   "pygments_lexer": "ipython3",
   "version": "3.5.2"
  }
 },
 "nbformat": 4,
 "nbformat_minor": 2
}
