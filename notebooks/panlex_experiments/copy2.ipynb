{
 "cells": [
  {
   "cell_type": "code",
   "execution_count": 403,
   "metadata": {},
   "outputs": [],
   "source": [
    "import pandas as pd\n",
    "import csv\n",
    "from IPython.core.interactiveshell import InteractiveShell\n",
    "InteractiveShell.ast_node_interactivity = \"all\"\n",
    "from sklearn.utils import shuffle\n",
    "import os"
   ]
  },
  {
   "cell_type": "code",
   "execution_count": 400,
   "metadata": {},
   "outputs": [],
   "source": [
    "eng_freq_fn = '/mnt/permanent/home/eszti/dipterv/panlex/data/freq/eng_vocab_freq.txt'\n",
    "ita_freq_fn = '/mnt/permanent/home/eszti/dipterv/panlex/data/freq/ita_vocab_freq_no_space.txt'\n",
    "\n",
    "conf = 7\n",
    "\n",
    "pl_fn = '/mnt/permanent/home/eszti/dipterv/panlex/data/panlex/tsv/eng_ita_tr_te/{0}/eng_ita.tsv'.format(conf)\n",
    "train_fn = '/mnt/permanent/home/eszti/dipterv/panlex/data/panlex/tsv/freq/{0}/train/eng_ita.tsv'.format(conf)\n",
    "test_fn = '/mnt/permanent/home/eszti/dipterv/panlex/data/panlex/tsv/freq/{0}/test/eng_ita.tsv'.format(conf)"
   ]
  },
  {
   "cell_type": "code",
   "execution_count": 263,
   "metadata": {},
   "outputs": [
    {
     "data": {
      "text/html": [
       "<div>\n",
       "<style scoped>\n",
       "    .dataframe tbody tr th:only-of-type {\n",
       "        vertical-align: middle;\n",
       "    }\n",
       "\n",
       "    .dataframe tbody tr th {\n",
       "        vertical-align: top;\n",
       "    }\n",
       "\n",
       "    .dataframe thead th {\n",
       "        text-align: right;\n",
       "    }\n",
       "</style>\n",
       "<table border=\"1\" class=\"dataframe\">\n",
       "  <thead>\n",
       "    <tr style=\"text-align: right;\">\n",
       "      <th></th>\n",
       "      <th>eng</th>\n",
       "      <th>freq</th>\n",
       "    </tr>\n",
       "  </thead>\n",
       "  <tbody>\n",
       "    <tr>\n",
       "      <th>0</th>\n",
       "      <td>the</td>\n",
       "      <td>193688441</td>\n",
       "    </tr>\n",
       "    <tr>\n",
       "      <th>1</th>\n",
       "      <td>,</td>\n",
       "      <td>152169667</td>\n",
       "    </tr>\n",
       "    <tr>\n",
       "      <th>2</th>\n",
       "      <td>.</td>\n",
       "      <td>130021704</td>\n",
       "    </tr>\n",
       "    <tr>\n",
       "      <th>3</th>\n",
       "      <td>of</td>\n",
       "      <td>101645398</td>\n",
       "    </tr>\n",
       "    <tr>\n",
       "      <th>4</th>\n",
       "      <td>and</td>\n",
       "      <td>94288110</td>\n",
       "    </tr>\n",
       "  </tbody>\n",
       "</table>\n",
       "</div>"
      ],
      "text/plain": [
       "   eng       freq\n",
       "0  the  193688441\n",
       "1    ,  152169667\n",
       "2    .  130021704\n",
       "3   of  101645398\n",
       "4  and   94288110"
      ]
     },
     "execution_count": 263,
     "metadata": {},
     "output_type": "execute_result"
    },
    {
     "data": {
      "text/plain": [
       "6620170"
      ]
     },
     "execution_count": 263,
     "metadata": {},
     "output_type": "execute_result"
    }
   ],
   "source": [
    "# Read eng freq info\n",
    "eng_f = pd.read_csv(eng_freq_fn, sep=' ', header=None, names = [\"eng\", \"freq\"])\n",
    "eng_f.freq = eng_f.freq.astype(int)\n",
    "eng_f.head()\n",
    "len(eng_f.index)"
   ]
  },
  {
   "cell_type": "code",
   "execution_count": 264,
   "metadata": {},
   "outputs": [
    {
     "data": {
      "text/plain": [
       "6278167"
      ]
     },
     "execution_count": 264,
     "metadata": {},
     "output_type": "execute_result"
    },
    {
     "data": {
      "text/plain": [
       "6278167"
      ]
     },
     "execution_count": 264,
     "metadata": {},
     "output_type": "execute_result"
    },
    {
     "data": {
      "text/html": [
       "<div>\n",
       "<style scoped>\n",
       "    .dataframe tbody tr th:only-of-type {\n",
       "        vertical-align: middle;\n",
       "    }\n",
       "\n",
       "    .dataframe tbody tr th {\n",
       "        vertical-align: top;\n",
       "    }\n",
       "\n",
       "    .dataframe thead th {\n",
       "        text-align: right;\n",
       "    }\n",
       "</style>\n",
       "<table border=\"1\" class=\"dataframe\">\n",
       "  <thead>\n",
       "    <tr style=\"text-align: right;\">\n",
       "      <th></th>\n",
       "      <th>freq</th>\n",
       "      <th>ita</th>\n",
       "    </tr>\n",
       "  </thead>\n",
       "  <tbody>\n",
       "    <tr>\n",
       "      <th>0</th>\n",
       "      <td>98847888</td>\n",
       "      <td>,</td>\n",
       "    </tr>\n",
       "    <tr>\n",
       "      <th>1</th>\n",
       "      <td>65521116</td>\n",
       "      <td>di</td>\n",
       "    </tr>\n",
       "    <tr>\n",
       "      <th>2</th>\n",
       "      <td>56115098</td>\n",
       "      <td>.</td>\n",
       "    </tr>\n",
       "    <tr>\n",
       "      <th>3</th>\n",
       "      <td>40599023</td>\n",
       "      <td>e</td>\n",
       "    </tr>\n",
       "    <tr>\n",
       "      <th>4</th>\n",
       "      <td>27182874</td>\n",
       "      <td>che</td>\n",
       "    </tr>\n",
       "  </tbody>\n",
       "</table>\n",
       "</div>"
      ],
      "text/plain": [
       "       freq  ita\n",
       "0  98847888    ,\n",
       "1  65521116   di\n",
       "2  56115098    .\n",
       "3  40599023    e\n",
       "4  27182874  che"
      ]
     },
     "execution_count": 264,
     "metadata": {},
     "output_type": "execute_result"
    }
   ],
   "source": [
    "# Read ita freq info \n",
    "ita_ls = []\n",
    "with open(ita_freq_fn, encoding='latin-1') as f:\n",
    "    lines = f.read().splitlines()\n",
    "    for i, line in enumerate(lines):\n",
    "        words = line.split(' ')\n",
    "        try:\n",
    "            ita_ls.append((words[0], words[1]))\n",
    "        except:\n",
    "            continue\n",
    "len(ita_ls)\n",
    "\n",
    "ita_f = pd.DataFrame(ita_ls, columns=['freq', 'ita'])\n",
    "ita_f.freq = ita_f.freq.astype(int)\n",
    "len(ita_f.index)\n",
    "ita_f.head()"
   ]
  },
  {
   "cell_type": "code",
   "execution_count": 356,
   "metadata": {},
   "outputs": [
    {
     "data": {
      "text/html": [
       "<div>\n",
       "<style scoped>\n",
       "    .dataframe tbody tr th:only-of-type {\n",
       "        vertical-align: middle;\n",
       "    }\n",
       "\n",
       "    .dataframe tbody tr th {\n",
       "        vertical-align: top;\n",
       "    }\n",
       "\n",
       "    .dataframe thead th {\n",
       "        text-align: right;\n",
       "    }\n",
       "</style>\n",
       "<table border=\"1\" class=\"dataframe\">\n",
       "  <thead>\n",
       "    <tr style=\"text-align: right;\">\n",
       "      <th></th>\n",
       "      <th>eng</th>\n",
       "      <th>ita</th>\n",
       "    </tr>\n",
       "  </thead>\n",
       "  <tbody>\n",
       "    <tr>\n",
       "      <th>0</th>\n",
       "      <td>dirham</td>\n",
       "      <td>dirham</td>\n",
       "    </tr>\n",
       "    <tr>\n",
       "      <th>1</th>\n",
       "      <td>dinar</td>\n",
       "      <td>dinaro</td>\n",
       "    </tr>\n",
       "    <tr>\n",
       "      <th>2</th>\n",
       "      <td>dong</td>\n",
       "      <td>dong</td>\n",
       "    </tr>\n",
       "    <tr>\n",
       "      <th>3</th>\n",
       "      <td>lari</td>\n",
       "      <td>lari</td>\n",
       "    </tr>\n",
       "    <tr>\n",
       "      <th>4</th>\n",
       "      <td>dobra</td>\n",
       "      <td>dobra</td>\n",
       "    </tr>\n",
       "  </tbody>\n",
       "</table>\n",
       "</div>"
      ],
      "text/plain": [
       "      eng     ita\n",
       "0  dirham  dirham\n",
       "1   dinar  dinaro\n",
       "2    dong    dong\n",
       "3    lari    lari\n",
       "4   dobra   dobra"
      ]
     },
     "execution_count": 356,
     "metadata": {},
     "output_type": "execute_result"
    },
    {
     "data": {
      "text/plain": [
       "69623"
      ]
     },
     "execution_count": 356,
     "metadata": {},
     "output_type": "execute_result"
    }
   ],
   "source": [
    "# Read panlex data\n",
    "pl = pd.read_csv(pl_fn, sep='\\t', header=None, names = [\"eng\", \"ita\"])\n",
    "pl.head()\n",
    "len(pl.index)"
   ]
  },
  {
   "cell_type": "code",
   "execution_count": 357,
   "metadata": {},
   "outputs": [
    {
     "data": {
      "text/plain": [
       "69567"
      ]
     },
     "execution_count": 357,
     "metadata": {},
     "output_type": "execute_result"
    }
   ],
   "source": [
    "# Merge eng freq info\n",
    "pl_f = pd.merge(pl, eng_f)\n",
    "len(pl_f.index)"
   ]
  },
  {
   "cell_type": "code",
   "execution_count": 358,
   "metadata": {},
   "outputs": [
    {
     "data": {
      "text/plain": [
       "69504"
      ]
     },
     "execution_count": 358,
     "metadata": {},
     "output_type": "execute_result"
    }
   ],
   "source": [
    "# Merge ita freq info\n",
    "pl_ff = pd.merge(pl_f, ita_f, on=['ita'])\n",
    "len(pl_ff.index)"
   ]
  },
  {
   "cell_type": "code",
   "execution_count": 359,
   "metadata": {},
   "outputs": [],
   "source": [
    "# Create bins from English\n",
    "\n",
    "bin1 = eng_f.iloc[1000:5000]\n",
    "bin2 = eng_f.iloc[5000:20000]\n",
    "bin3 = eng_f.iloc[20000:50000]\n",
    "bin4 = eng_f.iloc[50000:100000]\n",
    "bin5 = eng_f.iloc[100000:200000]"
   ]
  },
  {
   "cell_type": "code",
   "execution_count": 360,
   "metadata": {},
   "outputs": [],
   "source": [
    "def get_300_uq(binN, alle, N, uq=True):\n",
    "    print('Number of words in {0}: {1}'.format(N, len(binN.index)))\n",
    "    \n",
    "    alle_bin = pd.merge(alle, binN, on=['eng'])\n",
    "    print('len alle_bin: {0}'.format(len(alle_bin.index)))\n",
    "    \n",
    "    eng_bin = alle_bin[['eng']].copy().drop_duplicates()\n",
    "    print('len eng_bin: {0}'.format(len(eng_bin.index)))\n",
    "    \n",
    "    eng_shuf = shuffle(eng_bin)\n",
    "    \n",
    "    eng_300 = eng_shuf.head(300)\n",
    "    print('len eng_300: {0}'.format(len(eng_300.index)))\n",
    "    \n",
    "    testN = pd.merge(alle, eng_300, on=['eng'])\n",
    "    print('lenn testN: {0}'.format(len(testN.index)))\n",
    "    \n",
    "    testN_uq = None    \n",
    "    if uq:\n",
    "        testN_uq = testN.sort_values('freq_y', ascending=False)\n",
    "        testN_uq = testN_uq.drop_duplicates(subset=['eng'])\n",
    "        print('len testN uq: {0}'.format(len(testN_uq.index)))\n",
    "\n",
    "    return testN, testN_uq"
   ]
  },
  {
   "cell_type": "code",
   "execution_count": 361,
   "metadata": {},
   "outputs": [
    {
     "name": "stdout",
     "output_type": "stream",
     "text": [
      "Number of words in 1: 4000\n",
      "len alle_bin: 14306\n",
      "len eng_bin: 2719\n",
      "len eng_300: 300\n",
      "lenn testN: 1589\n",
      "len testN uq: 300\n"
     ]
    }
   ],
   "source": [
    "test1, test1_uq = get_300_uq(bin1, pl_ff, 1)"
   ]
  },
  {
   "cell_type": "code",
   "execution_count": 362,
   "metadata": {},
   "outputs": [
    {
     "name": "stdout",
     "output_type": "stream",
     "text": [
      "Number of words in 2: 15000\n",
      "len alle_bin: 23115\n",
      "len eng_bin: 7465\n",
      "len eng_300: 300\n",
      "lenn testN: 885\n",
      "len testN uq: 300\n"
     ]
    }
   ],
   "source": [
    "test2, test2_uq = get_300_uq(bin2, pl_ff, 2)"
   ]
  },
  {
   "cell_type": "code",
   "execution_count": 363,
   "metadata": {},
   "outputs": [
    {
     "name": "stdout",
     "output_type": "stream",
     "text": [
      "Number of words in 3: 30000\n",
      "len alle_bin: 15754\n",
      "len eng_bin: 7845\n",
      "len eng_300: 300\n",
      "lenn testN: 583\n",
      "len testN uq: 300\n"
     ]
    }
   ],
   "source": [
    "test3, test3_uq = get_300_uq(bin3, pl_ff, 3)"
   ]
  },
  {
   "cell_type": "code",
   "execution_count": 364,
   "metadata": {},
   "outputs": [
    {
     "name": "stdout",
     "output_type": "stream",
     "text": [
      "Number of words in 4: 50000\n",
      "len alle_bin: 6805\n",
      "len eng_bin: 4418\n",
      "len eng_300: 300\n",
      "lenn testN: 455\n",
      "len testN uq: 300\n"
     ]
    }
   ],
   "source": [
    "test4, test4_uq = get_300_uq(bin4, pl_ff, 4)"
   ]
  },
  {
   "cell_type": "code",
   "execution_count": 365,
   "metadata": {},
   "outputs": [
    {
     "name": "stdout",
     "output_type": "stream",
     "text": [
      "Number of words in 5: 100000\n",
      "len alle_bin: 2202\n",
      "len eng_bin: 1700\n",
      "len eng_300: 300\n",
      "lenn testN: 384\n",
      "len testN uq: 300\n"
     ]
    }
   ],
   "source": [
    "test5, test5_uq = get_300_uq(bin5, pl_ff, 5)"
   ]
  },
  {
   "cell_type": "code",
   "execution_count": 374,
   "metadata": {},
   "outputs": [
    {
     "data": {
      "text/plain": [
       "1500"
      ]
     },
     "execution_count": 374,
     "metadata": {},
     "output_type": "execute_result"
    }
   ],
   "source": [
    "# Concat test\n",
    "\n",
    "frames = [test1_uq, test2_uq, test3_uq, test4_uq, test5_uq]\n",
    "test = pd.concat(frames)\n",
    "len(test.index)"
   ]
  },
  {
   "cell_type": "code",
   "execution_count": 419,
   "metadata": {},
   "outputs": [
    {
     "data": {
      "text/plain": [
       "1500"
      ]
     },
     "execution_count": 419,
     "metadata": {},
     "output_type": "execute_result"
    },
    {
     "data": {
      "text/plain": [
       "69504"
      ]
     },
     "execution_count": 419,
     "metadata": {},
     "output_type": "execute_result"
    },
    {
     "data": {
      "text/plain": [
       "65608"
      ]
     },
     "execution_count": 419,
     "metadata": {},
     "output_type": "execute_result"
    },
    {
     "data": {
      "text/html": [
       "<div>\n",
       "<style scoped>\n",
       "    .dataframe tbody tr th:only-of-type {\n",
       "        vertical-align: middle;\n",
       "    }\n",
       "\n",
       "    .dataframe tbody tr th {\n",
       "        vertical-align: top;\n",
       "    }\n",
       "\n",
       "    .dataframe thead th {\n",
       "        text-align: right;\n",
       "    }\n",
       "</style>\n",
       "<table border=\"1\" class=\"dataframe\">\n",
       "  <thead>\n",
       "    <tr style=\"text-align: right;\">\n",
       "      <th></th>\n",
       "      <th>eng</th>\n",
       "      <th>ita</th>\n",
       "      <th>freq_x</th>\n",
       "      <th>freq_y</th>\n",
       "    </tr>\n",
       "  </thead>\n",
       "  <tbody>\n",
       "    <tr>\n",
       "      <th>5131</th>\n",
       "      <td>number</td>\n",
       "      <td>valutare</td>\n",
       "      <td>1951249</td>\n",
       "      <td>91838</td>\n",
       "    </tr>\n",
       "    <tr>\n",
       "      <th>5114</th>\n",
       "      <td>number</td>\n",
       "      <td>cifra</td>\n",
       "      <td>1951249</td>\n",
       "      <td>46596</td>\n",
       "    </tr>\n",
       "    <tr>\n",
       "      <th>5123</th>\n",
       "      <td>number</td>\n",
       "      <td>ammontare</td>\n",
       "      <td>1951249</td>\n",
       "      <td>46018</td>\n",
       "    </tr>\n",
       "    <tr>\n",
       "      <th>5126</th>\n",
       "      <td>number</td>\n",
       "      <td>quantitativo</td>\n",
       "      <td>1951249</td>\n",
       "      <td>16345</td>\n",
       "    </tr>\n",
       "    <tr>\n",
       "      <th>5152</th>\n",
       "      <td>number</td>\n",
       "      <td>stimare</td>\n",
       "      <td>1951249</td>\n",
       "      <td>4420</td>\n",
       "    </tr>\n",
       "    <tr>\n",
       "      <th>5106</th>\n",
       "      <td>number</td>\n",
       "      <td>numerare</td>\n",
       "      <td>1951249</td>\n",
       "      <td>368</td>\n",
       "    </tr>\n",
       "    <tr>\n",
       "      <th>5121</th>\n",
       "      <td>number</td>\n",
       "      <td>numerale</td>\n",
       "      <td>1951249</td>\n",
       "      <td>203</td>\n",
       "    </tr>\n",
       "    <tr>\n",
       "      <th>1898</th>\n",
       "      <td>see</td>\n",
       "      <td>vedere</td>\n",
       "      <td>1948604</td>\n",
       "      <td>345209</td>\n",
       "    </tr>\n",
       "    <tr>\n",
       "      <th>1923</th>\n",
       "      <td>see</td>\n",
       "      <td>capire</td>\n",
       "      <td>1948604</td>\n",
       "      <td>212892</td>\n",
       "    </tr>\n",
       "    <tr>\n",
       "      <th>1908</th>\n",
       "      <td>see</td>\n",
       "      <td>leggere</td>\n",
       "      <td>1948604</td>\n",
       "      <td>143518</td>\n",
       "    </tr>\n",
       "    <tr>\n",
       "      <th>1922</th>\n",
       "      <td>see</td>\n",
       "      <td>vedi</td>\n",
       "      <td>1948604</td>\n",
       "      <td>129438</td>\n",
       "    </tr>\n",
       "    <tr>\n",
       "      <th>1995</th>\n",
       "      <td>see</td>\n",
       "      <td>guardare</td>\n",
       "      <td>1948604</td>\n",
       "      <td>83752</td>\n",
       "    </tr>\n",
       "    <tr>\n",
       "      <th>2019</th>\n",
       "      <td>see</td>\n",
       "      <td>visitare</td>\n",
       "      <td>1948604</td>\n",
       "      <td>42787</td>\n",
       "    </tr>\n",
       "    <tr>\n",
       "      <th>1948</th>\n",
       "      <td>see</td>\n",
       "      <td>incontrare</td>\n",
       "      <td>1948604</td>\n",
       "      <td>36417</td>\n",
       "    </tr>\n",
       "    <tr>\n",
       "      <th>1967</th>\n",
       "      <td>see</td>\n",
       "      <td>intendere</td>\n",
       "      <td>1948604</td>\n",
       "      <td>28207</td>\n",
       "    </tr>\n",
       "    <tr>\n",
       "      <th>1963</th>\n",
       "      <td>see</td>\n",
       "      <td>diocesi</td>\n",
       "      <td>1948604</td>\n",
       "      <td>21203</td>\n",
       "    </tr>\n",
       "    <tr>\n",
       "      <th>1938</th>\n",
       "      <td>see</td>\n",
       "      <td>frequentare</td>\n",
       "      <td>1948604</td>\n",
       "      <td>20655</td>\n",
       "    </tr>\n",
       "    <tr>\n",
       "      <th>1911</th>\n",
       "      <td>see</td>\n",
       "      <td>occuparsi</td>\n",
       "      <td>1948604</td>\n",
       "      <td>17823</td>\n",
       "    </tr>\n",
       "    <tr>\n",
       "      <th>1981</th>\n",
       "      <td>see</td>\n",
       "      <td>riguardare</td>\n",
       "      <td>1948604</td>\n",
       "      <td>15625</td>\n",
       "    </tr>\n",
       "    <tr>\n",
       "      <th>1958</th>\n",
       "      <td>see</td>\n",
       "      <td>vedersi</td>\n",
       "      <td>1948604</td>\n",
       "      <td>9162</td>\n",
       "    </tr>\n",
       "    <tr>\n",
       "      <th>2014</th>\n",
       "      <td>see</td>\n",
       "      <td>interessarsi</td>\n",
       "      <td>1948604</td>\n",
       "      <td>3767</td>\n",
       "    </tr>\n",
       "    <tr>\n",
       "      <th>2011</th>\n",
       "      <td>see</td>\n",
       "      <td>episcopato</td>\n",
       "      <td>1948604</td>\n",
       "      <td>2223</td>\n",
       "    </tr>\n",
       "    <tr>\n",
       "      <th>1960</th>\n",
       "      <td>see</td>\n",
       "      <td>vescovado</td>\n",
       "      <td>1948604</td>\n",
       "      <td>378</td>\n",
       "    </tr>\n",
       "    <tr>\n",
       "      <th>1980</th>\n",
       "      <td>see</td>\n",
       "      <td>frequentarsi</td>\n",
       "      <td>1948604</td>\n",
       "      <td>299</td>\n",
       "    </tr>\n",
       "    <tr>\n",
       "      <th>2009</th>\n",
       "      <td>see</td>\n",
       "      <td>vescovato</td>\n",
       "      <td>1948604</td>\n",
       "      <td>89</td>\n",
       "    </tr>\n",
       "    <tr>\n",
       "      <th>2568</th>\n",
       "      <td>school</td>\n",
       "      <td>scuola</td>\n",
       "      <td>1919590</td>\n",
       "      <td>545692</td>\n",
       "    </tr>\n",
       "    <tr>\n",
       "      <th>2582</th>\n",
       "      <td>school</td>\n",
       "      <td>professionale</td>\n",
       "      <td>1919590</td>\n",
       "      <td>250706</td>\n",
       "    </tr>\n",
       "    <tr>\n",
       "      <th>2615</th>\n",
       "      <td>school</td>\n",
       "      <td>scolastico</td>\n",
       "      <td>1919590</td>\n",
       "      <td>142405</td>\n",
       "    </tr>\n",
       "    <tr>\n",
       "      <th>2574</th>\n",
       "      <td>school</td>\n",
       "      <td>università</td>\n",
       "      <td>1919590</td>\n",
       "      <td>133130</td>\n",
       "    </tr>\n",
       "    <tr>\n",
       "      <th>2578</th>\n",
       "      <td>school</td>\n",
       "      <td>facoltà</td>\n",
       "      <td>1919590</td>\n",
       "      <td>130177</td>\n",
       "    </tr>\n",
       "  </tbody>\n",
       "</table>\n",
       "</div>"
      ],
      "text/plain": [
       "         eng            ita   freq_x  freq_y\n",
       "5131  number       valutare  1951249   91838\n",
       "5114  number          cifra  1951249   46596\n",
       "5123  number      ammontare  1951249   46018\n",
       "5126  number   quantitativo  1951249   16345\n",
       "5152  number        stimare  1951249    4420\n",
       "5106  number       numerare  1951249     368\n",
       "5121  number       numerale  1951249     203\n",
       "1898     see         vedere  1948604  345209\n",
       "1923     see         capire  1948604  212892\n",
       "1908     see        leggere  1948604  143518\n",
       "1922     see           vedi  1948604  129438\n",
       "1995     see       guardare  1948604   83752\n",
       "2019     see       visitare  1948604   42787\n",
       "1948     see     incontrare  1948604   36417\n",
       "1967     see      intendere  1948604   28207\n",
       "1963     see        diocesi  1948604   21203\n",
       "1938     see    frequentare  1948604   20655\n",
       "1911     see      occuparsi  1948604   17823\n",
       "1981     see     riguardare  1948604   15625\n",
       "1958     see        vedersi  1948604    9162\n",
       "2014     see   interessarsi  1948604    3767\n",
       "2011     see     episcopato  1948604    2223\n",
       "1960     see      vescovado  1948604     378\n",
       "1980     see   frequentarsi  1948604     299\n",
       "2009     see      vescovato  1948604      89\n",
       "2568  school         scuola  1919590  545692\n",
       "2582  school  professionale  1919590  250706\n",
       "2615  school     scolastico  1919590  142405\n",
       "2574  school     università  1919590  133130\n",
       "2578  school        facoltà  1919590  130177"
      ]
     },
     "execution_count": 419,
     "metadata": {},
     "output_type": "execute_result"
    },
    {
     "data": {
      "text/plain": [
       "619"
      ]
     },
     "execution_count": 419,
     "metadata": {},
     "output_type": "execute_result"
    },
    {
     "data": {
      "text/html": [
       "<div>\n",
       "<style scoped>\n",
       "    .dataframe tbody tr th:only-of-type {\n",
       "        vertical-align: middle;\n",
       "    }\n",
       "\n",
       "    .dataframe tbody tr th {\n",
       "        vertical-align: top;\n",
       "    }\n",
       "\n",
       "    .dataframe thead th {\n",
       "        text-align: right;\n",
       "    }\n",
       "</style>\n",
       "<table border=\"1\" class=\"dataframe\">\n",
       "  <thead>\n",
       "    <tr style=\"text-align: right;\">\n",
       "      <th></th>\n",
       "      <th>eng</th>\n",
       "      <th>ita</th>\n",
       "      <th>freq_x</th>\n",
       "      <th>freq_y</th>\n",
       "    </tr>\n",
       "  </thead>\n",
       "  <tbody>\n",
       "    <tr>\n",
       "      <th>43599</th>\n",
       "      <td>the</td>\n",
       "      <td>la</td>\n",
       "      <td>193688441</td>\n",
       "      <td>25477273</td>\n",
       "    </tr>\n",
       "    <tr>\n",
       "      <th>10400</th>\n",
       "      <td>,</td>\n",
       "      <td>,</td>\n",
       "      <td>152169667</td>\n",
       "      <td>98847888</td>\n",
       "    </tr>\n",
       "    <tr>\n",
       "      <th>10399</th>\n",
       "      <td>.</td>\n",
       "      <td>,</td>\n",
       "      <td>130021704</td>\n",
       "      <td>98847888</td>\n",
       "    </tr>\n",
       "    <tr>\n",
       "      <th>4929</th>\n",
       "      <td>of</td>\n",
       "      <td>di</td>\n",
       "      <td>101645398</td>\n",
       "      <td>65521116</td>\n",
       "    </tr>\n",
       "    <tr>\n",
       "      <th>69243</th>\n",
       "      <td>and</td>\n",
       "      <td>e</td>\n",
       "      <td>94288110</td>\n",
       "      <td>40599023</td>\n",
       "    </tr>\n",
       "    <tr>\n",
       "      <th>6507</th>\n",
       "      <td>to</td>\n",
       "      <td>in</td>\n",
       "      <td>87022181</td>\n",
       "      <td>21843465</td>\n",
       "    </tr>\n",
       "    <tr>\n",
       "      <th>6466</th>\n",
       "      <td>a</td>\n",
       "      <td>a</td>\n",
       "      <td>62172985</td>\n",
       "      <td>19971959</td>\n",
       "    </tr>\n",
       "    <tr>\n",
       "      <th>6505</th>\n",
       "      <td>in</td>\n",
       "      <td>in</td>\n",
       "      <td>60930962</td>\n",
       "      <td>21843465</td>\n",
       "    </tr>\n",
       "    <tr>\n",
       "      <th>43654</th>\n",
       "      <td>that</td>\n",
       "      <td>che</td>\n",
       "      <td>36294963</td>\n",
       "      <td>27182874</td>\n",
       "    </tr>\n",
       "    <tr>\n",
       "      <th>65805</th>\n",
       "      <td>is</td>\n",
       "      <td>è</td>\n",
       "      <td>34782166</td>\n",
       "      <td>14929934</td>\n",
       "    </tr>\n",
       "  </tbody>\n",
       "</table>\n",
       "</div>"
      ],
      "text/plain": [
       "        eng  ita     freq_x    freq_y\n",
       "43599   the   la  193688441  25477273\n",
       "10400     ,    ,  152169667  98847888\n",
       "10399     .    ,  130021704  98847888\n",
       "4929     of   di  101645398  65521116\n",
       "69243   and    e   94288110  40599023\n",
       "6507     to   in   87022181  21843465\n",
       "6466      a    a   62172985  19971959\n",
       "6505     in   in   60930962  21843465\n",
       "43654  that  che   36294963  27182874\n",
       "65805    is    è   34782166  14929934"
      ]
     },
     "execution_count": 419,
     "metadata": {},
     "output_type": "execute_result"
    },
    {
     "data": {
      "text/plain": [
       "5000"
      ]
     },
     "execution_count": 419,
     "metadata": {},
     "output_type": "execute_result"
    }
   ],
   "source": [
    "# Create train with multiple meanings\n",
    "\n",
    "test_eng = test[['eng']].copy()\n",
    "len(test_eng.index)\n",
    "\n",
    "pl_train = pl_ff[~pl_ff.eng.isin(set(test_eng.eng))]\n",
    "len(pl_ff.index)\n",
    "len(pl_train.index)\n",
    "\n",
    "pl_train = pl_train.sort_values(['freq_x', 'freq_y'], ascending=False)\n",
    "pl_train_5K = pl_train.iloc[0:5000]\n",
    "pl_train_5K.iloc[980:1010]\n",
    "len(pl_train_5K['eng'].drop_duplicates())\n",
    "\n",
    "# Create train without multiple meanings\n",
    "\n",
    "pl_train_uq = pl_train.drop_duplicates(subset=['eng'])\n",
    "pl_train_5K_uq = pl_train_uq.iloc[0:5000]\n",
    "pl_train_5K_uq.head(10)\n",
    "len(pl_train_5K_uq['eng'].drop_duplicates())"
   ]
  },
  {
   "cell_type": "code",
   "execution_count": 399,
   "metadata": {},
   "outputs": [
    {
     "data": {
      "text/html": [
       "<div>\n",
       "<style scoped>\n",
       "    .dataframe tbody tr th:only-of-type {\n",
       "        vertical-align: middle;\n",
       "    }\n",
       "\n",
       "    .dataframe tbody tr th {\n",
       "        vertical-align: top;\n",
       "    }\n",
       "\n",
       "    .dataframe thead th {\n",
       "        text-align: right;\n",
       "    }\n",
       "</style>\n",
       "<table border=\"1\" class=\"dataframe\">\n",
       "  <thead>\n",
       "    <tr style=\"text-align: right;\">\n",
       "      <th></th>\n",
       "      <th>eng</th>\n",
       "      <th>ita</th>\n",
       "      <th>freq_x</th>\n",
       "      <th>freq_y</th>\n",
       "    </tr>\n",
       "  </thead>\n",
       "  <tbody>\n",
       "  </tbody>\n",
       "</table>\n",
       "</div>"
      ],
      "text/plain": [
       "Empty DataFrame\n",
       "Columns: [eng, ita, freq_x, freq_y]\n",
       "Index: []"
      ]
     },
     "execution_count": 399,
     "metadata": {},
     "output_type": "execute_result"
    },
    {
     "data": {
      "text/html": [
       "<div>\n",
       "<style scoped>\n",
       "    .dataframe tbody tr th:only-of-type {\n",
       "        vertical-align: middle;\n",
       "    }\n",
       "\n",
       "    .dataframe tbody tr th {\n",
       "        vertical-align: top;\n",
       "    }\n",
       "\n",
       "    .dataframe thead th {\n",
       "        text-align: right;\n",
       "    }\n",
       "</style>\n",
       "<table border=\"1\" class=\"dataframe\">\n",
       "  <thead>\n",
       "    <tr style=\"text-align: right;\">\n",
       "      <th></th>\n",
       "      <th>eng</th>\n",
       "      <th>ita</th>\n",
       "      <th>freq_x</th>\n",
       "      <th>freq_y</th>\n",
       "    </tr>\n",
       "  </thead>\n",
       "  <tbody>\n",
       "    <tr>\n",
       "      <th>11668</th>\n",
       "      <td>cat</td>\n",
       "      <td>gatto</td>\n",
       "      <td>47148</td>\n",
       "      <td>22226</td>\n",
       "    </tr>\n",
       "  </tbody>\n",
       "</table>\n",
       "</div>"
      ],
      "text/plain": [
       "       eng    ita  freq_x  freq_y\n",
       "11668  cat  gatto   47148   22226"
      ]
     },
     "execution_count": 399,
     "metadata": {},
     "output_type": "execute_result"
    },
    {
     "data": {
      "text/html": [
       "<div>\n",
       "<style scoped>\n",
       "    .dataframe tbody tr th:only-of-type {\n",
       "        vertical-align: middle;\n",
       "    }\n",
       "\n",
       "    .dataframe tbody tr th {\n",
       "        vertical-align: top;\n",
       "    }\n",
       "\n",
       "    .dataframe thead th {\n",
       "        text-align: right;\n",
       "    }\n",
       "</style>\n",
       "<table border=\"1\" class=\"dataframe\">\n",
       "  <thead>\n",
       "    <tr style=\"text-align: right;\">\n",
       "      <th></th>\n",
       "      <th>eng</th>\n",
       "      <th>ita</th>\n",
       "      <th>freq_x</th>\n",
       "      <th>freq_y</th>\n",
       "    </tr>\n",
       "  </thead>\n",
       "  <tbody>\n",
       "    <tr>\n",
       "      <th>11668</th>\n",
       "      <td>cat</td>\n",
       "      <td>gatto</td>\n",
       "      <td>47148</td>\n",
       "      <td>22226</td>\n",
       "    </tr>\n",
       "    <tr>\n",
       "      <th>11671</th>\n",
       "      <td>cat</td>\n",
       "      <td>gatta</td>\n",
       "      <td>47148</td>\n",
       "      <td>3726</td>\n",
       "    </tr>\n",
       "    <tr>\n",
       "      <th>11680</th>\n",
       "      <td>cat</td>\n",
       "      <td>felino</td>\n",
       "      <td>47148</td>\n",
       "      <td>1709</td>\n",
       "    </tr>\n",
       "    <tr>\n",
       "      <th>11673</th>\n",
       "      <td>cat</td>\n",
       "      <td>micio</td>\n",
       "      <td>47148</td>\n",
       "      <td>1197</td>\n",
       "    </tr>\n",
       "    <tr>\n",
       "      <th>11679</th>\n",
       "      <td>cat</td>\n",
       "      <td>felina</td>\n",
       "      <td>47148</td>\n",
       "      <td>882</td>\n",
       "    </tr>\n",
       "  </tbody>\n",
       "</table>\n",
       "</div>"
      ],
      "text/plain": [
       "       eng     ita  freq_x  freq_y\n",
       "11668  cat   gatto   47148   22226\n",
       "11671  cat   gatta   47148    3726\n",
       "11680  cat  felino   47148    1709\n",
       "11673  cat   micio   47148    1197\n",
       "11679  cat  felina   47148     882"
      ]
     },
     "execution_count": 399,
     "metadata": {},
     "output_type": "execute_result"
    }
   ],
   "source": [
    "test[test.eng == 'cat']\n",
    "\n",
    "pl_train_5K_uq[pl_train_5K_uq.eng == 'cat']\n",
    "\n",
    "pl_train[pl_train.eng == 'cat']"
   ]
  },
  {
   "cell_type": "code",
   "execution_count": 410,
   "metadata": {},
   "outputs": [
    {
     "data": {
      "text/plain": [
       "0"
      ]
     },
     "execution_count": 410,
     "metadata": {},
     "output_type": "execute_result"
    },
    {
     "data": {
      "text/plain": [
       "298"
      ]
     },
     "execution_count": 410,
     "metadata": {},
     "output_type": "execute_result"
    }
   ],
   "source": [
    "eng_te = set(test['eng'])\n",
    "eng_tr = set(pl_train_5K_uq['eng'])\n",
    "len(eng_te & eng_tr)\n",
    "\n",
    "ita_te = set(test['ita'])\n",
    "ita_tr = set(pl_train_5K_uq['ita'])\n",
    "len(ita_te & ita_tr)"
   ]
  },
  {
   "cell_type": "code",
   "execution_count": 407,
   "metadata": {},
   "outputs": [],
   "source": [
    "def save_tsv(df, fn):\n",
    "    if not os.path.exists(os.path.dirname(fn)):\n",
    "        os.makedirs(os.path.dirname(fn))\n",
    "    pd.DataFrame.to_csv(df, columns=['eng', 'ita'], header=False, path_or_buf=fn, sep='\\t', index=False)"
   ]
  },
  {
   "cell_type": "code",
   "execution_count": 408,
   "metadata": {},
   "outputs": [],
   "source": [
    "save_tsv(pl_train_5K_uq, train_fn)\n",
    "save_tsv(test, test_fn)"
   ]
  }
 ],
 "metadata": {
  "kernelspec": {
   "display_name": "Python 3",
   "language": "python",
   "name": "python3"
  },
  "language_info": {
   "codemirror_mode": {
    "name": "ipython",
    "version": 3
   },
   "file_extension": ".py",
   "mimetype": "text/x-python",
   "name": "python",
   "nbconvert_exporter": "python",
   "pygments_lexer": "ipython3",
   "version": "3.5.2"
  }
 },
 "nbformat": 4,
 "nbformat_minor": 2
}
