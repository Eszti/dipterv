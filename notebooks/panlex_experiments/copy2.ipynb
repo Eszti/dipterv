{
 "cells": [
  {
   "cell_type": "code",
   "execution_count": 2,
   "metadata": {},
   "outputs": [],
   "source": [
    "import pandas as pd\n",
    "import csv\n",
    "from IPython.core.interactiveshell import InteractiveShell\n",
    "InteractiveShell.ast_node_interactivity = \"all\"\n",
    "from sklearn.utils import shuffle"
   ]
  },
  {
   "cell_type": "code",
   "execution_count": 3,
   "metadata": {},
   "outputs": [],
   "source": [
    "eng_freq_fn = '/mnt/permanent/home/eszti/dipterv/panlex/data/freq/eng_vocab_freq.txt'\n",
    "ita_freq_fn = '/mnt/permanent/home/eszti/dipterv/panlex/data/freq/ita_vocab_freq.txt'"
   ]
  },
  {
   "cell_type": "code",
   "execution_count": 4,
   "metadata": {},
   "outputs": [],
   "source": [
    "eng_f = pd.read_csv(eng_freq_fn, sep=' ', header=None, names = [\"eng\", \"freq\"])"
   ]
  },
  {
   "cell_type": "code",
   "execution_count": 5,
   "metadata": {},
   "outputs": [
    {
     "data": {
      "text/html": [
       "<div>\n",
       "<style scoped>\n",
       "    .dataframe tbody tr th:only-of-type {\n",
       "        vertical-align: middle;\n",
       "    }\n",
       "\n",
       "    .dataframe tbody tr th {\n",
       "        vertical-align: top;\n",
       "    }\n",
       "\n",
       "    .dataframe thead th {\n",
       "        text-align: right;\n",
       "    }\n",
       "</style>\n",
       "<table border=\"1\" class=\"dataframe\">\n",
       "  <thead>\n",
       "    <tr style=\"text-align: right;\">\n",
       "      <th></th>\n",
       "      <th>eng</th>\n",
       "      <th>freq</th>\n",
       "    </tr>\n",
       "  </thead>\n",
       "  <tbody>\n",
       "    <tr>\n",
       "      <th>0</th>\n",
       "      <td>the</td>\n",
       "      <td>193688441</td>\n",
       "    </tr>\n",
       "    <tr>\n",
       "      <th>1</th>\n",
       "      <td>,</td>\n",
       "      <td>152169667</td>\n",
       "    </tr>\n",
       "    <tr>\n",
       "      <th>2</th>\n",
       "      <td>.</td>\n",
       "      <td>130021704</td>\n",
       "    </tr>\n",
       "    <tr>\n",
       "      <th>3</th>\n",
       "      <td>of</td>\n",
       "      <td>101645398</td>\n",
       "    </tr>\n",
       "    <tr>\n",
       "      <th>4</th>\n",
       "      <td>and</td>\n",
       "      <td>94288110</td>\n",
       "    </tr>\n",
       "  </tbody>\n",
       "</table>\n",
       "</div>"
      ],
      "text/plain": [
       "   eng       freq\n",
       "0  the  193688441\n",
       "1    ,  152169667\n",
       "2    .  130021704\n",
       "3   of  101645398\n",
       "4  and   94288110"
      ]
     },
     "execution_count": 5,
     "metadata": {},
     "output_type": "execute_result"
    },
    {
     "data": {
      "text/plain": [
       "6620170"
      ]
     },
     "execution_count": 5,
     "metadata": {},
     "output_type": "execute_result"
    }
   ],
   "source": [
    "eng_f.head()\n",
    "len(eng_f.index)"
   ]
  },
  {
   "cell_type": "code",
   "execution_count": 6,
   "metadata": {},
   "outputs": [],
   "source": [
    "pl_fn = '/mnt/permanent/home/eszti/dipterv/panlex/data/panlex/tsv/eng_ita_tr_te/eng_ita.tsv'"
   ]
  },
  {
   "cell_type": "code",
   "execution_count": 7,
   "metadata": {},
   "outputs": [
    {
     "data": {
      "text/plain": [
       "661910"
      ]
     },
     "execution_count": 7,
     "metadata": {},
     "output_type": "execute_result"
    }
   ],
   "source": [
    "pl = pd.read_csv(pl_fn, sep='\\t', header=None, names = [\"lang1\", \"lang2\", \"eng\", \"ita\", \"conf\"])\n",
    "len(pl.index)"
   ]
  },
  {
   "cell_type": "code",
   "execution_count": 8,
   "metadata": {},
   "outputs": [
    {
     "data": {
      "text/html": [
       "<div>\n",
       "<style scoped>\n",
       "    .dataframe tbody tr th:only-of-type {\n",
       "        vertical-align: middle;\n",
       "    }\n",
       "\n",
       "    .dataframe tbody tr th {\n",
       "        vertical-align: top;\n",
       "    }\n",
       "\n",
       "    .dataframe thead th {\n",
       "        text-align: right;\n",
       "    }\n",
       "</style>\n",
       "<table border=\"1\" class=\"dataframe\">\n",
       "  <thead>\n",
       "    <tr style=\"text-align: right;\">\n",
       "      <th></th>\n",
       "      <th>lang1</th>\n",
       "      <th>lang2</th>\n",
       "      <th>eng</th>\n",
       "      <th>ita</th>\n",
       "      <th>conf</th>\n",
       "    </tr>\n",
       "  </thead>\n",
       "  <tbody>\n",
       "    <tr>\n",
       "      <th>169350</th>\n",
       "      <td>eng</td>\n",
       "      <td>ita</td>\n",
       "      <td>turkey</td>\n",
       "      <td>grullo</td>\n",
       "      <td>7.0</td>\n",
       "    </tr>\n",
       "    <tr>\n",
       "      <th>169351</th>\n",
       "      <td>eng</td>\n",
       "      <td>ita</td>\n",
       "      <td>reward</td>\n",
       "      <td>gratifica</td>\n",
       "      <td>7.0</td>\n",
       "    </tr>\n",
       "    <tr>\n",
       "      <th>169352</th>\n",
       "      <td>eng</td>\n",
       "      <td>ita</td>\n",
       "      <td>turkey</td>\n",
       "      <td>credulone</td>\n",
       "      <td>7.0</td>\n",
       "    </tr>\n",
       "    <tr>\n",
       "      <th>169353</th>\n",
       "      <td>eng</td>\n",
       "      <td>ita</td>\n",
       "      <td>milk</td>\n",
       "      <td>da latte</td>\n",
       "      <td>7.0</td>\n",
       "    </tr>\n",
       "    <tr>\n",
       "      <th>169354</th>\n",
       "      <td>eng</td>\n",
       "      <td>ita</td>\n",
       "      <td>reward</td>\n",
       "      <td>gratificazione</td>\n",
       "      <td>7.0</td>\n",
       "    </tr>\n",
       "  </tbody>\n",
       "</table>\n",
       "</div>"
      ],
      "text/plain": [
       "       lang1 lang2     eng             ita  conf\n",
       "169350   eng   ita  turkey          grullo   7.0\n",
       "169351   eng   ita  reward       gratifica   7.0\n",
       "169352   eng   ita  turkey       credulone   7.0\n",
       "169353   eng   ita    milk        da latte   7.0\n",
       "169354   eng   ita  reward  gratificazione   7.0"
      ]
     },
     "execution_count": 8,
     "metadata": {},
     "output_type": "execute_result"
    },
    {
     "data": {
      "text/plain": [
       "169355"
      ]
     },
     "execution_count": 8,
     "metadata": {},
     "output_type": "execute_result"
    }
   ],
   "source": [
    "pl_7 = pl[pl.conf > 6]\n",
    "pl_7.tail()\n",
    "len(pl_7.index)"
   ]
  },
  {
   "cell_type": "code",
   "execution_count": 9,
   "metadata": {},
   "outputs": [
    {
     "data": {
      "text/plain": [
       "106453"
      ]
     },
     "execution_count": 9,
     "metadata": {},
     "output_type": "execute_result"
    }
   ],
   "source": [
    "pl_7_f = pd.merge(pl_7, eng_f)\n",
    "len(pl_7_f.index)"
   ]
  },
  {
   "cell_type": "code",
   "execution_count": 10,
   "metadata": {},
   "outputs": [
    {
     "data": {
      "text/html": [
       "<div>\n",
       "<style scoped>\n",
       "    .dataframe tbody tr th:only-of-type {\n",
       "        vertical-align: middle;\n",
       "    }\n",
       "\n",
       "    .dataframe tbody tr th {\n",
       "        vertical-align: top;\n",
       "    }\n",
       "\n",
       "    .dataframe thead th {\n",
       "        text-align: right;\n",
       "    }\n",
       "</style>\n",
       "<table border=\"1\" class=\"dataframe\">\n",
       "  <thead>\n",
       "    <tr style=\"text-align: right;\">\n",
       "      <th></th>\n",
       "      <th>lang1</th>\n",
       "      <th>lang2</th>\n",
       "      <th>eng</th>\n",
       "      <th>ita</th>\n",
       "      <th>conf</th>\n",
       "      <th>freq</th>\n",
       "    </tr>\n",
       "  </thead>\n",
       "  <tbody>\n",
       "    <tr>\n",
       "      <th>0</th>\n",
       "      <td>eng</td>\n",
       "      <td>ita</td>\n",
       "      <td>lats</td>\n",
       "      <td>lats</td>\n",
       "      <td>9.0</td>\n",
       "      <td>165</td>\n",
       "    </tr>\n",
       "    <tr>\n",
       "      <th>1</th>\n",
       "      <td>eng</td>\n",
       "      <td>ita</td>\n",
       "      <td>dirham</td>\n",
       "      <td>dirham</td>\n",
       "      <td>9.0</td>\n",
       "      <td>114</td>\n",
       "    </tr>\n",
       "    <tr>\n",
       "      <th>2</th>\n",
       "      <td>eng</td>\n",
       "      <td>ita</td>\n",
       "      <td>dinar</td>\n",
       "      <td>dinaro</td>\n",
       "      <td>9.0</td>\n",
       "      <td>590</td>\n",
       "    </tr>\n",
       "    <tr>\n",
       "      <th>3</th>\n",
       "      <td>eng</td>\n",
       "      <td>ita</td>\n",
       "      <td>dinar</td>\n",
       "      <td>denaro</td>\n",
       "      <td>7.0</td>\n",
       "      <td>590</td>\n",
       "    </tr>\n",
       "    <tr>\n",
       "      <th>4</th>\n",
       "      <td>eng</td>\n",
       "      <td>ita</td>\n",
       "      <td>dong</td>\n",
       "      <td>dong</td>\n",
       "      <td>9.0</td>\n",
       "      <td>2687</td>\n",
       "    </tr>\n",
       "  </tbody>\n",
       "</table>\n",
       "</div>"
      ],
      "text/plain": [
       "  lang1 lang2     eng     ita  conf  freq\n",
       "0   eng   ita    lats    lats   9.0   165\n",
       "1   eng   ita  dirham  dirham   9.0   114\n",
       "2   eng   ita   dinar  dinaro   9.0   590\n",
       "3   eng   ita   dinar  denaro   7.0   590\n",
       "4   eng   ita    dong    dong   9.0  2687"
      ]
     },
     "execution_count": 10,
     "metadata": {},
     "output_type": "execute_result"
    },
    {
     "data": {
      "text/html": [
       "<div>\n",
       "<style scoped>\n",
       "    .dataframe tbody tr th:only-of-type {\n",
       "        vertical-align: middle;\n",
       "    }\n",
       "\n",
       "    .dataframe tbody tr th {\n",
       "        vertical-align: top;\n",
       "    }\n",
       "\n",
       "    .dataframe thead th {\n",
       "        text-align: right;\n",
       "    }\n",
       "</style>\n",
       "<table border=\"1\" class=\"dataframe\">\n",
       "  <thead>\n",
       "    <tr style=\"text-align: right;\">\n",
       "      <th></th>\n",
       "      <th>lang1</th>\n",
       "      <th>lang2</th>\n",
       "      <th>eng</th>\n",
       "      <th>ita</th>\n",
       "      <th>conf</th>\n",
       "      <th>freq</th>\n",
       "    </tr>\n",
       "  </thead>\n",
       "  <tbody>\n",
       "    <tr>\n",
       "      <th>106448</th>\n",
       "      <td>eng</td>\n",
       "      <td>ita</td>\n",
       "      <td>barf</td>\n",
       "      <td>dar di stomaco</td>\n",
       "      <td>7.0</td>\n",
       "      <td>297</td>\n",
       "    </tr>\n",
       "    <tr>\n",
       "      <th>106449</th>\n",
       "      <td>eng</td>\n",
       "      <td>ita</td>\n",
       "      <td>barf</td>\n",
       "      <td>vomitare</td>\n",
       "      <td>7.0</td>\n",
       "      <td>297</td>\n",
       "    </tr>\n",
       "    <tr>\n",
       "      <th>106450</th>\n",
       "      <td>eng</td>\n",
       "      <td>ita</td>\n",
       "      <td>swatch</td>\n",
       "      <td>pezza</td>\n",
       "      <td>7.0</td>\n",
       "      <td>753</td>\n",
       "    </tr>\n",
       "    <tr>\n",
       "      <th>106451</th>\n",
       "      <td>eng</td>\n",
       "      <td>ita</td>\n",
       "      <td>grasping</td>\n",
       "      <td>avido</td>\n",
       "      <td>7.0</td>\n",
       "      <td>6621</td>\n",
       "    </tr>\n",
       "    <tr>\n",
       "      <th>106452</th>\n",
       "      <td>eng</td>\n",
       "      <td>ita</td>\n",
       "      <td>grasping</td>\n",
       "      <td>vorace</td>\n",
       "      <td>7.0</td>\n",
       "      <td>6621</td>\n",
       "    </tr>\n",
       "  </tbody>\n",
       "</table>\n",
       "</div>"
      ],
      "text/plain": [
       "       lang1 lang2       eng             ita  conf  freq\n",
       "106448   eng   ita      barf  dar di stomaco   7.0   297\n",
       "106449   eng   ita      barf        vomitare   7.0   297\n",
       "106450   eng   ita    swatch           pezza   7.0   753\n",
       "106451   eng   ita  grasping           avido   7.0  6621\n",
       "106452   eng   ita  grasping          vorace   7.0  6621"
      ]
     },
     "execution_count": 10,
     "metadata": {},
     "output_type": "execute_result"
    }
   ],
   "source": [
    "pl_7_f.head()\n",
    "pl_7_f.tail()"
   ]
  },
  {
   "cell_type": "code",
   "execution_count": 11,
   "metadata": {},
   "outputs": [
    {
     "data": {
      "text/plain": [
       "106453"
      ]
     },
     "execution_count": 11,
     "metadata": {},
     "output_type": "execute_result"
    },
    {
     "data": {
      "text/plain": [
       "6620170"
      ]
     },
     "execution_count": 11,
     "metadata": {},
     "output_type": "execute_result"
    },
    {
     "data": {
      "text/plain": [
       "106453"
      ]
     },
     "execution_count": 11,
     "metadata": {},
     "output_type": "execute_result"
    }
   ],
   "source": [
    "eng_f_fil = pl_7_f[['eng', 'freq']].copy()\n",
    "len(pl_7_f.index)\n",
    "len(eng_f.index)\n",
    "len(eng_f_fil.index)"
   ]
  },
  {
   "cell_type": "code",
   "execution_count": 12,
   "metadata": {},
   "outputs": [
    {
     "data": {
      "text/plain": [
       "20406"
      ]
     },
     "execution_count": 12,
     "metadata": {},
     "output_type": "execute_result"
    }
   ],
   "source": [
    "bin1 = eng_f_fil[(eng_f_fil.freq >= 1000) & (eng_f_fil.freq < 5000)]\n",
    "len(bin1.index)"
   ]
  },
  {
   "cell_type": "code",
   "execution_count": 13,
   "metadata": {},
   "outputs": [
    {
     "data": {
      "text/plain": [
       "18339"
      ]
     },
     "execution_count": 13,
     "metadata": {},
     "output_type": "execute_result"
    }
   ],
   "source": [
    "bin2 = eng_f_fil[(eng_f_fil.freq >= 5000) & (eng_f_fil.freq < 20000)]\n",
    "len(bin2.index)"
   ]
  },
  {
   "cell_type": "code",
   "execution_count": 14,
   "metadata": {},
   "outputs": [
    {
     "data": {
      "text/plain": [
       "10768"
      ]
     },
     "execution_count": 14,
     "metadata": {},
     "output_type": "execute_result"
    }
   ],
   "source": [
    "bin3 = eng_f_fil[(eng_f_fil.freq >= 20000) & (eng_f_fil.freq < 50000)]\n",
    "len(bin3.index)"
   ]
  },
  {
   "cell_type": "code",
   "execution_count": 15,
   "metadata": {},
   "outputs": [
    {
     "data": {
      "text/plain": [
       "7494"
      ]
     },
     "execution_count": 15,
     "metadata": {},
     "output_type": "execute_result"
    }
   ],
   "source": [
    "bin4 = eng_f_fil[(eng_f_fil.freq >= 50000) & (eng_f_fil.freq < 100000)]\n",
    "len(bin4.index)"
   ]
  },
  {
   "cell_type": "code",
   "execution_count": 16,
   "metadata": {},
   "outputs": [
    {
     "data": {
      "text/plain": [
       "5939"
      ]
     },
     "execution_count": 16,
     "metadata": {},
     "output_type": "execute_result"
    }
   ],
   "source": [
    "bin5 = eng_f_fil[(eng_f_fil.freq >= 100000) & (eng_f_fil.freq < 200000)]\n",
    "len(bin5.index)"
   ]
  },
  {
   "cell_type": "code",
   "execution_count": 17,
   "metadata": {},
   "outputs": [],
   "source": [
    "def get_300(binN, alle, N):\n",
    "    bin_rand = shuffle(binN)\n",
    "    print('Number of words in {0}: {1}'.format(N, len(binN.index)))\n",
    "    bin_300 = bin_rand.head(300)\n",
    "    print('len 300: {0}'.format(len(bin_300.index)))\n",
    "    test_N = pd.merge(alle, bin_300, on=['eng', 'freq'])\n",
    "    print('len test 300: {0}'.format(len(test_N.index)))\n",
    "    return test_N"
   ]
  },
  {
   "cell_type": "code",
   "execution_count": 18,
   "metadata": {},
   "outputs": [
    {
     "name": "stdout",
     "output_type": "stream",
     "text": [
      "Number of words in 1: 20406\n",
      "len 300: 300\n",
      "len test 300: 1398\n"
     ]
    }
   ],
   "source": [
    "test1 = get_300(bin1, pl_7_f, 1)"
   ]
  },
  {
   "cell_type": "code",
   "execution_count": 19,
   "metadata": {},
   "outputs": [
    {
     "name": "stdout",
     "output_type": "stream",
     "text": [
      "Number of words in 2: 18339\n",
      "len 300: 300\n",
      "len test 300: 1971\n"
     ]
    }
   ],
   "source": [
    "test2 = get_300(bin2, pl_7_f, 2)"
   ]
  },
  {
   "cell_type": "code",
   "execution_count": 20,
   "metadata": {},
   "outputs": [
    {
     "name": "stdout",
     "output_type": "stream",
     "text": [
      "Number of words in 3: 10768\n",
      "len 300: 300\n",
      "len test 300: 2594\n"
     ]
    }
   ],
   "source": [
    "test3 = get_300(bin3, pl_7_f, 3)"
   ]
  },
  {
   "cell_type": "code",
   "execution_count": 21,
   "metadata": {},
   "outputs": [
    {
     "name": "stdout",
     "output_type": "stream",
     "text": [
      "Number of words in 4: 7494\n",
      "len 300: 300\n",
      "len test 300: 3206\n"
     ]
    }
   ],
   "source": [
    "test4 = get_300(bin4, pl_7_f, 4)"
   ]
  },
  {
   "cell_type": "code",
   "execution_count": 22,
   "metadata": {},
   "outputs": [
    {
     "name": "stdout",
     "output_type": "stream",
     "text": [
      "Number of words in 5: 5939\n",
      "len 300: 300\n",
      "len test 300: 3520\n"
     ]
    }
   ],
   "source": [
    "test5 = get_300(bin5, pl_7_f, 5)"
   ]
  },
  {
   "cell_type": "code",
   "execution_count": 42,
   "metadata": {},
   "outputs": [
    {
     "data": {
      "text/html": [
       "<div>\n",
       "<style scoped>\n",
       "    .dataframe tbody tr th:only-of-type {\n",
       "        vertical-align: middle;\n",
       "    }\n",
       "\n",
       "    .dataframe tbody tr th {\n",
       "        vertical-align: top;\n",
       "    }\n",
       "\n",
       "    .dataframe thead th {\n",
       "        text-align: right;\n",
       "    }\n",
       "</style>\n",
       "<table border=\"1\" class=\"dataframe\">\n",
       "  <thead>\n",
       "    <tr style=\"text-align: right;\">\n",
       "      <th></th>\n",
       "      <th>lang1</th>\n",
       "      <th>lang2</th>\n",
       "      <th>eng</th>\n",
       "      <th>ita</th>\n",
       "      <th>conf</th>\n",
       "      <th>freq</th>\n",
       "    </tr>\n",
       "  </thead>\n",
       "  <tbody>\n",
       "    <tr>\n",
       "      <th>0</th>\n",
       "      <td>eng</td>\n",
       "      <td>ita</td>\n",
       "      <td>dashing</td>\n",
       "      <td>nuvola di polvere</td>\n",
       "      <td>8.0</td>\n",
       "      <td>2917</td>\n",
       "    </tr>\n",
       "    <tr>\n",
       "      <th>1</th>\n",
       "      <td>eng</td>\n",
       "      <td>ita</td>\n",
       "      <td>dashing</td>\n",
       "      <td>focoso</td>\n",
       "      <td>7.0</td>\n",
       "      <td>2917</td>\n",
       "    </tr>\n",
       "    <tr>\n",
       "      <th>2</th>\n",
       "      <td>eng</td>\n",
       "      <td>ita</td>\n",
       "      <td>tram</td>\n",
       "      <td>tram</td>\n",
       "      <td>8.0</td>\n",
       "      <td>3218</td>\n",
       "    </tr>\n",
       "    <tr>\n",
       "      <th>3</th>\n",
       "      <td>eng</td>\n",
       "      <td>ita</td>\n",
       "      <td>tram</td>\n",
       "      <td>tranvai</td>\n",
       "      <td>7.0</td>\n",
       "      <td>3218</td>\n",
       "    </tr>\n",
       "    <tr>\n",
       "      <th>4</th>\n",
       "      <td>eng</td>\n",
       "      <td>ita</td>\n",
       "      <td>flashlight</td>\n",
       "      <td>torcia</td>\n",
       "      <td>8.0</td>\n",
       "      <td>4612</td>\n",
       "    </tr>\n",
       "    <tr>\n",
       "      <th>5</th>\n",
       "      <td>eng</td>\n",
       "      <td>ita</td>\n",
       "      <td>flashlight</td>\n",
       "      <td>lampadina tascabile</td>\n",
       "      <td>7.0</td>\n",
       "      <td>4612</td>\n",
       "    </tr>\n",
       "    <tr>\n",
       "      <th>6</th>\n",
       "      <td>eng</td>\n",
       "      <td>ita</td>\n",
       "      <td>flashlight</td>\n",
       "      <td>lampada portatile</td>\n",
       "      <td>7.0</td>\n",
       "      <td>4612</td>\n",
       "    </tr>\n",
       "    <tr>\n",
       "      <th>7</th>\n",
       "      <td>eng</td>\n",
       "      <td>ita</td>\n",
       "      <td>flashlight</td>\n",
       "      <td>torcia elettrica</td>\n",
       "      <td>7.0</td>\n",
       "      <td>4612</td>\n",
       "    </tr>\n",
       "    <tr>\n",
       "      <th>8</th>\n",
       "      <td>eng</td>\n",
       "      <td>ita</td>\n",
       "      <td>flashlight</td>\n",
       "      <td>pila</td>\n",
       "      <td>7.0</td>\n",
       "      <td>4612</td>\n",
       "    </tr>\n",
       "    <tr>\n",
       "      <th>9</th>\n",
       "      <td>eng</td>\n",
       "      <td>ita</td>\n",
       "      <td>centimetres</td>\n",
       "      <td>centimetri</td>\n",
       "      <td>8.0</td>\n",
       "      <td>1393</td>\n",
       "    </tr>\n",
       "  </tbody>\n",
       "</table>\n",
       "</div>"
      ],
      "text/plain": [
       "  lang1 lang2          eng                  ita  conf  freq\n",
       "0   eng   ita      dashing    nuvola di polvere   8.0  2917\n",
       "1   eng   ita      dashing               focoso   7.0  2917\n",
       "2   eng   ita         tram                 tram   8.0  3218\n",
       "3   eng   ita         tram              tranvai   7.0  3218\n",
       "4   eng   ita   flashlight               torcia   8.0  4612\n",
       "5   eng   ita   flashlight  lampadina tascabile   7.0  4612\n",
       "6   eng   ita   flashlight    lampada portatile   7.0  4612\n",
       "7   eng   ita   flashlight     torcia elettrica   7.0  4612\n",
       "8   eng   ita   flashlight                 pila   7.0  4612\n",
       "9   eng   ita  centimetres           centimetri   8.0  1393"
      ]
     },
     "execution_count": 42,
     "metadata": {},
     "output_type": "execute_result"
    }
   ],
   "source": [
    "test1.head(10)"
   ]
  },
  {
   "cell_type": "code",
   "execution_count": 39,
   "metadata": {},
   "outputs": [],
   "source": [
    "ita_ls = []\n",
    "with open(ita_freq_fn, encoding='latin-1') as f:\n",
    "    lines = f.read().splitlines()\n",
    "    for i, line in enumerate(lines):\n",
    "        words = line.split(' ')\n",
    "        try:\n",
    "            ita_ls.append((words[0], words[1]))\n",
    "        except:\n",
    "            continue"
   ]
  },
  {
   "cell_type": "code",
   "execution_count": 40,
   "metadata": {},
   "outputs": [
    {
     "data": {
      "text/plain": [
       "6278167"
      ]
     },
     "execution_count": 40,
     "metadata": {},
     "output_type": "execute_result"
    }
   ],
   "source": [
    "len(ita_ls)"
   ]
  },
  {
   "cell_type": "code",
   "execution_count": 41,
   "metadata": {},
   "outputs": [
    {
     "data": {
      "text/plain": [
       "6278167"
      ]
     },
     "execution_count": 41,
     "metadata": {},
     "output_type": "execute_result"
    },
    {
     "data": {
      "text/html": [
       "<div>\n",
       "<style scoped>\n",
       "    .dataframe tbody tr th:only-of-type {\n",
       "        vertical-align: middle;\n",
       "    }\n",
       "\n",
       "    .dataframe tbody tr th {\n",
       "        vertical-align: top;\n",
       "    }\n",
       "\n",
       "    .dataframe thead th {\n",
       "        text-align: right;\n",
       "    }\n",
       "</style>\n",
       "<table border=\"1\" class=\"dataframe\">\n",
       "  <thead>\n",
       "    <tr style=\"text-align: right;\">\n",
       "      <th></th>\n",
       "      <th>freq</th>\n",
       "      <th>ita</th>\n",
       "    </tr>\n",
       "  </thead>\n",
       "  <tbody>\n",
       "    <tr>\n",
       "      <th>0</th>\n",
       "      <td>98847888</td>\n",
       "      <td>,</td>\n",
       "    </tr>\n",
       "    <tr>\n",
       "      <th>1</th>\n",
       "      <td>65521116</td>\n",
       "      <td>di</td>\n",
       "    </tr>\n",
       "    <tr>\n",
       "      <th>2</th>\n",
       "      <td>56115098</td>\n",
       "      <td>.</td>\n",
       "    </tr>\n",
       "    <tr>\n",
       "      <th>3</th>\n",
       "      <td>40599023</td>\n",
       "      <td>e</td>\n",
       "    </tr>\n",
       "    <tr>\n",
       "      <th>4</th>\n",
       "      <td>27182874</td>\n",
       "      <td>che</td>\n",
       "    </tr>\n",
       "  </tbody>\n",
       "</table>\n",
       "</div>"
      ],
      "text/plain": [
       "       freq  ita\n",
       "0  98847888    ,\n",
       "1  65521116   di\n",
       "2  56115098    .\n",
       "3  40599023    e\n",
       "4  27182874  che"
      ]
     },
     "execution_count": 41,
     "metadata": {},
     "output_type": "execute_result"
    }
   ],
   "source": [
    "ita_f = pd.DataFrame(ita_ls, columns=['freq', 'ita'])\n",
    "len(ita_f.index)\n",
    "ita_f.head()"
   ]
  },
  {
   "cell_type": "code",
   "execution_count": null,
   "metadata": {},
   "outputs": [],
   "source": [
    "def get_300_uq(binN, alle, freq2):\n",
    "    bin_rand = shuffle(binN)\n",
    "    print('Number of words in {0}: {1}'.format(N, len(binN.index)))\n",
    "    bin_300 = bin_rand.head(300)\n",
    "    print('len 300: {0}'.format(len(bin_300.index)))\n",
    "    test_N = pd.merge(alle, bin_300, on=['eng', 'freq'])\n",
    "    print('len test 300: {0}'.format(len(test_N.index)))\n",
    "    return test_N"
   ]
  }
 ],
 "metadata": {
  "kernelspec": {
   "display_name": "Python 3",
   "language": "python",
   "name": "python3"
  },
  "language_info": {
   "codemirror_mode": {
    "name": "ipython",
    "version": 3
   },
   "file_extension": ".py",
   "mimetype": "text/x-python",
   "name": "python",
   "nbconvert_exporter": "python",
   "pygments_lexer": "ipython3",
   "version": "3.5.2"
  }
 },
 "nbformat": 4,
 "nbformat_minor": 2
}
