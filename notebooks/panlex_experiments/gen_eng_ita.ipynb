{
 "cells": [
  {
   "cell_type": "code",
   "execution_count": 1,
   "metadata": {},
   "outputs": [],
   "source": [
    "import pandas as pd\n",
    "import csv\n",
    "from IPython.core.interactiveshell import InteractiveShell\n",
    "InteractiveShell.ast_node_interactivity = \"all\"\n",
    "from sklearn.utils import shuffle\n",
    "import os"
   ]
  },
  {
   "cell_type": "code",
   "execution_count": 2,
   "metadata": {},
   "outputs": [],
   "source": [
    "l1 = 'eng'\n",
    "l2 = 'ita'\n",
    "\n",
    "conf = 7"
   ]
  },
  {
   "cell_type": "code",
   "execution_count": 3,
   "metadata": {},
   "outputs": [],
   "source": [
    "l1_freq_fn = '/mnt/permanent/home/eszti/dipterv/panlex/data/panlex/tsv/MULTI/freq/{}'.format(l1)\n",
    "l2_freq_fn = '/mnt/permanent/home/eszti/dipterv/panlex/data/panlex/tsv/MULTI/freq/{}'.format(l2)\n",
    "\n",
    "pl_fn = '/mnt/permanent/home/eszti/dipterv/panlex/data/panlex/tsv/MULTI/filter/{0}_{1}.tsv'.format(l1, l2)\n",
    "\n",
    "train_fn = '/mnt/permanent/home/eszti/dipterv/panlex/data/panlex/tsv/MULTI/train/{0}_{1}.tsv'.format(l1, l2)\n",
    "test_fn = '/mnt/permanent/home/eszti/dipterv/panlex/data/panlex/tsv/MULTI/test/{0}_{1}.tsv'.format(l1, l2)"
   ]
  },
  {
   "cell_type": "code",
   "execution_count": 4,
   "metadata": {},
   "outputs": [],
   "source": [
    "# Read l1 freq info\n",
    "\n",
    "l1_ls = []\n",
    "with open(l1_freq_fn) as f:\n",
    "    lines = f.read().splitlines()\n",
    "    for line in lines:\n",
    "        l1_ls.append(line)"
   ]
  },
  {
   "cell_type": "code",
   "execution_count": 5,
   "metadata": {},
   "outputs": [
    {
     "data": {
      "text/html": [
       "<div>\n",
       "<style scoped>\n",
       "    .dataframe tbody tr th:only-of-type {\n",
       "        vertical-align: middle;\n",
       "    }\n",
       "\n",
       "    .dataframe tbody tr th {\n",
       "        vertical-align: top;\n",
       "    }\n",
       "\n",
       "    .dataframe thead th {\n",
       "        text-align: right;\n",
       "    }\n",
       "</style>\n",
       "<table border=\"1\" class=\"dataframe\">\n",
       "  <thead>\n",
       "    <tr style=\"text-align: right;\">\n",
       "      <th></th>\n",
       "      <th>eng</th>\n",
       "      <th>freq</th>\n",
       "    </tr>\n",
       "  </thead>\n",
       "  <tbody>\n",
       "    <tr>\n",
       "      <th>0</th>\n",
       "      <td>,</td>\n",
       "      <td>0</td>\n",
       "    </tr>\n",
       "    <tr>\n",
       "      <th>1</th>\n",
       "      <td>.</td>\n",
       "      <td>1</td>\n",
       "    </tr>\n",
       "    <tr>\n",
       "      <th>2</th>\n",
       "      <td>the</td>\n",
       "      <td>2</td>\n",
       "    </tr>\n",
       "    <tr>\n",
       "      <th>3</th>\n",
       "      <td>&lt;/s&gt;</td>\n",
       "      <td>3</td>\n",
       "    </tr>\n",
       "    <tr>\n",
       "      <th>4</th>\n",
       "      <td>of</td>\n",
       "      <td>4</td>\n",
       "    </tr>\n",
       "  </tbody>\n",
       "</table>\n",
       "</div>"
      ],
      "text/plain": [
       "    eng  freq\n",
       "0     ,     0\n",
       "1     .     1\n",
       "2   the     2\n",
       "3  </s>     3\n",
       "4    of     4"
      ]
     },
     "execution_count": 5,
     "metadata": {},
     "output_type": "execute_result"
    },
    {
     "data": {
      "text/plain": [
       "2519395"
      ]
     },
     "execution_count": 5,
     "metadata": {},
     "output_type": "execute_result"
    }
   ],
   "source": [
    "# 2519427\n",
    "l1_f = pd.DataFrame({'eng' : l1_ls})\n",
    "l1_f = l1_f.drop_duplicates(subset=('eng'))\n",
    "l1_f['freq'] = l1_f.index\n",
    "l1_f.head()\n",
    "len(l1_f.index)"
   ]
  },
  {
   "cell_type": "code",
   "execution_count": 6,
   "metadata": {},
   "outputs": [],
   "source": [
    "# Read l2 freq info\n",
    "\n",
    "l2_ls = []\n",
    "with open(l2_freq_fn) as f:\n",
    "    lines = f.read().splitlines()\n",
    "    for line in lines:\n",
    "        l2_ls.append(line)"
   ]
  },
  {
   "cell_type": "code",
   "execution_count": 7,
   "metadata": {},
   "outputs": [
    {
     "data": {
      "text/html": [
       "<div>\n",
       "<style scoped>\n",
       "    .dataframe tbody tr th:only-of-type {\n",
       "        vertical-align: middle;\n",
       "    }\n",
       "\n",
       "    .dataframe tbody tr th {\n",
       "        vertical-align: top;\n",
       "    }\n",
       "\n",
       "    .dataframe thead th {\n",
       "        text-align: right;\n",
       "    }\n",
       "</style>\n",
       "<table border=\"1\" class=\"dataframe\">\n",
       "  <thead>\n",
       "    <tr style=\"text-align: right;\">\n",
       "      <th></th>\n",
       "      <th>ita</th>\n",
       "      <th>freq</th>\n",
       "    </tr>\n",
       "  </thead>\n",
       "  <tbody>\n",
       "    <tr>\n",
       "      <th>0</th>\n",
       "      <td>&lt;/s&gt;</td>\n",
       "      <td>0</td>\n",
       "    </tr>\n",
       "    <tr>\n",
       "      <th>1</th>\n",
       "      <td>,</td>\n",
       "      <td>1</td>\n",
       "    </tr>\n",
       "    <tr>\n",
       "      <th>2</th>\n",
       "      <td>.</td>\n",
       "      <td>2</td>\n",
       "    </tr>\n",
       "    <tr>\n",
       "      <th>3</th>\n",
       "      <td>-</td>\n",
       "      <td>3</td>\n",
       "    </tr>\n",
       "    <tr>\n",
       "      <th>4</th>\n",
       "      <td>'</td>\n",
       "      <td>4</td>\n",
       "    </tr>\n",
       "  </tbody>\n",
       "</table>\n",
       "</div>"
      ],
      "text/plain": [
       "    ita  freq\n",
       "0  </s>     0\n",
       "1     ,     1\n",
       "2     .     2\n",
       "3     -     3\n",
       "4     '     4"
      ]
     },
     "execution_count": 7,
     "metadata": {},
     "output_type": "execute_result"
    },
    {
     "data": {
      "text/plain": [
       "871053"
      ]
     },
     "execution_count": 7,
     "metadata": {},
     "output_type": "execute_result"
    }
   ],
   "source": [
    "# 985649\n",
    "l2_f = pd.DataFrame({'ita' : l2_ls})\n",
    "l2_f = l2_f.drop_duplicates(subset=('ita'))\n",
    "l2_f['freq'] = l2_f.index\n",
    "l2_f.head()\n",
    "len(l2_f.index)"
   ]
  },
  {
   "cell_type": "code",
   "execution_count": 8,
   "metadata": {},
   "outputs": [
    {
     "data": {
      "text/html": [
       "<div>\n",
       "<style scoped>\n",
       "    .dataframe tbody tr th:only-of-type {\n",
       "        vertical-align: middle;\n",
       "    }\n",
       "\n",
       "    .dataframe tbody tr th {\n",
       "        vertical-align: top;\n",
       "    }\n",
       "\n",
       "    .dataframe thead th {\n",
       "        text-align: right;\n",
       "    }\n",
       "</style>\n",
       "<table border=\"1\" class=\"dataframe\">\n",
       "  <thead>\n",
       "    <tr style=\"text-align: right;\">\n",
       "      <th></th>\n",
       "      <th>eng</th>\n",
       "      <th>ita</th>\n",
       "      <th>score</th>\n",
       "    </tr>\n",
       "  </thead>\n",
       "  <tbody>\n",
       "    <tr>\n",
       "      <th>0</th>\n",
       "      <td>dirham</td>\n",
       "      <td>dirham</td>\n",
       "      <td>9</td>\n",
       "    </tr>\n",
       "    <tr>\n",
       "      <th>1</th>\n",
       "      <td>dinar</td>\n",
       "      <td>dinaro</td>\n",
       "      <td>9</td>\n",
       "    </tr>\n",
       "    <tr>\n",
       "      <th>2</th>\n",
       "      <td>dong</td>\n",
       "      <td>dong</td>\n",
       "      <td>9</td>\n",
       "    </tr>\n",
       "    <tr>\n",
       "      <th>3</th>\n",
       "      <td>lari</td>\n",
       "      <td>lari</td>\n",
       "      <td>9</td>\n",
       "    </tr>\n",
       "    <tr>\n",
       "      <th>4</th>\n",
       "      <td>dobra</td>\n",
       "      <td>dobra</td>\n",
       "      <td>9</td>\n",
       "    </tr>\n",
       "  </tbody>\n",
       "</table>\n",
       "</div>"
      ],
      "text/plain": [
       "      eng     ita  score\n",
       "0  dirham  dirham      9\n",
       "1   dinar  dinaro      9\n",
       "2    dong    dong      9\n",
       "3    lari    lari      9\n",
       "4   dobra   dobra      9"
      ]
     },
     "execution_count": 8,
     "metadata": {},
     "output_type": "execute_result"
    },
    {
     "data": {
      "text/plain": [
       "187601"
      ]
     },
     "execution_count": 8,
     "metadata": {},
     "output_type": "execute_result"
    }
   ],
   "source": [
    "# Read panlex data\n",
    "pl = pd.read_csv(pl_fn, sep='\\t', header=None, names = [l1, l2, 'score'])\n",
    "pl['score'] = pl.score.astype(int)\n",
    "pl.head()\n",
    "len(pl.index)"
   ]
  },
  {
   "cell_type": "code",
   "execution_count": 9,
   "metadata": {},
   "outputs": [
    {
     "data": {
      "text/plain": [
       "69623"
      ]
     },
     "execution_count": 9,
     "metadata": {},
     "output_type": "execute_result"
    }
   ],
   "source": [
    "# Filter conf\n",
    "\n",
    "pl = pl[pl.score >= conf]\n",
    "len(pl.index)"
   ]
  },
  {
   "cell_type": "code",
   "execution_count": 10,
   "metadata": {},
   "outputs": [
    {
     "data": {
      "text/html": [
       "<div>\n",
       "<style scoped>\n",
       "    .dataframe tbody tr th:only-of-type {\n",
       "        vertical-align: middle;\n",
       "    }\n",
       "\n",
       "    .dataframe tbody tr th {\n",
       "        vertical-align: top;\n",
       "    }\n",
       "\n",
       "    .dataframe thead th {\n",
       "        text-align: right;\n",
       "    }\n",
       "</style>\n",
       "<table border=\"1\" class=\"dataframe\">\n",
       "  <thead>\n",
       "    <tr style=\"text-align: right;\">\n",
       "      <th></th>\n",
       "      <th>eng</th>\n",
       "      <th>ita</th>\n",
       "      <th>score</th>\n",
       "      <th>freq</th>\n",
       "    </tr>\n",
       "  </thead>\n",
       "  <tbody>\n",
       "    <tr>\n",
       "      <th>0</th>\n",
       "      <td>dirham</td>\n",
       "      <td>dirham</td>\n",
       "      <td>9</td>\n",
       "      <td>132514</td>\n",
       "    </tr>\n",
       "    <tr>\n",
       "      <th>1</th>\n",
       "      <td>dinar</td>\n",
       "      <td>dinaro</td>\n",
       "      <td>9</td>\n",
       "      <td>43568</td>\n",
       "    </tr>\n",
       "    <tr>\n",
       "      <th>2</th>\n",
       "      <td>dinar</td>\n",
       "      <td>denaro</td>\n",
       "      <td>7</td>\n",
       "      <td>43568</td>\n",
       "    </tr>\n",
       "    <tr>\n",
       "      <th>3</th>\n",
       "      <td>dong</td>\n",
       "      <td>dong</td>\n",
       "      <td>9</td>\n",
       "      <td>7645</td>\n",
       "    </tr>\n",
       "    <tr>\n",
       "      <th>4</th>\n",
       "      <td>dong</td>\n",
       "      <td>uccello</td>\n",
       "      <td>7</td>\n",
       "      <td>7645</td>\n",
       "    </tr>\n",
       "  </tbody>\n",
       "</table>\n",
       "</div>"
      ],
      "text/plain": [
       "      eng      ita  score    freq\n",
       "0  dirham   dirham      9  132514\n",
       "1   dinar   dinaro      9   43568\n",
       "2   dinar   denaro      7   43568\n",
       "3    dong     dong      9    7645\n",
       "4    dong  uccello      7    7645"
      ]
     },
     "execution_count": 10,
     "metadata": {},
     "output_type": "execute_result"
    },
    {
     "data": {
      "text/plain": [
       "69623"
      ]
     },
     "execution_count": 10,
     "metadata": {},
     "output_type": "execute_result"
    }
   ],
   "source": [
    "# Merge l1 freq info\n",
    "pl_f = pd.merge(pl, l1_f, on=[l1])\n",
    "pl_f.head()\n",
    "len(pl_f.index)"
   ]
  },
  {
   "cell_type": "code",
   "execution_count": 11,
   "metadata": {},
   "outputs": [
    {
     "data": {
      "text/html": [
       "<div>\n",
       "<style scoped>\n",
       "    .dataframe tbody tr th:only-of-type {\n",
       "        vertical-align: middle;\n",
       "    }\n",
       "\n",
       "    .dataframe tbody tr th {\n",
       "        vertical-align: top;\n",
       "    }\n",
       "\n",
       "    .dataframe thead th {\n",
       "        text-align: right;\n",
       "    }\n",
       "</style>\n",
       "<table border=\"1\" class=\"dataframe\">\n",
       "  <thead>\n",
       "    <tr style=\"text-align: right;\">\n",
       "      <th></th>\n",
       "      <th>eng</th>\n",
       "      <th>ita</th>\n",
       "      <th>score</th>\n",
       "      <th>freq_x</th>\n",
       "      <th>freq_y</th>\n",
       "    </tr>\n",
       "  </thead>\n",
       "  <tbody>\n",
       "    <tr>\n",
       "      <th>0</th>\n",
       "      <td>dirham</td>\n",
       "      <td>dirham</td>\n",
       "      <td>9</td>\n",
       "      <td>132514</td>\n",
       "      <td>85750</td>\n",
       "    </tr>\n",
       "    <tr>\n",
       "      <th>1</th>\n",
       "      <td>dinar</td>\n",
       "      <td>dinaro</td>\n",
       "      <td>9</td>\n",
       "      <td>43568</td>\n",
       "      <td>57543</td>\n",
       "    </tr>\n",
       "    <tr>\n",
       "      <th>2</th>\n",
       "      <td>dinar</td>\n",
       "      <td>denaro</td>\n",
       "      <td>7</td>\n",
       "      <td>43568</td>\n",
       "      <td>2982</td>\n",
       "    </tr>\n",
       "    <tr>\n",
       "      <th>3</th>\n",
       "      <td>dough</td>\n",
       "      <td>denaro</td>\n",
       "      <td>7</td>\n",
       "      <td>20950</td>\n",
       "      <td>2982</td>\n",
       "    </tr>\n",
       "    <tr>\n",
       "      <th>4</th>\n",
       "      <td>money</td>\n",
       "      <td>denaro</td>\n",
       "      <td>7</td>\n",
       "      <td>1079</td>\n",
       "      <td>2982</td>\n",
       "    </tr>\n",
       "  </tbody>\n",
       "</table>\n",
       "</div>"
      ],
      "text/plain": [
       "      eng     ita  score  freq_x  freq_y\n",
       "0  dirham  dirham      9  132514   85750\n",
       "1   dinar  dinaro      9   43568   57543\n",
       "2   dinar  denaro      7   43568    2982\n",
       "3   dough  denaro      7   20950    2982\n",
       "4   money  denaro      7    1079    2982"
      ]
     },
     "execution_count": 11,
     "metadata": {},
     "output_type": "execute_result"
    },
    {
     "data": {
      "text/plain": [
       "69623"
      ]
     },
     "execution_count": 11,
     "metadata": {},
     "output_type": "execute_result"
    }
   ],
   "source": [
    "# Merge l2 freq info\n",
    "pl_ff = pd.merge(pl_f, l2_f, on=[l2])\n",
    "pl_ff.head()\n",
    "len(pl_ff.index)"
   ]
  },
  {
   "cell_type": "code",
   "execution_count": 12,
   "metadata": {},
   "outputs": [],
   "source": [
    "# Create bins from l1\n",
    "\n",
    "bin1 = l1_f.iloc[1000:5000]\n",
    "bin2 = l1_f.iloc[5000:20000]\n",
    "bin3 = l1_f.iloc[20000:50000]\n",
    "bin4 = l1_f.iloc[50000:100000]\n",
    "bin5 = l1_f.iloc[100000:200000]"
   ]
  },
  {
   "cell_type": "code",
   "execution_count": 13,
   "metadata": {},
   "outputs": [],
   "source": [
    "def get_300_uq(binN, alle, N, no_dup=True):\n",
    "    print('Number of words in {0}: {1}'.format(N, len(binN.index)))\n",
    "    \n",
    "    alle_bin = pd.merge(alle, binN, on=[l1])\n",
    "    print('len alle_bin: {0}'.format(len(alle_bin.index)))\n",
    "        \n",
    "    if no_dup:\n",
    "        alle_bin = alle_bin.drop_duplicates(subset=[l1], keep=False)\n",
    "        print('len alle_bin nodup: {0}'.format(len(alle_bin.index)))\n",
    "    \n",
    "    alle_bin = shuffle(alle_bin)\n",
    "    \n",
    "    testN = alle_bin.head(300)\n",
    "    print('len testN: {0}'.format(len(testN.index)))\n",
    "\n",
    "    return testN"
   ]
  },
  {
   "cell_type": "code",
   "execution_count": 14,
   "metadata": {},
   "outputs": [
    {
     "name": "stdout",
     "output_type": "stream",
     "text": [
      "Number of words in 1: 4000\n",
      "len alle_bin: 13257\n",
      "len alle_bin nodup: 616\n",
      "len testN: 300\n"
     ]
    }
   ],
   "source": [
    "test1 = get_300_uq(bin1, pl_ff, 1)"
   ]
  },
  {
   "cell_type": "code",
   "execution_count": 15,
   "metadata": {},
   "outputs": [
    {
     "name": "stdout",
     "output_type": "stream",
     "text": [
      "Number of words in 2: 15000\n",
      "len alle_bin: 21100\n",
      "len alle_bin nodup: 2350\n",
      "len testN: 300\n"
     ]
    }
   ],
   "source": [
    "test2 = get_300_uq(bin2, pl_ff, 2)"
   ]
  },
  {
   "cell_type": "code",
   "execution_count": 16,
   "metadata": {},
   "outputs": [
    {
     "name": "stdout",
     "output_type": "stream",
     "text": [
      "Number of words in 3: 30000\n",
      "len alle_bin: 15559\n",
      "len alle_bin nodup: 3889\n",
      "len testN: 300\n"
     ]
    }
   ],
   "source": [
    "test3 = get_300_uq(bin3, pl_ff, 3)"
   ]
  },
  {
   "cell_type": "code",
   "execution_count": 17,
   "metadata": {},
   "outputs": [
    {
     "name": "stdout",
     "output_type": "stream",
     "text": [
      "Number of words in 4: 50000\n",
      "len alle_bin: 8797\n",
      "len alle_bin nodup: 3522\n",
      "len testN: 300\n"
     ]
    }
   ],
   "source": [
    "test4 = get_300_uq(bin4, pl_ff, 4)"
   ]
  },
  {
   "cell_type": "code",
   "execution_count": 18,
   "metadata": {},
   "outputs": [
    {
     "name": "stdout",
     "output_type": "stream",
     "text": [
      "Number of words in 5: 100000\n",
      "len alle_bin: 5200\n",
      "len alle_bin nodup: 2777\n",
      "len testN: 300\n"
     ]
    }
   ],
   "source": [
    "test5 = get_300_uq(bin5, pl_ff, 5)"
   ]
  },
  {
   "cell_type": "code",
   "execution_count": 19,
   "metadata": {},
   "outputs": [
    {
     "data": {
      "text/html": [
       "<div>\n",
       "<style scoped>\n",
       "    .dataframe tbody tr th:only-of-type {\n",
       "        vertical-align: middle;\n",
       "    }\n",
       "\n",
       "    .dataframe tbody tr th {\n",
       "        vertical-align: top;\n",
       "    }\n",
       "\n",
       "    .dataframe thead th {\n",
       "        text-align: right;\n",
       "    }\n",
       "</style>\n",
       "<table border=\"1\" class=\"dataframe\">\n",
       "  <thead>\n",
       "    <tr style=\"text-align: right;\">\n",
       "      <th></th>\n",
       "      <th>eng</th>\n",
       "      <th>ita</th>\n",
       "      <th>score</th>\n",
       "      <th>freq_x</th>\n",
       "      <th>freq_y</th>\n",
       "      <th>freq</th>\n",
       "    </tr>\n",
       "  </thead>\n",
       "  <tbody>\n",
       "    <tr>\n",
       "      <th>12855</th>\n",
       "      <td>twelve</td>\n",
       "      <td>dodici</td>\n",
       "      <td>7</td>\n",
       "      <td>2795</td>\n",
       "      <td>2760</td>\n",
       "      <td>2795</td>\n",
       "    </tr>\n",
       "    <tr>\n",
       "      <th>12146</th>\n",
       "      <td>stated</td>\n",
       "      <td>dichiarato</td>\n",
       "      <td>7</td>\n",
       "      <td>1029</td>\n",
       "      <td>2582</td>\n",
       "      <td>1029</td>\n",
       "    </tr>\n",
       "    <tr>\n",
       "      <th>10114</th>\n",
       "      <td>massive</td>\n",
       "      <td>massiccio</td>\n",
       "      <td>7</td>\n",
       "      <td>3514</td>\n",
       "      <td>4775</td>\n",
       "      <td>3514</td>\n",
       "    </tr>\n",
       "    <tr>\n",
       "      <th>12971</th>\n",
       "      <td>premier</td>\n",
       "      <td>premier</td>\n",
       "      <td>7</td>\n",
       "      <td>1781</td>\n",
       "      <td>5102</td>\n",
       "      <td>1781</td>\n",
       "    </tr>\n",
       "    <tr>\n",
       "      <th>12938</th>\n",
       "      <td>sets</td>\n",
       "      <td>insiemistica</td>\n",
       "      <td>7</td>\n",
       "      <td>2461</td>\n",
       "      <td>131053</td>\n",
       "      <td>2461</td>\n",
       "    </tr>\n",
       "  </tbody>\n",
       "</table>\n",
       "</div>"
      ],
      "text/plain": [
       "           eng           ita  score  freq_x  freq_y  freq\n",
       "12855   twelve        dodici      7    2795    2760  2795\n",
       "12146   stated    dichiarato      7    1029    2582  1029\n",
       "10114  massive     massiccio      7    3514    4775  3514\n",
       "12971  premier       premier      7    1781    5102  1781\n",
       "12938     sets  insiemistica      7    2461  131053  2461"
      ]
     },
     "execution_count": 19,
     "metadata": {},
     "output_type": "execute_result"
    },
    {
     "data": {
      "text/plain": [
       "1500"
      ]
     },
     "execution_count": 19,
     "metadata": {},
     "output_type": "execute_result"
    }
   ],
   "source": [
    "# Concat test\n",
    "\n",
    "frames = [test1, test2, test3, test4, test5]\n",
    "pl_test = pd.concat(frames)\n",
    "pl_test.head()\n",
    "len(pl_test.index)"
   ]
  },
  {
   "cell_type": "code",
   "execution_count": 20,
   "metadata": {},
   "outputs": [
    {
     "data": {
      "text/plain": [
       "1500"
      ]
     },
     "execution_count": 20,
     "metadata": {},
     "output_type": "execute_result"
    },
    {
     "data": {
      "text/plain": [
       "69623"
      ]
     },
     "execution_count": 20,
     "metadata": {},
     "output_type": "execute_result"
    },
    {
     "data": {
      "text/plain": [
       "68123"
      ]
     },
     "execution_count": 20,
     "metadata": {},
     "output_type": "execute_result"
    },
    {
     "data": {
      "text/plain": [
       "11777"
      ]
     },
     "execution_count": 20,
     "metadata": {},
     "output_type": "execute_result"
    },
    {
     "data": {
      "text/html": [
       "<div>\n",
       "<style scoped>\n",
       "    .dataframe tbody tr th:only-of-type {\n",
       "        vertical-align: middle;\n",
       "    }\n",
       "\n",
       "    .dataframe tbody tr th {\n",
       "        vertical-align: top;\n",
       "    }\n",
       "\n",
       "    .dataframe thead th {\n",
       "        text-align: right;\n",
       "    }\n",
       "</style>\n",
       "<table border=\"1\" class=\"dataframe\">\n",
       "  <thead>\n",
       "    <tr style=\"text-align: right;\">\n",
       "      <th></th>\n",
       "      <th>eng</th>\n",
       "      <th>ita</th>\n",
       "      <th>score</th>\n",
       "      <th>freq_x</th>\n",
       "      <th>freq_y</th>\n",
       "    </tr>\n",
       "  </thead>\n",
       "  <tbody>\n",
       "    <tr>\n",
       "      <th>4479</th>\n",
       "      <td>-</td>\n",
       "      <td>-</td>\n",
       "      <td>8</td>\n",
       "      <td>5</td>\n",
       "      <td>3</td>\n",
       "    </tr>\n",
       "    <tr>\n",
       "      <th>5030</th>\n",
       "      <td>made</td>\n",
       "      <td>fatto</td>\n",
       "      <td>7</td>\n",
       "      <td>61</td>\n",
       "      <td>159</td>\n",
       "    </tr>\n",
       "    <tr>\n",
       "      <th>4146</th>\n",
       "      <td>%</td>\n",
       "      <td>%</td>\n",
       "      <td>8</td>\n",
       "      <td>66</td>\n",
       "      <td>216</td>\n",
       "    </tr>\n",
       "    <tr>\n",
       "      <th>31855</th>\n",
       "      <td>should</td>\n",
       "      <td>dovere</td>\n",
       "      <td>7</td>\n",
       "      <td>68</td>\n",
       "      <td>7667</td>\n",
       "    </tr>\n",
       "    <tr>\n",
       "      <th>67973</th>\n",
       "      <td>two</td>\n",
       "      <td>due</td>\n",
       "      <td>7</td>\n",
       "      <td>69</td>\n",
       "      <td>57</td>\n",
       "    </tr>\n",
       "    <tr>\n",
       "      <th>46313</th>\n",
       "      <td>would</td>\n",
       "      <td>volere</td>\n",
       "      <td>7</td>\n",
       "      <td>73</td>\n",
       "      <td>5286</td>\n",
       "    </tr>\n",
       "    <tr>\n",
       "      <th>4772</th>\n",
       "      <td>years</td>\n",
       "      <td>anni</td>\n",
       "      <td>8</td>\n",
       "      <td>92</td>\n",
       "      <td>73</td>\n",
       "    </tr>\n",
       "    <tr>\n",
       "      <th>53070</th>\n",
       "      <td>these</td>\n",
       "      <td>questi</td>\n",
       "      <td>7</td>\n",
       "      <td>122</td>\n",
       "      <td>237</td>\n",
       "    </tr>\n",
       "    <tr>\n",
       "      <th>61350</th>\n",
       "      <td>september</td>\n",
       "      <td>settembre</td>\n",
       "      <td>7</td>\n",
       "      <td>132</td>\n",
       "      <td>195</td>\n",
       "    </tr>\n",
       "    <tr>\n",
       "      <th>61349</th>\n",
       "      <td>october</td>\n",
       "      <td>ottobre</td>\n",
       "      <td>7</td>\n",
       "      <td>135</td>\n",
       "      <td>220</td>\n",
       "    </tr>\n",
       "  </tbody>\n",
       "</table>\n",
       "</div>"
      ],
      "text/plain": [
       "             eng        ita  score  freq_x  freq_y\n",
       "4479           -          -      8       5       3\n",
       "5030        made      fatto      7      61     159\n",
       "4146           %          %      8      66     216\n",
       "31855     should     dovere      7      68    7667\n",
       "67973        two        due      7      69      57\n",
       "46313      would     volere      7      73    5286\n",
       "4772       years       anni      8      92      73\n",
       "53070      these     questi      7     122     237\n",
       "61350  september  settembre      7     132     195\n",
       "61349    october    ottobre      7     135     220"
      ]
     },
     "execution_count": 20,
     "metadata": {},
     "output_type": "execute_result"
    },
    {
     "data": {
      "text/html": [
       "<div>\n",
       "<style scoped>\n",
       "    .dataframe tbody tr th:only-of-type {\n",
       "        vertical-align: middle;\n",
       "    }\n",
       "\n",
       "    .dataframe tbody tr th {\n",
       "        vertical-align: top;\n",
       "    }\n",
       "\n",
       "    .dataframe thead th {\n",
       "        text-align: right;\n",
       "    }\n",
       "</style>\n",
       "<table border=\"1\" class=\"dataframe\">\n",
       "  <thead>\n",
       "    <tr style=\"text-align: right;\">\n",
       "      <th></th>\n",
       "      <th>eng</th>\n",
       "      <th>ita</th>\n",
       "      <th>score</th>\n",
       "      <th>freq_x</th>\n",
       "      <th>freq_y</th>\n",
       "    </tr>\n",
       "  </thead>\n",
       "  <tbody>\n",
       "    <tr>\n",
       "      <th>35050</th>\n",
       "      <td>obtuse</td>\n",
       "      <td>ottuso</td>\n",
       "      <td>7</td>\n",
       "      <td>39367</td>\n",
       "      <td>43795</td>\n",
       "    </tr>\n",
       "    <tr>\n",
       "      <th>46987</th>\n",
       "      <td>ganglia</td>\n",
       "      <td>gangli</td>\n",
       "      <td>7</td>\n",
       "      <td>39375</td>\n",
       "      <td>54245</td>\n",
       "    </tr>\n",
       "    <tr>\n",
       "      <th>39218</th>\n",
       "      <td>bedside</td>\n",
       "      <td>capezzale</td>\n",
       "      <td>7</td>\n",
       "      <td>39383</td>\n",
       "      <td>47406</td>\n",
       "    </tr>\n",
       "    <tr>\n",
       "      <th>52640</th>\n",
       "      <td>parsley</td>\n",
       "      <td>prezzemolo</td>\n",
       "      <td>7</td>\n",
       "      <td>39386</td>\n",
       "      <td>41092</td>\n",
       "    </tr>\n",
       "    <tr>\n",
       "      <th>61397</th>\n",
       "      <td>macrophages</td>\n",
       "      <td>macrofagi</td>\n",
       "      <td>7</td>\n",
       "      <td>39388</td>\n",
       "      <td>42966</td>\n",
       "    </tr>\n",
       "    <tr>\n",
       "      <th>59269</th>\n",
       "      <td>blinding</td>\n",
       "      <td>accecamento</td>\n",
       "      <td>7</td>\n",
       "      <td>39403</td>\n",
       "      <td>121075</td>\n",
       "    </tr>\n",
       "    <tr>\n",
       "      <th>61140</th>\n",
       "      <td>lymphocytes</td>\n",
       "      <td>linfociti</td>\n",
       "      <td>7</td>\n",
       "      <td>39410</td>\n",
       "      <td>20652</td>\n",
       "    </tr>\n",
       "    <tr>\n",
       "      <th>67218</th>\n",
       "      <td>macroeconomic</td>\n",
       "      <td>macroeconomico</td>\n",
       "      <td>7</td>\n",
       "      <td>39411</td>\n",
       "      <td>156142</td>\n",
       "    </tr>\n",
       "    <tr>\n",
       "      <th>68601</th>\n",
       "      <td>hyena</td>\n",
       "      <td>iena</td>\n",
       "      <td>7</td>\n",
       "      <td>39417</td>\n",
       "      <td>45708</td>\n",
       "    </tr>\n",
       "    <tr>\n",
       "      <th>64463</th>\n",
       "      <td>quadrilateral</td>\n",
       "      <td>quadrilatero</td>\n",
       "      <td>7</td>\n",
       "      <td>39426</td>\n",
       "      <td>31543</td>\n",
       "    </tr>\n",
       "  </tbody>\n",
       "</table>\n",
       "</div>"
      ],
      "text/plain": [
       "                 eng             ita  score  freq_x  freq_y\n",
       "35050         obtuse          ottuso      7   39367   43795\n",
       "46987        ganglia          gangli      7   39375   54245\n",
       "39218        bedside       capezzale      7   39383   47406\n",
       "52640        parsley      prezzemolo      7   39386   41092\n",
       "61397    macrophages       macrofagi      7   39388   42966\n",
       "59269       blinding     accecamento      7   39403  121075\n",
       "61140    lymphocytes       linfociti      7   39410   20652\n",
       "67218  macroeconomic  macroeconomico      7   39411  156142\n",
       "68601          hyena            iena      7   39417   45708\n",
       "64463  quadrilateral    quadrilatero      7   39426   31543"
      ]
     },
     "execution_count": 20,
     "metadata": {},
     "output_type": "execute_result"
    },
    {
     "data": {
      "text/plain": [
       "5000"
      ]
     },
     "execution_count": 20,
     "metadata": {},
     "output_type": "execute_result"
    }
   ],
   "source": [
    "# Create train without duplicates\n",
    "\n",
    "test_eng = pl_test[[l1]].copy()\n",
    "len(test_eng.index)\n",
    "\n",
    "pl_train = pl_ff[~pl_ff.eng.isin(set(test_eng.eng))]\n",
    "len(pl_ff.index)\n",
    "len(pl_train.index)\n",
    "\n",
    "pl_train = pl_train.sort_values(['freq_x', 'freq_y'], ascending=True)\n",
    "pl_train_nodup = pl_train.drop_duplicates(subset=[l1], keep=False)\n",
    "len(pl_train_nodup.index)\n",
    "\n",
    "pl_train_nodup_5K = pl_train_nodup.head(5000)\n",
    "pl_train_nodup_5K.head(10)\n",
    "pl_train_nodup_5K.tail(10)\n",
    "len(pl_train_nodup_5K.index)"
   ]
  },
  {
   "cell_type": "code",
   "execution_count": 21,
   "metadata": {},
   "outputs": [
    {
     "data": {
      "text/plain": [
       "68123"
      ]
     },
     "execution_count": 21,
     "metadata": {},
     "output_type": "execute_result"
    },
    {
     "data": {
      "text/html": [
       "<div>\n",
       "<style scoped>\n",
       "    .dataframe tbody tr th:only-of-type {\n",
       "        vertical-align: middle;\n",
       "    }\n",
       "\n",
       "    .dataframe tbody tr th {\n",
       "        vertical-align: top;\n",
       "    }\n",
       "\n",
       "    .dataframe thead th {\n",
       "        text-align: right;\n",
       "    }\n",
       "</style>\n",
       "<table border=\"1\" class=\"dataframe\">\n",
       "  <thead>\n",
       "    <tr style=\"text-align: right;\">\n",
       "      <th></th>\n",
       "      <th>eng</th>\n",
       "      <th>ita</th>\n",
       "      <th>score</th>\n",
       "      <th>freq_x</th>\n",
       "      <th>freq_y</th>\n",
       "    </tr>\n",
       "  </thead>\n",
       "  <tbody>\n",
       "    <tr>\n",
       "      <th>10413</th>\n",
       "      <td>,</td>\n",
       "      <td>,</td>\n",
       "      <td>8</td>\n",
       "      <td>0</td>\n",
       "      <td>1</td>\n",
       "    </tr>\n",
       "    <tr>\n",
       "      <th>10415</th>\n",
       "      <td>,</td>\n",
       "      <td>.</td>\n",
       "      <td>8</td>\n",
       "      <td>0</td>\n",
       "      <td>2</td>\n",
       "    </tr>\n",
       "    <tr>\n",
       "      <th>4480</th>\n",
       "      <td>,</td>\n",
       "      <td>-</td>\n",
       "      <td>7</td>\n",
       "      <td>0</td>\n",
       "      <td>3</td>\n",
       "    </tr>\n",
       "    <tr>\n",
       "      <th>10412</th>\n",
       "      <td>.</td>\n",
       "      <td>,</td>\n",
       "      <td>8</td>\n",
       "      <td>1</td>\n",
       "      <td>1</td>\n",
       "    </tr>\n",
       "    <tr>\n",
       "      <th>10414</th>\n",
       "      <td>.</td>\n",
       "      <td>.</td>\n",
       "      <td>8</td>\n",
       "      <td>1</td>\n",
       "      <td>2</td>\n",
       "    </tr>\n",
       "    <tr>\n",
       "      <th>43627</th>\n",
       "      <td>the</td>\n",
       "      <td>il</td>\n",
       "      <td>7</td>\n",
       "      <td>2</td>\n",
       "      <td>9</td>\n",
       "    </tr>\n",
       "    <tr>\n",
       "      <th>43628</th>\n",
       "      <td>the</td>\n",
       "      <td>la</td>\n",
       "      <td>7</td>\n",
       "      <td>2</td>\n",
       "      <td>10</td>\n",
       "    </tr>\n",
       "    <tr>\n",
       "      <th>43619</th>\n",
       "      <td>the</td>\n",
       "      <td>i</td>\n",
       "      <td>7</td>\n",
       "      <td>2</td>\n",
       "      <td>25</td>\n",
       "    </tr>\n",
       "    <tr>\n",
       "      <th>43620</th>\n",
       "      <td>the</td>\n",
       "      <td>le</td>\n",
       "      <td>7</td>\n",
       "      <td>2</td>\n",
       "      <td>28</td>\n",
       "    </tr>\n",
       "    <tr>\n",
       "      <th>43623</th>\n",
       "      <td>the</td>\n",
       "      <td>gli</td>\n",
       "      <td>7</td>\n",
       "      <td>2</td>\n",
       "      <td>47</td>\n",
       "    </tr>\n",
       "  </tbody>\n",
       "</table>\n",
       "</div>"
      ],
      "text/plain": [
       "       eng  ita  score  freq_x  freq_y\n",
       "10413    ,    ,      8       0       1\n",
       "10415    ,    .      8       0       2\n",
       "4480     ,    -      7       0       3\n",
       "10412    .    ,      8       1       1\n",
       "10414    .    .      8       1       2\n",
       "43627  the   il      7       2       9\n",
       "43628  the   la      7       2      10\n",
       "43619  the    i      7       2      25\n",
       "43620  the   le      7       2      28\n",
       "43623  the  gli      7       2      47"
      ]
     },
     "execution_count": 21,
     "metadata": {},
     "output_type": "execute_result"
    },
    {
     "data": {
      "text/html": [
       "<div>\n",
       "<style scoped>\n",
       "    .dataframe tbody tr th:only-of-type {\n",
       "        vertical-align: middle;\n",
       "    }\n",
       "\n",
       "    .dataframe tbody tr th {\n",
       "        vertical-align: top;\n",
       "    }\n",
       "\n",
       "    .dataframe thead th {\n",
       "        text-align: right;\n",
       "    }\n",
       "</style>\n",
       "<table border=\"1\" class=\"dataframe\">\n",
       "  <thead>\n",
       "    <tr style=\"text-align: right;\">\n",
       "      <th></th>\n",
       "      <th>eng</th>\n",
       "      <th>ita</th>\n",
       "      <th>score</th>\n",
       "      <th>freq_x</th>\n",
       "      <th>freq_y</th>\n",
       "    </tr>\n",
       "  </thead>\n",
       "  <tbody>\n",
       "    <tr>\n",
       "      <th>8132</th>\n",
       "      <td>despite</td>\n",
       "      <td>con</td>\n",
       "      <td>7</td>\n",
       "      <td>844</td>\n",
       "      <td>24</td>\n",
       "    </tr>\n",
       "    <tr>\n",
       "      <th>29594</th>\n",
       "      <td>despite</td>\n",
       "      <td>nonostante</td>\n",
       "      <td>7</td>\n",
       "      <td>844</td>\n",
       "      <td>482</td>\n",
       "    </tr>\n",
       "    <tr>\n",
       "      <th>29590</th>\n",
       "      <td>despite</td>\n",
       "      <td>sebbene</td>\n",
       "      <td>7</td>\n",
       "      <td>844</td>\n",
       "      <td>1116</td>\n",
       "    </tr>\n",
       "    <tr>\n",
       "      <th>29585</th>\n",
       "      <td>despite</td>\n",
       "      <td>malgrado</td>\n",
       "      <td>7</td>\n",
       "      <td>844</td>\n",
       "      <td>3954</td>\n",
       "    </tr>\n",
       "    <tr>\n",
       "      <th>29599</th>\n",
       "      <td>despite</td>\n",
       "      <td>offesa</td>\n",
       "      <td>7</td>\n",
       "      <td>844</td>\n",
       "      <td>14025</td>\n",
       "    </tr>\n",
       "    <tr>\n",
       "      <th>9505</th>\n",
       "      <td>despite</td>\n",
       "      <td>insulto</td>\n",
       "      <td>7</td>\n",
       "      <td>844</td>\n",
       "      <td>20414</td>\n",
       "    </tr>\n",
       "    <tr>\n",
       "      <th>9527</th>\n",
       "      <td>despite</td>\n",
       "      <td>affronto</td>\n",
       "      <td>7</td>\n",
       "      <td>844</td>\n",
       "      <td>43592</td>\n",
       "    </tr>\n",
       "    <tr>\n",
       "      <th>9491</th>\n",
       "      <td>despite</td>\n",
       "      <td>oltraggio</td>\n",
       "      <td>7</td>\n",
       "      <td>844</td>\n",
       "      <td>45179</td>\n",
       "    </tr>\n",
       "    <tr>\n",
       "      <th>1911</th>\n",
       "      <td>read</td>\n",
       "      <td>leggere</td>\n",
       "      <td>7</td>\n",
       "      <td>845</td>\n",
       "      <td>1839</td>\n",
       "    </tr>\n",
       "    <tr>\n",
       "      <th>3432</th>\n",
       "      <td>read</td>\n",
       "      <td>indicare</td>\n",
       "      <td>7</td>\n",
       "      <td>845</td>\n",
       "      <td>2190</td>\n",
       "    </tr>\n",
       "  </tbody>\n",
       "</table>\n",
       "</div>"
      ],
      "text/plain": [
       "           eng         ita  score  freq_x  freq_y\n",
       "8132   despite         con      7     844      24\n",
       "29594  despite  nonostante      7     844     482\n",
       "29590  despite     sebbene      7     844    1116\n",
       "29585  despite    malgrado      7     844    3954\n",
       "29599  despite      offesa      7     844   14025\n",
       "9505   despite     insulto      7     844   20414\n",
       "9527   despite    affronto      7     844   43592\n",
       "9491   despite   oltraggio      7     844   45179\n",
       "1911      read     leggere      7     845    1839\n",
       "3432      read    indicare      7     845    2190"
      ]
     },
     "execution_count": 21,
     "metadata": {},
     "output_type": "execute_result"
    },
    {
     "data": {
      "text/plain": [
       "5000"
      ]
     },
     "execution_count": 21,
     "metadata": {},
     "output_type": "execute_result"
    }
   ],
   "source": [
    "# With duplicates\n",
    "\n",
    "pl_train_nodup = pl_train\n",
    "len(pl_train_nodup.index)\n",
    "\n",
    "pl_train_nodup_5K = pl_train_nodup.head(5000)\n",
    "pl_train_nodup_5K.head(10)\n",
    "pl_train_nodup_5K.tail(10)\n",
    "len(pl_train_nodup_5K.index)"
   ]
  },
  {
   "cell_type": "code",
   "execution_count": 22,
   "metadata": {},
   "outputs": [
    {
     "data": {
      "text/plain": [
       "0"
      ]
     },
     "execution_count": 22,
     "metadata": {},
     "output_type": "execute_result"
    },
    {
     "data": {
      "text/plain": [
       "127"
      ]
     },
     "execution_count": 22,
     "metadata": {},
     "output_type": "execute_result"
    }
   ],
   "source": [
    "eng_te = set(pl_test[l1])\n",
    "eng_tr = set(pl_train_nodup_5K[l1])\n",
    "len(eng_te & eng_tr)\n",
    "\n",
    "spa_te = set(pl_test[l2])\n",
    "spa_tr = set(pl_train_nodup_5K[l2])\n",
    "len(spa_te & spa_tr)"
   ]
  },
  {
   "cell_type": "code",
   "execution_count": 30,
   "metadata": {},
   "outputs": [],
   "source": [
    "def save_tsv(df, fn):\n",
    "    if not os.path.exists(os.path.dirname(fn)):\n",
    "        os.makedirs(os.path.dirname(fn))\n",
    "    pd.DataFrame.to_csv(df, columns=[l1, l2], header=False, path_or_buf=fn, sep='\\t', index=False)"
   ]
  },
  {
   "cell_type": "code",
   "execution_count": 33,
   "metadata": {},
   "outputs": [],
   "source": [
    "save_tsv(pl_train_nodup_5K, train_fn)\n",
    "save_tsv(pl_test, test_fn)"
   ]
  }
 ],
 "metadata": {
  "kernelspec": {
   "display_name": "Python 3",
   "language": "python",
   "name": "python3"
  },
  "language_info": {
   "codemirror_mode": {
    "name": "ipython",
    "version": 3
   },
   "file_extension": ".py",
   "mimetype": "text/x-python",
   "name": "python",
   "nbconvert_exporter": "python",
   "pygments_lexer": "ipython3",
   "version": "3.5.2"
  }
 },
 "nbformat": 4,
 "nbformat_minor": 2
}
