{
 "cells": [
  {
   "cell_type": "code",
   "execution_count": 2,
   "metadata": {},
   "outputs": [],
   "source": [
    "import pandas as pd\n",
    "import csv\n",
    "from IPython.core.interactiveshell import InteractiveShell\n",
    "InteractiveShell.ast_node_interactivity = \"all\"\n",
    "from sklearn.utils import shuffle\n",
    "import os"
   ]
  },
  {
   "cell_type": "code",
   "execution_count": 3,
   "metadata": {},
   "outputs": [],
   "source": [
    "l1 = 'eng'\n",
    "l2 = 'spa'\n",
    "\n",
    "conf = 7"
   ]
  },
  {
   "cell_type": "code",
   "execution_count": 36,
   "metadata": {},
   "outputs": [],
   "source": [
    "l1_freq_fn = '/mnt/permanent/home/eszti/dipterv/panlex/data/panlex/tsv/MULTI/freq/{}'.format(l1)\n",
    "l2_freq_fn = '/mnt/permanent/home/eszti/dipterv/panlex/data/panlex/tsv/MULTI/freq/{}'.format(l2)\n",
    "\n",
    "pl_fn = '/mnt/permanent/home/eszti/dipterv/panlex/data/panlex/tsv/MULTI/filter/{0}_{1}.tsv'.format(l1, l2)\n",
    "\n",
    "train_fn = '/mnt/permanent/home/eszti/dipterv/panlex/data/panlex/tsv/MULTI/train/{0}_{1}.tsv'.format(l1, l2)\n",
    "test_fn = '/mnt/permanent/home/eszti/dipterv/panlex/data/panlex/tsv/MULTI/test/{0}_{1}.tsv'.format(l1, l2)"
   ]
  },
  {
   "cell_type": "code",
   "execution_count": 22,
   "metadata": {},
   "outputs": [],
   "source": [
    "# Read l1 freq info\n",
    "\n",
    "l1_ls = []\n",
    "with open(l1_freq_fn) as f:\n",
    "    lines = f.read().splitlines()\n",
    "    for line in lines:\n",
    "        l1_ls.append(line)"
   ]
  },
  {
   "cell_type": "code",
   "execution_count": 60,
   "metadata": {},
   "outputs": [
    {
     "data": {
      "text/html": [
       "<div>\n",
       "<style scoped>\n",
       "    .dataframe tbody tr th:only-of-type {\n",
       "        vertical-align: middle;\n",
       "    }\n",
       "\n",
       "    .dataframe tbody tr th {\n",
       "        vertical-align: top;\n",
       "    }\n",
       "\n",
       "    .dataframe thead th {\n",
       "        text-align: right;\n",
       "    }\n",
       "</style>\n",
       "<table border=\"1\" class=\"dataframe\">\n",
       "  <thead>\n",
       "    <tr style=\"text-align: right;\">\n",
       "      <th></th>\n",
       "      <th>eng</th>\n",
       "      <th>freq</th>\n",
       "    </tr>\n",
       "  </thead>\n",
       "  <tbody>\n",
       "    <tr>\n",
       "      <th>0</th>\n",
       "      <td>,</td>\n",
       "      <td>0</td>\n",
       "    </tr>\n",
       "    <tr>\n",
       "      <th>1</th>\n",
       "      <td>.</td>\n",
       "      <td>1</td>\n",
       "    </tr>\n",
       "    <tr>\n",
       "      <th>2</th>\n",
       "      <td>the</td>\n",
       "      <td>2</td>\n",
       "    </tr>\n",
       "    <tr>\n",
       "      <th>3</th>\n",
       "      <td>&lt;/s&gt;</td>\n",
       "      <td>3</td>\n",
       "    </tr>\n",
       "    <tr>\n",
       "      <th>4</th>\n",
       "      <td>of</td>\n",
       "      <td>4</td>\n",
       "    </tr>\n",
       "  </tbody>\n",
       "</table>\n",
       "</div>"
      ],
      "text/plain": [
       "    eng  freq\n",
       "0     ,     0\n",
       "1     .     1\n",
       "2   the     2\n",
       "3  </s>     3\n",
       "4    of     4"
      ]
     },
     "execution_count": 60,
     "metadata": {},
     "output_type": "execute_result"
    },
    {
     "data": {
      "text/plain": [
       "2519395"
      ]
     },
     "execution_count": 60,
     "metadata": {},
     "output_type": "execute_result"
    }
   ],
   "source": [
    "# 2519427\n",
    "l1_f = pd.DataFrame({'eng' : l1_ls})\n",
    "l1_f = l1_f.drop_duplicates(subset=('eng'))\n",
    "l1_f['freq'] = l1_f.index\n",
    "l1_f.head()\n",
    "len(l1_f.index)"
   ]
  },
  {
   "cell_type": "code",
   "execution_count": 31,
   "metadata": {},
   "outputs": [],
   "source": [
    "# Read l2 freq info\n",
    "\n",
    "l2_ls = []\n",
    "with open(l2_freq_fn) as f:\n",
    "    lines = f.read().splitlines()\n",
    "    for line in lines:\n",
    "        l2_ls.append(line)"
   ]
  },
  {
   "cell_type": "code",
   "execution_count": 58,
   "metadata": {},
   "outputs": [
    {
     "data": {
      "text/html": [
       "<div>\n",
       "<style scoped>\n",
       "    .dataframe tbody tr th:only-of-type {\n",
       "        vertical-align: middle;\n",
       "    }\n",
       "\n",
       "    .dataframe tbody tr th {\n",
       "        vertical-align: top;\n",
       "    }\n",
       "\n",
       "    .dataframe thead th {\n",
       "        text-align: right;\n",
       "    }\n",
       "</style>\n",
       "<table border=\"1\" class=\"dataframe\">\n",
       "  <thead>\n",
       "    <tr style=\"text-align: right;\">\n",
       "      <th></th>\n",
       "      <th>spa</th>\n",
       "      <th>freq</th>\n",
       "    </tr>\n",
       "  </thead>\n",
       "  <tbody>\n",
       "    <tr>\n",
       "      <th>0</th>\n",
       "      <td>de</td>\n",
       "      <td>0</td>\n",
       "    </tr>\n",
       "    <tr>\n",
       "      <th>1</th>\n",
       "      <td>&lt;/s&gt;</td>\n",
       "      <td>1</td>\n",
       "    </tr>\n",
       "    <tr>\n",
       "      <th>2</th>\n",
       "      <td>,</td>\n",
       "      <td>2</td>\n",
       "    </tr>\n",
       "    <tr>\n",
       "      <th>3</th>\n",
       "      <td>.</td>\n",
       "      <td>3</td>\n",
       "    </tr>\n",
       "    <tr>\n",
       "      <th>4</th>\n",
       "      <td>la</td>\n",
       "      <td>4</td>\n",
       "    </tr>\n",
       "  </tbody>\n",
       "</table>\n",
       "</div>"
      ],
      "text/plain": [
       "    spa  freq\n",
       "0    de     0\n",
       "1  </s>     1\n",
       "2     ,     2\n",
       "3     .     3\n",
       "4    la     4"
      ]
     },
     "execution_count": 58,
     "metadata": {},
     "output_type": "execute_result"
    },
    {
     "data": {
      "text/plain": [
       "985649"
      ]
     },
     "execution_count": 58,
     "metadata": {},
     "output_type": "execute_result"
    }
   ],
   "source": [
    "# 985649\n",
    "l2_f = pd.DataFrame({'spa' : l2_ls})\n",
    "l2_f = l2_f.drop_duplicates(subset=('spa'))\n",
    "l2_f['freq'] = l2_f.index\n",
    "l2_f.head()\n",
    "len(l2_f.index)"
   ]
  },
  {
   "cell_type": "code",
   "execution_count": 61,
   "metadata": {},
   "outputs": [
    {
     "data": {
      "text/html": [
       "<div>\n",
       "<style scoped>\n",
       "    .dataframe tbody tr th:only-of-type {\n",
       "        vertical-align: middle;\n",
       "    }\n",
       "\n",
       "    .dataframe tbody tr th {\n",
       "        vertical-align: top;\n",
       "    }\n",
       "\n",
       "    .dataframe thead th {\n",
       "        text-align: right;\n",
       "    }\n",
       "</style>\n",
       "<table border=\"1\" class=\"dataframe\">\n",
       "  <thead>\n",
       "    <tr style=\"text-align: right;\">\n",
       "      <th></th>\n",
       "      <th>eng</th>\n",
       "      <th>spa</th>\n",
       "      <th>score</th>\n",
       "    </tr>\n",
       "  </thead>\n",
       "  <tbody>\n",
       "    <tr>\n",
       "      <th>0</th>\n",
       "      <td>expression</td>\n",
       "      <td>expresión</td>\n",
       "      <td>9</td>\n",
       "    </tr>\n",
       "    <tr>\n",
       "      <th>1</th>\n",
       "      <td>rouble</td>\n",
       "      <td>rublo</td>\n",
       "      <td>9</td>\n",
       "    </tr>\n",
       "    <tr>\n",
       "      <th>2</th>\n",
       "      <td>sum</td>\n",
       "      <td>sum</td>\n",
       "      <td>9</td>\n",
       "    </tr>\n",
       "    <tr>\n",
       "      <th>3</th>\n",
       "      <td>other</td>\n",
       "      <td>otro</td>\n",
       "      <td>9</td>\n",
       "    </tr>\n",
       "    <tr>\n",
       "      <th>4</th>\n",
       "      <td>marka</td>\n",
       "      <td>marco</td>\n",
       "      <td>9</td>\n",
       "    </tr>\n",
       "  </tbody>\n",
       "</table>\n",
       "</div>"
      ],
      "text/plain": [
       "          eng        spa  score\n",
       "0  expression  expresión      9\n",
       "1      rouble      rublo      9\n",
       "2         sum        sum      9\n",
       "3       other       otro      9\n",
       "4       marka      marco      9"
      ]
     },
     "execution_count": 61,
     "metadata": {},
     "output_type": "execute_result"
    },
    {
     "data": {
      "text/plain": [
       "341045"
      ]
     },
     "execution_count": 61,
     "metadata": {},
     "output_type": "execute_result"
    }
   ],
   "source": [
    "# Read panlex data\n",
    "pl = pd.read_csv(pl_fn, sep='\\t', header=None, names = [l1, l2, 'score'])\n",
    "pl['score'] = pl.score.astype(int)\n",
    "pl.head()\n",
    "len(pl.index)"
   ]
  },
  {
   "cell_type": "code",
   "execution_count": 62,
   "metadata": {},
   "outputs": [
    {
     "data": {
      "text/plain": [
       "73968"
      ]
     },
     "execution_count": 62,
     "metadata": {},
     "output_type": "execute_result"
    }
   ],
   "source": [
    "# Filter conf\n",
    "\n",
    "pl = pl[pl.score >= conf]\n",
    "len(pl.index)"
   ]
  },
  {
   "cell_type": "code",
   "execution_count": 63,
   "metadata": {},
   "outputs": [
    {
     "data": {
      "text/html": [
       "<div>\n",
       "<style scoped>\n",
       "    .dataframe tbody tr th:only-of-type {\n",
       "        vertical-align: middle;\n",
       "    }\n",
       "\n",
       "    .dataframe tbody tr th {\n",
       "        vertical-align: top;\n",
       "    }\n",
       "\n",
       "    .dataframe thead th {\n",
       "        text-align: right;\n",
       "    }\n",
       "</style>\n",
       "<table border=\"1\" class=\"dataframe\">\n",
       "  <thead>\n",
       "    <tr style=\"text-align: right;\">\n",
       "      <th></th>\n",
       "      <th>eng</th>\n",
       "      <th>spa</th>\n",
       "      <th>score</th>\n",
       "      <th>freq</th>\n",
       "    </tr>\n",
       "  </thead>\n",
       "  <tbody>\n",
       "    <tr>\n",
       "      <th>0</th>\n",
       "      <td>expression</td>\n",
       "      <td>expresión</td>\n",
       "      <td>9</td>\n",
       "      <td>3477</td>\n",
       "    </tr>\n",
       "    <tr>\n",
       "      <th>1</th>\n",
       "      <td>expression</td>\n",
       "      <td>expresión</td>\n",
       "      <td>8</td>\n",
       "      <td>3477</td>\n",
       "    </tr>\n",
       "    <tr>\n",
       "      <th>2</th>\n",
       "      <td>expression</td>\n",
       "      <td>palabra</td>\n",
       "      <td>7</td>\n",
       "      <td>3477</td>\n",
       "    </tr>\n",
       "    <tr>\n",
       "      <th>3</th>\n",
       "      <td>expression</td>\n",
       "      <td>sentencia</td>\n",
       "      <td>7</td>\n",
       "      <td>3477</td>\n",
       "    </tr>\n",
       "    <tr>\n",
       "      <th>4</th>\n",
       "      <td>expression</td>\n",
       "      <td>giro</td>\n",
       "      <td>7</td>\n",
       "      <td>3477</td>\n",
       "    </tr>\n",
       "  </tbody>\n",
       "</table>\n",
       "</div>"
      ],
      "text/plain": [
       "          eng        spa  score  freq\n",
       "0  expression  expresión      9  3477\n",
       "1  expression  expresión      8  3477\n",
       "2  expression    palabra      7  3477\n",
       "3  expression  sentencia      7  3477\n",
       "4  expression       giro      7  3477"
      ]
     },
     "execution_count": 63,
     "metadata": {},
     "output_type": "execute_result"
    },
    {
     "data": {
      "text/plain": [
       "73966"
      ]
     },
     "execution_count": 63,
     "metadata": {},
     "output_type": "execute_result"
    }
   ],
   "source": [
    "# Merge l1 freq info\n",
    "pl_f = pd.merge(pl, l1_f, on=[l1])\n",
    "pl_f.head()\n",
    "len(pl_f.index)"
   ]
  },
  {
   "cell_type": "code",
   "execution_count": 64,
   "metadata": {},
   "outputs": [
    {
     "data": {
      "text/html": [
       "<div>\n",
       "<style scoped>\n",
       "    .dataframe tbody tr th:only-of-type {\n",
       "        vertical-align: middle;\n",
       "    }\n",
       "\n",
       "    .dataframe tbody tr th {\n",
       "        vertical-align: top;\n",
       "    }\n",
       "\n",
       "    .dataframe thead th {\n",
       "        text-align: right;\n",
       "    }\n",
       "</style>\n",
       "<table border=\"1\" class=\"dataframe\">\n",
       "  <thead>\n",
       "    <tr style=\"text-align: right;\">\n",
       "      <th></th>\n",
       "      <th>eng</th>\n",
       "      <th>spa</th>\n",
       "      <th>score</th>\n",
       "      <th>freq_x</th>\n",
       "      <th>freq_y</th>\n",
       "    </tr>\n",
       "  </thead>\n",
       "  <tbody>\n",
       "    <tr>\n",
       "      <th>0</th>\n",
       "      <td>expression</td>\n",
       "      <td>expresión</td>\n",
       "      <td>9</td>\n",
       "      <td>3477</td>\n",
       "      <td>1965</td>\n",
       "    </tr>\n",
       "    <tr>\n",
       "      <th>1</th>\n",
       "      <td>expression</td>\n",
       "      <td>expresión</td>\n",
       "      <td>8</td>\n",
       "      <td>3477</td>\n",
       "      <td>1965</td>\n",
       "    </tr>\n",
       "    <tr>\n",
       "      <th>2</th>\n",
       "      <td>expression</td>\n",
       "      <td>expresión</td>\n",
       "      <td>7</td>\n",
       "      <td>3477</td>\n",
       "      <td>1965</td>\n",
       "    </tr>\n",
       "    <tr>\n",
       "      <th>3</th>\n",
       "      <td>phrase</td>\n",
       "      <td>expresión</td>\n",
       "      <td>7</td>\n",
       "      <td>3330</td>\n",
       "      <td>1965</td>\n",
       "    </tr>\n",
       "    <tr>\n",
       "      <th>4</th>\n",
       "      <td>term</td>\n",
       "      <td>expresión</td>\n",
       "      <td>7</td>\n",
       "      <td>534</td>\n",
       "      <td>1965</td>\n",
       "    </tr>\n",
       "  </tbody>\n",
       "</table>\n",
       "</div>"
      ],
      "text/plain": [
       "          eng        spa  score  freq_x  freq_y\n",
       "0  expression  expresión      9    3477    1965\n",
       "1  expression  expresión      8    3477    1965\n",
       "2  expression  expresión      7    3477    1965\n",
       "3      phrase  expresión      7    3330    1965\n",
       "4        term  expresión      7     534    1965"
      ]
     },
     "execution_count": 64,
     "metadata": {},
     "output_type": "execute_result"
    },
    {
     "data": {
      "text/plain": [
       "73966"
      ]
     },
     "execution_count": 64,
     "metadata": {},
     "output_type": "execute_result"
    }
   ],
   "source": [
    "# Merge l2 freq info\n",
    "pl_ff = pd.merge(pl_f, l2_f, on=[l2])\n",
    "pl_ff.head()\n",
    "len(pl_ff.index)"
   ]
  },
  {
   "cell_type": "code",
   "execution_count": 65,
   "metadata": {},
   "outputs": [],
   "source": [
    "# Create bins from l1\n",
    "\n",
    "bin1 = l1_f.iloc[1000:5000]\n",
    "bin2 = l1_f.iloc[5000:20000]\n",
    "bin3 = l1_f.iloc[20000:50000]\n",
    "bin4 = l1_f.iloc[50000:100000]\n",
    "bin5 = l1_f.iloc[100000:200000]"
   ]
  },
  {
   "cell_type": "code",
   "execution_count": 66,
   "metadata": {},
   "outputs": [],
   "source": [
    "def get_300_uq(binN, alle, N, no_dup=True):\n",
    "    print('Number of words in {0}: {1}'.format(N, len(binN.index)))\n",
    "    \n",
    "    alle_bin = pd.merge(alle, binN, on=[l1])\n",
    "    print('len alle_bin: {0}'.format(len(alle_bin.index)))\n",
    "        \n",
    "    if no_dup:\n",
    "        alle_bin = alle_bin.drop_duplicates(subset=[l1], keep=False)\n",
    "        print('len alle_bin nodup: {0}'.format(len(alle_bin.index)))\n",
    "    \n",
    "    alle_bin = shuffle(alle_bin)\n",
    "    \n",
    "    testN = alle_bin.head(300)\n",
    "    print('len testN: {0}'.format(len(testN.index)))\n",
    "\n",
    "    return testN"
   ]
  },
  {
   "cell_type": "code",
   "execution_count": 67,
   "metadata": {},
   "outputs": [
    {
     "name": "stdout",
     "output_type": "stream",
     "text": [
      "Number of words in 1: 4000\n",
      "len alle_bin: 13845\n",
      "len alle_bin nodup: 529\n",
      "len testN: 300\n"
     ]
    }
   ],
   "source": [
    "test1 = get_300_uq(bin1, pl_ff, 1)"
   ]
  },
  {
   "cell_type": "code",
   "execution_count": 68,
   "metadata": {},
   "outputs": [
    {
     "name": "stdout",
     "output_type": "stream",
     "text": [
      "Number of words in 2: 15000\n",
      "len alle_bin: 22096\n",
      "len alle_bin nodup: 2163\n",
      "len testN: 300\n"
     ]
    }
   ],
   "source": [
    "test2 = get_300_uq(bin2, pl_ff, 2)"
   ]
  },
  {
   "cell_type": "code",
   "execution_count": 69,
   "metadata": {},
   "outputs": [
    {
     "name": "stdout",
     "output_type": "stream",
     "text": [
      "Number of words in 3: 30000\n",
      "len alle_bin: 16499\n",
      "len alle_bin nodup: 3657\n",
      "len testN: 300\n"
     ]
    }
   ],
   "source": [
    "test3 = get_300_uq(bin3, pl_ff, 3)"
   ]
  },
  {
   "cell_type": "code",
   "execution_count": 70,
   "metadata": {},
   "outputs": [
    {
     "name": "stdout",
     "output_type": "stream",
     "text": [
      "Number of words in 4: 50000\n",
      "len alle_bin: 9658\n",
      "len alle_bin nodup: 3392\n",
      "len testN: 300\n"
     ]
    }
   ],
   "source": [
    "test4 = get_300_uq(bin4, pl_ff, 4)"
   ]
  },
  {
   "cell_type": "code",
   "execution_count": 71,
   "metadata": {},
   "outputs": [
    {
     "name": "stdout",
     "output_type": "stream",
     "text": [
      "Number of words in 5: 100000\n",
      "len alle_bin: 5596\n",
      "len alle_bin nodup: 2715\n",
      "len testN: 300\n"
     ]
    }
   ],
   "source": [
    "test5 = get_300_uq(bin5, pl_ff, 5)"
   ]
  },
  {
   "cell_type": "code",
   "execution_count": 74,
   "metadata": {},
   "outputs": [
    {
     "data": {
      "text/html": [
       "<div>\n",
       "<style scoped>\n",
       "    .dataframe tbody tr th:only-of-type {\n",
       "        vertical-align: middle;\n",
       "    }\n",
       "\n",
       "    .dataframe tbody tr th {\n",
       "        vertical-align: top;\n",
       "    }\n",
       "\n",
       "    .dataframe thead th {\n",
       "        text-align: right;\n",
       "    }\n",
       "</style>\n",
       "<table border=\"1\" class=\"dataframe\">\n",
       "  <thead>\n",
       "    <tr style=\"text-align: right;\">\n",
       "      <th></th>\n",
       "      <th>eng</th>\n",
       "      <th>spa</th>\n",
       "      <th>score</th>\n",
       "      <th>freq_x</th>\n",
       "      <th>freq_y</th>\n",
       "      <th>freq</th>\n",
       "    </tr>\n",
       "  </thead>\n",
       "  <tbody>\n",
       "    <tr>\n",
       "      <th>13812</th>\n",
       "      <td>stones</td>\n",
       "      <td>piedras</td>\n",
       "      <td>7</td>\n",
       "      <td>4897</td>\n",
       "      <td>3192</td>\n",
       "      <td>4897</td>\n",
       "    </tr>\n",
       "    <tr>\n",
       "      <th>13530</th>\n",
       "      <td>khan</td>\n",
       "      <td>kan</td>\n",
       "      <td>7</td>\n",
       "      <td>2538</td>\n",
       "      <td>14462</td>\n",
       "      <td>2538</td>\n",
       "    </tr>\n",
       "    <tr>\n",
       "      <th>13552</th>\n",
       "      <td>genetic</td>\n",
       "      <td>genético</td>\n",
       "      <td>7</td>\n",
       "      <td>4722</td>\n",
       "      <td>11061</td>\n",
       "      <td>4722</td>\n",
       "    </tr>\n",
       "    <tr>\n",
       "      <th>13783</th>\n",
       "      <td>lakes</td>\n",
       "      <td>lagos</td>\n",
       "      <td>7</td>\n",
       "      <td>3061</td>\n",
       "      <td>2962</td>\n",
       "      <td>3061</td>\n",
       "    </tr>\n",
       "    <tr>\n",
       "      <th>12917</th>\n",
       "      <td>vehicles</td>\n",
       "      <td>vehículos</td>\n",
       "      <td>7</td>\n",
       "      <td>2274</td>\n",
       "      <td>2210</td>\n",
       "      <td>2274</td>\n",
       "    </tr>\n",
       "  </tbody>\n",
       "</table>\n",
       "</div>"
      ],
      "text/plain": [
       "            eng        spa  score  freq_x  freq_y  freq\n",
       "13812    stones    piedras      7    4897    3192  4897\n",
       "13530      khan        kan      7    2538   14462  2538\n",
       "13552   genetic   genético      7    4722   11061  4722\n",
       "13783     lakes      lagos      7    3061    2962  3061\n",
       "12917  vehicles  vehículos      7    2274    2210  2274"
      ]
     },
     "execution_count": 74,
     "metadata": {},
     "output_type": "execute_result"
    },
    {
     "data": {
      "text/plain": [
       "1500"
      ]
     },
     "execution_count": 74,
     "metadata": {},
     "output_type": "execute_result"
    }
   ],
   "source": [
    "# Concat test\n",
    "\n",
    "frames = [test1, test2, test3, test4, test5]\n",
    "pl_test = pd.concat(frames)\n",
    "pl_test.head()\n",
    "len(pl_test.index)"
   ]
  },
  {
   "cell_type": "code",
   "execution_count": 83,
   "metadata": {},
   "outputs": [
    {
     "data": {
      "text/plain": [
       "1500"
      ]
     },
     "execution_count": 83,
     "metadata": {},
     "output_type": "execute_result"
    },
    {
     "data": {
      "text/plain": [
       "73966"
      ]
     },
     "execution_count": 83,
     "metadata": {},
     "output_type": "execute_result"
    },
    {
     "data": {
      "text/plain": [
       "72466"
      ]
     },
     "execution_count": 83,
     "metadata": {},
     "output_type": "execute_result"
    },
    {
     "data": {
      "text/plain": [
       "11044"
      ]
     },
     "execution_count": 83,
     "metadata": {},
     "output_type": "execute_result"
    },
    {
     "data": {
      "text/html": [
       "<div>\n",
       "<style scoped>\n",
       "    .dataframe tbody tr th:only-of-type {\n",
       "        vertical-align: middle;\n",
       "    }\n",
       "\n",
       "    .dataframe tbody tr th {\n",
       "        vertical-align: top;\n",
       "    }\n",
       "\n",
       "    .dataframe thead th {\n",
       "        text-align: right;\n",
       "    }\n",
       "</style>\n",
       "<table border=\"1\" class=\"dataframe\">\n",
       "  <thead>\n",
       "    <tr style=\"text-align: right;\">\n",
       "      <th></th>\n",
       "      <th>eng</th>\n",
       "      <th>spa</th>\n",
       "      <th>score</th>\n",
       "      <th>freq_x</th>\n",
       "      <th>freq_y</th>\n",
       "    </tr>\n",
       "  </thead>\n",
       "  <tbody>\n",
       "    <tr>\n",
       "      <th>26414</th>\n",
       "      <td>had</td>\n",
       "      <td>engañar</td>\n",
       "      <td>7</td>\n",
       "      <td>52</td>\n",
       "      <td>19833</td>\n",
       "    </tr>\n",
       "    <tr>\n",
       "      <th>27410</th>\n",
       "      <td>t</td>\n",
       "      <td>t</td>\n",
       "      <td>8</td>\n",
       "      <td>54</td>\n",
       "      <td>298</td>\n",
       "    </tr>\n",
       "    <tr>\n",
       "      <th>23556</th>\n",
       "      <td>made</td>\n",
       "      <td>hecho</td>\n",
       "      <td>7</td>\n",
       "      <td>61</td>\n",
       "      <td>310</td>\n",
       "    </tr>\n",
       "    <tr>\n",
       "      <th>27613</th>\n",
       "      <td>%</td>\n",
       "      <td>%</td>\n",
       "      <td>8</td>\n",
       "      <td>66</td>\n",
       "      <td>43</td>\n",
       "    </tr>\n",
       "    <tr>\n",
       "      <th>34077</th>\n",
       "      <td>used</td>\n",
       "      <td>ocasión</td>\n",
       "      <td>7</td>\n",
       "      <td>109</td>\n",
       "      <td>2123</td>\n",
       "    </tr>\n",
       "    <tr>\n",
       "      <th>3587</th>\n",
       "      <td>than</td>\n",
       "      <td>que</td>\n",
       "      <td>7</td>\n",
       "      <td>112</td>\n",
       "      <td>12</td>\n",
       "    </tr>\n",
       "    <tr>\n",
       "      <th>69113</th>\n",
       "      <td>e</td>\n",
       "      <td>e</td>\n",
       "      <td>7</td>\n",
       "      <td>168</td>\n",
       "      <td>61</td>\n",
       "    </tr>\n",
       "    <tr>\n",
       "      <th>35080</th>\n",
       "      <td>john</td>\n",
       "      <td>baño</td>\n",
       "      <td>7</td>\n",
       "      <td>193</td>\n",
       "      <td>6362</td>\n",
       "    </tr>\n",
       "    <tr>\n",
       "      <th>448</th>\n",
       "      <td>same</td>\n",
       "      <td>mismo</td>\n",
       "      <td>7</td>\n",
       "      <td>194</td>\n",
       "      <td>99</td>\n",
       "    </tr>\n",
       "    <tr>\n",
       "      <th>6599</th>\n",
       "      <td>could</td>\n",
       "      <td>poder</td>\n",
       "      <td>7</td>\n",
       "      <td>196</td>\n",
       "      <td>313</td>\n",
       "    </tr>\n",
       "  </tbody>\n",
       "</table>\n",
       "</div>"
      ],
      "text/plain": [
       "         eng      spa  score  freq_x  freq_y\n",
       "26414    had  engañar      7      52   19833\n",
       "27410      t        t      8      54     298\n",
       "23556   made    hecho      7      61     310\n",
       "27613      %        %      8      66      43\n",
       "34077   used  ocasión      7     109    2123\n",
       "3587    than      que      7     112      12\n",
       "69113      e        e      7     168      61\n",
       "35080   john     baño      7     193    6362\n",
       "448     same    mismo      7     194      99\n",
       "6599   could    poder      7     196     313"
      ]
     },
     "execution_count": 83,
     "metadata": {},
     "output_type": "execute_result"
    },
    {
     "data": {
      "text/html": [
       "<div>\n",
       "<style scoped>\n",
       "    .dataframe tbody tr th:only-of-type {\n",
       "        vertical-align: middle;\n",
       "    }\n",
       "\n",
       "    .dataframe tbody tr th {\n",
       "        vertical-align: top;\n",
       "    }\n",
       "\n",
       "    .dataframe thead th {\n",
       "        text-align: right;\n",
       "    }\n",
       "</style>\n",
       "<table border=\"1\" class=\"dataframe\">\n",
       "  <thead>\n",
       "    <tr style=\"text-align: right;\">\n",
       "      <th></th>\n",
       "      <th>eng</th>\n",
       "      <th>spa</th>\n",
       "      <th>score</th>\n",
       "      <th>freq_x</th>\n",
       "      <th>freq_y</th>\n",
       "    </tr>\n",
       "  </thead>\n",
       "  <tbody>\n",
       "    <tr>\n",
       "      <th>56602</th>\n",
       "      <td>crossbar</td>\n",
       "      <td>larguero</td>\n",
       "      <td>7</td>\n",
       "      <td>44381</td>\n",
       "      <td>78142</td>\n",
       "    </tr>\n",
       "    <tr>\n",
       "      <th>68031</th>\n",
       "      <td>cleanly</td>\n",
       "      <td>limpiamente</td>\n",
       "      <td>7</td>\n",
       "      <td>44390</td>\n",
       "      <td>104227</td>\n",
       "    </tr>\n",
       "    <tr>\n",
       "      <th>44857</th>\n",
       "      <td>bullseye</td>\n",
       "      <td>diana</td>\n",
       "      <td>7</td>\n",
       "      <td>44396</td>\n",
       "      <td>4972</td>\n",
       "    </tr>\n",
       "    <tr>\n",
       "      <th>69116</th>\n",
       "      <td>halogen</td>\n",
       "      <td>halógeno</td>\n",
       "      <td>7</td>\n",
       "      <td>44404</td>\n",
       "      <td>75198</td>\n",
       "    </tr>\n",
       "    <tr>\n",
       "      <th>66158</th>\n",
       "      <td>cancerous</td>\n",
       "      <td>canceroso</td>\n",
       "      <td>7</td>\n",
       "      <td>44410</td>\n",
       "      <td>148963</td>\n",
       "    </tr>\n",
       "    <tr>\n",
       "      <th>59392</th>\n",
       "      <td>chronically</td>\n",
       "      <td>crónicamente</td>\n",
       "      <td>7</td>\n",
       "      <td>44411</td>\n",
       "      <td>161955</td>\n",
       "    </tr>\n",
       "    <tr>\n",
       "      <th>58506</th>\n",
       "      <td>morello</td>\n",
       "      <td>guindo</td>\n",
       "      <td>7</td>\n",
       "      <td>44433</td>\n",
       "      <td>132640</td>\n",
       "    </tr>\n",
       "    <tr>\n",
       "      <th>49890</th>\n",
       "      <td>grammarian</td>\n",
       "      <td>gramático</td>\n",
       "      <td>7</td>\n",
       "      <td>44436</td>\n",
       "      <td>39619</td>\n",
       "    </tr>\n",
       "    <tr>\n",
       "      <th>72775</th>\n",
       "      <td>hernia</td>\n",
       "      <td>hernia</td>\n",
       "      <td>7</td>\n",
       "      <td>44440</td>\n",
       "      <td>44799</td>\n",
       "    </tr>\n",
       "    <tr>\n",
       "      <th>72379</th>\n",
       "      <td>folkloric</td>\n",
       "      <td>folclórico</td>\n",
       "      <td>7</td>\n",
       "      <td>44448</td>\n",
       "      <td>21693</td>\n",
       "    </tr>\n",
       "  </tbody>\n",
       "</table>\n",
       "</div>"
      ],
      "text/plain": [
       "               eng           spa  score  freq_x  freq_y\n",
       "56602     crossbar      larguero      7   44381   78142\n",
       "68031      cleanly   limpiamente      7   44390  104227\n",
       "44857     bullseye         diana      7   44396    4972\n",
       "69116      halogen      halógeno      7   44404   75198\n",
       "66158    cancerous     canceroso      7   44410  148963\n",
       "59392  chronically  crónicamente      7   44411  161955\n",
       "58506      morello        guindo      7   44433  132640\n",
       "49890   grammarian     gramático      7   44436   39619\n",
       "72775       hernia        hernia      7   44440   44799\n",
       "72379    folkloric    folclórico      7   44448   21693"
      ]
     },
     "execution_count": 83,
     "metadata": {},
     "output_type": "execute_result"
    },
    {
     "data": {
      "text/plain": [
       "5000"
      ]
     },
     "execution_count": 83,
     "metadata": {},
     "output_type": "execute_result"
    }
   ],
   "source": [
    "# Create train without duplicates\n",
    "\n",
    "test_eng = pl_test[[l1]].copy()\n",
    "len(test_eng.index)\n",
    "\n",
    "pl_train = pl_ff[~pl_ff.eng.isin(set(test_eng.eng))]\n",
    "len(pl_ff.index)\n",
    "len(pl_train.index)\n",
    "\n",
    "pl_train = pl_train.sort_values(['freq_x', 'freq_y'], ascending=True)\n",
    "pl_train_nodup = pl_train.drop_duplicates(subset=[l1], keep=False)\n",
    "len(pl_train_nodup.index)\n",
    "\n",
    "pl_train_nodup_5K = pl_train_nodup.head(5000)\n",
    "pl_train_nodup_5K.head(10)\n",
    "pl_train_nodup_5K.tail(10)\n",
    "len(pl_train_nodup_5K.index)"
   ]
  },
  {
   "cell_type": "code",
   "execution_count": 82,
   "metadata": {},
   "outputs": [
    {
     "data": {
      "text/plain": [
       "72466"
      ]
     },
     "execution_count": 82,
     "metadata": {},
     "output_type": "execute_result"
    },
    {
     "data": {
      "text/html": [
       "<div>\n",
       "<style scoped>\n",
       "    .dataframe tbody tr th:only-of-type {\n",
       "        vertical-align: middle;\n",
       "    }\n",
       "\n",
       "    .dataframe tbody tr th {\n",
       "        vertical-align: top;\n",
       "    }\n",
       "\n",
       "    .dataframe thead th {\n",
       "        text-align: right;\n",
       "    }\n",
       "</style>\n",
       "<table border=\"1\" class=\"dataframe\">\n",
       "  <thead>\n",
       "    <tr style=\"text-align: right;\">\n",
       "      <th></th>\n",
       "      <th>eng</th>\n",
       "      <th>spa</th>\n",
       "      <th>score</th>\n",
       "      <th>freq_x</th>\n",
       "      <th>freq_y</th>\n",
       "    </tr>\n",
       "  </thead>\n",
       "  <tbody>\n",
       "    <tr>\n",
       "      <th>18787</th>\n",
       "      <td>,</td>\n",
       "      <td>,</td>\n",
       "      <td>8</td>\n",
       "      <td>0</td>\n",
       "      <td>2</td>\n",
       "    </tr>\n",
       "    <tr>\n",
       "      <th>18785</th>\n",
       "      <td>,</td>\n",
       "      <td>.</td>\n",
       "      <td>8</td>\n",
       "      <td>0</td>\n",
       "      <td>3</td>\n",
       "    </tr>\n",
       "    <tr>\n",
       "      <th>18788</th>\n",
       "      <td>.</td>\n",
       "      <td>,</td>\n",
       "      <td>8</td>\n",
       "      <td>1</td>\n",
       "      <td>2</td>\n",
       "    </tr>\n",
       "    <tr>\n",
       "      <th>18786</th>\n",
       "      <td>.</td>\n",
       "      <td>.</td>\n",
       "      <td>8</td>\n",
       "      <td>1</td>\n",
       "      <td>3</td>\n",
       "    </tr>\n",
       "    <tr>\n",
       "      <th>27723</th>\n",
       "      <td>the</td>\n",
       "      <td>la</td>\n",
       "      <td>7</td>\n",
       "      <td>2</td>\n",
       "      <td>4</td>\n",
       "    </tr>\n",
       "    <tr>\n",
       "      <th>3660</th>\n",
       "      <td>the</td>\n",
       "      <td>el</td>\n",
       "      <td>7</td>\n",
       "      <td>2</td>\n",
       "      <td>6</td>\n",
       "    </tr>\n",
       "    <tr>\n",
       "      <th>27739</th>\n",
       "      <td>the</td>\n",
       "      <td>los</td>\n",
       "      <td>7</td>\n",
       "      <td>2</td>\n",
       "      <td>15</td>\n",
       "    </tr>\n",
       "    <tr>\n",
       "      <th>27734</th>\n",
       "      <td>the</td>\n",
       "      <td>las</td>\n",
       "      <td>7</td>\n",
       "      <td>2</td>\n",
       "      <td>20</td>\n",
       "    </tr>\n",
       "    <tr>\n",
       "      <th>27730</th>\n",
       "      <td>the</td>\n",
       "      <td>lo</td>\n",
       "      <td>7</td>\n",
       "      <td>2</td>\n",
       "      <td>34</td>\n",
       "    </tr>\n",
       "    <tr>\n",
       "      <th>12356</th>\n",
       "      <td>of</td>\n",
       "      <td>de</td>\n",
       "      <td>7</td>\n",
       "      <td>4</td>\n",
       "      <td>0</td>\n",
       "    </tr>\n",
       "  </tbody>\n",
       "</table>\n",
       "</div>"
      ],
      "text/plain": [
       "       eng  spa  score  freq_x  freq_y\n",
       "18787    ,    ,      8       0       2\n",
       "18785    ,    .      8       0       3\n",
       "18788    .    ,      8       1       2\n",
       "18786    .    .      8       1       3\n",
       "27723  the   la      7       2       4\n",
       "3660   the   el      7       2       6\n",
       "27739  the  los      7       2      15\n",
       "27734  the  las      7       2      20\n",
       "27730  the   lo      7       2      34\n",
       "12356   of   de      7       4       0"
      ]
     },
     "execution_count": 82,
     "metadata": {},
     "output_type": "execute_result"
    },
    {
     "data": {
      "text/html": [
       "<div>\n",
       "<style scoped>\n",
       "    .dataframe tbody tr th:only-of-type {\n",
       "        vertical-align: middle;\n",
       "    }\n",
       "\n",
       "    .dataframe tbody tr th {\n",
       "        vertical-align: top;\n",
       "    }\n",
       "\n",
       "    .dataframe thead th {\n",
       "        text-align: right;\n",
       "    }\n",
       "</style>\n",
       "<table border=\"1\" class=\"dataframe\">\n",
       "  <thead>\n",
       "    <tr style=\"text-align: right;\">\n",
       "      <th></th>\n",
       "      <th>eng</th>\n",
       "      <th>spa</th>\n",
       "      <th>score</th>\n",
       "      <th>freq_x</th>\n",
       "      <th>freq_y</th>\n",
       "    </tr>\n",
       "  </thead>\n",
       "  <tbody>\n",
       "    <tr>\n",
       "      <th>4756</th>\n",
       "      <td>average</td>\n",
       "      <td>medio</td>\n",
       "      <td>7</td>\n",
       "      <td>749</td>\n",
       "      <td>303</td>\n",
       "    </tr>\n",
       "    <tr>\n",
       "      <th>58146</th>\n",
       "      <td>average</td>\n",
       "      <td>media</td>\n",
       "      <td>7</td>\n",
       "      <td>749</td>\n",
       "      <td>523</td>\n",
       "    </tr>\n",
       "    <tr>\n",
       "      <th>26061</th>\n",
       "      <td>average</td>\n",
       "      <td>común</td>\n",
       "      <td>7</td>\n",
       "      <td>749</td>\n",
       "      <td>669</td>\n",
       "    </tr>\n",
       "    <tr>\n",
       "      <th>58150</th>\n",
       "      <td>average</td>\n",
       "      <td>promedio</td>\n",
       "      <td>7</td>\n",
       "      <td>749</td>\n",
       "      <td>1865</td>\n",
       "    </tr>\n",
       "    <tr>\n",
       "      <th>21385</th>\n",
       "      <td>average</td>\n",
       "      <td>regular</td>\n",
       "      <td>7</td>\n",
       "      <td>749</td>\n",
       "      <td>2050</td>\n",
       "    </tr>\n",
       "    <tr>\n",
       "      <th>4075</th>\n",
       "      <td>average</td>\n",
       "      <td>corriente</td>\n",
       "      <td>7</td>\n",
       "      <td>749</td>\n",
       "      <td>2117</td>\n",
       "    </tr>\n",
       "    <tr>\n",
       "      <th>55777</th>\n",
       "      <td>average</td>\n",
       "      <td>mediocre</td>\n",
       "      <td>7</td>\n",
       "      <td>749</td>\n",
       "      <td>27773</td>\n",
       "    </tr>\n",
       "    <tr>\n",
       "      <th>20780</th>\n",
       "      <td>network</td>\n",
       "      <td>red</td>\n",
       "      <td>7</td>\n",
       "      <td>750</td>\n",
       "      <td>541</td>\n",
       "    </tr>\n",
       "    <tr>\n",
       "      <th>29697</th>\n",
       "      <td>network</td>\n",
       "      <td>emisora</td>\n",
       "      <td>7</td>\n",
       "      <td>750</td>\n",
       "      <td>5949</td>\n",
       "    </tr>\n",
       "    <tr>\n",
       "      <th>29696</th>\n",
       "      <td>network</td>\n",
       "      <td>interconectar</td>\n",
       "      <td>7</td>\n",
       "      <td>750</td>\n",
       "      <td>99091</td>\n",
       "    </tr>\n",
       "  </tbody>\n",
       "</table>\n",
       "</div>"
      ],
      "text/plain": [
       "           eng            spa  score  freq_x  freq_y\n",
       "4756   average          medio      7     749     303\n",
       "58146  average          media      7     749     523\n",
       "26061  average          común      7     749     669\n",
       "58150  average       promedio      7     749    1865\n",
       "21385  average        regular      7     749    2050\n",
       "4075   average      corriente      7     749    2117\n",
       "55777  average       mediocre      7     749   27773\n",
       "20780  network            red      7     750     541\n",
       "29697  network        emisora      7     750    5949\n",
       "29696  network  interconectar      7     750   99091"
      ]
     },
     "execution_count": 82,
     "metadata": {},
     "output_type": "execute_result"
    },
    {
     "data": {
      "text/plain": [
       "5000"
      ]
     },
     "execution_count": 82,
     "metadata": {},
     "output_type": "execute_result"
    }
   ],
   "source": [
    "# With duplicates\n",
    "\n",
    "pl_train_nodup = pl_train\n",
    "len(pl_train_nodup.index)\n",
    "\n",
    "pl_train_nodup_5K = pl_train_nodup.head(5000)\n",
    "pl_train_nodup_5K.head(10)\n",
    "pl_train_nodup_5K.tail(10)\n",
    "len(pl_train_nodup_5K.index)"
   ]
  },
  {
   "cell_type": "code",
   "execution_count": 80,
   "metadata": {},
   "outputs": [
    {
     "data": {
      "text/plain": [
       "0"
      ]
     },
     "execution_count": 80,
     "metadata": {},
     "output_type": "execute_result"
    },
    {
     "data": {
      "text/plain": [
       "110"
      ]
     },
     "execution_count": 80,
     "metadata": {},
     "output_type": "execute_result"
    }
   ],
   "source": [
    "eng_te = set(pl_test[l1])\n",
    "eng_tr = set(pl_train_nodup_5K[l1])\n",
    "len(eng_te & eng_tr)\n",
    "\n",
    "spa_te = set(pl_test[l2])\n",
    "spa_tr = set(pl_train_nodup_5K[l2])\n",
    "len(spa_te & spa_tr)"
   ]
  },
  {
   "cell_type": "code",
   "execution_count": 30,
   "metadata": {},
   "outputs": [],
   "source": [
    "def save_tsv(df, fn):\n",
    "    if not os.path.exists(os.path.dirname(fn)):\n",
    "        os.makedirs(os.path.dirname(fn))\n",
    "    pd.DataFrame.to_csv(df, columns=[l1, l2], header=False, path_or_buf=fn, sep='\\t', index=False)"
   ]
  },
  {
   "cell_type": "code",
   "execution_count": 33,
   "metadata": {},
   "outputs": [],
   "source": [
    "save_tsv(pl_train_nodup_5K, train_fn)\n",
    "save_tsv(pl_test, test_fn)"
   ]
  }
 ],
 "metadata": {
  "kernelspec": {
   "display_name": "Python 3",
   "language": "python",
   "name": "python3"
  },
  "language_info": {
   "codemirror_mode": {
    "name": "ipython",
    "version": 3
   },
   "file_extension": ".py",
   "mimetype": "text/x-python",
   "name": "python",
   "nbconvert_exporter": "python",
   "pygments_lexer": "ipython3",
   "version": "3.5.2"
  }
 },
 "nbformat": 4,
 "nbformat_minor": 2
}
