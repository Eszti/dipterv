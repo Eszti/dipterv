{
 "cells": [
  {
   "cell_type": "code",
   "execution_count": 1,
   "metadata": {},
   "outputs": [],
   "source": [
    "import pandas as pd\n",
    "import csv\n",
    "from IPython.core.interactiveshell import InteractiveShell\n",
    "InteractiveShell.ast_node_interactivity = \"all\"\n",
    "from sklearn.utils import shuffle\n",
    "import os"
   ]
  },
  {
   "cell_type": "code",
   "execution_count": 2,
   "metadata": {},
   "outputs": [],
   "source": [
    "l1 = 'ita'\n",
    "l2 = 'spa'\n",
    "\n",
    "conf = 7"
   ]
  },
  {
   "cell_type": "code",
   "execution_count": 3,
   "metadata": {},
   "outputs": [],
   "source": [
    "l1_freq_fn = '/mnt/permanent/home/eszti/dipterv/panlex/data/panlex/tsv/MULTI/freq/{}'.format(l1)\n",
    "l2_freq_fn = '/mnt/permanent/home/eszti/dipterv/panlex/data/panlex/tsv/MULTI/freq/{}'.format(l2)\n",
    "\n",
    "pl_fn = '/mnt/permanent/home/eszti/dipterv/panlex/data/panlex/tsv/MULTI/filter/{0}_{1}.tsv'.format(l1, l2)\n",
    "\n",
    "train_fn = '/mnt/permanent/home/eszti/dipterv/panlex/data/panlex/tsv/MULTI/train/{0}_{1}.tsv'.format(l1, l2)\n",
    "test_fn = '/mnt/permanent/home/eszti/dipterv/panlex/data/panlex/tsv/MULTI/test/{0}_{1}.tsv'.format(l1, l2)"
   ]
  },
  {
   "cell_type": "code",
   "execution_count": 4,
   "metadata": {},
   "outputs": [],
   "source": [
    "# Read l1 freq info\n",
    "\n",
    "l1_ls = []\n",
    "with open(l1_freq_fn) as f:\n",
    "    lines = f.read().splitlines()\n",
    "    for line in lines:\n",
    "        l1_ls.append(line)"
   ]
  },
  {
   "cell_type": "code",
   "execution_count": 5,
   "metadata": {},
   "outputs": [
    {
     "data": {
      "text/html": [
       "<div>\n",
       "<style scoped>\n",
       "    .dataframe tbody tr th:only-of-type {\n",
       "        vertical-align: middle;\n",
       "    }\n",
       "\n",
       "    .dataframe tbody tr th {\n",
       "        vertical-align: top;\n",
       "    }\n",
       "\n",
       "    .dataframe thead th {\n",
       "        text-align: right;\n",
       "    }\n",
       "</style>\n",
       "<table border=\"1\" class=\"dataframe\">\n",
       "  <thead>\n",
       "    <tr style=\"text-align: right;\">\n",
       "      <th></th>\n",
       "      <th>ita</th>\n",
       "      <th>freq</th>\n",
       "    </tr>\n",
       "  </thead>\n",
       "  <tbody>\n",
       "    <tr>\n",
       "      <th>0</th>\n",
       "      <td>&lt;/s&gt;</td>\n",
       "      <td>0</td>\n",
       "    </tr>\n",
       "    <tr>\n",
       "      <th>1</th>\n",
       "      <td>,</td>\n",
       "      <td>1</td>\n",
       "    </tr>\n",
       "    <tr>\n",
       "      <th>2</th>\n",
       "      <td>.</td>\n",
       "      <td>2</td>\n",
       "    </tr>\n",
       "    <tr>\n",
       "      <th>3</th>\n",
       "      <td>-</td>\n",
       "      <td>3</td>\n",
       "    </tr>\n",
       "    <tr>\n",
       "      <th>4</th>\n",
       "      <td>'</td>\n",
       "      <td>4</td>\n",
       "    </tr>\n",
       "  </tbody>\n",
       "</table>\n",
       "</div>"
      ],
      "text/plain": [
       "    ita  freq\n",
       "0  </s>     0\n",
       "1     ,     1\n",
       "2     .     2\n",
       "3     -     3\n",
       "4     '     4"
      ]
     },
     "execution_count": 5,
     "metadata": {},
     "output_type": "execute_result"
    },
    {
     "data": {
      "text/plain": [
       "871053"
      ]
     },
     "execution_count": 5,
     "metadata": {},
     "output_type": "execute_result"
    }
   ],
   "source": [
    "# 2519427\n",
    "l1_f = pd.DataFrame({'ita' : l1_ls})\n",
    "l1_f = l1_f.drop_duplicates(subset=('ita'))\n",
    "l1_f['freq'] = l1_f.index\n",
    "l1_f.head()\n",
    "len(l1_f.index)"
   ]
  },
  {
   "cell_type": "code",
   "execution_count": 6,
   "metadata": {},
   "outputs": [],
   "source": [
    "# Read l2 freq info\n",
    "\n",
    "l2_ls = []\n",
    "with open(l2_freq_fn) as f:\n",
    "    lines = f.read().splitlines()\n",
    "    for line in lines:\n",
    "        l2_ls.append(line)"
   ]
  },
  {
   "cell_type": "code",
   "execution_count": 7,
   "metadata": {},
   "outputs": [
    {
     "data": {
      "text/html": [
       "<div>\n",
       "<style scoped>\n",
       "    .dataframe tbody tr th:only-of-type {\n",
       "        vertical-align: middle;\n",
       "    }\n",
       "\n",
       "    .dataframe tbody tr th {\n",
       "        vertical-align: top;\n",
       "    }\n",
       "\n",
       "    .dataframe thead th {\n",
       "        text-align: right;\n",
       "    }\n",
       "</style>\n",
       "<table border=\"1\" class=\"dataframe\">\n",
       "  <thead>\n",
       "    <tr style=\"text-align: right;\">\n",
       "      <th></th>\n",
       "      <th>spa</th>\n",
       "      <th>freq</th>\n",
       "    </tr>\n",
       "  </thead>\n",
       "  <tbody>\n",
       "    <tr>\n",
       "      <th>0</th>\n",
       "      <td>de</td>\n",
       "      <td>0</td>\n",
       "    </tr>\n",
       "    <tr>\n",
       "      <th>1</th>\n",
       "      <td>&lt;/s&gt;</td>\n",
       "      <td>1</td>\n",
       "    </tr>\n",
       "    <tr>\n",
       "      <th>2</th>\n",
       "      <td>,</td>\n",
       "      <td>2</td>\n",
       "    </tr>\n",
       "    <tr>\n",
       "      <th>3</th>\n",
       "      <td>.</td>\n",
       "      <td>3</td>\n",
       "    </tr>\n",
       "    <tr>\n",
       "      <th>4</th>\n",
       "      <td>la</td>\n",
       "      <td>4</td>\n",
       "    </tr>\n",
       "  </tbody>\n",
       "</table>\n",
       "</div>"
      ],
      "text/plain": [
       "    spa  freq\n",
       "0    de     0\n",
       "1  </s>     1\n",
       "2     ,     2\n",
       "3     .     3\n",
       "4    la     4"
      ]
     },
     "execution_count": 7,
     "metadata": {},
     "output_type": "execute_result"
    },
    {
     "data": {
      "text/plain": [
       "985649"
      ]
     },
     "execution_count": 7,
     "metadata": {},
     "output_type": "execute_result"
    }
   ],
   "source": [
    "# 985649\n",
    "l2_f = pd.DataFrame({'spa' : l2_ls})\n",
    "l2_f = l2_f.drop_duplicates(subset=('spa'))\n",
    "l2_f['freq'] = l2_f.index\n",
    "l2_f.head()\n",
    "len(l2_f.index)"
   ]
  },
  {
   "cell_type": "code",
   "execution_count": 8,
   "metadata": {},
   "outputs": [
    {
     "data": {
      "text/html": [
       "<div>\n",
       "<style scoped>\n",
       "    .dataframe tbody tr th:only-of-type {\n",
       "        vertical-align: middle;\n",
       "    }\n",
       "\n",
       "    .dataframe tbody tr th {\n",
       "        vertical-align: top;\n",
       "    }\n",
       "\n",
       "    .dataframe thead th {\n",
       "        text-align: right;\n",
       "    }\n",
       "</style>\n",
       "<table border=\"1\" class=\"dataframe\">\n",
       "  <thead>\n",
       "    <tr style=\"text-align: right;\">\n",
       "      <th></th>\n",
       "      <th>ita</th>\n",
       "      <th>spa</th>\n",
       "      <th>score</th>\n",
       "    </tr>\n",
       "  </thead>\n",
       "  <tbody>\n",
       "    <tr>\n",
       "      <th>0</th>\n",
       "      <td>dollaro</td>\n",
       "      <td>dólar</td>\n",
       "      <td>9</td>\n",
       "    </tr>\n",
       "    <tr>\n",
       "      <th>1</th>\n",
       "      <td>birr</td>\n",
       "      <td>birr</td>\n",
       "      <td>9</td>\n",
       "    </tr>\n",
       "    <tr>\n",
       "      <th>2</th>\n",
       "      <td>scellino</td>\n",
       "      <td>chelín</td>\n",
       "      <td>9</td>\n",
       "    </tr>\n",
       "    <tr>\n",
       "      <th>3</th>\n",
       "      <td>tongano</td>\n",
       "      <td>tongano</td>\n",
       "      <td>9</td>\n",
       "    </tr>\n",
       "    <tr>\n",
       "      <th>4</th>\n",
       "      <td>angolano</td>\n",
       "      <td>angoleño</td>\n",
       "      <td>9</td>\n",
       "    </tr>\n",
       "  </tbody>\n",
       "</table>\n",
       "</div>"
      ],
      "text/plain": [
       "        ita       spa  score\n",
       "0   dollaro     dólar      9\n",
       "1      birr      birr      9\n",
       "2  scellino    chelín      9\n",
       "3   tongano   tongano      9\n",
       "4  angolano  angoleño      9"
      ]
     },
     "execution_count": 8,
     "metadata": {},
     "output_type": "execute_result"
    },
    {
     "data": {
      "text/plain": [
       "219415"
      ]
     },
     "execution_count": 8,
     "metadata": {},
     "output_type": "execute_result"
    }
   ],
   "source": [
    "# Read panlex data\n",
    "pl = pd.read_csv(pl_fn, sep='\\t', header=None, names = [l1, l2, 'score'])\n",
    "pl['score'] = pl.score.astype(int)\n",
    "pl.head()\n",
    "len(pl.index)"
   ]
  },
  {
   "cell_type": "code",
   "execution_count": 9,
   "metadata": {},
   "outputs": [
    {
     "data": {
      "text/plain": [
       "51934"
      ]
     },
     "execution_count": 9,
     "metadata": {},
     "output_type": "execute_result"
    }
   ],
   "source": [
    "# Filter conf\n",
    "\n",
    "pl = pl[pl.score >= conf]\n",
    "len(pl.index)"
   ]
  },
  {
   "cell_type": "code",
   "execution_count": 10,
   "metadata": {},
   "outputs": [
    {
     "data": {
      "text/html": [
       "<div>\n",
       "<style scoped>\n",
       "    .dataframe tbody tr th:only-of-type {\n",
       "        vertical-align: middle;\n",
       "    }\n",
       "\n",
       "    .dataframe tbody tr th {\n",
       "        vertical-align: top;\n",
       "    }\n",
       "\n",
       "    .dataframe thead th {\n",
       "        text-align: right;\n",
       "    }\n",
       "</style>\n",
       "<table border=\"1\" class=\"dataframe\">\n",
       "  <thead>\n",
       "    <tr style=\"text-align: right;\">\n",
       "      <th></th>\n",
       "      <th>ita</th>\n",
       "      <th>spa</th>\n",
       "      <th>score</th>\n",
       "      <th>freq</th>\n",
       "    </tr>\n",
       "  </thead>\n",
       "  <tbody>\n",
       "    <tr>\n",
       "      <th>0</th>\n",
       "      <td>dollaro</td>\n",
       "      <td>dólar</td>\n",
       "      <td>9</td>\n",
       "      <td>13136</td>\n",
       "    </tr>\n",
       "    <tr>\n",
       "      <th>1</th>\n",
       "      <td>dollaro</td>\n",
       "      <td>dólar</td>\n",
       "      <td>7</td>\n",
       "      <td>13136</td>\n",
       "    </tr>\n",
       "    <tr>\n",
       "      <th>2</th>\n",
       "      <td>dollaro</td>\n",
       "      <td>pavos</td>\n",
       "      <td>7</td>\n",
       "      <td>13136</td>\n",
       "    </tr>\n",
       "    <tr>\n",
       "      <th>3</th>\n",
       "      <td>dollaro</td>\n",
       "      <td>pavo</td>\n",
       "      <td>7</td>\n",
       "      <td>13136</td>\n",
       "    </tr>\n",
       "    <tr>\n",
       "      <th>4</th>\n",
       "      <td>birr</td>\n",
       "      <td>birr</td>\n",
       "      <td>9</td>\n",
       "      <td>123221</td>\n",
       "    </tr>\n",
       "  </tbody>\n",
       "</table>\n",
       "</div>"
      ],
      "text/plain": [
       "       ita    spa  score    freq\n",
       "0  dollaro  dólar      9   13136\n",
       "1  dollaro  dólar      7   13136\n",
       "2  dollaro  pavos      7   13136\n",
       "3  dollaro   pavo      7   13136\n",
       "4     birr   birr      9  123221"
      ]
     },
     "execution_count": 10,
     "metadata": {},
     "output_type": "execute_result"
    },
    {
     "data": {
      "text/plain": [
       "51934"
      ]
     },
     "execution_count": 10,
     "metadata": {},
     "output_type": "execute_result"
    }
   ],
   "source": [
    "# Merge l1 freq info\n",
    "pl_f = pd.merge(pl, l1_f, on=[l1])\n",
    "pl_f.head()\n",
    "len(pl_f.index)"
   ]
  },
  {
   "cell_type": "code",
   "execution_count": 11,
   "metadata": {},
   "outputs": [
    {
     "data": {
      "text/html": [
       "<div>\n",
       "<style scoped>\n",
       "    .dataframe tbody tr th:only-of-type {\n",
       "        vertical-align: middle;\n",
       "    }\n",
       "\n",
       "    .dataframe tbody tr th {\n",
       "        vertical-align: top;\n",
       "    }\n",
       "\n",
       "    .dataframe thead th {\n",
       "        text-align: right;\n",
       "    }\n",
       "</style>\n",
       "<table border=\"1\" class=\"dataframe\">\n",
       "  <thead>\n",
       "    <tr style=\"text-align: right;\">\n",
       "      <th></th>\n",
       "      <th>ita</th>\n",
       "      <th>spa</th>\n",
       "      <th>score</th>\n",
       "      <th>freq_x</th>\n",
       "      <th>freq_y</th>\n",
       "    </tr>\n",
       "  </thead>\n",
       "  <tbody>\n",
       "    <tr>\n",
       "      <th>0</th>\n",
       "      <td>dollaro</td>\n",
       "      <td>dólar</td>\n",
       "      <td>9</td>\n",
       "      <td>13136</td>\n",
       "      <td>11555</td>\n",
       "    </tr>\n",
       "    <tr>\n",
       "      <th>1</th>\n",
       "      <td>dollaro</td>\n",
       "      <td>dólar</td>\n",
       "      <td>7</td>\n",
       "      <td>13136</td>\n",
       "      <td>11555</td>\n",
       "    </tr>\n",
       "    <tr>\n",
       "      <th>2</th>\n",
       "      <td>dollaro</td>\n",
       "      <td>pavos</td>\n",
       "      <td>7</td>\n",
       "      <td>13136</td>\n",
       "      <td>44297</td>\n",
       "    </tr>\n",
       "    <tr>\n",
       "      <th>3</th>\n",
       "      <td>dollaro</td>\n",
       "      <td>pavo</td>\n",
       "      <td>7</td>\n",
       "      <td>13136</td>\n",
       "      <td>20455</td>\n",
       "    </tr>\n",
       "    <tr>\n",
       "      <th>4</th>\n",
       "      <td>tacchino</td>\n",
       "      <td>pavo</td>\n",
       "      <td>8</td>\n",
       "      <td>48892</td>\n",
       "      <td>20455</td>\n",
       "    </tr>\n",
       "  </tbody>\n",
       "</table>\n",
       "</div>"
      ],
      "text/plain": [
       "        ita    spa  score  freq_x  freq_y\n",
       "0   dollaro  dólar      9   13136   11555\n",
       "1   dollaro  dólar      7   13136   11555\n",
       "2   dollaro  pavos      7   13136   44297\n",
       "3   dollaro   pavo      7   13136   20455\n",
       "4  tacchino   pavo      8   48892   20455"
      ]
     },
     "execution_count": 11,
     "metadata": {},
     "output_type": "execute_result"
    },
    {
     "data": {
      "text/plain": [
       "51934"
      ]
     },
     "execution_count": 11,
     "metadata": {},
     "output_type": "execute_result"
    }
   ],
   "source": [
    "# Merge l2 freq info\n",
    "pl_ff = pd.merge(pl_f, l2_f, on=[l2])\n",
    "pl_ff.head()\n",
    "len(pl_ff.index)"
   ]
  },
  {
   "cell_type": "code",
   "execution_count": 12,
   "metadata": {},
   "outputs": [],
   "source": [
    "# Create bins from l1\n",
    "\n",
    "bin1 = l1_f.iloc[1000:5000]\n",
    "bin2 = l1_f.iloc[5000:20000]\n",
    "bin3 = l1_f.iloc[20000:50000]\n",
    "bin4 = l1_f.iloc[50000:100000]\n",
    "bin5 = l1_f.iloc[100000:200000]"
   ]
  },
  {
   "cell_type": "code",
   "execution_count": 13,
   "metadata": {},
   "outputs": [],
   "source": [
    "def get_300_uq(binN, alle, N, no_dup=True):\n",
    "    print('Number of words in {0}: {1}'.format(N, len(binN.index)))\n",
    "    \n",
    "    alle_bin = pd.merge(alle, binN, on=[l1])\n",
    "    print('len alle_bin: {0}'.format(len(alle_bin.index)))\n",
    "        \n",
    "    if no_dup:\n",
    "        alle_bin = alle_bin.drop_duplicates(subset=[l1], keep=False)\n",
    "        print('len alle_bin nodup: {0}'.format(len(alle_bin.index)))\n",
    "    \n",
    "    alle_bin = shuffle(alle_bin)\n",
    "    \n",
    "    testN = alle_bin.head(300)\n",
    "    print('len testN: {0}'.format(len(testN.index)))\n",
    "\n",
    "    return testN"
   ]
  },
  {
   "cell_type": "code",
   "execution_count": 14,
   "metadata": {},
   "outputs": [
    {
     "name": "stdout",
     "output_type": "stream",
     "text": [
      "Number of words in 1: 4000\n",
      "len alle_bin: 7268\n",
      "len alle_bin nodup: 553\n",
      "len testN: 300\n"
     ]
    }
   ],
   "source": [
    "test1 = get_300_uq(bin1, pl_ff, 1)"
   ]
  },
  {
   "cell_type": "code",
   "execution_count": 15,
   "metadata": {},
   "outputs": [
    {
     "name": "stdout",
     "output_type": "stream",
     "text": [
      "Number of words in 2: 15000\n",
      "len alle_bin: 13374\n",
      "len alle_bin nodup: 1841\n",
      "len testN: 300\n"
     ]
    }
   ],
   "source": [
    "test2 = get_300_uq(bin2, pl_ff, 2)"
   ]
  },
  {
   "cell_type": "code",
   "execution_count": 16,
   "metadata": {},
   "outputs": [
    {
     "name": "stdout",
     "output_type": "stream",
     "text": [
      "Number of words in 3: 30000\n",
      "len alle_bin: 12290\n",
      "len alle_bin nodup: 2802\n",
      "len testN: 300\n"
     ]
    }
   ],
   "source": [
    "test3 = get_300_uq(bin3, pl_ff, 3)"
   ]
  },
  {
   "cell_type": "code",
   "execution_count": 17,
   "metadata": {},
   "outputs": [
    {
     "name": "stdout",
     "output_type": "stream",
     "text": [
      "Number of words in 4: 50000\n",
      "len alle_bin: 9385\n",
      "len alle_bin nodup: 3030\n",
      "len testN: 300\n"
     ]
    }
   ],
   "source": [
    "test4 = get_300_uq(bin4, pl_ff, 4)"
   ]
  },
  {
   "cell_type": "code",
   "execution_count": 18,
   "metadata": {},
   "outputs": [
    {
     "name": "stdout",
     "output_type": "stream",
     "text": [
      "Number of words in 5: 100000\n",
      "len alle_bin: 6579\n",
      "len alle_bin nodup: 2838\n",
      "len testN: 300\n"
     ]
    }
   ],
   "source": [
    "test5 = get_300_uq(bin5, pl_ff, 5)"
   ]
  },
  {
   "cell_type": "code",
   "execution_count": 19,
   "metadata": {},
   "outputs": [
    {
     "data": {
      "text/html": [
       "<div>\n",
       "<style scoped>\n",
       "    .dataframe tbody tr th:only-of-type {\n",
       "        vertical-align: middle;\n",
       "    }\n",
       "\n",
       "    .dataframe tbody tr th {\n",
       "        vertical-align: top;\n",
       "    }\n",
       "\n",
       "    .dataframe thead th {\n",
       "        text-align: right;\n",
       "    }\n",
       "</style>\n",
       "<table border=\"1\" class=\"dataframe\">\n",
       "  <thead>\n",
       "    <tr style=\"text-align: right;\">\n",
       "      <th></th>\n",
       "      <th>ita</th>\n",
       "      <th>spa</th>\n",
       "      <th>score</th>\n",
       "      <th>freq_x</th>\n",
       "      <th>freq_y</th>\n",
       "      <th>freq</th>\n",
       "    </tr>\n",
       "  </thead>\n",
       "  <tbody>\n",
       "    <tr>\n",
       "      <th>5405</th>\n",
       "      <td>riconosciuto</td>\n",
       "      <td>reconocido</td>\n",
       "      <td>7</td>\n",
       "      <td>3194</td>\n",
       "      <td>2306</td>\n",
       "      <td>3194</td>\n",
       "    </tr>\n",
       "    <tr>\n",
       "      <th>6567</th>\n",
       "      <td>costituito</td>\n",
       "      <td>compuesto</td>\n",
       "      <td>7</td>\n",
       "      <td>1496</td>\n",
       "      <td>833</td>\n",
       "      <td>1496</td>\n",
       "    </tr>\n",
       "    <tr>\n",
       "      <th>5926</th>\n",
       "      <td>fotografo</td>\n",
       "      <td>fotógrafo</td>\n",
       "      <td>7</td>\n",
       "      <td>4583</td>\n",
       "      <td>6628</td>\n",
       "      <td>4583</td>\n",
       "    </tr>\n",
       "    <tr>\n",
       "      <th>5906</th>\n",
       "      <td>conseguenza</td>\n",
       "      <td>consecuencia</td>\n",
       "      <td>7</td>\n",
       "      <td>1719</td>\n",
       "      <td>1615</td>\n",
       "      <td>1719</td>\n",
       "    </tr>\n",
       "    <tr>\n",
       "      <th>4598</th>\n",
       "      <td>commedia</td>\n",
       "      <td>comedia</td>\n",
       "      <td>7</td>\n",
       "      <td>1982</td>\n",
       "      <td>2260</td>\n",
       "      <td>1982</td>\n",
       "    </tr>\n",
       "  </tbody>\n",
       "</table>\n",
       "</div>"
      ],
      "text/plain": [
       "               ita           spa  score  freq_x  freq_y  freq\n",
       "5405  riconosciuto    reconocido      7    3194    2306  3194\n",
       "6567    costituito     compuesto      7    1496     833  1496\n",
       "5926     fotografo     fotógrafo      7    4583    6628  4583\n",
       "5906   conseguenza  consecuencia      7    1719    1615  1719\n",
       "4598      commedia       comedia      7    1982    2260  1982"
      ]
     },
     "execution_count": 19,
     "metadata": {},
     "output_type": "execute_result"
    },
    {
     "data": {
      "text/plain": [
       "1500"
      ]
     },
     "execution_count": 19,
     "metadata": {},
     "output_type": "execute_result"
    }
   ],
   "source": [
    "# Concat test\n",
    "\n",
    "frames = [test1, test2, test3, test4, test5]\n",
    "pl_test = pd.concat(frames)\n",
    "pl_test.head()\n",
    "len(pl_test.index)"
   ]
  },
  {
   "cell_type": "code",
   "execution_count": 21,
   "metadata": {},
   "outputs": [
    {
     "data": {
      "text/plain": [
       "1500"
      ]
     },
     "execution_count": 21,
     "metadata": {},
     "output_type": "execute_result"
    },
    {
     "data": {
      "text/plain": [
       "51934"
      ]
     },
     "execution_count": 21,
     "metadata": {},
     "output_type": "execute_result"
    },
    {
     "data": {
      "text/plain": [
       "50434"
      ]
     },
     "execution_count": 21,
     "metadata": {},
     "output_type": "execute_result"
    },
    {
     "data": {
      "text/plain": [
       "9696"
      ]
     },
     "execution_count": 21,
     "metadata": {},
     "output_type": "execute_result"
    },
    {
     "data": {
      "text/html": [
       "<div>\n",
       "<style scoped>\n",
       "    .dataframe tbody tr th:only-of-type {\n",
       "        vertical-align: middle;\n",
       "    }\n",
       "\n",
       "    .dataframe tbody tr th {\n",
       "        vertical-align: top;\n",
       "    }\n",
       "\n",
       "    .dataframe thead th {\n",
       "        text-align: right;\n",
       "    }\n",
       "</style>\n",
       "<table border=\"1\" class=\"dataframe\">\n",
       "  <thead>\n",
       "    <tr style=\"text-align: right;\">\n",
       "      <th></th>\n",
       "      <th>ita</th>\n",
       "      <th>spa</th>\n",
       "      <th>score</th>\n",
       "      <th>freq_x</th>\n",
       "      <th>freq_y</th>\n",
       "    </tr>\n",
       "  </thead>\n",
       "  <tbody>\n",
       "    <tr>\n",
       "      <th>4102</th>\n",
       "      <td>,</td>\n",
       "      <td>,</td>\n",
       "      <td>8</td>\n",
       "      <td>1</td>\n",
       "      <td>2</td>\n",
       "    </tr>\n",
       "    <tr>\n",
       "      <th>5140</th>\n",
       "      <td>.</td>\n",
       "      <td>.</td>\n",
       "      <td>8</td>\n",
       "      <td>2</td>\n",
       "      <td>3</td>\n",
       "    </tr>\n",
       "    <tr>\n",
       "      <th>18299</th>\n",
       "      <td>del</td>\n",
       "      <td>para</td>\n",
       "      <td>7</td>\n",
       "      <td>14</td>\n",
       "      <td>25</td>\n",
       "    </tr>\n",
       "    <tr>\n",
       "      <th>3728</th>\n",
       "      <td>l</td>\n",
       "      <td>l</td>\n",
       "      <td>8</td>\n",
       "      <td>20</td>\n",
       "      <td>201</td>\n",
       "    </tr>\n",
       "    <tr>\n",
       "      <th>10683</th>\n",
       "      <td>fu</td>\n",
       "      <td>difunto</td>\n",
       "      <td>7</td>\n",
       "      <td>52</td>\n",
       "      <td>12726</td>\n",
       "    </tr>\n",
       "    <tr>\n",
       "      <th>47323</th>\n",
       "      <td>the</td>\n",
       "      <td>té</td>\n",
       "      <td>7</td>\n",
       "      <td>53</td>\n",
       "      <td>7471</td>\n",
       "    </tr>\n",
       "    <tr>\n",
       "      <th>4546</th>\n",
       "      <td>sua</td>\n",
       "      <td>su</td>\n",
       "      <td>7</td>\n",
       "      <td>56</td>\n",
       "      <td>22</td>\n",
       "    </tr>\n",
       "    <tr>\n",
       "      <th>51596</th>\n",
       "      <td>due</td>\n",
       "      <td>dos</td>\n",
       "      <td>7</td>\n",
       "      <td>57</td>\n",
       "      <td>45</td>\n",
       "    </tr>\n",
       "    <tr>\n",
       "      <th>4548</th>\n",
       "      <td>suo</td>\n",
       "      <td>su</td>\n",
       "      <td>7</td>\n",
       "      <td>61</td>\n",
       "      <td>22</td>\n",
       "    </tr>\n",
       "    <tr>\n",
       "      <th>2577</th>\n",
       "      <td>s</td>\n",
       "      <td>s</td>\n",
       "      <td>8</td>\n",
       "      <td>65</td>\n",
       "      <td>85</td>\n",
       "    </tr>\n",
       "  </tbody>\n",
       "</table>\n",
       "</div>"
      ],
      "text/plain": [
       "       ita      spa  score  freq_x  freq_y\n",
       "4102     ,        ,      8       1       2\n",
       "5140     .        .      8       2       3\n",
       "18299  del     para      7      14      25\n",
       "3728     l        l      8      20     201\n",
       "10683   fu  difunto      7      52   12726\n",
       "47323  the       té      7      53    7471\n",
       "4546   sua       su      7      56      22\n",
       "51596  due      dos      7      57      45\n",
       "4548   suo       su      7      61      22\n",
       "2577     s        s      8      65      85"
      ]
     },
     "execution_count": 21,
     "metadata": {},
     "output_type": "execute_result"
    },
    {
     "data": {
      "text/html": [
       "<div>\n",
       "<style scoped>\n",
       "    .dataframe tbody tr th:only-of-type {\n",
       "        vertical-align: middle;\n",
       "    }\n",
       "\n",
       "    .dataframe tbody tr th {\n",
       "        vertical-align: top;\n",
       "    }\n",
       "\n",
       "    .dataframe thead th {\n",
       "        text-align: right;\n",
       "    }\n",
       "</style>\n",
       "<table border=\"1\" class=\"dataframe\">\n",
       "  <thead>\n",
       "    <tr style=\"text-align: right;\">\n",
       "      <th></th>\n",
       "      <th>ita</th>\n",
       "      <th>spa</th>\n",
       "      <th>score</th>\n",
       "      <th>freq_x</th>\n",
       "      <th>freq_y</th>\n",
       "    </tr>\n",
       "  </thead>\n",
       "  <tbody>\n",
       "    <tr>\n",
       "      <th>40650</th>\n",
       "      <td>inorganico</td>\n",
       "      <td>inorgánico</td>\n",
       "      <td>7</td>\n",
       "      <td>58287</td>\n",
       "      <td>49775</td>\n",
       "    </tr>\n",
       "    <tr>\n",
       "      <th>31534</th>\n",
       "      <td>vaglia</td>\n",
       "      <td>giro</td>\n",
       "      <td>7</td>\n",
       "      <td>58320</td>\n",
       "      <td>4200</td>\n",
       "    </tr>\n",
       "    <tr>\n",
       "      <th>16697</th>\n",
       "      <td>purpureo</td>\n",
       "      <td>púrpura</td>\n",
       "      <td>7</td>\n",
       "      <td>58336</td>\n",
       "      <td>7523</td>\n",
       "    </tr>\n",
       "    <tr>\n",
       "      <th>22686</th>\n",
       "      <td>imperialista</td>\n",
       "      <td>imperialista</td>\n",
       "      <td>7</td>\n",
       "      <td>58342</td>\n",
       "      <td>42424</td>\n",
       "    </tr>\n",
       "    <tr>\n",
       "      <th>47422</th>\n",
       "      <td>tempia</td>\n",
       "      <td>sien</td>\n",
       "      <td>7</td>\n",
       "      <td>58347</td>\n",
       "      <td>71331</td>\n",
       "    </tr>\n",
       "    <tr>\n",
       "      <th>29968</th>\n",
       "      <td>metaforicamente</td>\n",
       "      <td>metafórico</td>\n",
       "      <td>7</td>\n",
       "      <td>58354</td>\n",
       "      <td>68515</td>\n",
       "    </tr>\n",
       "    <tr>\n",
       "      <th>51725</th>\n",
       "      <td>mutilazione</td>\n",
       "      <td>mutilación</td>\n",
       "      <td>7</td>\n",
       "      <td>58366</td>\n",
       "      <td>48580</td>\n",
       "    </tr>\n",
       "    <tr>\n",
       "      <th>39420</th>\n",
       "      <td>remunerazione</td>\n",
       "      <td>salarios</td>\n",
       "      <td>7</td>\n",
       "      <td>58393</td>\n",
       "      <td>12169</td>\n",
       "    </tr>\n",
       "    <tr>\n",
       "      <th>33851</th>\n",
       "      <td>frigio</td>\n",
       "      <td>frigio</td>\n",
       "      <td>7</td>\n",
       "      <td>58394</td>\n",
       "      <td>51099</td>\n",
       "    </tr>\n",
       "    <tr>\n",
       "      <th>44899</th>\n",
       "      <td>misericordioso</td>\n",
       "      <td>misericordioso</td>\n",
       "      <td>7</td>\n",
       "      <td>58445</td>\n",
       "      <td>72390</td>\n",
       "    </tr>\n",
       "  </tbody>\n",
       "</table>\n",
       "</div>"
      ],
      "text/plain": [
       "                   ita             spa  score  freq_x  freq_y\n",
       "40650       inorganico      inorgánico      7   58287   49775\n",
       "31534           vaglia            giro      7   58320    4200\n",
       "16697         purpureo         púrpura      7   58336    7523\n",
       "22686     imperialista    imperialista      7   58342   42424\n",
       "47422           tempia            sien      7   58347   71331\n",
       "29968  metaforicamente      metafórico      7   58354   68515\n",
       "51725      mutilazione      mutilación      7   58366   48580\n",
       "39420    remunerazione        salarios      7   58393   12169\n",
       "33851           frigio          frigio      7   58394   51099\n",
       "44899   misericordioso  misericordioso      7   58445   72390"
      ]
     },
     "execution_count": 21,
     "metadata": {},
     "output_type": "execute_result"
    },
    {
     "data": {
      "text/plain": [
       "5000"
      ]
     },
     "execution_count": 21,
     "metadata": {},
     "output_type": "execute_result"
    }
   ],
   "source": [
    "# Create train without duplicates\n",
    "\n",
    "test_ita = pl_test[[l1]].copy()\n",
    "len(test_ita.index)\n",
    "\n",
    "pl_train = pl_ff[~pl_ff.ita.isin(set(test_ita.ita))]\n",
    "len(pl_ff.index)\n",
    "len(pl_train.index)\n",
    "\n",
    "pl_train = pl_train.sort_values(['freq_x', 'freq_y'], ascending=True)\n",
    "pl_train_nodup = pl_train.drop_duplicates(subset=[l1], keep=False)\n",
    "len(pl_train_nodup.index)\n",
    "\n",
    "pl_train_nodup_5K = pl_train_nodup.head(5000)\n",
    "pl_train_nodup_5K.head(10)\n",
    "pl_train_nodup_5K.tail(10)\n",
    "len(pl_train_nodup_5K.index)"
   ]
  },
  {
   "cell_type": "code",
   "execution_count": 82,
   "metadata": {},
   "outputs": [
    {
     "data": {
      "text/plain": [
       "72466"
      ]
     },
     "execution_count": 82,
     "metadata": {},
     "output_type": "execute_result"
    },
    {
     "data": {
      "text/html": [
       "<div>\n",
       "<style scoped>\n",
       "    .dataframe tbody tr th:only-of-type {\n",
       "        vertical-align: middle;\n",
       "    }\n",
       "\n",
       "    .dataframe tbody tr th {\n",
       "        vertical-align: top;\n",
       "    }\n",
       "\n",
       "    .dataframe thead th {\n",
       "        text-align: right;\n",
       "    }\n",
       "</style>\n",
       "<table border=\"1\" class=\"dataframe\">\n",
       "  <thead>\n",
       "    <tr style=\"text-align: right;\">\n",
       "      <th></th>\n",
       "      <th>eng</th>\n",
       "      <th>spa</th>\n",
       "      <th>score</th>\n",
       "      <th>freq_x</th>\n",
       "      <th>freq_y</th>\n",
       "    </tr>\n",
       "  </thead>\n",
       "  <tbody>\n",
       "    <tr>\n",
       "      <th>18787</th>\n",
       "      <td>,</td>\n",
       "      <td>,</td>\n",
       "      <td>8</td>\n",
       "      <td>0</td>\n",
       "      <td>2</td>\n",
       "    </tr>\n",
       "    <tr>\n",
       "      <th>18785</th>\n",
       "      <td>,</td>\n",
       "      <td>.</td>\n",
       "      <td>8</td>\n",
       "      <td>0</td>\n",
       "      <td>3</td>\n",
       "    </tr>\n",
       "    <tr>\n",
       "      <th>18788</th>\n",
       "      <td>.</td>\n",
       "      <td>,</td>\n",
       "      <td>8</td>\n",
       "      <td>1</td>\n",
       "      <td>2</td>\n",
       "    </tr>\n",
       "    <tr>\n",
       "      <th>18786</th>\n",
       "      <td>.</td>\n",
       "      <td>.</td>\n",
       "      <td>8</td>\n",
       "      <td>1</td>\n",
       "      <td>3</td>\n",
       "    </tr>\n",
       "    <tr>\n",
       "      <th>27723</th>\n",
       "      <td>the</td>\n",
       "      <td>la</td>\n",
       "      <td>7</td>\n",
       "      <td>2</td>\n",
       "      <td>4</td>\n",
       "    </tr>\n",
       "    <tr>\n",
       "      <th>3660</th>\n",
       "      <td>the</td>\n",
       "      <td>el</td>\n",
       "      <td>7</td>\n",
       "      <td>2</td>\n",
       "      <td>6</td>\n",
       "    </tr>\n",
       "    <tr>\n",
       "      <th>27739</th>\n",
       "      <td>the</td>\n",
       "      <td>los</td>\n",
       "      <td>7</td>\n",
       "      <td>2</td>\n",
       "      <td>15</td>\n",
       "    </tr>\n",
       "    <tr>\n",
       "      <th>27734</th>\n",
       "      <td>the</td>\n",
       "      <td>las</td>\n",
       "      <td>7</td>\n",
       "      <td>2</td>\n",
       "      <td>20</td>\n",
       "    </tr>\n",
       "    <tr>\n",
       "      <th>27730</th>\n",
       "      <td>the</td>\n",
       "      <td>lo</td>\n",
       "      <td>7</td>\n",
       "      <td>2</td>\n",
       "      <td>34</td>\n",
       "    </tr>\n",
       "    <tr>\n",
       "      <th>12356</th>\n",
       "      <td>of</td>\n",
       "      <td>de</td>\n",
       "      <td>7</td>\n",
       "      <td>4</td>\n",
       "      <td>0</td>\n",
       "    </tr>\n",
       "  </tbody>\n",
       "</table>\n",
       "</div>"
      ],
      "text/plain": [
       "       eng  spa  score  freq_x  freq_y\n",
       "18787    ,    ,      8       0       2\n",
       "18785    ,    .      8       0       3\n",
       "18788    .    ,      8       1       2\n",
       "18786    .    .      8       1       3\n",
       "27723  the   la      7       2       4\n",
       "3660   the   el      7       2       6\n",
       "27739  the  los      7       2      15\n",
       "27734  the  las      7       2      20\n",
       "27730  the   lo      7       2      34\n",
       "12356   of   de      7       4       0"
      ]
     },
     "execution_count": 82,
     "metadata": {},
     "output_type": "execute_result"
    },
    {
     "data": {
      "text/html": [
       "<div>\n",
       "<style scoped>\n",
       "    .dataframe tbody tr th:only-of-type {\n",
       "        vertical-align: middle;\n",
       "    }\n",
       "\n",
       "    .dataframe tbody tr th {\n",
       "        vertical-align: top;\n",
       "    }\n",
       "\n",
       "    .dataframe thead th {\n",
       "        text-align: right;\n",
       "    }\n",
       "</style>\n",
       "<table border=\"1\" class=\"dataframe\">\n",
       "  <thead>\n",
       "    <tr style=\"text-align: right;\">\n",
       "      <th></th>\n",
       "      <th>eng</th>\n",
       "      <th>spa</th>\n",
       "      <th>score</th>\n",
       "      <th>freq_x</th>\n",
       "      <th>freq_y</th>\n",
       "    </tr>\n",
       "  </thead>\n",
       "  <tbody>\n",
       "    <tr>\n",
       "      <th>4756</th>\n",
       "      <td>average</td>\n",
       "      <td>medio</td>\n",
       "      <td>7</td>\n",
       "      <td>749</td>\n",
       "      <td>303</td>\n",
       "    </tr>\n",
       "    <tr>\n",
       "      <th>58146</th>\n",
       "      <td>average</td>\n",
       "      <td>media</td>\n",
       "      <td>7</td>\n",
       "      <td>749</td>\n",
       "      <td>523</td>\n",
       "    </tr>\n",
       "    <tr>\n",
       "      <th>26061</th>\n",
       "      <td>average</td>\n",
       "      <td>común</td>\n",
       "      <td>7</td>\n",
       "      <td>749</td>\n",
       "      <td>669</td>\n",
       "    </tr>\n",
       "    <tr>\n",
       "      <th>58150</th>\n",
       "      <td>average</td>\n",
       "      <td>promedio</td>\n",
       "      <td>7</td>\n",
       "      <td>749</td>\n",
       "      <td>1865</td>\n",
       "    </tr>\n",
       "    <tr>\n",
       "      <th>21385</th>\n",
       "      <td>average</td>\n",
       "      <td>regular</td>\n",
       "      <td>7</td>\n",
       "      <td>749</td>\n",
       "      <td>2050</td>\n",
       "    </tr>\n",
       "    <tr>\n",
       "      <th>4075</th>\n",
       "      <td>average</td>\n",
       "      <td>corriente</td>\n",
       "      <td>7</td>\n",
       "      <td>749</td>\n",
       "      <td>2117</td>\n",
       "    </tr>\n",
       "    <tr>\n",
       "      <th>55777</th>\n",
       "      <td>average</td>\n",
       "      <td>mediocre</td>\n",
       "      <td>7</td>\n",
       "      <td>749</td>\n",
       "      <td>27773</td>\n",
       "    </tr>\n",
       "    <tr>\n",
       "      <th>20780</th>\n",
       "      <td>network</td>\n",
       "      <td>red</td>\n",
       "      <td>7</td>\n",
       "      <td>750</td>\n",
       "      <td>541</td>\n",
       "    </tr>\n",
       "    <tr>\n",
       "      <th>29697</th>\n",
       "      <td>network</td>\n",
       "      <td>emisora</td>\n",
       "      <td>7</td>\n",
       "      <td>750</td>\n",
       "      <td>5949</td>\n",
       "    </tr>\n",
       "    <tr>\n",
       "      <th>29696</th>\n",
       "      <td>network</td>\n",
       "      <td>interconectar</td>\n",
       "      <td>7</td>\n",
       "      <td>750</td>\n",
       "      <td>99091</td>\n",
       "    </tr>\n",
       "  </tbody>\n",
       "</table>\n",
       "</div>"
      ],
      "text/plain": [
       "           eng            spa  score  freq_x  freq_y\n",
       "4756   average          medio      7     749     303\n",
       "58146  average          media      7     749     523\n",
       "26061  average          común      7     749     669\n",
       "58150  average       promedio      7     749    1865\n",
       "21385  average        regular      7     749    2050\n",
       "4075   average      corriente      7     749    2117\n",
       "55777  average       mediocre      7     749   27773\n",
       "20780  network            red      7     750     541\n",
       "29697  network        emisora      7     750    5949\n",
       "29696  network  interconectar      7     750   99091"
      ]
     },
     "execution_count": 82,
     "metadata": {},
     "output_type": "execute_result"
    },
    {
     "data": {
      "text/plain": [
       "5000"
      ]
     },
     "execution_count": 82,
     "metadata": {},
     "output_type": "execute_result"
    }
   ],
   "source": [
    "# With duplicates\n",
    "\n",
    "pl_train_nodup = pl_train\n",
    "len(pl_train_nodup.index)\n",
    "\n",
    "pl_train_nodup_5K = pl_train_nodup.head(5000)\n",
    "pl_train_nodup_5K.head(10)\n",
    "pl_train_nodup_5K.tail(10)\n",
    "len(pl_train_nodup_5K.index)"
   ]
  },
  {
   "cell_type": "code",
   "execution_count": 80,
   "metadata": {},
   "outputs": [
    {
     "data": {
      "text/plain": [
       "0"
      ]
     },
     "execution_count": 80,
     "metadata": {},
     "output_type": "execute_result"
    },
    {
     "data": {
      "text/plain": [
       "110"
      ]
     },
     "execution_count": 80,
     "metadata": {},
     "output_type": "execute_result"
    }
   ],
   "source": [
    "eng_te = set(pl_test[l1])\n",
    "eng_tr = set(pl_train_nodup_5K[l1])\n",
    "len(eng_te & eng_tr)\n",
    "\n",
    "spa_te = set(pl_test[l2])\n",
    "spa_tr = set(pl_train_nodup_5K[l2])\n",
    "len(spa_te & spa_tr)"
   ]
  },
  {
   "cell_type": "code",
   "execution_count": 30,
   "metadata": {},
   "outputs": [],
   "source": [
    "def save_tsv(df, fn):\n",
    "    if not os.path.exists(os.path.dirname(fn)):\n",
    "        os.makedirs(os.path.dirname(fn))\n",
    "    pd.DataFrame.to_csv(df, columns=[l1, l2], header=False, path_or_buf=fn, sep='\\t', index=False)"
   ]
  },
  {
   "cell_type": "code",
   "execution_count": 33,
   "metadata": {},
   "outputs": [],
   "source": [
    "save_tsv(pl_train_nodup_5K, train_fn)\n",
    "save_tsv(pl_test, test_fn)"
   ]
  }
 ],
 "metadata": {
  "kernelspec": {
   "display_name": "Python 3",
   "language": "python",
   "name": "python3"
  },
  "language_info": {
   "codemirror_mode": {
    "name": "ipython",
    "version": 3
   },
   "file_extension": ".py",
   "mimetype": "text/x-python",
   "name": "python",
   "nbconvert_exporter": "python",
   "pygments_lexer": "ipython3",
   "version": "3.5.2"
  }
 },
 "nbformat": 4,
 "nbformat_minor": 2
}
