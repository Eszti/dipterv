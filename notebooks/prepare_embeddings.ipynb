{
 "cells": [
  {
   "cell_type": "markdown",
   "metadata": {
    "deletable": true,
    "editable": true
   },
   "source": [
    "# Prepare embeddings"
   ]
  },
  {
   "cell_type": "markdown",
   "metadata": {
    "deletable": true,
    "editable": true
   },
   "source": [
    "FB - SIL codes mapping"
   ]
  },
  {
   "cell_type": "code",
   "execution_count": 1,
   "metadata": {
    "collapsed": true,
    "deletable": true,
    "editable": true
   },
   "outputs": [],
   "source": [
    "import json\n",
    "import copy"
   ]
  },
  {
   "cell_type": "code",
   "execution_count": 2,
   "metadata": {
    "collapsed": false,
    "deletable": true,
    "editable": true
   },
   "outputs": [
    {
     "name": "stdout",
     "output_type": "stream",
     "text": [
      "hy\n",
      "hye\n",
      "rup\n",
      "89\n",
      "90\n"
     ]
    }
   ],
   "source": [
    "file = '/home/eszti/projects/dipterv/univ_embedding/res/temp.txt'\n",
    "fb2sil = dict()\n",
    "sil2fb = dict()\n",
    "\n",
    "with open(file) as f:\n",
    "    lines = f.readlines()\n",
    "    for line in lines:\n",
    "        if 'SIL' in line:\n",
    "            sil =  line.split('/')[1]\n",
    "#             print 'SIL: ' + sil\n",
    "        if 'FB_' in line:\n",
    "            fb = line.replace('FB_', '').replace('\\n', '')\n",
    "#             print 'FB: ' + fb\n",
    "            if fb in fb2sil:\n",
    "                print fb\n",
    "                print fb2sil[fb]\n",
    "                print sil\n",
    "            fb2sil[fb] = sil\n",
    "            sil2fb[sil] = fb\n",
    "print len(fb2sil)\n",
    "print len(sil2fb)"
   ]
  },
  {
   "cell_type": "markdown",
   "metadata": {
    "deletable": true,
    "editable": true
   },
   "source": [
    "Save facebook-sil code mapping"
   ]
  },
  {
   "cell_type": "code",
   "execution_count": 3,
   "metadata": {
    "collapsed": true,
    "deletable": true,
    "editable": true
   },
   "outputs": [],
   "source": [
    "fbcodes_fn = '/home/eszti/projects/dipterv/univ_embedding/res/fb2silcodes.json'\n",
    "with open(fbcodes_fn, 'w') as f:\n",
    "    json.dump(fb2sil, f)"
   ]
  },
  {
   "cell_type": "code",
   "execution_count": 4,
   "metadata": {
    "collapsed": false,
    "deletable": true,
    "editable": true
   },
   "outputs": [],
   "source": [
    "silcodes_fn = '/home/eszti/projects/dipterv/univ_embedding/res/sil2fbcodes.json'\n",
    "with open(silcodes_fn, 'w') as f:\n",
    "    json.dump(sil2fb, f)"
   ]
  },
  {
   "cell_type": "code",
   "execution_count": 5,
   "metadata": {
    "collapsed": false,
    "deletable": true,
    "editable": true
   },
   "outputs": [
    {
     "data": {
      "text/plain": [
       "'ara'"
      ]
     },
     "execution_count": 5,
     "metadata": {},
     "output_type": "execute_result"
    }
   ],
   "source": [
    "fb2sil['ar']"
   ]
  },
  {
   "cell_type": "code",
   "execution_count": 8,
   "metadata": {
    "collapsed": false,
    "deletable": true,
    "editable": true
   },
   "outputs": [
    {
     "name": "stdout",
     "output_type": "stream",
     "text": [
      "ar arb\n",
      "az azj\n",
      "et ekk\n",
      "fa pes\n",
      "lv lvs\n",
      "mg plt\n",
      "mn khk\n",
      "ms zlm\n",
      "no nob\n",
      "sr srp\n",
      "hr hrv\n",
      "sq als\n",
      "ur hin\n",
      "uz uzn\n",
      "nl nld\n",
      "war wrz\n",
      "zh cmn\n"
     ]
    }
   ],
   "source": [
    "mapping_fn = '/home/eszti/projects/dipterv/univ_embedding/res/swadesh_mapping'\n",
    "\n",
    "fb2sil_new = copy.deepcopy(fb2sil)\n",
    "sil2fb_new = copy.deepcopy(sil2fb)\n",
    "\n",
    "newsils = []\n",
    "\n",
    "with open(mapping_fn) as f:\n",
    "    lines = f.readlines()\n",
    "    for line in lines:\n",
    "        fields = line.split('\\t')\n",
    "        if fields[1] is not '?':\n",
    "            print(fields[0] + ' ' + fields[1])\n",
    "            fb2sil_new[fields[0]] = fields[1]\n",
    "            sil2fb_new[fields[1]] = fields[0]\n",
    "            newsils.append(fields[1])\n",
    "            \n",
    "# print('\\n{0}\\t{1}'.format(fb2sil['ar'], fb2sil_new['ar']))\n",
    "# print('\\n{0}\\t{1}'.format(sil2fb['arb'], sil2fb_new['arb']))\n",
    "\n",
    "# fbcodes_new_fn = '/home/eszti/projects/dipterv/univ_embedding/res/fb2silcodes_new.json'\n",
    "# with open(fbcodes_new_fn, 'w') as f:\n",
    "#     json.dump(fb2sil_new, f)\n",
    "    \n",
    "# silcodes_new_fn = '/home/eszti/projects/dipterv/univ_embedding/res/sil2fbcodes_new.json'\n",
    "# with open(silcodes_new_fn, 'w') as f:\n",
    "#     json.dump(sil2fb_new, f)\n",
    "\n",
    "newsils_fn = '/home/eszti/projects/dipterv/univ_embedding/res/new_sils.json'\n",
    "with open(newsils_fn, 'w') as f:\n",
    "    json.dump(newsils, f)"
   ]
  }
 ],
 "metadata": {
  "kernelspec": {
   "display_name": "Python 2",
   "language": "python",
   "name": "python2"
  },
  "language_info": {
   "codemirror_mode": {
    "name": "ipython",
    "version": 2
   },
   "file_extension": ".py",
   "mimetype": "text/x-python",
   "name": "python",
   "nbconvert_exporter": "python",
   "pygments_lexer": "ipython2",
   "version": "2.7.12"
  }
 },
 "nbformat": 4,
 "nbformat_minor": 2
}
