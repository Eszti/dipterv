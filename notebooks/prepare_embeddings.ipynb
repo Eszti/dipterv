{
 "cells": [
  {
   "cell_type": "markdown",
   "metadata": {},
   "source": [
    "# Prepare embeddings"
   ]
  },
  {
   "cell_type": "markdown",
   "metadata": {},
   "source": [
    "FB - SIL codes mapping"
   ]
  },
  {
   "cell_type": "code",
   "execution_count": 15,
   "metadata": {
    "collapsed": true
   },
   "outputs": [],
   "source": [
    "import json"
   ]
  },
  {
   "cell_type": "code",
   "execution_count": 21,
   "metadata": {
    "collapsed": false
   },
   "outputs": [
    {
     "name": "stdout",
     "output_type": "stream",
     "text": [
      "hy\n",
      "hye\n",
      "rup\n",
      "89\n",
      "90\n"
     ]
    }
   ],
   "source": [
    "file = '/home/eszti/projects/dipterv/univ_embedding/res/temp.txt'\n",
    "fb2sil = dict()\n",
    "sil2fb = dict()\n",
    "\n",
    "with open(file) as f:\n",
    "    lines = f.readlines()\n",
    "    for line in lines:\n",
    "        if 'SIL' in line:\n",
    "            sil =  line.split('/')[1]\n",
    "#             print 'SIL: ' + sil\n",
    "        if 'FB_' in line:\n",
    "            fb = line.replace('FB_', '').replace('\\n', '')\n",
    "#             print 'FB: ' + fb\n",
    "            if fb in fb2sil:\n",
    "                print fb\n",
    "                print fb2sil[fb]\n",
    "                print sil\n",
    "            fb2sil[fb] = sil\n",
    "            sil2fb[sil] = fb\n",
    "print len(fb2sil)\n",
    "print len(sil2fb)"
   ]
  },
  {
   "cell_type": "markdown",
   "metadata": {},
   "source": [
    "Save facebook-sil code mapping"
   ]
  },
  {
   "cell_type": "code",
   "execution_count": 22,
   "metadata": {
    "collapsed": true
   },
   "outputs": [],
   "source": [
    "fbcodes_fn = '/home/eszti/projects/dipterv/univ_embedding/res/fb2silcodes.json'\n",
    "with open(fbcodes_fn, 'w') as f:\n",
    "    json.dump(fb2sil, f)"
   ]
  },
  {
   "cell_type": "code",
   "execution_count": 30,
   "metadata": {
    "collapsed": false
   },
   "outputs": [],
   "source": [
    "fn = '/home/eszti/projects/dipterv/univ_embedding/res/wikicodes.json'\n",
    "with open(fn, 'w') as f:\n",
    "    json.dump(wikicodes, f)"
   ]
  },
  {
   "cell_type": "code",
   "execution_count": null,
   "metadata": {
    "collapsed": true
   },
   "outputs": [],
   "source": []
  }
 ],
 "metadata": {
  "kernelspec": {
   "display_name": "Python 2",
   "language": "python",
   "name": "python2"
  },
  "language_info": {
   "codemirror_mode": {
    "name": "ipython",
    "version": 2
   },
   "file_extension": ".py",
   "mimetype": "text/x-python",
   "name": "python",
   "nbconvert_exporter": "python",
   "pygments_lexer": "ipython2",
   "version": "2.7.12"
  }
 },
 "nbformat": 4,
 "nbformat_minor": 2
}
