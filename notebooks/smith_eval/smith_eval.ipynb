{
 "cells": [
  {
   "cell_type": "code",
   "execution_count": 6,
   "metadata": {
    "collapsed": true,
    "deletable": true,
    "editable": true
   },
   "outputs": [],
   "source": [
    "import pickle\n",
    "import numpy as np\n",
    "import scipy"
   ]
  },
  {
   "cell_type": "markdown",
   "metadata": {
    "deletable": true,
    "editable": true
   },
   "source": [
    "Load our data"
   ]
  },
  {
   "cell_type": "code",
   "execution_count": 7,
   "metadata": {
    "collapsed": false,
    "deletable": true,
    "editable": true
   },
   "outputs": [],
   "source": [
    "# Path our data \n",
    "pickle_path = '/home/eszti/projects/recap/find_univ_proc/find_univ_proc.pickle'\n",
    "\n",
    "with open(pickle_path) as f:\n",
    "    data = pickle.load(f)\n",
    "    \n",
    "# Our data\n",
    "eng_data = data[0]['eng']\n",
    "ita_data = data[0]['ita']\n",
    "\n",
    "# Embed paths\n",
    "eng_emb_fn = eng_data[2]\n",
    "ita_emb_fn = ita_data[2]\n",
    "\n",
    "# Transformation mx-s\n",
    "T_en = eng_data[4]\n",
    "T_it = ita_data[4]"
   ]
  },
  {
   "cell_type": "markdown",
   "metadata": {
    "deletable": true,
    "editable": true
   },
   "source": [
    "Load Smith's test set"
   ]
  },
  {
   "cell_type": "code",
   "execution_count": 85,
   "metadata": {
    "collapsed": true,
    "deletable": true,
    "editable": true
   },
   "outputs": [],
   "source": [
    "test_pairs_path = '/home/eszti/projects/smith/transmat/data/OPUS_en_it_europarl_test.txt'\n",
    "en_it_dict = dict()\n",
    "it_en_dict = dict()\n",
    "\n",
    "with open(test_pairs_path) as f:\n",
    "    lines = f.read().splitlines()\n",
    "    for line in lines:\n",
    "        words = line.strip().decode('utf-8').split(' ')\n",
    "        en = words[0]\n",
    "        it = words[1]\n",
    "        if en not in en_it_dict.keys():\n",
    "            en_it_dict[en] = []\n",
    "        en_it_dict[en].append(it)\n",
    "        if it not in it_en_dict.keys():\n",
    "            it_en_dict[it] = []\n",
    "        it_en_dict[it].append(en)"
   ]
  },
  {
   "cell_type": "code",
   "execution_count": 46,
   "metadata": {
    "collapsed": false,
    "deletable": true,
    "editable": true
   },
   "outputs": [
    {
     "name": "stdout",
     "output_type": "stream",
     "text": [
      "En-It len: 1500\n",
      "It-En len: 1849\n"
     ]
    }
   ],
   "source": [
    "print('En-It len: {}'.format(len(en_it_dict)))\n",
    "print('It-En len: {}'.format(len(it_en_dict)))"
   ]
  },
  {
   "cell_type": "markdown",
   "metadata": {},
   "source": [
    "Load our previosly loaded embeddings"
   ]
  },
  {
   "cell_type": "code",
   "execution_count": 30,
   "metadata": {
    "collapsed": false,
    "deletable": true,
    "editable": true
   },
   "outputs": [
    {
     "name": "stdout",
     "output_type": "stream",
     "text": [
      "Not found in English: 15\n",
      "Not found in Italian: 48\n"
     ]
    }
   ],
   "source": [
    "fb_emb_data_path = 'data/our_data_raw_09_29.pickle'\n",
    "\n",
    "with open(fb_emb_data_path) as f:\n",
    "    fb_emb_data = pickle.load(f)\n",
    "    \n",
    "(wl_en, emb_en, id_en) = fb_emb_data[0]\n",
    "(wl_it, emb_it, id_it) = fb_emb_data[1]\n",
    "\n",
    "print('Not found in English: {}'.format(len(wl_en) - len(id_en)))\n",
    "print('Not found in Italian: {}'.format(len(wl_it) - len(id_it)))"
   ]
  },
  {
   "cell_type": "code",
   "execution_count": 38,
   "metadata": {
    "collapsed": false
   },
   "outputs": [],
   "source": [
    "def get_not_found_words_idx(wl, idxs):\n",
    "    nf_i = []\n",
    "    nf_w = []\n",
    "    for i in range(len(wl)):\n",
    "        if i not in idxs:\n",
    "            nf_i.append(i)\n",
    "            nf_w.append(wl[i])\n",
    "    return nf_i, nf_w"
   ]
  },
  {
   "cell_type": "code",
   "execution_count": 39,
   "metadata": {
    "collapsed": false
   },
   "outputs": [],
   "source": [
    "nf_en_i, nf_en_w = get_not_found_words_idx(wl_en, id_en)\n",
    "nf_it_i, nf_it_w = get_not_found_words_idx(wl_it, id_it)"
   ]
  },
  {
   "cell_type": "code",
   "execution_count": 43,
   "metadata": {
    "collapsed": false
   },
   "outputs": [
    {
     "data": {
      "text/plain": [
       "[75, 136, 158, 214, 450, 531, 654, 672, 845, 909, 942, 1034, 1085, 1379, 1485]"
      ]
     },
     "execution_count": 43,
     "metadata": {},
     "output_type": "execute_result"
    }
   ],
   "source": [
    "nf_en_i"
   ]
  }
 ],
 "metadata": {
  "kernelspec": {
   "display_name": "Python 2",
   "language": "python",
   "name": "python2"
  },
  "language_info": {
   "codemirror_mode": {
    "name": "ipython",
    "version": 2
   },
   "file_extension": ".py",
   "mimetype": "text/x-python",
   "name": "python",
   "nbconvert_exporter": "python",
   "pygments_lexer": "ipython2",
   "version": "2.7.12"
  }
 },
 "nbformat": 4,
 "nbformat_minor": 2
}
