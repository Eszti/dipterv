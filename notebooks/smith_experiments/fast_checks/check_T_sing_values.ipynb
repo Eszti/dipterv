{
 "cells": [
  {
   "cell_type": "code",
   "execution_count": 1,
   "metadata": {},
   "outputs": [],
   "source": [
    "import pickle\n",
    "import os\n",
    "from IPython.core.interactiveshell import InteractiveShell\n",
    "InteractiveShell.ast_node_interactivity = \"all\"\n",
    "import numpy as np"
   ]
  },
  {
   "cell_type": "code",
   "execution_count": 2,
   "metadata": {},
   "outputs": [],
   "source": [
    "def get_sing_vals(output_folder, nbs, limit, print_s=False):\n",
    "    def get_smalls(T):\n",
    "        U, s, V = np.linalg.svd(T, full_matrices=True, compute_uv=True)\n",
    "        small = np.where(s < limit)\n",
    "        print('T_{0}\\t<{1} : {2}'.format(nb, limit, len(small[0])))\n",
    "        if print_s:\n",
    "            print(s)\n",
    "    for i, nb in enumerate(nbs):\n",
    "        T_fn = os.path.join(output_folder, 'train_mod', 'T_{}.pickle'.format(nb))\n",
    "        with open(T_fn, 'rb') as f:\n",
    "            T = pickle.load(f)\n",
    "        T_en = T[0]\n",
    "        print('eng')\n",
    "        get_smalls(T_en)\n",
    "        T_it = T[1]\n",
    "        print('ita')\n",
    "        get_smalls(T_it)"
   ]
  },
  {
   "cell_type": "markdown",
   "metadata": {},
   "source": [
    "## 200k test 1"
   ]
  },
  {
   "cell_type": "code",
   "execution_count": 3,
   "metadata": {},
   "outputs": [
    {
     "name": "stdout",
     "output_type": "stream",
     "text": [
      "eng\n",
      "T_20\t<0.01 : 1\n",
      "ita\n",
      "T_20\t<0.01 : 4\n",
      "eng\n",
      "T_50\t<0.01 : 18\n",
      "ita\n",
      "T_50\t<0.01 : 17\n",
      "eng\n",
      "T_80\t<0.01 : 55\n",
      "ita\n",
      "T_80\t<0.01 : 47\n",
      "eng\n",
      "T_120\t<0.01 : 108\n",
      "ita\n",
      "T_120\t<0.01 : 103\n",
      "eng\n",
      "T_150\t<0.01 : 146\n",
      "ita\n",
      "T_150\t<0.01 : 143\n",
      "eng\n",
      "T_199\t<0.01 : 197\n",
      "ita\n",
      "T_199\t<0.01 : 197\n"
     ]
    }
   ],
   "source": [
    "output_folder = '/home/eszti/projects/dipterv/panlex/output_results/20180219_1410_42'\n",
    "nbs = [20, 50, 80, 120, 150, 199]\n",
    "limit = 0.01\n",
    "get_sing_vals(output_folder, nbs, limit)"
   ]
  },
  {
   "cell_type": "markdown",
   "metadata": {},
   "source": [
    "## 200k test 2"
   ]
  },
  {
   "cell_type": "code",
   "execution_count": 4,
   "metadata": {},
   "outputs": [
    {
     "name": "stdout",
     "output_type": "stream",
     "text": [
      "eng\n",
      "T_20\t<0.01 : 0\n",
      "ita\n",
      "T_20\t<0.01 : 1\n",
      "eng\n",
      "T_50\t<0.01 : 1\n",
      "ita\n",
      "T_50\t<0.01 : 0\n",
      "eng\n",
      "T_80\t<0.01 : 1\n",
      "ita\n",
      "T_80\t<0.01 : 0\n",
      "eng\n",
      "T_120\t<0.01 : 0\n",
      "ita\n",
      "T_120\t<0.01 : 1\n",
      "eng\n",
      "T_150\t<0.01 : 0\n",
      "ita\n",
      "T_150\t<0.01 : 0\n",
      "eng\n",
      "T_199\t<0.01 : 0\n",
      "ita\n",
      "T_199\t<0.01 : 1\n"
     ]
    }
   ],
   "source": [
    "output_folder = '/home/eszti/projects/dipterv/panlex/output_results/20180219_1501_57'\n",
    "nbs = [20, 50, 80, 120, 150, 199]\n",
    "limit = 0.01\n",
    "get_sing_vals(output_folder, nbs, limit)"
   ]
  }
 ],
 "metadata": {
  "kernelspec": {
   "display_name": "Python 3",
   "language": "python",
   "name": "python3"
  },
  "language_info": {
   "codemirror_mode": {
    "name": "ipython",
    "version": 3
   },
   "file_extension": ".py",
   "mimetype": "text/x-python",
   "name": "python",
   "nbconvert_exporter": "python",
   "pygments_lexer": "ipython3",
   "version": "3.5.2"
  }
 },
 "nbformat": 4,
 "nbformat_minor": 2
}
