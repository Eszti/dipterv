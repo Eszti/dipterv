{
 "cells": [
  {
   "cell_type": "code",
   "execution_count": 1,
   "metadata": {},
   "outputs": [],
   "source": [
    "# Import\n",
    "from IPython.core.interactiveshell import InteractiveShell\n",
    "InteractiveShell.ast_node_interactivity = \"all\"\n",
    "import numpy as np\n",
    "from gensim.models import KeyedVectors\n",
    "import pickle"
   ]
  },
  {
   "cell_type": "code",
   "execution_count": 2,
   "metadata": {},
   "outputs": [],
   "source": [
    "train_fn = '/home/eszti/projects/dipterv/panlex/data/smith/train/eng_ita.tsv'\n",
    "valid_fn = '/home/eszti/projects/dipterv/panlex/data/smith/valid/eng_ita.tsv'\n",
    "test_fn = '/home/eszti/projects/dipterv/panlex/data/smith/test/eng_ita.tsv'\n",
    "\n",
    "eng_emb = '/mnt/permanent/Language/Multi/FB/wiki.en/wiki.en.vec'\n",
    "ita_emb = '/mnt/permanent/Language/Multi/FB/wiki.it/wiki.it.vec'\n",
    "\n",
    "limit = None\n",
    "\n",
    "tr_en_fn = 'train_eng.pickle'\n",
    "va_en_fn = 'valid_eng.pickle'\n",
    "te_en_fn = 'test_eng.pickle'\n",
    "\n",
    "tr_it_fn = 'train_ita.pickle'\n",
    "va_it_fn = 'valid_ita.pickle'\n",
    "te_it_fn = 'test_ita.pickle'"
   ]
  },
  {
   "cell_type": "code",
   "execution_count": 3,
   "metadata": {},
   "outputs": [],
   "source": [
    "def read_emb(emb_fn, limit):\n",
    "    model = KeyedVectors.load_word2vec_format(emb_fn, binary=False, limit=limit)\n",
    "    model.syn0 /= np.sqrt((model.syn0 ** 2).sum(1))[:, None]\n",
    "    return model"
   ]
  },
  {
   "cell_type": "code",
   "execution_count": 4,
   "metadata": {},
   "outputs": [],
   "source": [
    "def read_word_pairs_tsv(fn, id1, id2):\n",
    "    wl1 = set()\n",
    "    wl2 = set()\n",
    "    with open(fn) as f:\n",
    "        lines = f.readlines()\n",
    "        data = [(line.split()[id1], line.split()[id2]) for i, line in enumerate(lines)]\n",
    "    for (w1, w2) in data:\n",
    "        wl1.add(w1)\n",
    "        wl2.add(w2)\n",
    "    return data, wl1, wl2"
   ]
  },
  {
   "cell_type": "code",
   "execution_count": 5,
   "metadata": {},
   "outputs": [],
   "source": [
    "# saving format: (vocab: ordered list according to frequency, emb_dict: word - nparray dictionary)\n",
    "def get_filtered_embedding(emb, wl, fn):\n",
    "    to_save = []\n",
    "    for w in wl:\n",
    "        if w in emb:\n",
    "            to_save.append([w, emb[w], emb.index2word.index(w)])\n",
    "        else:\n",
    "            print('not found: {}'.format(w))\n",
    "    to_save.sort(key=lambda x: x[2])\n",
    "    dim = 300\n",
    "    vocab = [l[0] for l in to_save]\n",
    "    filtered_mod = dict()\n",
    "    for i, w in enumerate(vocab):\n",
    "        filtered_mod[w] = emb[w]\n",
    "    with open(fn, 'wb') as f:\n",
    "        pickle.dump(file=f, obj=filtered_mod)\n",
    "    return filtered_mod"
   ]
  },
  {
   "cell_type": "code",
   "execution_count": 6,
   "metadata": {},
   "outputs": [],
   "source": [
    "m_en = read_emb(eng_emb, limit)\n",
    "m_it = read_emb(ita_emb, limit)"
   ]
  },
  {
   "cell_type": "code",
   "execution_count": 7,
   "metadata": {},
   "outputs": [],
   "source": [
    "train_wp, tr_en, tr_it = read_word_pairs_tsv(train_fn, 0, 1)\n",
    "valid_wp, va_en, va_it = read_word_pairs_tsv(valid_fn, 0, 1)\n",
    "test_wp, te_en, te_it = read_word_pairs_tsv(test_fn, 0, 1)"
   ]
  },
  {
   "cell_type": "code",
   "execution_count": 8,
   "metadata": {},
   "outputs": [
    {
     "name": "stdout",
     "output_type": "stream",
     "text": [
      "en train\n",
      "en valid\n",
      "en test\n",
      "it train\n",
      "not found: prelaurea\n",
      "it valid\n",
      "it test\n",
      "not found: ridimensioni\n",
      "not found: kostunica\n",
      "not found: oligopolistica\n"
     ]
    }
   ],
   "source": [
    "# En\n",
    "print('en train')\n",
    "m_en_tr_fil = get_filtered_embedding(m_en, tr_en, tr_en_fn)\n",
    "print('en valid')\n",
    "m_en_va_fil = get_filtered_embedding(m_en, va_en, va_en_fn)\n",
    "print('en test')\n",
    "m_en_te_fil = get_filtered_embedding(m_en, te_en, te_en_fn)\n",
    "\n",
    "print('it train')\n",
    "m_it_tr_fil = get_filtered_embedding(m_it, tr_it, tr_it_fn)\n",
    "print('it valid')\n",
    "m_it_va_fil = get_filtered_embedding(m_it, va_it, va_it_fn)\n",
    "print('it test')\n",
    "m_it_te_fil = get_filtered_embedding(m_it, te_it, te_it_fn)"
   ]
  },
  {
   "cell_type": "code",
   "execution_count": 9,
   "metadata": {},
   "outputs": [],
   "source": [
    "def load(fn):\n",
    "    with open(fn, 'rb') as f:\n",
    "        data = pickle.load(f)\n",
    "    return data"
   ]
  },
  {
   "cell_type": "code",
   "execution_count": 10,
   "metadata": {},
   "outputs": [],
   "source": [
    "def test_load(fn, message):\n",
    "    print(message)\n",
    "    emb = load(fn)\n",
    "    print('vocab length: {}'.format(len(emb.keys())))"
   ]
  },
  {
   "cell_type": "code",
   "execution_count": 11,
   "metadata": {},
   "outputs": [
    {
     "name": "stdout",
     "output_type": "stream",
     "text": [
      "train en\n",
      "vocab length: 3216\n",
      "train it\n",
      "vocab length: 4133\n",
      "valid en\n",
      "vocab length: 500\n",
      "valid it\n",
      "vocab length: 499\n",
      "test en\n",
      "vocab length: 1500\n",
      "test it\n",
      "vocab length: 1846\n"
     ]
    }
   ],
   "source": [
    "test_load(tr_en_fn, 'train en')\n",
    "test_load(tr_it_fn, 'train it')\n",
    "test_load(va_en_fn, 'valid en')\n",
    "test_load(va_it_fn, 'valid it')\n",
    "test_load(te_en_fn, 'test en')\n",
    "test_load(te_it_fn, 'test it')"
   ]
  },
  {
   "cell_type": "code",
   "execution_count": 12,
   "metadata": {},
   "outputs": [
    {
     "data": {
      "text/plain": [
       "True"
      ]
     },
     "execution_count": 12,
     "metadata": {},
     "output_type": "execute_result"
    }
   ],
   "source": [
    "word = 'for'\n",
    "m_en_tr_load = load(tr_en_fn)\n",
    "# m_en_tr_load.keys()\n",
    "word in tr_en"
   ]
  },
  {
   "cell_type": "code",
   "execution_count": 21,
   "metadata": {},
   "outputs": [
    {
     "data": {
      "text/plain": [
       "300"
      ]
     },
     "execution_count": 21,
     "metadata": {},
     "output_type": "execute_result"
    },
    {
     "data": {
      "text/plain": [
       "2519370"
      ]
     },
     "execution_count": 21,
     "metadata": {},
     "output_type": "execute_result"
    },
    {
     "data": {
      "text/plain": [
       "2519370"
      ]
     },
     "execution_count": 21,
     "metadata": {},
     "output_type": "execute_result"
    }
   ],
   "source": [
    "len(np.linalg.norm(m_en.syn0, axis=0))\n",
    "len(np.linalg.norm(m_en.syn0, axis=1))\n",
    "len(np.linalg.norm(m_en.syn0, axis=1) == 1)"
   ]
  },
  {
   "cell_type": "code",
   "execution_count": 22,
   "metadata": {},
   "outputs": [
    {
     "data": {
      "text/plain": [
       "300"
      ]
     },
     "execution_count": 22,
     "metadata": {},
     "output_type": "execute_result"
    },
    {
     "data": {
      "text/plain": [
       "871053"
      ]
     },
     "execution_count": 22,
     "metadata": {},
     "output_type": "execute_result"
    },
    {
     "data": {
      "text/plain": [
       "871053"
      ]
     },
     "execution_count": 22,
     "metadata": {},
     "output_type": "execute_result"
    }
   ],
   "source": [
    "len(np.linalg.norm(m_it.syn0, axis=0))\n",
    "len(np.linalg.norm(m_it.syn0, axis=1))\n",
    "len(np.linalg.norm(m_it.syn0, axis=1) == 1)"
   ]
  }
 ],
 "metadata": {
  "kernelspec": {
   "display_name": "Python 3",
   "language": "python",
   "name": "python3"
  },
  "language_info": {
   "codemirror_mode": {
    "name": "ipython",
    "version": 3
   },
   "file_extension": ".py",
   "mimetype": "text/x-python",
   "name": "python",
   "nbconvert_exporter": "python",
   "pygments_lexer": "ipython3",
   "version": "3.5.2"
  }
 },
 "nbformat": 4,
 "nbformat_minor": 2
}
