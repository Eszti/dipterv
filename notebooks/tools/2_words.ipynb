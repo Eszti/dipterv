{
 "cells": [
  {
   "cell_type": "code",
   "execution_count": 1,
   "metadata": {},
   "outputs": [],
   "source": [
    "# Import\n",
    "from IPython.core.interactiveshell import InteractiveShell\n",
    "InteractiveShell.ast_node_interactivity = \"all\"\n",
    "import numpy as np\n",
    "import pickle\n",
    "import matplotlib.pyplot as plt"
   ]
  },
  {
   "cell_type": "code",
   "execution_count": 2,
   "metadata": {},
   "outputs": [
    {
     "data": {
      "text/plain": [
       "array([ 0.89442719,  0.4472136 ])"
      ]
     },
     "execution_count": 2,
     "metadata": {},
     "output_type": "execute_result"
    },
    {
     "data": {
      "text/plain": [
       "array([ 0.4472136 ,  0.89442719])"
      ]
     },
     "execution_count": 2,
     "metadata": {},
     "output_type": "execute_result"
    }
   ],
   "source": [
    "eng_vec = np.asarray([2, 1])\n",
    "ita_vec = np.asarray([1, 2])\n",
    "\n",
    "eng_vec = eng_vec / np.linalg.norm(eng_vec)\n",
    "ita_vec = ita_vec / np.linalg.norm(ita_vec)\n",
    "\n",
    "eng_vec\n",
    "ita_vec"
   ]
  },
  {
   "cell_type": "code",
   "execution_count": 3,
   "metadata": {},
   "outputs": [],
   "source": [
    "def read_T(T_fn):\n",
    "    with open(T_fn, 'rb') as f:\n",
    "        data = pickle.load(f)\n",
    "    return data\n",
    "\n",
    "def get_sing(T):\n",
    "    U, s, V = np.linalg.svd(T, full_matrices=True, compute_uv=True)\n",
    "    print('singular:')\n",
    "    print(s)\n",
    "\n",
    "def plot(v1, v2, T_fn):\n",
    "    T = read_T(T_fn)\n",
    "    \n",
    "    print('T0:')\n",
    "    print(T[0])\n",
    "    get_sing(T[0])\n",
    "    print('T1:')\n",
    "    print(T[1])\n",
    "    get_sing(T[1])\n",
    "    \n",
    "    plt.xlim(xmin=0.0)\n",
    "    plt.xlim(xmax=1.0)\n",
    "    plt.ylim(ymin=0.0)\n",
    "    plt.ylim(ymax=1.0)\n",
    "    \n",
    "    plt.scatter(v1[0], v1[1], color='blue')\n",
    "    plt.scatter(v2[0], v2[1], color='gold')\n",
    "    plt.grid()\n",
    "    plt.show()\n",
    "    \n",
    "#     plt.xlim(xmin=0.0)\n",
    "#     plt.xlim(xmax=1.0)\n",
    "#     plt.ylim(ymin=0.0)\n",
    "#     plt.ylim(ymax=1.0)\n",
    "    \n",
    "    vt1 = np.dot(v1, T[0])\n",
    "    vt2 = np.dot(v2, T[1])\n",
    "    vt1 = vt1 / np.linalg.norm(vt1)\n",
    "    vt2 = vt2 / np.linalg.norm(vt2)\n",
    "    plt.scatter(vt1[0], vt1[1], color='blue')\n",
    "    plt.scatter(vt2[0], vt2[1], color='gold')\n",
    "    plt.grid()\n",
    "    plt.show()\n",
    "    \n",
    "def map_points(vecs, T):    \n",
    "    vecs_norm = vecs / np.sqrt((vecs ** 2).sum(1))[:, None]\n",
    "    vecs_T = np.dot(vecs_norm, T)\n",
    "    vecs_T_norm = vecs_T / np.sqrt((vecs_T ** 2).sum(1))[:, None]\n",
    "    \n",
    "    for i, row in enumerate(vecs_T_norm):\n",
    "        print('{0}\\t{1}\\t{2}'.format(vecs[i], vecs_norm[i], vecs_T_norm[i]))\n",
    "        \n",
    "    plt.scatter(vecs_norm[:, 0], vecs_norm[:,1], color='green')\n",
    "    plt.scatter(vecs_T_norm[:, 0], vecs_T_norm[:,1], color='red')\n",
    "    plt.grid()\n",
    "    plt.show()"
   ]
  },
  {
   "cell_type": "code",
   "execution_count": 4,
   "metadata": {},
   "outputs": [
    {
     "name": "stdout",
     "output_type": "stream",
     "text": [
      "[ 1.  0.]\t[ 1.  0.]\t[ 0.45833834  0.8887778 ]\n",
      "[ 0.5  0.5]\t[ 0.70710678  0.70710678]\t[ 0.92394017  0.38253701]\n",
      "[ 2.  1.]\t[ 0.89442719  0.4472136 ]\t[ 0.74007336  0.67252615]\n",
      "[ 1.  2.]\t[ 0.4472136   0.89442719]\t[ 0.9977147  -0.06756762]\n"
     ]
    },
    {
     "data": {
      "image/png": "[encoded data removed]",
      "text/plain": [
       "<matplotlib.figure.Figure at 0x7f3f9ef6d470>"
      ]
     },
     "metadata": {},
     "output_type": "display_data"
    },
    {
     "name": "stdout",
     "output_type": "stream",
     "text": [
      "\n",
      "\n",
      "[ 1.  0.]\t[ 1.  0.]\t[-0.74810335 -0.66358223]\n",
      "[ 0.5  0.5]\t[ 0.70710678  0.70710678]\t[-0.28946602  0.95718829]\n",
      "[ 2.  1.]\t[ 0.89442719  0.4472136 ]\t[-0.8771601   0.48019804]\n",
      "[ 1.  2.]\t[ 0.4472136   0.89442719]\t[-0.00918652  0.9999578 ]\n"
     ]
    },
    {
     "data": {
      "image/png": "[encoded data removed]",
      "text/plain": [
       "<matplotlib.figure.Figure at 0x7f3f6766dd30>"
      ]
     },
     "metadata": {},
     "output_type": "display_data"
    },
    {
     "name": "stdout",
     "output_type": "stream",
     "text": [
      "\n",
      "\n",
      "[ 1.  0.]\t[ 1.  0.]\t[-0.63603128 -0.77166328]\n",
      "[ 0.5  0.5]\t[ 0.70710678  0.70710678]\t[-0.60488815 -0.79631044]\n",
      "[ 2.  1.]\t[ 0.89442719  0.4472136 ]\t[-0.61545566 -0.78817151]\n",
      "[ 1.  2.]\t[ 0.4472136   0.89442719]\t[-0.59413736 -0.8043636 ]\n"
     ]
    },
    {
     "data": {
      "image/png": "[encoded data removed]",
      "text/plain": [
       "<matplotlib.figure.Figure at 0x7f3f64955ef0>"
      ]
     },
     "metadata": {},
     "output_type": "display_data"
    },
    {
     "name": "stdout",
     "output_type": "stream",
     "text": [
      "\n",
      "\n"
     ]
    }
   ],
   "source": [
    "# With SVD 100 epochs\n",
    "T_fn = '/mnt/permanent/home/eszti/dipterv/panlex/output/20180422_1819_58/train_mod/T_99.pickle'\n",
    "T = read_T(T_fn)\n",
    "vecs = np.asarray([[1, 0],[0.5, 0.5],[2,1],[1,2]])\n",
    "map_points(vecs, T[0])\n",
    "print('\\n')\n",
    "\n",
    "# Wtihout SVD 100 epochs\n",
    "T_fn = '/mnt/permanent/home/eszti/dipterv/panlex/output/20180422_1832_25/train_mod/T_99.pickle'\n",
    "T = read_T(T_fn)\n",
    "vecs = np.asarray([[1, 0],[0.5, 0.5],[2,1],[1,2]])\n",
    "map_points(vecs, T[0])\n",
    "print('\\n')\n",
    "\n",
    "# Without SVD 1000 epochs\n",
    "T_fn = '/mnt/permanent/home/eszti/dipterv/panlex/output/20180422_1909_34/train_mod/T_999.pickle'\n",
    "T = read_T(T_fn)\n",
    "vecs = np.asarray([[1, 0],[0.5, 0.5],[2,1],[1,2]])\n",
    "map_points(vecs, T[0])\n",
    "print('\\n')"
   ]
  },
  {
   "cell_type": "code",
   "execution_count": 5,
   "metadata": {},
   "outputs": [
    {
     "name": "stdout",
     "output_type": "stream",
     "text": [
      "T0:\n",
      "[[ 0.74446648  0.72512084]\n",
      " [ 0.63790429 -0.71650845]]\n",
      "singular:\n",
      "[ 1.04482925  0.95324117]\n",
      "T1:\n",
      "[[ 0.76742983 -0.6849547 ]\n",
      " [ 0.68100715  0.70996165]]\n",
      "singular:\n",
      "[ 1.03485072  0.97724706]\n"
     ]
    },
    {
     "data": {
      "image/png": "[encoded data removed]",
      "text/plain": [
       "<matplotlib.figure.Figure at 0x7f3f66c4a7b8>"
      ]
     },
     "metadata": {},
     "output_type": "display_data"
    },
    {
     "data": {
      "image/png": "[encoded data removed]",
      "text/plain": [
       "<matplotlib.figure.Figure at 0x7f3f648babe0>"
      ]
     },
     "metadata": {},
     "output_type": "display_data"
    }
   ],
   "source": [
    "T_fn = '/mnt/permanent/home/eszti/dipterv/panlex/output/20180422_1819_58/train_mod/T_10.pickle'\n",
    "plot(eng_vec, ita_vec, T_fn)"
   ]
  },
  {
   "cell_type": "code",
   "execution_count": 6,
   "metadata": {},
   "outputs": [
    {
     "name": "stdout",
     "output_type": "stream",
     "text": [
      "T0:\n",
      "[[-0.62343848 -0.55300206]\n",
      " [ 0.29933316  1.62473345]]\n",
      "singular:\n",
      "[ 1.7886889   0.47374895]\n",
      "T1:\n",
      "[[-1.54660714  1.33703363]\n",
      " [-0.02017647 -0.23412932]]\n",
      "singular:\n",
      "[ 2.04910278  0.18987955]\n"
     ]
    },
    {
     "data": {
      "image/png": "[encoded data removed]",
      "text/plain": [
       "<matplotlib.figure.Figure at 0x7f3f648ca160>"
      ]
     },
     "metadata": {},
     "output_type": "display_data"
    },
    {
     "data": {
      "image/png": "[encoded data removed]",
      "text/plain": [
       "<matplotlib.figure.Figure at 0x7f3f6482ea58>"
      ]
     },
     "metadata": {},
     "output_type": "display_data"
    }
   ],
   "source": [
    "T_fn = '/mnt/permanent/home/eszti/dipterv/panlex/output/20180422_1832_25/train_mod/T_99.pickle'\n",
    "plot(eng_vec, ita_vec, T_fn)"
   ]
  }
 ],
 "metadata": {
  "kernelspec": {
   "display_name": "Python 3",
   "language": "python",
   "name": "python3"
  },
  "language_info": {
   "codemirror_mode": {
    "name": "ipython",
    "version": 3
   },
   "file_extension": ".py",
   "mimetype": "text/x-python",
   "name": "python",
   "nbconvert_exporter": "python",
   "pygments_lexer": "ipython3",
   "version": "3.5.2"
  }
 },
 "nbformat": 4,
 "nbformat_minor": 2
}
