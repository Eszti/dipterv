{
 "cells": [
  {
   "cell_type": "code",
   "execution_count": 39,
   "metadata": {},
   "outputs": [],
   "source": [
    "# Import\n",
    "from IPython.core.interactiveshell import InteractiveShell\n",
    "InteractiveShell.ast_node_interactivity = \"all\"\n",
    "import numpy as np\n",
    "from gensim.models import KeyedVectors\n",
    "import pickle\n",
    "import copy\n",
    "from sklearn.metrics.pairwise import cosine_similarity"
   ]
  },
  {
   "cell_type": "code",
   "execution_count": 81,
   "metadata": {},
   "outputs": [],
   "source": [
    "l1_emb_fn = '/mnt/permanent/Language/Multi/FB/wiki.en/wiki.en.vec'\n",
    "l2_emb_fn = '/mnt/permanent/Language/Multi/FB/wiki.it/wiki.it.vec'\n",
    "limit = 200000"
   ]
  },
  {
   "cell_type": "code",
   "execution_count": 75,
   "metadata": {},
   "outputs": [],
   "source": [
    "def read_emb(emb_fn, limit):\n",
    "    model = KeyedVectors.load_word2vec_format(emb_fn, binary=False, limit=limit)\n",
    "    model.syn0 /= np.sqrt((model.syn0 ** 2).sum(1))[:, None]\n",
    "    return model\n",
    "\n",
    "def read_T(T_fn):\n",
    "    with open(T_fn, 'rb') as f:\n",
    "        data = pickle.load(f)\n",
    "    return data\n",
    "\n",
    "def translate(emb, T):\n",
    "    univ = copy.deepcopy(emb)\n",
    "    univ.syn0 = np.dot(univ.syn0, T)\n",
    "    univ.syn0 /= np.sqrt((univ.syn0 ** 2).sum(1))[:, None]\n",
    "    return univ\n",
    "\n",
    "def n_closest(w, u, n):\n",
    "    closest_words = []\n",
    "    cos_mx = cosine_similarity(w, u.syn0)\n",
    "    sim_mx = np.argsort(-cos_mx, axis=1)\n",
    "    for i in range(n):\n",
    "        word = u.index2word[sim_mx[0][i]]\n",
    "        closest_words.append(word)\n",
    "    return closest_words\n",
    "\n",
    "def debug(w1, w2, u1, u2, n):\n",
    "    if w1 not in u1:\n",
    "        print('{} is not found'.format(w1))\n",
    "        return\n",
    "    if w2 not in u2:\n",
    "        print('{} is not found'.format(w2))\n",
    "        return\n",
    "    wv_1 = u1[w1].reshape((1, 300))\n",
    "    wv_2 = u2[w2].reshape((1, 300))\n",
    "    cos_sim = np.dot(wv_1, wv_2.transpose())\n",
    "    closest_1 = n_closest(wv_1, u2, n)\n",
    "    closest_2 = n_closest(wv_2, u1, n)\n",
    "    \n",
    "    print(cos_sim)\n",
    "    print(closest_1)\n",
    "    print(closest_2)\n",
    "    print(wv_1[0][0:10])\n",
    "    print(wv_2[0][0:10])\n",
    "    \n",
    "    return wv_1, wv_2, cos_sim, closest_1, closest_2"
   ]
  },
  {
   "cell_type": "markdown",
   "metadata": {},
   "source": [
    "Reading embeddings"
   ]
  },
  {
   "cell_type": "code",
   "execution_count": 9,
   "metadata": {},
   "outputs": [],
   "source": [
    "emb_1 = read_emb(l1_emb_fn, limit)\n",
    "emb_2 = read_emb(l2_emb_fn, limit)"
   ]
  },
  {
   "cell_type": "markdown",
   "metadata": {},
   "source": [
    "Train on Dinu"
   ]
  },
  {
   "cell_type": "code",
   "execution_count": 80,
   "metadata": {},
   "outputs": [],
   "source": [
    "T_fn = '/mnt/permanent/home/eszti/dipterv/panlex/output_results/smith_all/20180308_1927_54/train_mod/T_4000.pickle'\n",
    "T = read_T(T_fn)\n",
    "univ_d_1 = translate(emb_1, T[0])\n",
    "univ_d_2 = translate(emb_2, T[1])"
   ]
  },
  {
   "cell_type": "code",
   "execution_count": 91,
   "metadata": {},
   "outputs": [
    {
     "name": "stdout",
     "output_type": "stream",
     "text": [
      "[[ 0.99993038]]\n",
      "['cani', 'cane', 'dog', 'cagnolino', 'procioni', 'abbaiare', 'testardo', 'socievole', 'socievoli', 'animali']\n",
      "['dog', 'canine', 'dogs', 'watchdogs', 'puppies', 'rabbit', 'frightened', 'veterinarian', 'kennels', 'puppy']\n",
      "[ 0.0145114   0.03289737 -0.0520917   0.03513986  0.00192922  0.07308776\n",
      " -0.03758637  0.05800073  0.07053109  0.00188078]\n",
      "[ 0.01377985  0.03418651 -0.05230034  0.0358889   0.00202369  0.07207256\n",
      " -0.03770745  0.05677222  0.07036008  0.00236728]\n"
     ]
    }
   ],
   "source": [
    "w1 = 'dog'\n",
    "w2 = 'cane'\n",
    "\n",
    "wv_1, wv_2, cos_sim, cl1, cl2 = debug(w1, w2, univ_d_1, univ_d_2, 10)"
   ]
  },
  {
   "cell_type": "code",
   "execution_count": 93,
   "metadata": {},
   "outputs": [
    {
     "name": "stdout",
     "output_type": "stream",
     "text": [
      "[[ 0.99980128]]\n",
      "['cani', 'cane', 'dog', 'cagnolino', 'procioni', 'abbaiare', 'testardo', 'socievole', 'socievoli', 'animali']\n",
      "['kitchen', 'cooking', 'dishes', 'food', 'ingredients', 'seasoning', 'pantries', 'crockery', 'condiments', 'meals']\n",
      "[ 0.0145114   0.03289737 -0.0520917   0.03513986  0.00192922  0.07308776\n",
      " -0.03758637  0.05800073  0.07053109  0.00188078]\n",
      "[ 0.01474648  0.03322181 -0.05158025  0.03659101  0.00309963  0.07147693\n",
      " -0.03862757  0.05758141  0.07215406  0.00177409]\n"
     ]
    }
   ],
   "source": [
    "w1 = 'dog'\n",
    "w2 = 'cucina'\n",
    "\n",
    "wv_1, wv_2, cos_sim, cl1, cl2 = debug(w1, w2, univ_d_1, univ_d_2, 10)"
   ]
  },
  {
   "cell_type": "markdown",
   "metadata": {},
   "source": [
    "Train on PanLex"
   ]
  },
  {
   "cell_type": "code",
   "execution_count": 86,
   "metadata": {},
   "outputs": [],
   "source": [
    "T_fn = '/mnt/permanent/home/eszti/dipterv/panlex/output_results/panlex_eng_ita_7/20180317_1207_53/train_mod/T_50.pickle'\n",
    "T = read_T(T_fn)\n",
    "univ_p_1 = translate(emb_1, T[0])\n",
    "univ_p_2 = translate(emb_2, T[1])"
   ]
  },
  {
   "cell_type": "code",
   "execution_count": 94,
   "metadata": {},
   "outputs": [
    {
     "name": "stdout",
     "output_type": "stream",
     "text": [
      "[[ 0.9979369]]\n",
      "['oggettivamente', 'oggettività', 'istintivamente', 'salivazione', 'sagomatura', 'appesantimento', 'affettività', 'sempliciotto', 'interiorizzazione', 'soggettività']\n",
      "['frighteningly', 'frightening', 'idiotic', 'endearing', 'implication', 'hooves', 'dysregulation', 'pampered', 'summarization', 'contentiousness']\n",
      "[-0.02737453  0.06105617  0.0059088   0.03615927 -0.07429747  0.00924886\n",
      " -0.04875521  0.01311637 -0.06402654  0.13528873]\n",
      "[-0.02665024  0.06386573  0.00369053  0.04138017 -0.07881358  0.01112839\n",
      " -0.03885825  0.00860662 -0.06324127  0.13772528]\n"
     ]
    }
   ],
   "source": [
    "w1 = 'dog'\n",
    "w2 = 'cane'\n",
    "\n",
    "wv_1, wv_2, cos_sim, cl1, cl2 = debug(w1, w2, univ_p_1, univ_p_2, 10)"
   ]
  },
  {
   "cell_type": "code",
   "execution_count": 95,
   "metadata": {},
   "outputs": [
    {
     "name": "stdout",
     "output_type": "stream",
     "text": [
      "[[ 0.99747038]]\n",
      "['oggettivamente', 'oggettività', 'istintivamente', 'salivazione', 'sagomatura', 'appesantimento', 'affettività', 'sempliciotto', 'interiorizzazione', 'soggettività']\n",
      "['kitchen', 'delighting', 'ingredients', 'honesty', 'scullery', 'powerlessness', 'cooking', 'fridge', 'plumbing', 'ruthlessness']\n",
      "[-0.02737453  0.06105617  0.0059088   0.03615927 -0.07429747  0.00924886\n",
      " -0.04875521  0.01311637 -0.06402654  0.13528873]\n",
      "[-0.02264532  0.06251199  0.00824265  0.04108921 -0.07344838  0.00098236\n",
      " -0.04322457  0.01352201 -0.06740391  0.13101251]\n"
     ]
    }
   ],
   "source": [
    "w1 = 'dog'\n",
    "w2 = 'cucina'\n",
    "\n",
    "wv_1, wv_2, cos_sim, cl1, cl2 = debug(w1, w2, univ_p_1, univ_p_2, 10)"
   ]
  },
  {
   "cell_type": "code",
   "execution_count": 97,
   "metadata": {},
   "outputs": [
    {
     "name": "stdout",
     "output_type": "stream",
     "text": [
      "[[ 0.99646086]]\n",
      "['cucinare', 'bollitura', 'insaporire', 'condimento', 'cucinato', 'panificazione', 'cottura', 'ricettazione', 'aerazione', 'ricottura']\n",
      "['rebelliousness', 'thoughtfulness', 'honestly', 'cluelessness', 'egalitarianism', 'thoughtfully', 'really', 'demeanor', 'understand', 'maliciously']\n",
      "[-0.02112803  0.0606989   0.00580154  0.03761325 -0.06886814  0.00220369\n",
      " -0.04659207  0.00973079 -0.06481651  0.13105734]\n",
      "[-0.02200809  0.06149752  0.01117745  0.04631791 -0.06935405  0.00759622\n",
      " -0.04819484  0.00892893 -0.05779945  0.12891731]\n"
     ]
    }
   ],
   "source": [
    "w1 = 'kitchen'\n",
    "w2 = 'gardino'\n",
    "\n",
    "wv_1, wv_2, cos_sim, cl1, cl2 = debug(w1, w2, univ_p_1, univ_p_2, 10)"
   ]
  }
 ],
 "metadata": {
  "kernelspec": {
   "display_name": "Python 3",
   "language": "python",
   "name": "python3"
  },
  "language_info": {
   "codemirror_mode": {
    "name": "ipython",
    "version": 3
   },
   "file_extension": ".py",
   "mimetype": "text/x-python",
   "name": "python",
   "nbconvert_exporter": "python",
   "pygments_lexer": "ipython3",
   "version": "3.5.2"
  }
 },
 "nbformat": 4,
 "nbformat_minor": 2
}
